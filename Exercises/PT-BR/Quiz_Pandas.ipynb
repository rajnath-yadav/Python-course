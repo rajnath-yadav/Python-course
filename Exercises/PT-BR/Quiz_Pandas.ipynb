{
 "cells": [
  {
   "cell_type": "markdown",
   "metadata": {
    "colab_type": "text",
    "id": "3duU0xhIw7X2"
   },
   "source": [
    "### **Instruções**\n",
    "\n",
    "- A planilha para fazer o exercício está dentro de arquivo compactado está no site do IBGE: Estatísticas > Econômicas > Contas Nacionais > Produto Interno Bruto dos Municípios\n",
    "\n",
    "- Todos os dados necessários estão na planilha \"PIB dos Municípios - base de dados 2010-2017.xls\"\n",
    "\n",
    "- Grande parte do conteúdo necessário para fazer a lista está nos notebooks 14, 15 e 16. Procurar no stackoverflow/documentação/google é essencial, o conhecimento medido aqui também envolve saber procurar dúvidas na internet. Até a entrega ainda haverá outra aula de Pandas. De qualquer forma, sugiro fortemente já começar a fazer a lista agora, assim como já consultar o notebook que ainda não foi dado: \"16_Pandas_EDA\".\n",
    "\n",
    "- A entrega é para o dia 05/10/2020\n",
    "\n",
    "**É permitido:**\n",
    "\n",
    "- Usar qualquer pacote de visualização nos exercícios de gráficos (matplotlib, seaborn, pandas.plot, etc.). É necessário que os gráficos sejam informativos, logo título dos eixos são obrigatórios (algum tipo de variação nas cores e bom senso estético são bem-vindos também).\n",
    "\n",
    "- Usar qualquer pacote em qualquer questão. Em caso de dúvidas sobre o enunciado das questões, me enviem um email.\n"
   ]
  },
  {
   "cell_type": "markdown",
   "metadata": {
    "colab_type": "text",
    "id": "ArjUo45xa1g5"
   },
   "source": [
    "# Questões"
   ]
  },
  {
   "cell_type": "markdown",
   "metadata": {
    "colab_type": "text",
    "id": "axjfnTf0YvPO"
   },
   "source": [
    "### 1) Crie uma coluna no DataFrame gerado pela leitura do csv com a proporção Impostos/PIB. "
   ]
  },
  {
   "cell_type": "markdown",
   "metadata": {
    "colab_type": "text",
    "id": "LePf5zRHYz13"
   },
   "source": [
    "### 2) Use um método de pd.Series que crie uma série com a quantidade de municípios por UF. [Considere apenas o ano de 2017]."
   ]
  },
  {
   "cell_type": "markdown",
   "metadata": {
    "colab_type": "text",
    "id": "ITz4XA95Yzre"
   },
   "source": [
    "### 3) Existe alguma relação entre PIB per capita e atividade com maior valor adicionado bruto? Faça uma média de PIB per capita por atividade com maior valor adicionado bruto. [Considere todos os anos]"
   ]
  },
  {
   "cell_type": "markdown",
   "metadata": {
    "colab_type": "text",
    "id": "JZ9EwDQZYzhu"
   },
   "source": [
    "### 4) Faça um gráfico de barras com a resposta da questão 3.\n",
    "\n",
    "O eixo x deve ficar visualmente agradável, logo sugiro ajustar o nome das atividades."
   ]
  },
  {
   "cell_type": "markdown",
   "metadata": {
    "colab_type": "text",
    "id": "Uul80Ei4YzWS"
   },
   "source": [
    "### 5) Crie um dicionário com 'UF:Cidade com maior PIB per capita em 2017' para todas as UFs (excluindo DF).\n",
    "\n",
    "Uma sugestão é criar um dicionário vazio e usar um 'for' para preenchê-lo"
   ]
  },
  {
   "cell_type": "markdown",
   "metadata": {
    "colab_type": "text",
    "id": "K7nGfXa5YzMT"
   },
   "source": [
    "### 6) Qual (grande) região mais cresceu entre 2010 e 2017?\n",
    "\n",
    "Variação da soma dos PIBs por região entre 2010 e 2017"
   ]
  },
  {
   "cell_type": "markdown",
   "metadata": {
    "colab_type": "text",
    "id": "B0XDRMlVYzBr"
   },
   "source": [
    "### 7) Quais os 10 municípios que mais perderam PIB no triênio 2014-2015-2016?\n",
    "\n",
    "Variação de PIB entre 2013 e 2016"
   ]
  },
  {
   "cell_type": "markdown",
   "metadata": {
    "colab_type": "text",
    "id": "UzqHHZddYy2c"
   },
   "source": [
    "### 8) Quais os 10 municípios do RJ que mais cresceram entre 2010-2017"
   ]
  },
  {
   "cell_type": "markdown",
   "metadata": {
    "colab_type": "text",
    "id": "v0zcly7_Yymy"
   },
   "source": [
    "### 9) Faça um heatmap com as UFs no eixo y e as taxas de crescimento dos anos 2011 até 2017 no eixo x. \n",
    "\n",
    "\n",
    "**Questão Extra**"
   ]
  },
  {
   "cell_type": "markdown",
   "metadata": {
    "colab_type": "text",
    "id": "BOIADKCkZUBi"
   },
   "source": [
    "### 10) Crie uma função que receba a 'UF' (sigla) e plote um gráfico de linha do  PIB (eixo y) e os anos no eixo x."
   ]
  }
 ],
 "metadata": {
  "colab": {
   "collapsed_sections": [],
   "name": "4th Assignment.ipynb",
   "provenance": []
  },
  "kernelspec": {
   "display_name": "Python 3 (ipykernel)",
   "language": "python",
   "name": "python3"
  },
  "language_info": {
   "codemirror_mode": {
    "name": "ipython",
    "version": 3
   },
   "file_extension": ".py",
   "mimetype": "text/x-python",
   "name": "python",
   "nbconvert_exporter": "python",
   "pygments_lexer": "ipython3",
   "version": "3.8.10"
  }
 },
 "nbformat": 4,
 "nbformat_minor": 4
}
