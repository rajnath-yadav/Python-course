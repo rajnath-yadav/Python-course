{
 "cells": [
  {
   "cell_type": "markdown",
   "metadata": {
    "id": "3duU0xhIw7X2"
   },
   "source": [
    "**Instruções**\n",
    "\n",
    "- A planilha para fazer o exercício está dentro de arquivo compactado está no site do IBGE: Estatísticas > Econômicas > Contas Nacionais > Produto Interno Bruto dos Municípios\n",
    "\n",
    "- Todos os dados necessários estão na planilha \"PIB dos Municípios - base de dados 2010-2017.xls\"\n",
    "\n",
    "- O conteúdo da lista está nos notebooks 14, 15 e 16. Procurar no stackoverflow/documentação/google é essencial também. O conhecimento medido aqui também envolve saber procurar as dúvidas na internet. Até a entrega ainda haverá outra aula de Pandas. De qualquer forma, sugiro fortemente já começar a fazer agora, assim como já consultar o notebook que ainda não foi dado: \"16_Pandas_EDA\".\n",
    "\n",
    "- Pode-se usar qualquer pacote de visualização nos exercícios de gráficos (matplotlib, seaborn, pandas.plot, etc.). É necessário que os gráficos sejam informativos, logo título dos eixos são obrigatórios (algum tipo de variação nas cores e senso estético são bem-vindos também).\n",
    "\n",
    "- Pode-se usar qualquer pacote em qualquer questão. Em caso de dúvidas sobre o enunciado das questões, me enviem um email.\n",
    "\n",
    "- A entrega é para o dia 05/10/2020"
   ]
  },
  {
   "cell_type": "markdown",
   "metadata": {
    "id": "ArjUo45xa1g5"
   },
   "source": [
    "# Questões"
   ]
  },
  {
   "cell_type": "code",
   "execution_count": 1,
   "metadata": {
    "colab": {
     "base_uri": "https://localhost:8080/"
    },
    "id": "z1Kco3t9wrCZ",
    "outputId": "9dc3d8d0-a537-46c3-a0dc-de2453a8819e"
   },
   "outputs": [
    {
     "name": "stdout",
     "output_type": "stream",
     "text": [
      "Mounted at /content/gdrive\n"
     ]
    }
   ],
   "source": [
    "from google.colab import drive\n",
    "import os\n",
    "import pandas as pd\n",
    "import numpy as np\n",
    "import matplotlib.pyplot as plt\n",
    "\n",
    "drive.mount('/content/gdrive')\n",
    "\n",
    "root_path = 'gdrive/My Drive/Monitoria 5'"
   ]
  },
  {
   "cell_type": "markdown",
   "metadata": {
    "id": "WiU9806I9Efc"
   },
   "source": [
    "Definindo o tamanho de todas as figuras desse notebook"
   ]
  },
  {
   "cell_type": "code",
   "execution_count": 35,
   "metadata": {
    "id": "14YOP3g_9Dy5"
   },
   "outputs": [],
   "source": [
    "plt.rcParams[\"figure.figsize\"] = (10,7)"
   ]
  },
  {
   "cell_type": "code",
   "execution_count": 2,
   "metadata": {
    "id": "AyRjoBkLxQcn"
   },
   "outputs": [],
   "source": [
    "os.chdir(root_path)"
   ]
  },
  {
   "cell_type": "code",
   "execution_count": 3,
   "metadata": {
    "id": "3ibo-hV3xtLb"
   },
   "outputs": [],
   "source": [
    "df = pd.read_excel(os.listdir()[1])"
   ]
  },
  {
   "cell_type": "code",
   "execution_count": 4,
   "metadata": {
    "colab": {
     "base_uri": "https://localhost:8080/"
    },
    "id": "3RiH8awUJOt0",
    "outputId": "b29c0c37-c897-4fe4-ebbe-ccb49c37128f"
   },
   "outputs": [
    {
     "data": {
      "text/plain": [
       "Index(['Ano', 'Código da Grande Região', 'Nome da Grande Região',\n",
       "       'Código da Unidade da Federação', 'Sigla da Unidade da Federação',\n",
       "       'Nome da Unidade da Federação', 'Código do Município',\n",
       "       'Nome do Município', 'Região Metropolitana', 'Código da Mesorregião',\n",
       "       'Nome da Mesorregião', 'Código da Microrregião', 'Nome da Microrregião',\n",
       "       'Código da Região Geográfica Imediata',\n",
       "       'Nome da Região Geográfica Imediata',\n",
       "       'Município da Região Geográfica Imediata',\n",
       "       'Código da Região Geográfica Intermediária',\n",
       "       'Nome da Região Geográfica Intermediária',\n",
       "       'Município da Região Geográfica Intermediária',\n",
       "       'Código Concentração Urbana', 'Nome Concentração Urbana',\n",
       "       'Tipo Concentração Urbana', 'Código Arranjo Populacional',\n",
       "       'Nome Arranjo Populacional', 'Hierarquia Urbana',\n",
       "       'Hierarquia Urbana (principais categorias)', 'Código da Região Rural',\n",
       "       'Nome da Região Rural',\n",
       "       'Região rural (segundo classificação do núcleo)', 'Amazônia Legal',\n",
       "       'Semiárido', 'Cidade-Região de São Paulo',\n",
       "       'Valor adicionado bruto da Agropecuária, \\na preços correntes\\n(R$ 1.000)',\n",
       "       'Valor adicionado bruto da Indústria,\\na preços correntes\\n(R$ 1.000)',\n",
       "       'Valor adicionado bruto dos Serviços,\\na preços correntes \\n- exceto Administração, defesa, educação e saúde públicas e seguridade social\\n(R$ 1.000)',\n",
       "       'Valor adicionado bruto da Administração, defesa, educação e saúde públicas e seguridade social, \\na preços correntes\\n(R$ 1.000)',\n",
       "       'Valor adicionado bruto total, \\na preços correntes\\n(R$ 1.000)',\n",
       "       'Impostos, líquidos de subsídios, sobre produtos, \\na preços correntes\\n(R$ 1.000)',\n",
       "       'Produto Interno Bruto, \\na preços correntes\\n(R$ 1.000)',\n",
       "       'Produto Interno Bruto per capita, \\na preços correntes\\n(R$ 1,00)',\n",
       "       'Atividade com maior valor adicionado bruto',\n",
       "       'Atividade com segundo maior valor adicionado bruto',\n",
       "       'Atividade com terceiro maior valor adicionado bruto'],\n",
       "      dtype='object')"
      ]
     },
     "execution_count": 4,
     "metadata": {
      "tags": []
     },
     "output_type": "execute_result"
    }
   ],
   "source": [
    "df.columns"
   ]
  },
  {
   "cell_type": "code",
   "execution_count": 5,
   "metadata": {
    "id": "4AYD5prsx1qX"
   },
   "outputs": [],
   "source": [
    "df.rename(columns = {'Produto Interno Bruto, \\na preços correntes\\n(R$ 1.000)':'PIB',\n",
    "                     'Impostos, líquidos de subsídios, sobre produtos, \\na preços correntes\\n(R$ 1.000)':'Impostos',\n",
    "                     'Nome do Município':'Nome', 'Sigla da Unidade da Federação':'UF',\n",
    "                     'Produto Interno Bruto per capita, \\na preços correntes\\n(R$ 1,00)':'PIB_per_capita',\n",
    "                     'Atividade com maior valor adicionado bruto':'ativ1',\n",
    "                     'Nome da Grande Região':'Grande Região'}, inplace = True)"
   ]
  },
  {
   "cell_type": "markdown",
   "metadata": {
    "id": "axjfnTf0YvPO"
   },
   "source": [
    "### 1) Crie uma coluna no DataFrame gerado pela leitura do csv com a proporção Impostos/PIB. "
   ]
  },
  {
   "cell_type": "code",
   "execution_count": 6,
   "metadata": {
    "id": "phPVN4mdJgO6"
   },
   "outputs": [],
   "source": [
    "df['carga_trib'] = df['Impostos']/df['PIB']"
   ]
  },
  {
   "cell_type": "markdown",
   "metadata": {
    "id": "LePf5zRHYz13"
   },
   "source": [
    "### 2) Use um método de pd.Series que crie uma série com a quantidade de municípios por UF. [Considere apenas o ano de 2017]."
   ]
  },
  {
   "cell_type": "code",
   "execution_count": 7,
   "metadata": {
    "colab": {
     "base_uri": "https://localhost:8080/"
    },
    "id": "jJU3b-XwOQXu",
    "outputId": "8cf44ac7-ba88-496f-cfc9-3dfca0835ba0"
   },
   "outputs": [
    {
     "data": {
      "text/plain": [
       "MG    853\n",
       "SP    645\n",
       "RS    497\n",
       "BA    417\n",
       "PR    399\n",
       "SC    295\n",
       "GO    246\n",
       "PI    224\n",
       "PB    223\n",
       "MA    217\n",
       "PE    185\n",
       "CE    184\n",
       "RN    167\n",
       "PA    144\n",
       "MT    141\n",
       "TO    139\n",
       "AL    102\n",
       "RJ     92\n",
       "MS     79\n",
       "ES     78\n",
       "SE     75\n",
       "AM     62\n",
       "RO     52\n",
       "AC     22\n",
       "AP     16\n",
       "RR     15\n",
       "DF      1\n",
       "Name: UF, dtype: int64"
      ]
     },
     "execution_count": 7,
     "metadata": {
      "tags": []
     },
     "output_type": "execute_result"
    }
   ],
   "source": [
    "df[df.Ano == 2017].UF.value_counts()"
   ]
  },
  {
   "cell_type": "markdown",
   "metadata": {
    "id": "ITz4XA95Yzre"
   },
   "source": [
    "### 3) Existe alguma relação entre PIB per capita e atividade com maior valor adicionado bruto? Faça uma média de PIB per capita por atividade com maior valor adicionado bruto. [Considere todos os anos]"
   ]
  },
  {
   "cell_type": "code",
   "execution_count": 8,
   "metadata": {
    "colab": {
     "base_uri": "https://localhost:8080/"
    },
    "id": "uoQa0UwJOine",
    "outputId": "64a0639c-382c-4cf5-8e0f-a044a1816ff9"
   },
   "outputs": [
    {
     "data": {
      "text/plain": [
       "ativ1\n",
       "Indústrias extrativas                                                                   59406.835633\n",
       "Eletricidade e gás, água, esgoto, atividades de gestão de resíduos e descontaminação    52083.287533\n",
       "Comércio e reparação de veículos automotores e motocicletas                             44116.076822\n",
       "Indústrias de transformação                                                             38614.117626\n",
       "Agricultura, inclusive apoio à agricultura e a pós colheita                             25477.872595\n",
       "Construção                                                                              25213.240183\n",
       "Produção florestal, pesca e aquicultura                                                 23190.935992\n",
       "Demais serviços                                                                         22121.604018\n",
       "Pecuária, inclusive apoio à pecuária                                                    19808.056472\n",
       "Administração, defesa, educação e saúde públicas e seguridade social                     8609.703235\n",
       "Name: PIB_per_capita, dtype: float64"
      ]
     },
     "execution_count": 8,
     "metadata": {
      "tags": []
     },
     "output_type": "execute_result"
    }
   ],
   "source": [
    "df.groupby('ativ1')['PIB_per_capita'].mean().sort_values(ascending = False)"
   ]
  },
  {
   "cell_type": "markdown",
   "metadata": {
    "id": "JZ9EwDQZYzhu"
   },
   "source": [
    "### 4) Faça um gráfico de barras com a resposta da questão 3."
   ]
  },
  {
   "cell_type": "code",
   "execution_count": 9,
   "metadata": {
    "id": "CNc9tF5uPyQ5"
   },
   "outputs": [],
   "source": [
    "dict_atividade = {'Eletricidade e gás, água, esgoto, atividades de gestão de resíduos e descontaminação':'Utilidade Pública',\n",
    "                  'Comércio e reparação de veículos automotores e motocicletas':'Automóveis',\n",
    "                  'Agricultura, inclusive apoio à agricultura e a pós colheita':'Agro',\n",
    "                  'Produção florestal, pesca e aquicultura':'Prod. Florestal',\n",
    "                  'Administração, defesa, educação e saúde públicas e seguridade social':'Adm Pública',\n",
    "                  'Pecuária, inclusive apoio à pecuária':'Pecuária',\n",
    "                  'Indústrias de transformação':'Indústria'}"
   ]
  },
  {
   "cell_type": "code",
   "execution_count": 10,
   "metadata": {
    "id": "75_LPeBgPkDf"
   },
   "outputs": [],
   "source": [
    "df['ativ1'].replace(dict_atividade, inplace = True)"
   ]
  },
  {
   "cell_type": "code",
   "execution_count": 36,
   "metadata": {
    "colab": {
     "base_uri": "https://localhost:8080/",
     "height": 535
    },
    "id": "a04RrSeTPJOr",
    "outputId": "7d85ad00-db5b-41c8-95a0-9b9bc796538b"
   },
   "outputs": [
    {
     "data": {
      "image/png": "[encoded data removed]",
      "text/plain": [
       "<Figure size 720x504 with 1 Axes>"
      ]
     },
     "metadata": {
      "needs_background": "light",
      "tags": []
     },
     "output_type": "display_data"
    }
   ],
   "source": [
    "ax = df.groupby('ativ1')['PIB_per_capita'].mean().sort_values(ascending = False).plot.bar()\n",
    "ax.set_xlabel('Atividade com Maior VA')\n",
    "ax.set_ylabel('PIB per capita do Município')\n",
    "plt.show()"
   ]
  },
  {
   "cell_type": "markdown",
   "metadata": {
    "id": "Uul80Ei4YzWS"
   },
   "source": [
    "### 5) Crie um dicionário com 'UF:Cidade com maior PIB per capita em 2017' para todas as UFs (excluindo DF)."
   ]
  },
  {
   "cell_type": "code",
   "execution_count": 12,
   "metadata": {
    "id": "me0b3gpjQ2Id"
   },
   "outputs": [],
   "source": [
    "dict_q5 = {}\n",
    "\n",
    "for i in df.UF.unique():\n",
    "\n",
    "  df_uf = df[(df.UF == i)&(df.Ano == 2017)].copy()\n",
    "  max_pib_per_capita = df_uf.PIB_per_capita.max()\n",
    "  nome_mun = df_uf[df_uf.PIB_per_capita == max_pib_per_capita].Nome.values[0]\n",
    "  dict_q5[i] = nome_mun"
   ]
  },
  {
   "cell_type": "code",
   "execution_count": 13,
   "metadata": {
    "colab": {
     "base_uri": "https://localhost:8080/"
    },
    "id": "0j7lhc49Sq7B",
    "outputId": "988bf7c5-1d07-4805-bd84-ed4657690893"
   },
   "outputs": [
    {
     "data": {
      "text/plain": [
       "{'AC': 'Epitaciolândia',\n",
       " 'AL': 'Santana do Mundaú',\n",
       " 'AM': 'Manaus',\n",
       " 'AP': 'Ferreira Gomes',\n",
       " 'BA': 'São Francisco do Conde',\n",
       " 'CE': 'São Gonçalo do Amarante',\n",
       " 'DF': 'Brasília',\n",
       " 'ES': 'Presidente Kennedy',\n",
       " 'GO': 'Davinópolis',\n",
       " 'MA': 'Tasso Fragoso',\n",
       " 'MG': 'São Gonçalo do Rio Abaixo',\n",
       " 'MS': 'Selvíria',\n",
       " 'MT': 'Campos de Júlio',\n",
       " 'PA': 'Vitória do Xingu',\n",
       " 'PB': 'Alhandra',\n",
       " 'PE': 'Goiana',\n",
       " 'PI': 'Baixa Grande do Ribeiro',\n",
       " 'PR': 'Saudade do Iguaçu',\n",
       " 'RJ': 'Porto Real',\n",
       " 'RN': 'Guamaré',\n",
       " 'RO': 'Pimenteiras do Oeste',\n",
       " 'RR': 'Boa Vista',\n",
       " 'RS': 'Triunfo',\n",
       " 'SC': 'Piratuba',\n",
       " 'SE': 'Canindé de São Francisco',\n",
       " 'SP': 'Paulínia',\n",
       " 'TO': 'Cariri do Tocantins'}"
      ]
     },
     "execution_count": 13,
     "metadata": {
      "tags": []
     },
     "output_type": "execute_result"
    }
   ],
   "source": [
    "dict_q5"
   ]
  },
  {
   "cell_type": "markdown",
   "metadata": {
    "id": "K7nGfXa5YzMT"
   },
   "source": [
    "### 6) Qual (grande) região mais cresceu entre 2010 e 2017?"
   ]
  },
  {
   "cell_type": "code",
   "execution_count": 14,
   "metadata": {
    "id": "KHE9w6pITMEj"
   },
   "outputs": [],
   "source": [
    "df_q6 = pd.DataFrame(df.groupby(['Ano','Grande Região'])['PIB'].sum()).reset_index()\n",
    "df_q6 = df_q6[df_q6.Ano.isin([2010,2017])]"
   ]
  },
  {
   "cell_type": "code",
   "execution_count": 15,
   "metadata": {
    "id": "O5pnI3RcUJVF"
   },
   "outputs": [],
   "source": [
    "df_q6.set_index('Grande Região', inplace = True)"
   ]
  },
  {
   "cell_type": "code",
   "execution_count": 16,
   "metadata": {
    "colab": {
     "base_uri": "https://localhost:8080/"
    },
    "id": "lVGhK6XvUXKC",
    "outputId": "cf58c106-0e70-4379-bb84-7df467a6967e"
   },
   "outputs": [
    {
     "data": {
      "text/plain": [
       "Grande Região\n",
       "Centro-oeste    0.859440\n",
       "Nordeste        0.823392\n",
       "Norte           0.776307\n",
       "Sudeste         0.595959\n",
       "Sul             0.808696\n",
       "Name: PIB, dtype: float64"
      ]
     },
     "execution_count": 16,
     "metadata": {
      "tags": []
     },
     "output_type": "execute_result"
    }
   ],
   "source": [
    "df_q6.groupby('Grande Região')['PIB'].pct_change().dropna()"
   ]
  },
  {
   "cell_type": "markdown",
   "metadata": {
    "id": "B0XDRMlVYzBr"
   },
   "source": [
    "### 7) Quais os 10 municípios que mais perderam PIB no triênio 2014-2015-2016?"
   ]
  },
  {
   "cell_type": "code",
   "execution_count": 17,
   "metadata": {
    "id": "JD9Mr5KDVLoO"
   },
   "outputs": [],
   "source": [
    "df_aux = df[df.Ano.isin([2013,2016])][['Ano','Nome','PIB','UF']].copy()"
   ]
  },
  {
   "cell_type": "code",
   "execution_count": 18,
   "metadata": {
    "id": "68g9OISBbN1s"
   },
   "outputs": [],
   "source": [
    "df_aux['Nome_uf'] = df_aux['Nome'] + '_' + df_aux['UF']"
   ]
  },
  {
   "cell_type": "code",
   "execution_count": 19,
   "metadata": {
    "id": "Ee13Fp7aZVCP"
   },
   "outputs": [],
   "source": [
    "df_aux.set_index('Nome_uf', inplace = True)"
   ]
  },
  {
   "cell_type": "code",
   "execution_count": 20,
   "metadata": {
    "id": "XP5ZRnTpZMoI"
   },
   "outputs": [],
   "source": [
    "s_q7 = df_aux.groupby(['Nome_uf'])['PIB'].pct_change().dropna()"
   ]
  },
  {
   "cell_type": "code",
   "execution_count": 21,
   "metadata": {
    "colab": {
     "base_uri": "https://localhost:8080/"
    },
    "id": "_dgewvcTaqvM",
    "outputId": "84ca7fb8-d5e6-4224-b199-396649a8085c"
   },
   "outputs": [
    {
     "data": {
      "text/plain": [
       "Nome_uf\n",
       "Cairu_BA                -0.833563\n",
       "Anchieta_ES             -0.825449\n",
       "Quissamã_RJ             -0.794842\n",
       "Reserva do Cabaçal_MT   -0.776156\n",
       "Ilha Comprida_SP        -0.770627\n",
       "Presidente Kennedy_ES   -0.758609\n",
       "Marataízes_ES           -0.752031\n",
       "Coari_AM                -0.743299\n",
       "Casimiro de Abreu_RJ    -0.718520\n",
       "Araçás_BA               -0.712247\n",
       "Name: PIB, dtype: float64"
      ]
     },
     "execution_count": 21,
     "metadata": {
      "tags": []
     },
     "output_type": "execute_result"
    }
   ],
   "source": [
    "s_q7.sort_values()[:10]"
   ]
  },
  {
   "cell_type": "markdown",
   "metadata": {
    "id": "UzqHHZddYy2c"
   },
   "source": [
    "### 8) Quais os 10 municípios do RJ que mais cresceram entre 2010-2017"
   ]
  },
  {
   "cell_type": "code",
   "execution_count": 22,
   "metadata": {
    "id": "0uj3OaC4b23s"
   },
   "outputs": [],
   "source": [
    "df_q8 = df[(df.UF == 'RJ')&(df.Ano.isin([2010,2017]))].copy()"
   ]
  },
  {
   "cell_type": "code",
   "execution_count": 23,
   "metadata": {
    "id": "1M6u5_2vchIF"
   },
   "outputs": [],
   "source": [
    "df_q8.set_index('Nome', inplace = True)"
   ]
  },
  {
   "cell_type": "code",
   "execution_count": 24,
   "metadata": {
    "colab": {
     "base_uri": "https://localhost:8080/"
    },
    "id": "Xj7c4pGEb5I1",
    "outputId": "9a7db36d-f4b4-4f0d-cc46-9a132628d354"
   },
   "outputs": [
    {
     "data": {
      "text/plain": [
       "Nome\n",
       "Maricá                 5.106359\n",
       "Seropédica             4.008024\n",
       "Itatiaia               1.917093\n",
       "Cardoso Moreira        1.753848\n",
       "Japeri                 1.331060\n",
       "São Pedro da Aldeia    1.323124\n",
       "São José de Ubá        1.265320\n",
       "Varre-Sai              1.226160\n",
       "Cordeiro               1.193747\n",
       "Niterói                1.182359\n",
       "Name: PIB, dtype: float64"
      ]
     },
     "execution_count": 24,
     "metadata": {
      "tags": []
     },
     "output_type": "execute_result"
    }
   ],
   "source": [
    "df_q8.groupby('Nome')['PIB'].pct_change().dropna().sort_values(ascending = False)[:10]"
   ]
  },
  {
   "cell_type": "markdown",
   "metadata": {
    "id": "v0zcly7_Yymy"
   },
   "source": [
    "### 9) Faça um heatmap com as UFs no eixo y e as taxas de crescimento dos anos 2011 até 2017 no eixo x.\n",
    "\n",
    "Questão anulada, mas ficou valendo ponto extra com enunciado novo.\n"
   ]
  },
  {
   "cell_type": "code",
   "execution_count": 25,
   "metadata": {
    "id": "NTbxFn9z7z6R"
   },
   "outputs": [],
   "source": [
    "import seaborn as sns"
   ]
  },
  {
   "cell_type": "code",
   "execution_count": 26,
   "metadata": {
    "id": "JkkSDkh75RUv"
   },
   "outputs": [],
   "source": [
    "df_q9 = df[['UF','Ano','PIB']].copy()"
   ]
  },
  {
   "cell_type": "code",
   "execution_count": 39,
   "metadata": {
    "id": "baZUOgHRn91a"
   },
   "outputs": [],
   "source": [
    "# Agrupando por UF e Ano os municípios, tirando a média e fazendo a variação percentual dessa média\n",
    "df_q9_heat = pd.DataFrame(df.groupby(['UF','Ano'])['PIB'].mean()).pct_change().reset_index()\n",
    "# Excluindo 2010 e pivotando o dataframe\n",
    "df_q9_heat = df_q9_heat[df_q9_heat.Ano != 2010].pivot('UF','Ano','PIB')"
   ]
  },
  {
   "cell_type": "code",
   "execution_count": 40,
   "metadata": {
    "colab": {
     "base_uri": "https://localhost:8080/",
     "height": 225
    },
    "id": "MVFSJQfw9cwD",
    "outputId": "14d884a0-ea21-48d1-855e-a3079153a0cf"
   },
   "outputs": [
    {
     "data": {
      "text/html": [
       "<div>\n",
       "<style scoped>\n",
       "    .dataframe tbody tr th:only-of-type {\n",
       "        vertical-align: middle;\n",
       "    }\n",
       "\n",
       "    .dataframe tbody tr th {\n",
       "        vertical-align: top;\n",
       "    }\n",
       "\n",
       "    .dataframe thead th {\n",
       "        text-align: right;\n",
       "    }\n",
       "</style>\n",
       "<table border=\"1\" class=\"dataframe\">\n",
       "  <thead>\n",
       "    <tr style=\"text-align: right;\">\n",
       "      <th>Ano</th>\n",
       "      <th>2011</th>\n",
       "      <th>2012</th>\n",
       "      <th>2013</th>\n",
       "      <th>2014</th>\n",
       "      <th>2015</th>\n",
       "      <th>2016</th>\n",
       "      <th>2017</th>\n",
       "    </tr>\n",
       "    <tr>\n",
       "      <th>UF</th>\n",
       "      <th></th>\n",
       "      <th></th>\n",
       "      <th></th>\n",
       "      <th></th>\n",
       "      <th></th>\n",
       "      <th></th>\n",
       "      <th></th>\n",
       "    </tr>\n",
       "  </thead>\n",
       "  <tbody>\n",
       "    <tr>\n",
       "      <th>AC</th>\n",
       "      <td>0.072771</td>\n",
       "      <td>0.132801</td>\n",
       "      <td>0.131783</td>\n",
       "      <td>0.172981</td>\n",
       "      <td>0.012193</td>\n",
       "      <td>0.009648</td>\n",
       "      <td>0.037576</td>\n",
       "    </tr>\n",
       "    <tr>\n",
       "      <th>AL</th>\n",
       "      <td>0.166744</td>\n",
       "      <td>0.094546</td>\n",
       "      <td>0.075963</td>\n",
       "      <td>0.099040</td>\n",
       "      <td>0.131598</td>\n",
       "      <td>0.066891</td>\n",
       "      <td>0.068219</td>\n",
       "    </tr>\n",
       "    <tr>\n",
       "      <th>AM</th>\n",
       "      <td>0.161921</td>\n",
       "      <td>0.021323</td>\n",
       "      <td>0.149614</td>\n",
       "      <td>0.043556</td>\n",
       "      <td>-0.001159</td>\n",
       "      <td>0.028551</td>\n",
       "      <td>0.046770</td>\n",
       "    </tr>\n",
       "    <tr>\n",
       "      <th>AP</th>\n",
       "      <td>0.142202</td>\n",
       "      <td>0.182974</td>\n",
       "      <td>0.146675</td>\n",
       "      <td>0.049892</td>\n",
       "      <td>0.034403</td>\n",
       "      <td>0.034690</td>\n",
       "      <td>0.079329</td>\n",
       "    </tr>\n",
       "    <tr>\n",
       "      <th>BA</th>\n",
       "      <td>0.078897</td>\n",
       "      <td>0.095855</td>\n",
       "      <td>0.121988</td>\n",
       "      <td>0.093172</td>\n",
       "      <td>0.094287</td>\n",
       "      <td>0.055889</td>\n",
       "      <td>0.038347</td>\n",
       "    </tr>\n",
       "  </tbody>\n",
       "</table>\n",
       "</div>"
      ],
      "text/plain": [
       "Ano      2011      2012      2013      2014      2015      2016      2017\n",
       "UF                                                                       \n",
       "AC   0.072771  0.132801  0.131783  0.172981  0.012193  0.009648  0.037576\n",
       "AL   0.166744  0.094546  0.075963  0.099040  0.131598  0.066891  0.068219\n",
       "AM   0.161921  0.021323  0.149614  0.043556 -0.001159  0.028551  0.046770\n",
       "AP   0.142202  0.182974  0.146675  0.049892  0.034403  0.034690  0.079329\n",
       "BA   0.078897  0.095855  0.121988  0.093172  0.094287  0.055889  0.038347"
      ]
     },
     "execution_count": 40,
     "metadata": {
      "tags": []
     },
     "output_type": "execute_result"
    }
   ],
   "source": [
    "df_q9_heat.head()"
   ]
  },
  {
   "cell_type": "code",
   "execution_count": 43,
   "metadata": {
    "colab": {
     "base_uri": "https://localhost:8080/",
     "height": 442
    },
    "id": "kpdBjzqR7MsR",
    "outputId": "d514b6ed-1d39-4ecc-fb02-eed3675554aa"
   },
   "outputs": [
    {
     "data": {
      "image/png": "[encoded data removed]",
      "text/plain": [
       "<Figure size 720x504 with 2 Axes>"
      ]
     },
     "metadata": {
      "needs_background": "light",
      "tags": []
     },
     "output_type": "display_data"
    }
   ],
   "source": [
    "ax = sns.heatmap(df_q9_heat)"
   ]
  },
  {
   "cell_type": "markdown",
   "metadata": {
    "id": "BOIADKCkZUBi"
   },
   "source": [
    "### 10) Crie uma função que receba a 'UF' (sigla) e plote um gráfico de linha do  PIB (eixo y) e os anos no eixo x."
   ]
  },
  {
   "cell_type": "code",
   "execution_count": 55,
   "metadata": {
    "id": "S9hrnYIy9xIE"
   },
   "outputs": [],
   "source": [
    "def plota_UF(string_UF):\n",
    "\n",
    "  ax, fig = plt.subplots()\n",
    "  ax = df[df.UF == string_UF].groupby('Ano')['PIB'].mean().plot()\n",
    "  ax.set_title(f'Série temporal do PIB de {string_UF}', fontsize = 18)\n",
    "  ax.set_ylabel(f'PIB {string_UF}', fontsize = 14)\n",
    "  ax.set_xlabel(f'Ano', fontsize = 14)\n",
    "  plt.show()"
   ]
  },
  {
   "cell_type": "code",
   "execution_count": 57,
   "metadata": {
    "colab": {
     "base_uri": "https://localhost:8080/",
     "height": 467
    },
    "id": "YSatIhpXA8Z-",
    "outputId": "eaa52083-390b-46c0-9204-77b013ea1555"
   },
   "outputs": [
    {
     "data": {
      "image/png": "[encoded data removed]",
      "text/plain": [
       "<Figure size 720x504 with 1 Axes>"
      ]
     },
     "metadata": {
      "needs_background": "light",
      "tags": []
     },
     "output_type": "display_data"
    }
   ],
   "source": [
    "plota_UF('RJ')"
   ]
  },
  {
   "cell_type": "code",
   "execution_count": null,
   "metadata": {
    "id": "fgwn38Y2BmSx"
   },
   "outputs": [],
   "source": []
  }
 ],
 "metadata": {
  "colab": {
   "collapsed_sections": [],
   "name": "4th Assignment.ipynb",
   "provenance": []
  },
  "kernelspec": {
   "display_name": "Python 3 (ipykernel)",
   "language": "python",
   "name": "python3"
  },
  "language_info": {
   "codemirror_mode": {
    "name": "ipython",
    "version": 3
   },
   "file_extension": ".py",
   "mimetype": "text/x-python",
   "name": "python",
   "nbconvert_exporter": "python",
   "pygments_lexer": "ipython3",
   "version": "3.8.10"
  }
 },
 "nbformat": 4,
 "nbformat_minor": 4
}
