{
 "cells": [
  {
   "cell_type": "markdown",
   "metadata": {
    "colab_type": "text",
    "id": "HicMAaNSY1G4"
   },
   "source": [
    "# Introduction to Python   \n",
    "\n",
    "### Control Flow (solutions)"
   ]
  },
  {
   "cell_type": "code",
   "execution_count": 1,
   "metadata": {
    "colab": {},
    "colab_type": "code",
    "id": "TfihR0LvY1Gz"
   },
   "outputs": [],
   "source": [
    "import time\n",
    "import random"
   ]
  },
  {
   "cell_type": "markdown",
   "metadata": {
    "colab_type": "text",
    "id": "KE1AozqoY1G6"
   },
   "source": [
    "A brief note about measuring time to run a cell  "
   ]
  },
  {
   "cell_type": "code",
   "execution_count": 2,
   "metadata": {
    "colab": {},
    "colab_type": "code",
    "id": "C9BUYrnqY1G7",
    "outputId": "2ebe9ec7-7f84-49a4-8ce1-2e2b359286bb"
   },
   "outputs": [
    {
     "name": "stdout",
     "output_type": "stream",
     "text": [
      "51.17707022348619\n"
     ]
    }
   ],
   "source": [
    "print(time.time()/((3600*24*365)+13)) # The Unix time started in 1970..."
   ]
  },
  {
   "cell_type": "markdown",
   "metadata": {
    "colab_type": "text",
    "editable": true,
    "id": "ULDZ9mbMY1HE"
   },
   "source": [
    "### 1- Create a script that prints the numbers from 1 to 100, following these rules:  \n",
    "\n",
    "1. in those that are multiples of 3, print \"Fizz\" instead of the number.  \n",
    "2. in those that are  multiples of 5 print \"Buzz\" instead of the number.  \n",
    "3. For numbers that are multiples of both 3 and 5, print \"FizzBuzz\".  "
   ]
  },
  {
   "cell_type": "code",
   "execution_count": 3,
   "metadata": {
    "colab": {
     "base_uri": "https://localhost:8080/",
     "height": 806
    },
    "colab_type": "code",
    "editable": true,
    "executionInfo": {
     "elapsed": 807,
     "status": "ok",
     "timestamp": 1598109331076,
     "user": {
      "displayName": "Pedro Medeiros Teixeira",
      "photoUrl": "",
      "userId": "15890310536056247381"
     },
     "user_tz": 180
    },
    "id": "ySaJy9tqY1HF",
    "outputId": "9d0183bf-3675-4200-96d0-200806185125"
   },
   "outputs": [
    {
     "name": "stdout",
     "output_type": "stream",
     "text": [
      "3 Buzz\n",
      "5 Fizz\n",
      "6 Buzz\n",
      "9 Buzz\n",
      "10 Fizz\n",
      "12 Buzz\n",
      "15 FizzBuzz\n",
      "18 Buzz\n",
      "20 Fizz\n",
      "21 Buzz\n",
      "24 Buzz\n",
      "25 Fizz\n",
      "27 Buzz\n",
      "30 FizzBuzz\n",
      "33 Buzz\n",
      "35 Fizz\n",
      "36 Buzz\n",
      "39 Buzz\n",
      "40 Fizz\n",
      "42 Buzz\n",
      "45 FizzBuzz\n",
      "48 Buzz\n",
      "50 Fizz\n",
      "51 Buzz\n",
      "54 Buzz\n",
      "55 Fizz\n",
      "57 Buzz\n",
      "60 FizzBuzz\n",
      "63 Buzz\n",
      "65 Fizz\n",
      "66 Buzz\n",
      "69 Buzz\n",
      "70 Fizz\n",
      "72 Buzz\n",
      "75 FizzBuzz\n",
      "78 Buzz\n",
      "80 Fizz\n",
      "81 Buzz\n",
      "84 Buzz\n",
      "85 Fizz\n",
      "87 Buzz\n",
      "90 FizzBuzz\n",
      "93 Buzz\n",
      "95 Fizz\n",
      "96 Buzz\n",
      "99 Buzz\n",
      "100 Fizz\n"
     ]
    }
   ],
   "source": [
    "for i in range(1,101):\n",
    "    if i % 3 == 0 and i % 5 == 0:\n",
    "        print(i,'FizzBuzz')\n",
    "    elif i % 5 == 0:\n",
    "        print(i,'Fizz')\n",
    "    elif i % 3 == 0:\n",
    "        print(i,'Buzz')"
   ]
  },
  {
   "cell_type": "markdown",
   "metadata": {
    "colab_type": "text",
    "editable": true,
    "id": "pCdoRHCJY1G_"
   },
   "source": [
    "### 2 - Given the list:"
   ]
  },
  {
   "cell_type": "code",
   "execution_count": 4,
   "metadata": {
    "colab": {},
    "colab_type": "code",
    "editable": true,
    "id": "4luwSOVzY1G_"
   },
   "outputs": [],
   "source": [
    "list1 = [1,2,3,'4',5,6.3,7.4 + 2j,\"123\",[1.2,2.5,3.4], 93, \"98\"]"
   ]
  },
  {
   "cell_type": "markdown",
   "metadata": {
    "colab_type": "text",
    "editable": true,
    "id": "xgPrm4WrY1HC"
   },
   "source": [
    "### Create a script or function to print each element of a list, along with its predecessor and its successor. Follow these rules:\n",
    "\n",
    "1. If this element is numeric or a string, print its representational value; and\n",
    "2. If the element is a container but not a string (tuple, list, dict, set, frozenset), print each element of the sequence."
   ]
  },
  {
   "cell_type": "code",
   "execution_count": 5,
   "metadata": {},
   "outputs": [
    {
     "name": "stdout",
     "output_type": "stream",
     "text": [
      "1\n",
      "2\n",
      "3\n",
      "4\n",
      "5\n",
      "6.3\n",
      "(7.4+2j)\n",
      "123\n",
      "1.2\n",
      "2.5\n",
      "3.4\n",
      "93\n",
      "98\n"
     ]
    }
   ],
   "source": [
    "for element in list1:\n",
    "    if isinstance(element, tuple) or \\\n",
    "    isinstance(element, list) or \\\n",
    "    isinstance(element, dict) or \\\n",
    "    isinstance(element, set) or \\\n",
    "    isinstance(element, frozenset):\n",
    "        for subelement in element:\n",
    "            print(subelement)\n",
    "    else:\n",
    "        print(element)"
   ]
  },
  {
   "cell_type": "markdown",
   "metadata": {
    "colab_type": "text",
    "editable": true,
    "id": "k8ZCuj-dY1HH"
   },
   "source": [
    "### 3- Using the \"random\" library, create a script to average the sum of two 6-sided dice (D6) in 10,000 releases."
   ]
  },
  {
   "cell_type": "code",
   "execution_count": 6,
   "metadata": {
    "colab": {},
    "colab_type": "code",
    "id": "Rz74LRnQw36W"
   },
   "outputs": [
    {
     "name": "stdout",
     "output_type": "stream",
     "text": [
      "Help on method randrange in module random:\n",
      "\n",
      "randrange(start, stop=None, step=1, _int=<class 'int'>) method of random.Random instance\n",
      "    Choose a random item from range(start, stop[, step]).\n",
      "    \n",
      "    This fixes the problem with randint() which includes the\n",
      "    endpoint; in Python this is usually not what you want.\n",
      "\n"
     ]
    }
   ],
   "source": [
    "help(random.randrange)"
   ]
  },
  {
   "cell_type": "code",
   "execution_count": 7,
   "metadata": {
    "colab": {
     "base_uri": "https://localhost:8080/",
     "height": 34
    },
    "colab_type": "code",
    "executionInfo": {
     "elapsed": 848,
     "status": "ok",
     "timestamp": 1598109619778,
     "user": {
      "displayName": "Pedro Medeiros Teixeira",
      "photoUrl": "",
      "userId": "15890310536056247381"
     },
     "user_tz": 180
    },
    "id": "b1FZULthY1HM",
    "outputId": "1279f72a-e966-4ac3-d37e-65a5c2e90a13"
   },
   "outputs": [
    {
     "name": "stdout",
     "output_type": "stream",
     "text": [
      "6.99414\n"
     ]
    }
   ],
   "source": [
    "sum_two_dice = []\n",
    "\n",
    "for i in range(100000):\n",
    "    dice1 = random.randint(1,6)\n",
    "    dice2 = random.randint(1,6)\n",
    "    sum_two_dice.append(dice1 + dice2)\n",
    "\n",
    "print(sum(sum_two_dice)/len(sum_two_dice))"
   ]
  },
  {
   "cell_type": "markdown",
   "metadata": {
    "colab_type": "text",
    "id": "NcBZiP5CY1HO"
   },
   "source": [
    "### 4 - [Project Euler - Problem 3](https://projecteuler.net/problem=3)  \n",
    "  \n",
    "The prime factors of 13195 are 5, 7, 13 and 29.  \n",
    "What is the largest prime factor of the number 600851475143 ?"
   ]
  },
  {
   "cell_type": "markdown",
   "metadata": {
    "colab_type": "text",
    "id": "H-0HvC5p3B6l"
   },
   "source": [
    "Very slow version"
   ]
  },
  {
   "cell_type": "code",
   "execution_count": 8,
   "metadata": {
    "colab": {},
    "colab_type": "code",
    "editable": true,
    "id": "Vjtc6XnYY1HR"
   },
   "outputs": [],
   "source": [
    "def largest_prime(n):\n",
    "    #generating primes until n/2\n",
    "    seq = range(3,int(n/2.)+1)\n",
    "    primes = [2]\n",
    "    for candidate in seq:\n",
    "        is_primo = True\n",
    "        for prime in primes:\n",
    "            if candidate%prime == 0:\n",
    "                is_primo = False\n",
    "        if is_primo:\n",
    "            primes.append(candidate)\n",
    "    factors = []\n",
    "    for prime in primes:\n",
    "        if n%prime == 0:\n",
    "            factors.append(prime)\n",
    "    print(factors)\n",
    "    return factors"
   ]
  },
  {
   "cell_type": "code",
   "execution_count": 9,
   "metadata": {
    "colab": {
     "base_uri": "https://localhost:8080/",
     "height": 52
    },
    "colab_type": "code",
    "collapsed": false,
    "editable": true,
    "executionInfo": {
     "elapsed": 623,
     "status": "ok",
     "timestamp": 1597532735610,
     "user": {
      "displayName": "Pedro Medeiros Teixeira",
      "photoUrl": "",
      "userId": "15890310536056247381"
     },
     "user_tz": 180
    },
    "id": "goRYfUvbY1HS",
    "jupyter": {
     "outputs_hidden": false
    },
    "outputId": "fdf2778d-cf36-4480-8fe8-f64f387384f1"
   },
   "outputs": [
    {
     "name": "stdout",
     "output_type": "stream",
     "text": [
      "[5, 7, 13, 29]\n",
      "0.1792304515838623\n"
     ]
    }
   ],
   "source": [
    "t0 = time.time()\n",
    "largest_prime(13195)\n",
    "print(time.time() - t0)"
   ]
  },
  {
   "cell_type": "code",
   "execution_count": 10,
   "metadata": {
    "colab": {},
    "colab_type": "code",
    "editable": true,
    "id": "LmVJ3KLhY1HV"
   },
   "outputs": [],
   "source": [
    "def largest_prime_2(n):\n",
    "    primes = [2]\n",
    "    prime_candidate = 3\n",
    "    factors = []\n",
    "    while prime_candidate < (int(n/2.)+1):\n",
    "        is_primo = True\n",
    "        for prime in primes:\n",
    "            if prime_candidate%prime == 0:\n",
    "                is_primo = False\n",
    "        if is_primo:\n",
    "            primes.append(prime_candidate)\n",
    "            if n%prime_candidate == 0:\n",
    "                factors.append(prime_candidate)\n",
    "        prime_candidate +=1\n",
    "    print(factors)\n",
    "    return factors"
   ]
  },
  {
   "cell_type": "code",
   "execution_count": 11,
   "metadata": {
    "colab": {
     "base_uri": "https://localhost:8080/",
     "height": 52
    },
    "colab_type": "code",
    "editable": true,
    "executionInfo": {
     "elapsed": 662,
     "status": "ok",
     "timestamp": 1597532738167,
     "user": {
      "displayName": "Pedro Medeiros Teixeira",
      "photoUrl": "",
      "userId": "15890310536056247381"
     },
     "user_tz": 180
    },
    "id": "9_UBUN-3Y1HX",
    "outputId": "7be98a2f-f042-45f9-efd9-9f78db2d5662"
   },
   "outputs": [
    {
     "name": "stdout",
     "output_type": "stream",
     "text": [
      "[5, 7, 13, 29]\n",
      "0.15071415901184082\n"
     ]
    }
   ],
   "source": [
    "t0 = time.time()\n",
    "largest_prime_2(13195)\n",
    "print(time.time() - t0)"
   ]
  },
  {
   "cell_type": "code",
   "execution_count": 12,
   "metadata": {
    "colab": {},
    "colab_type": "code",
    "editable": true,
    "id": "BJ23Zb86Y1HZ"
   },
   "outputs": [],
   "source": [
    "def is_prime(n):\n",
    "    if n <= 3:\n",
    "        return n >= 2\n",
    "    if n % 2 == 0 or n % 3 == 0:\n",
    "        return False\n",
    "    for i in range(5, int(n ** 0.5) + 1, 6):\n",
    "        if n % i == 0 or n % (i + 2) == 0:\n",
    "            return False\n",
    "    return True"
   ]
  },
  {
   "cell_type": "code",
   "execution_count": 13,
   "metadata": {
    "colab": {},
    "colab_type": "code",
    "editable": true,
    "id": "B2Koy6OcY1Hc"
   },
   "outputs": [],
   "source": [
    "def largest_prime_3(n):\n",
    "    factors = []\n",
    "    prime_candidate = 2\n",
    "    while prime_candidate < (int(n/2.)+1):\n",
    "            if is_prime(prime_candidate) and n%prime_candidate == 0:\n",
    "                factors.append(prime_candidate)\n",
    "            prime_candidate +=1\n",
    "    print(factors)\n",
    "    return factors"
   ]
  },
  {
   "cell_type": "code",
   "execution_count": 14,
   "metadata": {
    "colab": {
     "base_uri": "https://localhost:8080/",
     "height": 52
    },
    "colab_type": "code",
    "collapsed": false,
    "editable": true,
    "executionInfo": {
     "elapsed": 217699,
     "status": "ok",
     "timestamp": 1597534560527,
     "user": {
      "displayName": "Pedro Medeiros Teixeira",
      "photoUrl": "",
      "userId": "15890310536056247381"
     },
     "user_tz": 180
    },
    "id": "DY3Odr_CY1He",
    "jupyter": {
     "outputs_hidden": false
    },
    "outputId": "508bdfce-5231-4fcb-9d43-bbf8eb020252"
   },
   "outputs": [
    {
     "name": "stdout",
     "output_type": "stream",
     "text": [
      "[3, 23, 41, 67, 317]\n",
      "190.18123841285706\n"
     ]
    }
   ],
   "source": [
    "t0 = time.time()\n",
    "largest_prime_3(60085131)\n",
    "print(time.time() - t0)"
   ]
  },
  {
   "cell_type": "markdown",
   "metadata": {
    "colab_type": "text",
    "id": "UvTDXLdXvjq2"
   },
   "source": [
    "### 5 - [Project Euler - Problem 4](https://projecteuler.net/problem=4)  \n",
    "\n",
    "#### Largest palindrome product\n",
    "\n",
    "\"A palindromic number reads the same both ways. The largest palindrome made from the product of two 2-digit numbers is 9009 = 91 × 99.\"  \n",
    "\n",
    "**Find the largest palindrome made from the product of two 3-digit numbers.**"
   ]
  },
  {
   "cell_type": "markdown",
   "metadata": {
    "colab_type": "text",
    "id": "qazTN5OQvjq2"
   },
   "source": [
    "###### Hint: How to reverse a string?"
   ]
  },
  {
   "cell_type": "code",
   "execution_count": 15,
   "metadata": {
    "colab": {
     "base_uri": "https://localhost:8080/",
     "height": 35
    },
    "colab_type": "code",
    "collapsed": false,
    "id": "3LkF9RTxvjq3",
    "jupyter": {
     "outputs_hidden": false
    },
    "outputId": "dcfc0524-67bd-4bc5-dec9-6ef81fa27e87"
   },
   "outputs": [
    {
     "data": {
      "text/plain": [
       "'gnirts modnar A'"
      ]
     },
     "execution_count": 15,
     "metadata": {},
     "output_type": "execute_result"
    }
   ],
   "source": [
    "'A random string'[-1::-1]"
   ]
  },
  {
   "cell_type": "code",
   "execution_count": 16,
   "metadata": {
    "colab": {},
    "colab_type": "code",
    "id": "extTmjtIvjq8"
   },
   "outputs": [],
   "source": [
    "#storing every product with 3-digit numbers\n",
    "\n",
    "products = set([])\n",
    "for i in range(100,1000):\n",
    "    for j in range(100,1000):\n",
    "        products.add(i*j)"
   ]
  },
  {
   "cell_type": "code",
   "execution_count": 17,
   "metadata": {
    "colab": {
     "base_uri": "https://localhost:8080/",
     "height": 34
    },
    "colab_type": "code",
    "id": "5gnJuhXrF0W5",
    "outputId": "4fa1e024-9e3b-439d-9a9e-1b81980bf5a0"
   },
   "outputs": [
    {
     "data": {
      "text/plain": [
       "227521"
      ]
     },
     "execution_count": 17,
     "metadata": {},
     "output_type": "execute_result"
    }
   ],
   "source": [
    "len(products)"
   ]
  },
  {
   "cell_type": "code",
   "execution_count": 18,
   "metadata": {
    "colab": {},
    "colab_type": "code",
    "id": "KNjnfejpCTyd"
   },
   "outputs": [],
   "source": [
    "#Testing whether they are palindromes\n",
    "\n",
    "largest_palindrome = 0\n",
    "for number in products:\n",
    "    #transforming the integer into a string (to reverse it!)\n",
    "    string_number = str(number)\n",
    "    #two logic tests: is it a palindrome? and is it the largest one?\n",
    "    if string_number == string_number[-1::-1] and int(string_number) > largest_palindrome:\n",
    "        largest_palindrome = int(string_number)"
   ]
  },
  {
   "cell_type": "code",
   "execution_count": 19,
   "metadata": {
    "colab": {
     "base_uri": "https://localhost:8080/",
     "height": 34
    },
    "colab_type": "code",
    "id": "RnqBYR0MHHwe",
    "outputId": "6f6a2355-ae83-45d4-ae95-422efce1f888"
   },
   "outputs": [
    {
     "name": "stdout",
     "output_type": "stream",
     "text": [
      "906609\n"
     ]
    }
   ],
   "source": [
    "print(largest_palindrome)"
   ]
  },
  {
   "cell_type": "markdown",
   "metadata": {
    "colab_type": "text",
    "id": "kMgDWqUovjq_"
   },
   "source": [
    "### 6 - [Project Euler - Problem 14](https://projecteuler.net/problem=14)  \n",
    "\n",
    "#### Longest Collatz sequence\n",
    "\n",
    "\n",
    "The following iterative sequence is defined for the set of positive integers:\n",
    "\n",
    "n → n/2 (n is even)\n",
    "n → 3n + 1 (n is odd)\n",
    "\n",
    "Using the rule above and starting with 13, we generate the following sequence:\n",
    "\n",
    "13 → 40 → 20 → 10 → 5 → 16 → 8 → 4 → 2 → 1\n",
    "It can be seen that this sequence (starting at 13 and finishing at 1) contains 10 terms. Although it has not been proved yet (Collatz Problem), it is thought that all starting numbers finish at 1.\n",
    "\n",
    "**Which starting number, under one million, produces the longest chain?**\n",
    "\n",
    "NOTE: Once the chain starts the terms are allowed to go above one million."
   ]
  },
  {
   "cell_type": "code",
   "execution_count": 20,
   "metadata": {
    "colab": {},
    "colab_type": "code",
    "id": "OhW4mTEILN87"
   },
   "outputs": [],
   "source": [
    "# First example\n",
    "\n",
    "seq = []\n",
    "num = 13\n",
    "while num != 1:\n",
    "        # rule for even numbers\n",
    "        if num%2 == 0:\n",
    "            num /= 2\n",
    "        else:\n",
    "        # rule for odd numbers  \n",
    "            num = (3*num) + 1\n",
    "        seq.append(int(num))"
   ]
  },
  {
   "cell_type": "code",
   "execution_count": 21,
   "metadata": {
    "colab": {
     "base_uri": "https://localhost:8080/",
     "height": 34
    },
    "colab_type": "code",
    "id": "dGZb6UhELRh3",
    "outputId": "410f614d-f54f-4f76-8f10-10f32a0e44d5"
   },
   "outputs": [
    {
     "data": {
      "text/plain": [
       "[40, 20, 10, 5, 16, 8, 4, 2, 1]"
      ]
     },
     "execution_count": 21,
     "metadata": {},
     "output_type": "execute_result"
    }
   ],
   "source": [
    "seq"
   ]
  },
  {
   "cell_type": "code",
   "execution_count": 22,
   "metadata": {
    "colab": {},
    "colab_type": "code",
    "id": "X_9NPZDzvjq_"
   },
   "outputs": [],
   "source": [
    "sequences = []\n",
    "for i in range(2,1000001):\n",
    "    seq = []\n",
    "    num = i\n",
    "    # here it is computed the Collatz sequence\n",
    "    while num != 1:\n",
    "        # rule for even numbers\n",
    "        if num%2 == 0:\n",
    "            num /= 2\n",
    "        else:\n",
    "        # rule for odd numbers  \n",
    "            num = (3*num) + 1\n",
    "        seq.append(int(num))\n",
    "    #for every number, this list is storing a tuple with the number and the length of its Collatz sequence        \n",
    "    sequences.append((i,len(seq)+1))"
   ]
  },
  {
   "cell_type": "code",
   "execution_count": 23,
   "metadata": {
    "colab": {
     "base_uri": "https://localhost:8080/",
     "height": 34
    },
    "colab_type": "code",
    "id": "vzUaxWulIt5j",
    "outputId": "2e265d9f-471f-43ed-94e6-4f530fc4908e"
   },
   "outputs": [
    {
     "data": {
      "text/plain": [
       "999999"
      ]
     },
     "execution_count": 23,
     "metadata": {},
     "output_type": "execute_result"
    }
   ],
   "source": [
    "len(sequences)"
   ]
  },
  {
   "cell_type": "code",
   "execution_count": 24,
   "metadata": {
    "colab": {
     "base_uri": "https://localhost:8080/",
     "height": 34
    },
    "colab_type": "code",
    "id": "S7qQvBIxMJ46",
    "outputId": "1db75778-4574-4f14-fb6f-c772fc4219c4"
   },
   "outputs": [
    {
     "data": {
      "text/plain": [
       "[(837799, 525)]"
      ]
     },
     "execution_count": 24,
     "metadata": {},
     "output_type": "execute_result"
    }
   ],
   "source": [
    "# Same idea of sorting a dictionary\n",
    "\n",
    "sorted(sequences, key = lambda x:x[1], reverse=True)[:1]"
   ]
  }
 ],
 "metadata": {
  "colab": {
   "collapsed_sections": [],
   "name": "Cópia de 2_Control_Flow_Exercise.ipynb",
   "provenance": [
    {
     "file_id": "https://github.com/rsouza/Python_Course/blob/master/Exercises/2_Control_Flow_Exercise.ipynb",
     "timestamp": 1597522602676
    }
   ]
  },
  "kernelspec": {
   "display_name": "Python 3 (ipykernel)",
   "language": "python",
   "name": "python3"
  },
  "language_info": {
   "codemirror_mode": {
    "name": "ipython",
    "version": 3
   },
   "file_extension": ".py",
   "mimetype": "text/x-python",
   "name": "python",
   "nbconvert_exporter": "python",
   "pygments_lexer": "ipython3",
   "version": "3.9.12"
  }
 },
 "nbformat": 4,
 "nbformat_minor": 4
}
