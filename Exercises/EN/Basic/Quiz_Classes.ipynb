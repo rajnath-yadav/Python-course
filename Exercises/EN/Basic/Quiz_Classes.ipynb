{
 "cells": [
  {
   "cell_type": "markdown",
   "metadata": {},
   "source": [
    "# Introduction to Python   \n",
    "\n",
    "### Classes"
   ]
  },
  {
   "cell_type": "markdown",
   "metadata": {},
   "source": [
    "#### 1) Create a class \"Car\", with the following properties (methods and attributes):  \n",
    "\n",
    "- Model (attribute) -> The car model\n",
    "- Autonomy (method) -> Must return how many Km can still travel with the current fuel\n",
    "- Tank level (method and attribute) -> The number of Liters in the tank\n",
    "- Tank capacity (attribute) -> Full capacity of the tank (Liters)\n",
    "- Consumption (attribute) -> A value representing consumption in Km per Liter\n",
    "- Refills (method) -> Adds a number of Liters of fuel to the tank, up to, at most, its full capacity\n",
    "- Run (method) -> Makes the car travel a specific number of Km\n",
    "- Odometer -> (attribute) Returns the total number of Km traveled \n",
    "- Partial Odometer (attribute) -> Returns the number of Km traveled since the last tank filling "
   ]
  },
  {
   "cell_type": "code",
   "execution_count": null,
   "metadata": {},
   "outputs": [],
   "source": []
  },
  {
   "cell_type": "markdown",
   "metadata": {
    "id": "R_vi6lpSNLPC"
   },
   "source": [
    "#### 2) Create a class \"Country\" that contains the following methods:\n",
    "\n",
    "- compare_gdp_per_capita\n",
    "- compare_population_density\n",
    "- development_status \n",
    "\n",
    "Additional information:\n",
    "\n",
    "- To classify the development status (high-income, upper middle income, lower middle income and low-income) use the following methodology: https://www.un.org/en/development/desa/policy/wesp/wesp_current/2014wesp_country_classification.pdf\n",
    "\n",
    "- Consider GNI as GDP\n",
    "\n",
    "- The input will be in the format (name_of_country, population, area_in_km2, gdp), where name_of_country is a string and the other three inputs are integers.\n",
    "\n",
    "\n",
    "**Example**\n",
    "\n",
    "brazil = Country(\"Brazil\", 209500000, 8516000, 1847000000)\n",
    "\n",
    "mexico = Country(\"Mexico\", 126200000, 1973000, 1221000000)\n",
    "\n",
    "brazil.development_status ➞ 'upper middle income'\n",
    "\n",
    "mexico.compare_population_density(brazil) ➞ \"Mexico has a larger population density than Brazil\"\n",
    "\n",
    "brazil.compare_gdp_per_capita(mexico) ➞ \"Brazil is poorer than Mexico\""
   ]
  },
  {
   "cell_type": "code",
   "execution_count": null,
   "metadata": {},
   "outputs": [],
   "source": []
  },
  {
   "cell_type": "markdown",
   "metadata": {},
   "source": [
    "3) Create a class \"Drone\", with the necessary properties (methods and attributes):\n",
    "\n",
    "You should create at least:\n",
    "\n",
    " + show_level(show the battery energy level)\n",
    " + charge_battey\n",
    " + show_coordinates\n",
    " + fly_to(x,y)"
   ]
  },
  {
   "cell_type": "code",
   "execution_count": null,
   "metadata": {},
   "outputs": [],
   "source": []
  }
 ],
 "metadata": {
  "kernelspec": {
   "display_name": "Python 3 (ipykernel)",
   "language": "python",
   "name": "python3"
  },
  "language_info": {
   "codemirror_mode": {
    "name": "ipython",
    "version": 3
   },
   "file_extension": ".py",
   "mimetype": "text/x-python",
   "name": "python",
   "nbconvert_exporter": "python",
   "pygments_lexer": "ipython3",
   "version": "3.8.10"
  }
 },
 "nbformat": 4,
 "nbformat_minor": 4
}
