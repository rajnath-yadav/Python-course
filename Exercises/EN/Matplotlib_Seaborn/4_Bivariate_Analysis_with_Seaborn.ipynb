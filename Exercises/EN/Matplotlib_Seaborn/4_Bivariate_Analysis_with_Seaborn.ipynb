{
 "cells": [
  {
   "cell_type": "markdown",
   "metadata": {},
   "source": [
    "# Bivariate Analysis with Seaborn\n",
    "\n",
    "Firstly, we import the necessary libraries and load the penguins dataset as 'penguins'."
   ]
  },
  {
   "cell_type": "code",
   "execution_count": 2,
   "metadata": {},
   "outputs": [],
   "source": [
    "# Import libraries\n",
    "import pandas as pd\n",
    "import matplotlib.pyplot as plt\n",
    "import seaborn as sns"
   ]
  },
  {
   "cell_type": "code",
   "execution_count": 3,
   "metadata": {},
   "outputs": [],
   "source": [
    "# Load the data\n",
    "penguins = pd.read_csv('../../../Data/csv/penguins.csv')"
   ]
  },
  {
   "cell_type": "code",
   "execution_count": 5,
   "metadata": {},
   "outputs": [
    {
     "data": {
      "text/html": [
       "<div>\n",
       "<style scoped>\n",
       "    .dataframe tbody tr th:only-of-type {\n",
       "        vertical-align: middle;\n",
       "    }\n",
       "\n",
       "    .dataframe tbody tr th {\n",
       "        vertical-align: top;\n",
       "    }\n",
       "\n",
       "    .dataframe thead th {\n",
       "        text-align: right;\n",
       "    }\n",
       "</style>\n",
       "<table border=\"1\" class=\"dataframe\">\n",
       "  <thead>\n",
       "    <tr style=\"text-align: right;\">\n",
       "      <th></th>\n",
       "      <th>species</th>\n",
       "      <th>island</th>\n",
       "      <th>bill_length_mm</th>\n",
       "      <th>bill_depth_mm</th>\n",
       "      <th>flipper_length_mm</th>\n",
       "      <th>body_mass_g</th>\n",
       "      <th>sex</th>\n",
       "    </tr>\n",
       "  </thead>\n",
       "  <tbody>\n",
       "    <tr>\n",
       "      <th>0</th>\n",
       "      <td>Adelie</td>\n",
       "      <td>Torgersen</td>\n",
       "      <td>39.1</td>\n",
       "      <td>18.7</td>\n",
       "      <td>181.0</td>\n",
       "      <td>3750.0</td>\n",
       "      <td>MALE</td>\n",
       "    </tr>\n",
       "    <tr>\n",
       "      <th>1</th>\n",
       "      <td>Adelie</td>\n",
       "      <td>Torgersen</td>\n",
       "      <td>39.5</td>\n",
       "      <td>17.4</td>\n",
       "      <td>186.0</td>\n",
       "      <td>3800.0</td>\n",
       "      <td>FEMALE</td>\n",
       "    </tr>\n",
       "    <tr>\n",
       "      <th>2</th>\n",
       "      <td>Adelie</td>\n",
       "      <td>Torgersen</td>\n",
       "      <td>40.3</td>\n",
       "      <td>18.0</td>\n",
       "      <td>195.0</td>\n",
       "      <td>3250.0</td>\n",
       "      <td>FEMALE</td>\n",
       "    </tr>\n",
       "    <tr>\n",
       "      <th>3</th>\n",
       "      <td>Adelie</td>\n",
       "      <td>Torgersen</td>\n",
       "      <td>NaN</td>\n",
       "      <td>NaN</td>\n",
       "      <td>NaN</td>\n",
       "      <td>NaN</td>\n",
       "      <td>NaN</td>\n",
       "    </tr>\n",
       "    <tr>\n",
       "      <th>4</th>\n",
       "      <td>Adelie</td>\n",
       "      <td>Torgersen</td>\n",
       "      <td>36.7</td>\n",
       "      <td>19.3</td>\n",
       "      <td>193.0</td>\n",
       "      <td>3450.0</td>\n",
       "      <td>FEMALE</td>\n",
       "    </tr>\n",
       "  </tbody>\n",
       "</table>\n",
       "</div>"
      ],
      "text/plain": [
       "  species     island  bill_length_mm  bill_depth_mm  flipper_length_mm  \\\n",
       "0  Adelie  Torgersen            39.1           18.7              181.0   \n",
       "1  Adelie  Torgersen            39.5           17.4              186.0   \n",
       "2  Adelie  Torgersen            40.3           18.0              195.0   \n",
       "3  Adelie  Torgersen             NaN            NaN                NaN   \n",
       "4  Adelie  Torgersen            36.7           19.3              193.0   \n",
       "\n",
       "   body_mass_g     sex  \n",
       "0       3750.0    MALE  \n",
       "1       3800.0  FEMALE  \n",
       "2       3250.0  FEMALE  \n",
       "3          NaN     NaN  \n",
       "4       3450.0  FEMALE  "
      ]
     },
     "execution_count": 5,
     "metadata": {},
     "output_type": "execute_result"
    }
   ],
   "source": [
    "# Take a look at the first 5 rows\n",
    "penguins.head()"
   ]
  },
  {
   "cell_type": "code",
   "execution_count": 6,
   "metadata": {},
   "outputs": [],
   "source": [
    "# Drop missing values\n",
    "penguins.dropna(inplace = True)"
   ]
  },
  {
   "cell_type": "markdown",
   "metadata": {},
   "source": [
    "# 1. Categorical variables\n",
    "\n",
    "If you want to visualize data involving categorical variables, you can choose between 2 different plotting approaches as we already saw in the preceding notebook: \n",
    "\n",
    "a) The `catplot()` plotting function \n",
    "\n",
    "- this is a Figure-level interface that allows you to plot categories\n",
    "- by calling this function, `a stripplot` will be drawn by default\n",
    "  \n",
    "Important note: specifying data\n",
    "\n",
    "- data you want to visualize must be passed in a long-form DataFrame \n",
    "- categorical and numerical variables must be passed as strings to the `x` and `y` parameters in the following way:   \n",
    "  ```sns.catplot(data = dataset, x = 'categorical_variable', y = 'numerical_variable')```\n",
    "  \n",
    "\n",
    "- In comparison, the code below won't work:  \n",
    "  ```sns.catplot(x = data['categorical_variable'], y = data['numerical_variable'])```\n",
    "  \n",
    "The `catplot()` functions provides us with access to other Axes-level plotting functions which you can select by passing the respective plot kind to the `kind` parameter:\n",
    "\n",
    "- \"box\", \"swarm\", \"strip\", \"violin\", \"barplot\", etc. \n",
    "  \n",
    "\n",
    "b) Axes-level plotting functions\n",
    "- `sns.boxplot()`\n",
    "- `sns.swarmplot()`\n",
    "- `sns.stripplot()`\n",
    "- `sns.violinplot()`\n",
    "- `sns.countplot()`\n",
    "- `sns.barplot()`, etc."
   ]
  },
  {
   "cell_type": "markdown",
   "metadata": {},
   "source": [
    "## 1.1 Categorical vs. Numerical feature\n",
    "\n",
    "One thing you could be interested in is to find out how the distribution of a numerical feature varies across different categories. For this purpose you can use a plotting functions such `sns.boxplot()`, `sns.violinplot()`, `sns.boxenplot()`."
   ]
  },
  {
   "cell_type": "markdown",
   "metadata": {},
   "source": [
    "### 1.1.1 Boxplot\n",
    "\n",
    "Inside the function for creating the boxplots we specify the dataset and the feature names. The categorical variable 'species' will be plotted on the x-axis and the respective values of 'body_mass_g' on the y-axis."
   ]
  },
  {
   "cell_type": "code",
   "execution_count": 7,
   "metadata": {},
   "outputs": [
    {
     "data": {
      "image/png": "[encoded data removed]",
      "text/plain": [
       "<Figure size 936x648 with 1 Axes>"
      ]
     },
     "metadata": {
      "needs_background": "light"
     },
     "output_type": "display_data"
    }
   ],
   "source": [
    "# Boxplots of body mass of penguins based on the species\n",
    "plt.figure(figsize = (13,9))\n",
    "sns.boxplot(data = penguins, \n",
    "            x = 'species', \n",
    "            y = 'body_mass_g', \n",
    "            palette = 'Set3');"
   ]
  },
  {
   "cell_type": "markdown",
   "metadata": {},
   "source": [
    "Visualization of the distribution reveals us interesting differences and similarities among species. For Adelie and Chinstrap, the majority of penguins weigh up to approximately 4000 grams, although the Chinstrap weight range is smaller than that of Adelie penguins. These two species have also the same median value of 3700 grams (we also verified median values in the code cell below). In case of Chinstrap penguins some outliers are present which can indicate that some penguins weight significantly less or more compared to the rest of observations. Gentoo penguins are overall heavier, while the vast majority of penguins weigh about 4700-5500 grams. This species also has the highest range of recorded values.  "
   ]
  },
  {
   "cell_type": "code",
   "execution_count": 8,
   "metadata": {},
   "outputs": [
    {
     "name": "stdout",
     "output_type": "stream",
     "text": [
      "Adelie body mass-median value:  3700.0 \n",
      "Chinstrap body mass-median value:  3700.0\n"
     ]
    }
   ],
   "source": [
    "# Median values of Adelie and Chinstrap species\n",
    "print('Adelie body mass-median value: ', penguins[penguins.species == 'Adelie'].body_mass_g.median(),\n",
    "      '\\n'\n",
    "      'Chinstrap body mass-median value: ', penguins[penguins.species == 'Chinstrap'].body_mass_g.median())"
   ]
  },
  {
   "cell_type": "code",
   "execution_count": 9,
   "metadata": {},
   "outputs": [
    {
     "data": {
      "image/png": "[encoded data removed]",
      "text/plain": [
       "<Figure size 936x648 with 1 Axes>"
      ]
     },
     "metadata": {
      "needs_background": "light"
     },
     "output_type": "display_data"
    }
   ],
   "source": [
    "# Boxplots of the bill length based on the species\n",
    "plt.figure(figsize = (13,9))\n",
    "sns.boxplot(data = penguins, \n",
    "            x = 'species', \n",
    "            y = 'bill_length_mm');"
   ]
  },
  {
   "cell_type": "markdown",
   "metadata": {},
   "source": [
    "From the boxplots we can say that the Adelie species is characterised by the shortest bills, while most penguins have a bill which is about 37-41 millimeter long. The bill length of the Chinstrap and Gentoo species starts at about 41 mm. If we do not take into account the outlier of the Gentoo species, this species does have shorter bills compared to Chinstrap penguins."
   ]
  },
  {
   "cell_type": "code",
   "execution_count": 10,
   "metadata": {},
   "outputs": [
    {
     "data": {
      "image/png": "[encoded data removed]",
      "text/plain": [
       "<Figure size 936x648 with 1 Axes>"
      ]
     },
     "metadata": {
      "needs_background": "light"
     },
     "output_type": "display_data"
    }
   ],
   "source": [
    "# TASK 1 >>> Create boxplots of the depth of the bills based on species\n",
    "#        >>> Set a the figure size to (13,9)\n",
    "#        >>> Set the title to 'Distribution of bill's depth based on species'"
   ]
  },
  {
   "cell_type": "markdown",
   "metadata": {},
   "source": [
    "> What can you say about those 3 species in term of the bill depth? How does the distribution differ ? What about the range of values? What species has the smallest bill depth range?"
   ]
  },
  {
   "cell_type": "markdown",
   "metadata": {},
   "source": [
    "### 1.1.2 Swarmplot\n",
    "\n",
    "We can also take a closer look at the three islands where the penguins live. Since our dataset does not comprise too many observations, the data points are nicely plotted."
   ]
  },
  {
   "cell_type": "code",
   "execution_count": 11,
   "metadata": {},
   "outputs": [
    {
     "data": {
      "image/png": "[encoded data removed]",
      "text/plain": [
       "<Figure size 936x648 with 1 Axes>"
      ]
     },
     "metadata": {
      "needs_background": "light"
     },
     "output_type": "display_data"
    }
   ],
   "source": [
    "# Swarmplot of the flipper length based on islands\n",
    "\n",
    "plt.figure(figsize = (13,9))\n",
    "ax = sns.swarmplot(data = penguins, \n",
    "              x = 'island', \n",
    "              y = 'flipper_length_mm')\n",
    "ax.set(title = 'Distribution of the flipper length', # Accessing Axes object and setting title and labels using .set()\n",
    "       xlabel = 'The island',\n",
    "       ylabel = 'The flipper length (mm)');"
   ]
  },
  {
   "cell_type": "markdown",
   "metadata": {},
   "source": [
    "Now we see the distribution of the penguins' flipper length on the three islands, but this plot does not provide us any specific and useful information. We can say only, for example, there are penguins with either really short flippers or vast majority of penguins have long flippers about 215 milimeters on Biscoe island. \n",
    "\n",
    "Let's explore what species are actually present on the particular islands."
   ]
  },
  {
   "cell_type": "code",
   "execution_count": 12,
   "metadata": {},
   "outputs": [
    {
     "data": {
      "text/plain": [
       "island     species  \n",
       "Biscoe     Gentoo       119\n",
       "           Adelie        44\n",
       "Dream      Chinstrap     68\n",
       "           Adelie        55\n",
       "Torgersen  Adelie        47\n",
       "Name: species, dtype: int64"
      ]
     },
     "execution_count": 12,
     "metadata": {},
     "output_type": "execute_result"
    }
   ],
   "source": [
    "# Group data based on island and count penguins\n",
    "\n",
    "penguins.groupby('island')['species'].value_counts()"
   ]
  },
  {
   "cell_type": "markdown",
   "metadata": {},
   "source": [
    "Interestingly, Adelie species inhabit all three islands. Gentoo penguins are present only in Biscoe island and Chinstrap's home is Dream island. Let's filter the dataset only for Gentoo and Chinstrap penguins.\n",
    "\n",
    "The filtering approach is up to you. You can create a subset of a DataFrame with specific rows based on a condition using indexing like in this example:   \n",
    "```subset = data['weight'] == 85```\n",
    "\n",
    "This operation checks for whether the row contains the value 85 and returns only those rows where this condition is fulfilled.\n",
    "\n",
    "Another option is to use `query` which we apply onto the DataFrame. We specify that we want to filter only those rows where Gentoo and Chinstrap penguins are present as species. Since we filter for more than one condition, these species must by passed as a list. We use the `in` keyword which checks whether a species is present in the list.\n",
    "\n",
    "\n",
    "Choose the approach which best suits you. Here we included both of them for you to compare the code syntax."
   ]
  },
  {
   "cell_type": "code",
   "execution_count": 13,
   "metadata": {},
   "outputs": [],
   "source": [
    "# Filtering only Gentoo and Chinstrap species using Pandas query\n",
    "\n",
    "penguins_filter = penguins.query('species in [\"Gentoo\",\"Chinstrap\"]')"
   ]
  },
  {
   "cell_type": "code",
   "execution_count": 14,
   "metadata": {},
   "outputs": [],
   "source": [
    "# Filtering only Gentoo and Chinstrap species using indexing\n",
    "\n",
    "penguins_fil = penguins[penguins['species'].isin([\"Gentoo\",\"Chinstrap\"])]"
   ]
  },
  {
   "cell_type": "code",
   "execution_count": 15,
   "metadata": {},
   "outputs": [
    {
     "data": {
      "text/html": [
       "<div>\n",
       "<style scoped>\n",
       "    .dataframe tbody tr th:only-of-type {\n",
       "        vertical-align: middle;\n",
       "    }\n",
       "\n",
       "    .dataframe tbody tr th {\n",
       "        vertical-align: top;\n",
       "    }\n",
       "\n",
       "    .dataframe thead th {\n",
       "        text-align: right;\n",
       "    }\n",
       "</style>\n",
       "<table border=\"1\" class=\"dataframe\">\n",
       "  <thead>\n",
       "    <tr style=\"text-align: right;\">\n",
       "      <th></th>\n",
       "      <th>species</th>\n",
       "      <th>island</th>\n",
       "      <th>bill_length_mm</th>\n",
       "      <th>bill_depth_mm</th>\n",
       "      <th>flipper_length_mm</th>\n",
       "      <th>body_mass_g</th>\n",
       "      <th>sex</th>\n",
       "    </tr>\n",
       "  </thead>\n",
       "  <tbody>\n",
       "    <tr>\n",
       "      <th>152</th>\n",
       "      <td>Chinstrap</td>\n",
       "      <td>Dream</td>\n",
       "      <td>46.5</td>\n",
       "      <td>17.9</td>\n",
       "      <td>192.0</td>\n",
       "      <td>3500.0</td>\n",
       "      <td>FEMALE</td>\n",
       "    </tr>\n",
       "    <tr>\n",
       "      <th>153</th>\n",
       "      <td>Chinstrap</td>\n",
       "      <td>Dream</td>\n",
       "      <td>50.0</td>\n",
       "      <td>19.5</td>\n",
       "      <td>196.0</td>\n",
       "      <td>3900.0</td>\n",
       "      <td>MALE</td>\n",
       "    </tr>\n",
       "    <tr>\n",
       "      <th>154</th>\n",
       "      <td>Chinstrap</td>\n",
       "      <td>Dream</td>\n",
       "      <td>51.3</td>\n",
       "      <td>19.2</td>\n",
       "      <td>193.0</td>\n",
       "      <td>3650.0</td>\n",
       "      <td>MALE</td>\n",
       "    </tr>\n",
       "    <tr>\n",
       "      <th>155</th>\n",
       "      <td>Chinstrap</td>\n",
       "      <td>Dream</td>\n",
       "      <td>45.4</td>\n",
       "      <td>18.7</td>\n",
       "      <td>188.0</td>\n",
       "      <td>3525.0</td>\n",
       "      <td>FEMALE</td>\n",
       "    </tr>\n",
       "    <tr>\n",
       "      <th>156</th>\n",
       "      <td>Chinstrap</td>\n",
       "      <td>Dream</td>\n",
       "      <td>52.7</td>\n",
       "      <td>19.8</td>\n",
       "      <td>197.0</td>\n",
       "      <td>3725.0</td>\n",
       "      <td>MALE</td>\n",
       "    </tr>\n",
       "    <tr>\n",
       "      <th>157</th>\n",
       "      <td>Chinstrap</td>\n",
       "      <td>Dream</td>\n",
       "      <td>45.2</td>\n",
       "      <td>17.8</td>\n",
       "      <td>198.0</td>\n",
       "      <td>3950.0</td>\n",
       "      <td>FEMALE</td>\n",
       "    </tr>\n",
       "    <tr>\n",
       "      <th>158</th>\n",
       "      <td>Chinstrap</td>\n",
       "      <td>Dream</td>\n",
       "      <td>46.1</td>\n",
       "      <td>18.2</td>\n",
       "      <td>178.0</td>\n",
       "      <td>3250.0</td>\n",
       "      <td>FEMALE</td>\n",
       "    </tr>\n",
       "    <tr>\n",
       "      <th>159</th>\n",
       "      <td>Chinstrap</td>\n",
       "      <td>Dream</td>\n",
       "      <td>51.3</td>\n",
       "      <td>18.2</td>\n",
       "      <td>197.0</td>\n",
       "      <td>3750.0</td>\n",
       "      <td>MALE</td>\n",
       "    </tr>\n",
       "    <tr>\n",
       "      <th>160</th>\n",
       "      <td>Chinstrap</td>\n",
       "      <td>Dream</td>\n",
       "      <td>46.0</td>\n",
       "      <td>18.9</td>\n",
       "      <td>195.0</td>\n",
       "      <td>4150.0</td>\n",
       "      <td>FEMALE</td>\n",
       "    </tr>\n",
       "    <tr>\n",
       "      <th>161</th>\n",
       "      <td>Chinstrap</td>\n",
       "      <td>Dream</td>\n",
       "      <td>51.3</td>\n",
       "      <td>19.9</td>\n",
       "      <td>198.0</td>\n",
       "      <td>3700.0</td>\n",
       "      <td>MALE</td>\n",
       "    </tr>\n",
       "    <tr>\n",
       "      <th>162</th>\n",
       "      <td>Chinstrap</td>\n",
       "      <td>Dream</td>\n",
       "      <td>46.6</td>\n",
       "      <td>17.8</td>\n",
       "      <td>193.0</td>\n",
       "      <td>3800.0</td>\n",
       "      <td>FEMALE</td>\n",
       "    </tr>\n",
       "    <tr>\n",
       "      <th>163</th>\n",
       "      <td>Chinstrap</td>\n",
       "      <td>Dream</td>\n",
       "      <td>51.7</td>\n",
       "      <td>20.3</td>\n",
       "      <td>194.0</td>\n",
       "      <td>3775.0</td>\n",
       "      <td>MALE</td>\n",
       "    </tr>\n",
       "    <tr>\n",
       "      <th>164</th>\n",
       "      <td>Chinstrap</td>\n",
       "      <td>Dream</td>\n",
       "      <td>47.0</td>\n",
       "      <td>17.3</td>\n",
       "      <td>185.0</td>\n",
       "      <td>3700.0</td>\n",
       "      <td>FEMALE</td>\n",
       "    </tr>\n",
       "    <tr>\n",
       "      <th>165</th>\n",
       "      <td>Chinstrap</td>\n",
       "      <td>Dream</td>\n",
       "      <td>52.0</td>\n",
       "      <td>18.1</td>\n",
       "      <td>201.0</td>\n",
       "      <td>4050.0</td>\n",
       "      <td>MALE</td>\n",
       "    </tr>\n",
       "    <tr>\n",
       "      <th>166</th>\n",
       "      <td>Chinstrap</td>\n",
       "      <td>Dream</td>\n",
       "      <td>45.9</td>\n",
       "      <td>17.1</td>\n",
       "      <td>190.0</td>\n",
       "      <td>3575.0</td>\n",
       "      <td>FEMALE</td>\n",
       "    </tr>\n",
       "    <tr>\n",
       "      <th>167</th>\n",
       "      <td>Chinstrap</td>\n",
       "      <td>Dream</td>\n",
       "      <td>50.5</td>\n",
       "      <td>19.6</td>\n",
       "      <td>201.0</td>\n",
       "      <td>4050.0</td>\n",
       "      <td>MALE</td>\n",
       "    </tr>\n",
       "    <tr>\n",
       "      <th>168</th>\n",
       "      <td>Chinstrap</td>\n",
       "      <td>Dream</td>\n",
       "      <td>50.3</td>\n",
       "      <td>20.0</td>\n",
       "      <td>197.0</td>\n",
       "      <td>3300.0</td>\n",
       "      <td>MALE</td>\n",
       "    </tr>\n",
       "    <tr>\n",
       "      <th>169</th>\n",
       "      <td>Chinstrap</td>\n",
       "      <td>Dream</td>\n",
       "      <td>58.0</td>\n",
       "      <td>17.8</td>\n",
       "      <td>181.0</td>\n",
       "      <td>3700.0</td>\n",
       "      <td>FEMALE</td>\n",
       "    </tr>\n",
       "    <tr>\n",
       "      <th>170</th>\n",
       "      <td>Chinstrap</td>\n",
       "      <td>Dream</td>\n",
       "      <td>46.4</td>\n",
       "      <td>18.6</td>\n",
       "      <td>190.0</td>\n",
       "      <td>3450.0</td>\n",
       "      <td>FEMALE</td>\n",
       "    </tr>\n",
       "    <tr>\n",
       "      <th>171</th>\n",
       "      <td>Chinstrap</td>\n",
       "      <td>Dream</td>\n",
       "      <td>49.2</td>\n",
       "      <td>18.2</td>\n",
       "      <td>195.0</td>\n",
       "      <td>4400.0</td>\n",
       "      <td>MALE</td>\n",
       "    </tr>\n",
       "    <tr>\n",
       "      <th>172</th>\n",
       "      <td>Chinstrap</td>\n",
       "      <td>Dream</td>\n",
       "      <td>42.4</td>\n",
       "      <td>17.3</td>\n",
       "      <td>181.0</td>\n",
       "      <td>3600.0</td>\n",
       "      <td>FEMALE</td>\n",
       "    </tr>\n",
       "    <tr>\n",
       "      <th>173</th>\n",
       "      <td>Chinstrap</td>\n",
       "      <td>Dream</td>\n",
       "      <td>48.5</td>\n",
       "      <td>17.5</td>\n",
       "      <td>191.0</td>\n",
       "      <td>3400.0</td>\n",
       "      <td>MALE</td>\n",
       "    </tr>\n",
       "    <tr>\n",
       "      <th>174</th>\n",
       "      <td>Chinstrap</td>\n",
       "      <td>Dream</td>\n",
       "      <td>43.2</td>\n",
       "      <td>16.6</td>\n",
       "      <td>187.0</td>\n",
       "      <td>2900.0</td>\n",
       "      <td>FEMALE</td>\n",
       "    </tr>\n",
       "    <tr>\n",
       "      <th>175</th>\n",
       "      <td>Chinstrap</td>\n",
       "      <td>Dream</td>\n",
       "      <td>50.6</td>\n",
       "      <td>19.4</td>\n",
       "      <td>193.0</td>\n",
       "      <td>3800.0</td>\n",
       "      <td>MALE</td>\n",
       "    </tr>\n",
       "    <tr>\n",
       "      <th>176</th>\n",
       "      <td>Chinstrap</td>\n",
       "      <td>Dream</td>\n",
       "      <td>46.7</td>\n",
       "      <td>17.9</td>\n",
       "      <td>195.0</td>\n",
       "      <td>3300.0</td>\n",
       "      <td>FEMALE</td>\n",
       "    </tr>\n",
       "    <tr>\n",
       "      <th>177</th>\n",
       "      <td>Chinstrap</td>\n",
       "      <td>Dream</td>\n",
       "      <td>52.0</td>\n",
       "      <td>19.0</td>\n",
       "      <td>197.0</td>\n",
       "      <td>4150.0</td>\n",
       "      <td>MALE</td>\n",
       "    </tr>\n",
       "    <tr>\n",
       "      <th>178</th>\n",
       "      <td>Chinstrap</td>\n",
       "      <td>Dream</td>\n",
       "      <td>50.5</td>\n",
       "      <td>18.4</td>\n",
       "      <td>200.0</td>\n",
       "      <td>3400.0</td>\n",
       "      <td>FEMALE</td>\n",
       "    </tr>\n",
       "    <tr>\n",
       "      <th>179</th>\n",
       "      <td>Chinstrap</td>\n",
       "      <td>Dream</td>\n",
       "      <td>49.5</td>\n",
       "      <td>19.0</td>\n",
       "      <td>200.0</td>\n",
       "      <td>3800.0</td>\n",
       "      <td>MALE</td>\n",
       "    </tr>\n",
       "    <tr>\n",
       "      <th>180</th>\n",
       "      <td>Chinstrap</td>\n",
       "      <td>Dream</td>\n",
       "      <td>46.4</td>\n",
       "      <td>17.8</td>\n",
       "      <td>191.0</td>\n",
       "      <td>3700.0</td>\n",
       "      <td>FEMALE</td>\n",
       "    </tr>\n",
       "    <tr>\n",
       "      <th>181</th>\n",
       "      <td>Chinstrap</td>\n",
       "      <td>Dream</td>\n",
       "      <td>52.8</td>\n",
       "      <td>20.0</td>\n",
       "      <td>205.0</td>\n",
       "      <td>4550.0</td>\n",
       "      <td>MALE</td>\n",
       "    </tr>\n",
       "    <tr>\n",
       "      <th>...</th>\n",
       "      <td>...</td>\n",
       "      <td>...</td>\n",
       "      <td>...</td>\n",
       "      <td>...</td>\n",
       "      <td>...</td>\n",
       "      <td>...</td>\n",
       "      <td>...</td>\n",
       "    </tr>\n",
       "    <tr>\n",
       "      <th>311</th>\n",
       "      <td>Gentoo</td>\n",
       "      <td>Biscoe</td>\n",
       "      <td>52.2</td>\n",
       "      <td>17.1</td>\n",
       "      <td>228.0</td>\n",
       "      <td>5400.0</td>\n",
       "      <td>MALE</td>\n",
       "    </tr>\n",
       "    <tr>\n",
       "      <th>312</th>\n",
       "      <td>Gentoo</td>\n",
       "      <td>Biscoe</td>\n",
       "      <td>45.5</td>\n",
       "      <td>14.5</td>\n",
       "      <td>212.0</td>\n",
       "      <td>4750.0</td>\n",
       "      <td>FEMALE</td>\n",
       "    </tr>\n",
       "    <tr>\n",
       "      <th>313</th>\n",
       "      <td>Gentoo</td>\n",
       "      <td>Biscoe</td>\n",
       "      <td>49.5</td>\n",
       "      <td>16.1</td>\n",
       "      <td>224.0</td>\n",
       "      <td>5650.0</td>\n",
       "      <td>MALE</td>\n",
       "    </tr>\n",
       "    <tr>\n",
       "      <th>314</th>\n",
       "      <td>Gentoo</td>\n",
       "      <td>Biscoe</td>\n",
       "      <td>44.5</td>\n",
       "      <td>14.7</td>\n",
       "      <td>214.0</td>\n",
       "      <td>4850.0</td>\n",
       "      <td>FEMALE</td>\n",
       "    </tr>\n",
       "    <tr>\n",
       "      <th>315</th>\n",
       "      <td>Gentoo</td>\n",
       "      <td>Biscoe</td>\n",
       "      <td>50.8</td>\n",
       "      <td>15.7</td>\n",
       "      <td>226.0</td>\n",
       "      <td>5200.0</td>\n",
       "      <td>MALE</td>\n",
       "    </tr>\n",
       "    <tr>\n",
       "      <th>316</th>\n",
       "      <td>Gentoo</td>\n",
       "      <td>Biscoe</td>\n",
       "      <td>49.4</td>\n",
       "      <td>15.8</td>\n",
       "      <td>216.0</td>\n",
       "      <td>4925.0</td>\n",
       "      <td>MALE</td>\n",
       "    </tr>\n",
       "    <tr>\n",
       "      <th>317</th>\n",
       "      <td>Gentoo</td>\n",
       "      <td>Biscoe</td>\n",
       "      <td>46.9</td>\n",
       "      <td>14.6</td>\n",
       "      <td>222.0</td>\n",
       "      <td>4875.0</td>\n",
       "      <td>FEMALE</td>\n",
       "    </tr>\n",
       "    <tr>\n",
       "      <th>318</th>\n",
       "      <td>Gentoo</td>\n",
       "      <td>Biscoe</td>\n",
       "      <td>48.4</td>\n",
       "      <td>14.4</td>\n",
       "      <td>203.0</td>\n",
       "      <td>4625.0</td>\n",
       "      <td>FEMALE</td>\n",
       "    </tr>\n",
       "    <tr>\n",
       "      <th>319</th>\n",
       "      <td>Gentoo</td>\n",
       "      <td>Biscoe</td>\n",
       "      <td>51.1</td>\n",
       "      <td>16.5</td>\n",
       "      <td>225.0</td>\n",
       "      <td>5250.0</td>\n",
       "      <td>MALE</td>\n",
       "    </tr>\n",
       "    <tr>\n",
       "      <th>320</th>\n",
       "      <td>Gentoo</td>\n",
       "      <td>Biscoe</td>\n",
       "      <td>48.5</td>\n",
       "      <td>15.0</td>\n",
       "      <td>219.0</td>\n",
       "      <td>4850.0</td>\n",
       "      <td>FEMALE</td>\n",
       "    </tr>\n",
       "    <tr>\n",
       "      <th>321</th>\n",
       "      <td>Gentoo</td>\n",
       "      <td>Biscoe</td>\n",
       "      <td>55.9</td>\n",
       "      <td>17.0</td>\n",
       "      <td>228.0</td>\n",
       "      <td>5600.0</td>\n",
       "      <td>MALE</td>\n",
       "    </tr>\n",
       "    <tr>\n",
       "      <th>322</th>\n",
       "      <td>Gentoo</td>\n",
       "      <td>Biscoe</td>\n",
       "      <td>47.2</td>\n",
       "      <td>15.5</td>\n",
       "      <td>215.0</td>\n",
       "      <td>4975.0</td>\n",
       "      <td>FEMALE</td>\n",
       "    </tr>\n",
       "    <tr>\n",
       "      <th>323</th>\n",
       "      <td>Gentoo</td>\n",
       "      <td>Biscoe</td>\n",
       "      <td>49.1</td>\n",
       "      <td>15.0</td>\n",
       "      <td>228.0</td>\n",
       "      <td>5500.0</td>\n",
       "      <td>MALE</td>\n",
       "    </tr>\n",
       "    <tr>\n",
       "      <th>325</th>\n",
       "      <td>Gentoo</td>\n",
       "      <td>Biscoe</td>\n",
       "      <td>46.8</td>\n",
       "      <td>16.1</td>\n",
       "      <td>215.0</td>\n",
       "      <td>5500.0</td>\n",
       "      <td>MALE</td>\n",
       "    </tr>\n",
       "    <tr>\n",
       "      <th>326</th>\n",
       "      <td>Gentoo</td>\n",
       "      <td>Biscoe</td>\n",
       "      <td>41.7</td>\n",
       "      <td>14.7</td>\n",
       "      <td>210.0</td>\n",
       "      <td>4700.0</td>\n",
       "      <td>FEMALE</td>\n",
       "    </tr>\n",
       "    <tr>\n",
       "      <th>327</th>\n",
       "      <td>Gentoo</td>\n",
       "      <td>Biscoe</td>\n",
       "      <td>53.4</td>\n",
       "      <td>15.8</td>\n",
       "      <td>219.0</td>\n",
       "      <td>5500.0</td>\n",
       "      <td>MALE</td>\n",
       "    </tr>\n",
       "    <tr>\n",
       "      <th>328</th>\n",
       "      <td>Gentoo</td>\n",
       "      <td>Biscoe</td>\n",
       "      <td>43.3</td>\n",
       "      <td>14.0</td>\n",
       "      <td>208.0</td>\n",
       "      <td>4575.0</td>\n",
       "      <td>FEMALE</td>\n",
       "    </tr>\n",
       "    <tr>\n",
       "      <th>329</th>\n",
       "      <td>Gentoo</td>\n",
       "      <td>Biscoe</td>\n",
       "      <td>48.1</td>\n",
       "      <td>15.1</td>\n",
       "      <td>209.0</td>\n",
       "      <td>5500.0</td>\n",
       "      <td>MALE</td>\n",
       "    </tr>\n",
       "    <tr>\n",
       "      <th>330</th>\n",
       "      <td>Gentoo</td>\n",
       "      <td>Biscoe</td>\n",
       "      <td>50.5</td>\n",
       "      <td>15.2</td>\n",
       "      <td>216.0</td>\n",
       "      <td>5000.0</td>\n",
       "      <td>FEMALE</td>\n",
       "    </tr>\n",
       "    <tr>\n",
       "      <th>331</th>\n",
       "      <td>Gentoo</td>\n",
       "      <td>Biscoe</td>\n",
       "      <td>49.8</td>\n",
       "      <td>15.9</td>\n",
       "      <td>229.0</td>\n",
       "      <td>5950.0</td>\n",
       "      <td>MALE</td>\n",
       "    </tr>\n",
       "    <tr>\n",
       "      <th>332</th>\n",
       "      <td>Gentoo</td>\n",
       "      <td>Biscoe</td>\n",
       "      <td>43.5</td>\n",
       "      <td>15.2</td>\n",
       "      <td>213.0</td>\n",
       "      <td>4650.0</td>\n",
       "      <td>FEMALE</td>\n",
       "    </tr>\n",
       "    <tr>\n",
       "      <th>333</th>\n",
       "      <td>Gentoo</td>\n",
       "      <td>Biscoe</td>\n",
       "      <td>51.5</td>\n",
       "      <td>16.3</td>\n",
       "      <td>230.0</td>\n",
       "      <td>5500.0</td>\n",
       "      <td>MALE</td>\n",
       "    </tr>\n",
       "    <tr>\n",
       "      <th>334</th>\n",
       "      <td>Gentoo</td>\n",
       "      <td>Biscoe</td>\n",
       "      <td>46.2</td>\n",
       "      <td>14.1</td>\n",
       "      <td>217.0</td>\n",
       "      <td>4375.0</td>\n",
       "      <td>FEMALE</td>\n",
       "    </tr>\n",
       "    <tr>\n",
       "      <th>335</th>\n",
       "      <td>Gentoo</td>\n",
       "      <td>Biscoe</td>\n",
       "      <td>55.1</td>\n",
       "      <td>16.0</td>\n",
       "      <td>230.0</td>\n",
       "      <td>5850.0</td>\n",
       "      <td>MALE</td>\n",
       "    </tr>\n",
       "    <tr>\n",
       "      <th>337</th>\n",
       "      <td>Gentoo</td>\n",
       "      <td>Biscoe</td>\n",
       "      <td>48.8</td>\n",
       "      <td>16.2</td>\n",
       "      <td>222.0</td>\n",
       "      <td>6000.0</td>\n",
       "      <td>MALE</td>\n",
       "    </tr>\n",
       "    <tr>\n",
       "      <th>338</th>\n",
       "      <td>Gentoo</td>\n",
       "      <td>Biscoe</td>\n",
       "      <td>47.2</td>\n",
       "      <td>13.7</td>\n",
       "      <td>214.0</td>\n",
       "      <td>4925.0</td>\n",
       "      <td>FEMALE</td>\n",
       "    </tr>\n",
       "    <tr>\n",
       "      <th>340</th>\n",
       "      <td>Gentoo</td>\n",
       "      <td>Biscoe</td>\n",
       "      <td>46.8</td>\n",
       "      <td>14.3</td>\n",
       "      <td>215.0</td>\n",
       "      <td>4850.0</td>\n",
       "      <td>FEMALE</td>\n",
       "    </tr>\n",
       "    <tr>\n",
       "      <th>341</th>\n",
       "      <td>Gentoo</td>\n",
       "      <td>Biscoe</td>\n",
       "      <td>50.4</td>\n",
       "      <td>15.7</td>\n",
       "      <td>222.0</td>\n",
       "      <td>5750.0</td>\n",
       "      <td>MALE</td>\n",
       "    </tr>\n",
       "    <tr>\n",
       "      <th>342</th>\n",
       "      <td>Gentoo</td>\n",
       "      <td>Biscoe</td>\n",
       "      <td>45.2</td>\n",
       "      <td>14.8</td>\n",
       "      <td>212.0</td>\n",
       "      <td>5200.0</td>\n",
       "      <td>FEMALE</td>\n",
       "    </tr>\n",
       "    <tr>\n",
       "      <th>343</th>\n",
       "      <td>Gentoo</td>\n",
       "      <td>Biscoe</td>\n",
       "      <td>49.9</td>\n",
       "      <td>16.1</td>\n",
       "      <td>213.0</td>\n",
       "      <td>5400.0</td>\n",
       "      <td>MALE</td>\n",
       "    </tr>\n",
       "  </tbody>\n",
       "</table>\n",
       "<p>187 rows × 7 columns</p>\n",
       "</div>"
      ],
      "text/plain": [
       "       species  island  bill_length_mm  bill_depth_mm  flipper_length_mm  \\\n",
       "152  Chinstrap   Dream            46.5           17.9              192.0   \n",
       "153  Chinstrap   Dream            50.0           19.5              196.0   \n",
       "154  Chinstrap   Dream            51.3           19.2              193.0   \n",
       "155  Chinstrap   Dream            45.4           18.7              188.0   \n",
       "156  Chinstrap   Dream            52.7           19.8              197.0   \n",
       "157  Chinstrap   Dream            45.2           17.8              198.0   \n",
       "158  Chinstrap   Dream            46.1           18.2              178.0   \n",
       "159  Chinstrap   Dream            51.3           18.2              197.0   \n",
       "160  Chinstrap   Dream            46.0           18.9              195.0   \n",
       "161  Chinstrap   Dream            51.3           19.9              198.0   \n",
       "162  Chinstrap   Dream            46.6           17.8              193.0   \n",
       "163  Chinstrap   Dream            51.7           20.3              194.0   \n",
       "164  Chinstrap   Dream            47.0           17.3              185.0   \n",
       "165  Chinstrap   Dream            52.0           18.1              201.0   \n",
       "166  Chinstrap   Dream            45.9           17.1              190.0   \n",
       "167  Chinstrap   Dream            50.5           19.6              201.0   \n",
       "168  Chinstrap   Dream            50.3           20.0              197.0   \n",
       "169  Chinstrap   Dream            58.0           17.8              181.0   \n",
       "170  Chinstrap   Dream            46.4           18.6              190.0   \n",
       "171  Chinstrap   Dream            49.2           18.2              195.0   \n",
       "172  Chinstrap   Dream            42.4           17.3              181.0   \n",
       "173  Chinstrap   Dream            48.5           17.5              191.0   \n",
       "174  Chinstrap   Dream            43.2           16.6              187.0   \n",
       "175  Chinstrap   Dream            50.6           19.4              193.0   \n",
       "176  Chinstrap   Dream            46.7           17.9              195.0   \n",
       "177  Chinstrap   Dream            52.0           19.0              197.0   \n",
       "178  Chinstrap   Dream            50.5           18.4              200.0   \n",
       "179  Chinstrap   Dream            49.5           19.0              200.0   \n",
       "180  Chinstrap   Dream            46.4           17.8              191.0   \n",
       "181  Chinstrap   Dream            52.8           20.0              205.0   \n",
       "..         ...     ...             ...            ...                ...   \n",
       "311     Gentoo  Biscoe            52.2           17.1              228.0   \n",
       "312     Gentoo  Biscoe            45.5           14.5              212.0   \n",
       "313     Gentoo  Biscoe            49.5           16.1              224.0   \n",
       "314     Gentoo  Biscoe            44.5           14.7              214.0   \n",
       "315     Gentoo  Biscoe            50.8           15.7              226.0   \n",
       "316     Gentoo  Biscoe            49.4           15.8              216.0   \n",
       "317     Gentoo  Biscoe            46.9           14.6              222.0   \n",
       "318     Gentoo  Biscoe            48.4           14.4              203.0   \n",
       "319     Gentoo  Biscoe            51.1           16.5              225.0   \n",
       "320     Gentoo  Biscoe            48.5           15.0              219.0   \n",
       "321     Gentoo  Biscoe            55.9           17.0              228.0   \n",
       "322     Gentoo  Biscoe            47.2           15.5              215.0   \n",
       "323     Gentoo  Biscoe            49.1           15.0              228.0   \n",
       "325     Gentoo  Biscoe            46.8           16.1              215.0   \n",
       "326     Gentoo  Biscoe            41.7           14.7              210.0   \n",
       "327     Gentoo  Biscoe            53.4           15.8              219.0   \n",
       "328     Gentoo  Biscoe            43.3           14.0              208.0   \n",
       "329     Gentoo  Biscoe            48.1           15.1              209.0   \n",
       "330     Gentoo  Biscoe            50.5           15.2              216.0   \n",
       "331     Gentoo  Biscoe            49.8           15.9              229.0   \n",
       "332     Gentoo  Biscoe            43.5           15.2              213.0   \n",
       "333     Gentoo  Biscoe            51.5           16.3              230.0   \n",
       "334     Gentoo  Biscoe            46.2           14.1              217.0   \n",
       "335     Gentoo  Biscoe            55.1           16.0              230.0   \n",
       "337     Gentoo  Biscoe            48.8           16.2              222.0   \n",
       "338     Gentoo  Biscoe            47.2           13.7              214.0   \n",
       "340     Gentoo  Biscoe            46.8           14.3              215.0   \n",
       "341     Gentoo  Biscoe            50.4           15.7              222.0   \n",
       "342     Gentoo  Biscoe            45.2           14.8              212.0   \n",
       "343     Gentoo  Biscoe            49.9           16.1              213.0   \n",
       "\n",
       "     body_mass_g     sex  \n",
       "152       3500.0  FEMALE  \n",
       "153       3900.0    MALE  \n",
       "154       3650.0    MALE  \n",
       "155       3525.0  FEMALE  \n",
       "156       3725.0    MALE  \n",
       "157       3950.0  FEMALE  \n",
       "158       3250.0  FEMALE  \n",
       "159       3750.0    MALE  \n",
       "160       4150.0  FEMALE  \n",
       "161       3700.0    MALE  \n",
       "162       3800.0  FEMALE  \n",
       "163       3775.0    MALE  \n",
       "164       3700.0  FEMALE  \n",
       "165       4050.0    MALE  \n",
       "166       3575.0  FEMALE  \n",
       "167       4050.0    MALE  \n",
       "168       3300.0    MALE  \n",
       "169       3700.0  FEMALE  \n",
       "170       3450.0  FEMALE  \n",
       "171       4400.0    MALE  \n",
       "172       3600.0  FEMALE  \n",
       "173       3400.0    MALE  \n",
       "174       2900.0  FEMALE  \n",
       "175       3800.0    MALE  \n",
       "176       3300.0  FEMALE  \n",
       "177       4150.0    MALE  \n",
       "178       3400.0  FEMALE  \n",
       "179       3800.0    MALE  \n",
       "180       3700.0  FEMALE  \n",
       "181       4550.0    MALE  \n",
       "..           ...     ...  \n",
       "311       5400.0    MALE  \n",
       "312       4750.0  FEMALE  \n",
       "313       5650.0    MALE  \n",
       "314       4850.0  FEMALE  \n",
       "315       5200.0    MALE  \n",
       "316       4925.0    MALE  \n",
       "317       4875.0  FEMALE  \n",
       "318       4625.0  FEMALE  \n",
       "319       5250.0    MALE  \n",
       "320       4850.0  FEMALE  \n",
       "321       5600.0    MALE  \n",
       "322       4975.0  FEMALE  \n",
       "323       5500.0    MALE  \n",
       "325       5500.0    MALE  \n",
       "326       4700.0  FEMALE  \n",
       "327       5500.0    MALE  \n",
       "328       4575.0  FEMALE  \n",
       "329       5500.0    MALE  \n",
       "330       5000.0  FEMALE  \n",
       "331       5950.0    MALE  \n",
       "332       4650.0  FEMALE  \n",
       "333       5500.0    MALE  \n",
       "334       4375.0  FEMALE  \n",
       "335       5850.0    MALE  \n",
       "337       6000.0    MALE  \n",
       "338       4925.0  FEMALE  \n",
       "340       4850.0  FEMALE  \n",
       "341       5750.0    MALE  \n",
       "342       5200.0  FEMALE  \n",
       "343       5400.0    MALE  \n",
       "\n",
       "[187 rows x 7 columns]"
      ]
     },
     "execution_count": 15,
     "metadata": {},
     "output_type": "execute_result"
    }
   ],
   "source": [
    "# The new DataFrame penguins_filter will be returned as an output\n",
    "\n",
    "penguins_filter.head()"
   ]
  },
  {
   "cell_type": "code",
   "execution_count": 16,
   "metadata": {},
   "outputs": [
    {
     "data": {
      "image/png": "[encoded data removed]",
      "text/plain": [
       "<Figure size 936x648 with 1 Axes>"
      ]
     },
     "metadata": {
      "needs_background": "light"
     },
     "output_type": "display_data"
    }
   ],
   "source": [
    "# TASK 2 >>> Create a swarmplot using the created penguins_filter subset\n",
    "#        >>> Set the figure size to (13,9)\n",
    "#        >>> Visualize the flipper length based on the Chinstrap and Gentoo species\n",
    "#        >>> Set the title to 'Distribution of Chinstrap and Gentoo species'using plt.title()"
   ]
  },
  {
   "cell_type": "markdown",
   "metadata": {},
   "source": [
    "### 1.1.3 Stripplot\n",
    "\n",
    "As you already learned how to create a stripplot, try the following exercise of visualizing Adelie species flipper length distribution based on the category  'sex'."
   ]
  },
  {
   "cell_type": "code",
   "execution_count": 17,
   "metadata": {},
   "outputs": [],
   "source": [
    "# Filter only for the Adelie species and save it as adelie_filter\n",
    "adelie_filter = penguins.query('species == \"Adelie\"')"
   ]
  },
  {
   "cell_type": "code",
   "execution_count": 18,
   "metadata": {},
   "outputs": [
    {
     "data": {
      "image/png": "[encoded data removed]",
      "text/plain": [
       "<Figure size 936x648 with 1 Axes>"
      ]
     },
     "metadata": {
      "needs_background": "light"
     },
     "output_type": "display_data"
    }
   ],
   "source": [
    "# TASK 3 >>> Visualize Adelie's flipper length distribution using swarmplot based on 'sex'\n",
    "#        >>> Set the figure size to (13,9)\n",
    "#        >>> Store the output of the stripplot to the ax variable\n",
    "#        >>> Set the following using ax.set(): \n",
    "#            title: 'The flipper length based on the sex'\n",
    "#            x-axis label: 'The sex'\n",
    "#            y-axis label: 'The flipper length (mm)'"
   ]
  },
  {
   "cell_type": "markdown",
   "metadata": {},
   "source": [
    "### 1.1.4 Violinplot\n",
    "\n",
    "Categories can be nicely compared using a violinplot which shows statistics from a boxplot and the shape of the distribution that comes from a density plot. A violinplot is a good choice for plotting the distribution when visualizing a large number of observations is not sufficient due to data points overlapping."
   ]
  },
  {
   "cell_type": "code",
   "execution_count": 19,
   "metadata": {},
   "outputs": [
    {
     "name": "stderr",
     "output_type": "stream",
     "text": [
      "C:\\ProgramData\\Anaconda3\\lib\\site-packages\\scipy\\stats\\stats.py:1713: FutureWarning: Using a non-tuple sequence for multidimensional indexing is deprecated; use `arr[tuple(seq)]` instead of `arr[seq]`. In the future this will be interpreted as an array index, `arr[np.array(seq)]`, which will result either in an error or a different result.\n",
      "  return np.add.reduce(sorted[indexer] * weights, axis=axis) / sumval\n"
     ]
    },
    {
     "data": {
      "image/png": "[encoded data removed]",
      "text/plain": [
       "<Figure size 936x648 with 1 Axes>"
      ]
     },
     "metadata": {
      "needs_background": "light"
     },
     "output_type": "display_data"
    }
   ],
   "source": [
    "# A violinplot of the 'body_mass_g' feature\n",
    "\n",
    "plt.figure(figsize = (13,9))\n",
    "sns.violinplot(data = penguins, \n",
    "               x = 'sex', \n",
    "               y = 'body_mass_g');"
   ]
  },
  {
   "cell_type": "markdown",
   "metadata": {},
   "source": [
    "A violinplot consists of boxplot that is displayed in the middle. The thick black bar represents the majority of values (IQR) and the white dot is the median value. Thin black lines represent the rest of data points. There shape of distribution is displayed on each side. \n",
    "The interpretation of a violinplot is similar to that of a swarmplot. Wider parts represent higher frequency of observations, while thinner parts denote less observations. You can notice that most male penguings have a weight of about 4000 grams and are generally heavier than females.\n",
    "\n",
    "---\n",
    "\n",
    "Please, see the [documentation](https://seaborn.pydata.org/generated/seaborn.violinplot.html) for specifying other parameters."
   ]
  },
  {
   "cell_type": "code",
   "execution_count": 20,
   "metadata": {},
   "outputs": [
    {
     "data": {
      "image/png": "[encoded data removed]",
      "text/plain": [
       "<Figure size 936x648 with 1 Axes>"
      ]
     },
     "metadata": {
      "needs_background": "light"
     },
     "output_type": "display_data"
    }
   ],
   "source": [
    "# A violin plot of 'body_mass_g' variable based on 'species'\n",
    "\n",
    "color = {'Adelie':'powderblue','Chinstrap':'thistle','Gentoo':'bisque'}\n",
    "plt.figure(figsize = (13,9))\n",
    "ax = sns.violinplot(data = penguins, \n",
    "                    x = 'body_mass_g', \n",
    "                    y = 'species',\n",
    "                    inner = 'quartile',\n",
    "                    linewidth = 1.4,\n",
    "                    palette = color);"
   ]
  },
  {
   "cell_type": "markdown",
   "metadata": {},
   "source": [
    "### 1.1.5 Displot\n",
    "\n",
    "We can also compare the spread of the values using a histogram."
   ]
  },
  {
   "cell_type": "code",
   "execution_count": 22,
   "metadata": {},
   "outputs": [
    {
     "ename": "AttributeError",
     "evalue": "module 'seaborn' has no attribute 'displot'",
     "output_type": "error",
     "traceback": [
      "\u001b[1;31m---------------------------------------------------------------------------\u001b[0m",
      "\u001b[1;31mAttributeError\u001b[0m                            Traceback (most recent call last)",
      "\u001b[1;32m<ipython-input-22-bb08f50e73b3>\u001b[0m in \u001b[0;36m<module>\u001b[1;34m\u001b[0m\n\u001b[0;32m      1\u001b[0m \u001b[1;31m# A displot of 'body_mass_g' feature based on 'species'\u001b[0m\u001b[1;33m\u001b[0m\u001b[1;33m\u001b[0m\u001b[1;33m\u001b[0m\u001b[0m\n\u001b[0;32m      2\u001b[0m \u001b[1;33m\u001b[0m\u001b[0m\n\u001b[1;32m----> 3\u001b[1;33m sns.displot(data = penguins, \n\u001b[0m\u001b[0;32m      4\u001b[0m             \u001b[0mx\u001b[0m\u001b[1;33m=\u001b[0m\u001b[1;34m'body_mass_g'\u001b[0m\u001b[1;33m,\u001b[0m\u001b[1;33m\u001b[0m\u001b[1;33m\u001b[0m\u001b[0m\n\u001b[0;32m      5\u001b[0m             \u001b[0mhue\u001b[0m \u001b[1;33m=\u001b[0m \u001b[1;34m'species'\u001b[0m\u001b[1;33m,\u001b[0m\u001b[1;33m\u001b[0m\u001b[1;33m\u001b[0m\u001b[0m\n",
      "\u001b[1;31mAttributeError\u001b[0m: module 'seaborn' has no attribute 'displot'"
     ]
    }
   ],
   "source": [
    "# A displot of 'body_mass_g' feature based on 'species'\n",
    "\n",
    "sns.displot(data = penguins, \n",
    "            x='body_mass_g', \n",
    "            hue = 'species', \n",
    "            kind = 'kde',\n",
    "            height = 6, \n",
    "            aspect = 1.3);"
   ]
  },
  {
   "cell_type": "markdown",
   "metadata": {},
   "source": [
    "## 1.2 Categorical vs. categorical feature\n",
    "\n",
    "With a countplot we are able to count the number of observations in each catogory and then compared how these values vary across categories. \n",
    "\n",
    "Let's visualize how many female and male penguins are present in each species."
   ]
  },
  {
   "cell_type": "code",
   "execution_count": null,
   "metadata": {},
   "outputs": [],
   "source": [
    "# A countplot of male and females penguins based on species\n",
    "plt.figure(figsize = (13,9))\n",
    "bars = sns.countplot(data = penguins, x = 'species', hue = 'sex', palette = 'Set3')\n",
    "\n",
    "# Annotation for bars and example customizations\n",
    "for b in bars.patches:                               \n",
    "    bars.annotate('{:.0f}'.format(b.get_height()),  # Showing the count and string formatting to no decimal place\n",
    "                 (b.get_x() + 0.2, b.get_height()), # A tuple of the left coordinate of the bar, adding some float to center it \n",
    "                                                    # and getting the height of the bar - to change the placement of numbers,\n",
    "                                                    # substract some number from b.get_height() to see the change \n",
    "                  ha='center',                      # Setting horizontal alignment of text\n",
    "                  va='bottom',                      # Setting vertical alingment of text\n",
    "                  color= 'black',                   \n",
    "                  fontsize = 10)\n",
    "sns.despine(top = True, left = True)                # Removing spines from plot\n",
    "bars.set(ylabel = '', yticks = [])                  # Removing y-axis labels and y-axis ticks         \n",
    "bars.set_xlabel('Species', fontsize = 13);      "
   ]
  },
  {
   "cell_type": "markdown",
   "metadata": {},
   "source": [
    "# 2. Numerical vs. numerical feature\n",
    "\n",
    "During bivariate analysis of two numerical variables we attempt to determine any relationship between them."
   ]
  },
  {
   "cell_type": "markdown",
   "metadata": {},
   "source": [
    "## 2.1 Relplot\n",
    "\n",
    "Seaborn's `replot()` plotting function creates a relational plot. The output of this function is a FacetGrid object which allows to extend the existing plot in several ways, for instance adding another subplot or adding a subset of the data to visually display various categories. These options will be discussed in the last notebook about Multivariate analysis.\n",
    "\n",
    "It is also possible to choose the method of visualizing statistical relationship using `kind` parameter:\n",
    "- `kind = 'scatter'` - by default\n",
    "- `kind = 'line` \n",
    "\n",
    "For now let's focus on creating a default relational plot comparing 2 numerical variables at once. We specify input dataset to `data` parameter and assign numerical variables as strings to `x` and `y`. "
   ]
  },
  {
   "cell_type": "code",
   "execution_count": null,
   "metadata": {},
   "outputs": [],
   "source": [
    "# Relationship between body mass and the flipper length\n",
    "\n",
    "rel = sns.relplot(data = penguins, \n",
    "                  x = 'body_mass_g', \n",
    "                  y = 'flipper_length_mm',\n",
    "                  color = 'grey',\n",
    "                  height = 6, \n",
    "                  aspect = 1.3)\n",
    "rel.set(xlabel = 'Body mass (g)', \n",
    "        ylabel = 'Flipper length (mm)');"
   ]
  },
  {
   "cell_type": "markdown",
   "metadata": {},
   "source": [
    "The above plot shows the relationship between penguin's body mass and the flipper length. We can see that these two characteristics are strongly related with each other. The clear pattern indicates that with increasing body mass also the flipper length increases. "
   ]
  },
  {
   "cell_type": "code",
   "execution_count": null,
   "metadata": {},
   "outputs": [],
   "source": [
    "# Relationship between body mass and bill length \n",
    "\n",
    "rel = sns.relplot(data = penguins, \n",
    "                  x = 'body_mass_g', \n",
    "                  y = 'bill_length_mm', \n",
    "                  color = 'cadetblue',\n",
    "                  height = 6, \n",
    "                  aspect = 1.3)\n",
    "rel.set(xlabel = 'Body mass (g)', \n",
    "        ylabel = 'The bill depth (mm)');"
   ]
  },
  {
   "cell_type": "markdown",
   "metadata": {},
   "source": [
    "Again, we can observe some kind of relationship between body mass and bill length. You can notice that penguins that weight about 3500 grams tend to have either a short bill (roughly about 35-40 mm), or a longer bill (above 45 mm). After a weight of about 4500 grams, the relationship becomes somewhat stronger and with increasing body mass, the bill length is longer. At this point we would need to take a closer look at the relationship by implementing some kind of visual semantic to gain more information from the data."
   ]
  },
  {
   "cell_type": "code",
   "execution_count": null,
   "metadata": {},
   "outputs": [],
   "source": [
    "# TASK 4 >>> Create a relplot to visualize the relationship between the 'bill_length_mm' and the 'bill_depth_mm' features\n",
    "#        >>> Set parameters: height = 6, aspect = 1.3\n",
    "#        >>> Set x-axis: 'The bill length (mm)'\n",
    "#        >>> Set y-axis label: 'The bill depth (mm)'"
   ]
  },
  {
   "cell_type": "markdown",
   "metadata": {},
   "source": [
    "> What can you say about this relationship ?\n",
    "Does the bill length relate to the bill depth? \n",
    "Is there some indication about a strong relationship or do you barely see any patterns ?  "
   ]
  },
  {
   "cell_type": "markdown",
   "metadata": {},
   "source": [
    "## 2.2 Scatterplot\n",
    "\n",
    "Another option to create a relational plot is using axes-level function `scatterplot()`. "
   ]
  },
  {
   "cell_type": "code",
   "execution_count": null,
   "metadata": {},
   "outputs": [],
   "source": [
    "# Relationship between 'body_mass_g' and 'flipper_length_mm'\n",
    "plt.figure(figsize = (13,9))\n",
    "sns.scatterplot(data = penguins, \n",
    "                x = 'body_mass_g', \n",
    "                y = 'flipper_length_mm', \n",
    "                color = 'lightcoral');"
   ]
  },
  {
   "cell_type": "markdown",
   "metadata": {},
   "source": [
    "We can see a strong positive relationship between the body mass and the flipper length. "
   ]
  },
  {
   "cell_type": "markdown",
   "metadata": {},
   "source": [
    "## 2.3 Visualizing trends"
   ]
  },
  {
   "cell_type": "markdown",
   "metadata": {},
   "source": [
    "### 2.3.1 Regplot\n",
    "\n",
    "The Axes-level function`regplot()` creates a scatterplot and a line of best fit with a default 95% confidence interval which is drawn using translucent bands around the fit line. A similar plotting function is `lmplot()` which makes use of regplot and FacetGrid object so that you can compare several categories in a single figure."
   ]
  },
  {
   "cell_type": "code",
   "execution_count": null,
   "metadata": {},
   "outputs": [],
   "source": [
    "# A regplot of the 'body_mass' and the 'flipper_length_mm' variables\n",
    "\n",
    "plt.figure(figsize = (13,9))\n",
    "sns.regplot(data = penguins, \n",
    "            x = 'body_mass_g', \n",
    "            y = 'bill_length_mm',\n",
    "            color = 'indigo',\n",
    "            ci = 99);           # Setting the size of the confidence interval for the estimate"
   ]
  },
  {
   "cell_type": "markdown",
   "metadata": {},
   "source": [
    "# 3. Heatmap\n",
    "\n",
    "Often we want to compute correlation coefficients to see the strength and the direction of the relationship. This can be done using Pandas's `corr()` function which can take input data and compute the pairwise correlation coefficients of variables.\n",
    "\n",
    "Types of correlation that can be specified as an argument to `method` parameter:\n",
    "- pearson\n",
    "- kendall\n",
    "- spearman\n",
    "\n",
    "Correlation matrix can be visualized using a heatmap where correlation coefficients are represented as colors. Values of correlation coefficients can take a range from -1 (a strong negative relationship) to 1 (a strong positive relationship). Since the coefficients take either high or low values, we should select a specific color palette called _diverging_."
   ]
  },
  {
   "cell_type": "code",
   "execution_count": null,
   "metadata": {},
   "outputs": [],
   "source": [
    "# Computing correlation coefficients\n",
    "corr = penguins.corr()"
   ]
  },
  {
   "cell_type": "code",
   "execution_count": null,
   "metadata": {},
   "outputs": [],
   "source": [
    "# A heatmap of penguins dataset\n",
    "\n",
    "fig, ax = plt.subplots(figsize = (13,9))\n",
    "sns.heatmap(corr, \n",
    "            annot = True,                 # Correlation coeficients will be displayed in each cell\n",
    "            annot_kws = {'fontsize':14},  # Setting a fontsize\n",
    "            cmap = 'Blues');              # Setting a color map"
   ]
  },
  {
   "cell_type": "markdown",
   "metadata": {},
   "source": [
    "# 4. Practice time\n",
    "\n",
    "Let's continue exploring the \"Bank marketing\" dataset as in the previous notebook."
   ]
  },
  {
   "cell_type": "markdown",
   "metadata": {},
   "source": [
    "## 4.1 Loading data, preprocessing"
   ]
  },
  {
   "cell_type": "code",
   "execution_count": null,
   "metadata": {},
   "outputs": [],
   "source": [
    "# Load the data \n",
    "\n",
    "data = pd.read_csv('../../../Data/csv/bank_data.csv',sep = ';')\n",
    "# Let's rename some of variables\n",
    "data.rename(columns = {'marital':'marital_status','default':'default_credit','housing':'house_loan',\n",
    "                      'contact':'contact_type','duration':'contact_duration','campaign':'number_of_contacts',\n",
    "                      'pdays':'days_passed','previous':'number_previous_contact','poutcome':'previous_campaign_outcome',\n",
    "                      'emp.var.rate':'emp_variation_rate','cons.price.idx':'cpi','cons.conf.idx':\n",
    "                      'cci','euribor3m':'euribor_rate','nr.employed':'no_employees','y':'target'},\n",
    "           inplace = True)"
   ]
  },
  {
   "cell_type": "code",
   "execution_count": null,
   "metadata": {},
   "outputs": [],
   "source": [
    "# Remove duplicated rows\n",
    "\n",
    "data.drop_duplicates(inplace = True)"
   ]
  },
  {
   "cell_type": "code",
   "execution_count": null,
   "metadata": {},
   "outputs": [],
   "source": [
    "# Select all variables that need to be converted\n",
    "\n",
    "to_category = ['job','marital_status','education','default_credit','house_loan', \n",
    "               'loan','contact_type','month','day_of_week', 'previous_campaign_outcome']"
   ]
  },
  {
   "cell_type": "code",
   "execution_count": null,
   "metadata": {},
   "outputs": [],
   "source": [
    "# Convert them to the category data type\n",
    "\n",
    "for col in to_category:\n",
    "    data[col] = data[col].astype('category')"
   ]
  },
  {
   "cell_type": "code",
   "execution_count": null,
   "metadata": {},
   "outputs": [],
   "source": [
    "# Create a dictionary with original values and corresponding new values for days\n",
    "\n",
    "mapping_days = {'mon':'Monday','tue':'Tuesday','wed':'Wednesday','thu':'Thursday','fri':'Friday'}\n",
    "\n",
    "# Map new values to column 'day_of_week'\n",
    "data.day_of_week = data.day_of_week.map(mapping_days)"
   ]
  },
  {
   "cell_type": "code",
   "execution_count": null,
   "metadata": {},
   "outputs": [],
   "source": [
    "# Create a dictionary with original values and corresponding new values for months\n",
    "\n",
    "mapping_months = {'mar':'March', 'apr':'April','may':'May','jun':'Jun','jul':'Jul','aug':'August',\n",
    "                  'sep':'September','oct':'October','nov':'November','dec':'December'}\n",
    "\n",
    "# Map new values to column 'month'\n",
    "data.month = data.month.map(mapping_months)"
   ]
  },
  {
   "cell_type": "code",
   "execution_count": null,
   "metadata": {},
   "outputs": [],
   "source": [
    "# Converting seconds to minutes\n",
    "\n",
    "data.contact_duration = data.contact_duration.apply(lambda x: x / 60)"
   ]
  },
  {
   "cell_type": "code",
   "execution_count": null,
   "metadata": {},
   "outputs": [],
   "source": [
    "# Inspect the data\n",
    "data"
   ]
  },
  {
   "cell_type": "code",
   "execution_count": null,
   "metadata": {},
   "outputs": [],
   "source": [
    "# TASK 5 >>> Create a Figure object and set size to (13,9)\n",
    "#        >>> Create a heatmap of data with written correlations coefficients\n",
    "#        >>> Set color palette: 'RdGy'"
   ]
  },
  {
   "cell_type": "code",
   "execution_count": null,
   "metadata": {},
   "outputs": [],
   "source": [
    "# TASK 6 >>> Create a histogram of 'contact_duration' based on the 'target' feature\n",
    "#        >>> Set parameter: multiple = 'stack'\n",
    "#        >>> Set parameters: height = 7, aspect = 1.3"
   ]
  },
  {
   "cell_type": "code",
   "execution_count": null,
   "metadata": {},
   "outputs": [],
   "source": [
    "# TASK 7 >>> Create a boxplot of 'age' feature based on 'target'\n",
    "#        >>> Set the figure size to (13,9)"
   ]
  },
  {
   "cell_type": "code",
   "execution_count": null,
   "metadata": {},
   "outputs": [],
   "source": [
    "# TASK 8 >>> Create a countplot using the Figure-level function catplot() \n",
    "#        >>> Visualize 'target' variable based on a client's job\n",
    "#        >>> Specify parameters: height = 6 and aspect = 1.3\n",
    "#        >>> Set the rotation of x-axis tick labels to 50 degrees"
   ]
  },
  {
   "cell_type": "code",
   "execution_count": null,
   "metadata": {},
   "outputs": [],
   "source": [
    "# TASK 9 >>> Create a countplot of 'marital_status' based on 'target' using a Figure-level function catplot() \n",
    "#        >>> Specify parameters: height = 6 and aspect = 1.3"
   ]
  },
  {
   "cell_type": "markdown",
   "metadata": {},
   "source": [
    "## Citation request:\n",
    "\n",
    "[Moro et al., 2014] S. Moro, P. Cortez and P. Rita. A Data-Driven Approach to Predict the Success of Bank Telemarketing. Decision Support Systems, Elsevier, 62:22-31, June 2014  "
   ]
  }
 ],
 "metadata": {
  "kernelspec": {
   "display_name": "Python 3 (ipykernel)",
   "language": "python",
   "name": "python3"
  },
  "language_info": {
   "codemirror_mode": {
    "name": "ipython",
    "version": 3
   },
   "file_extension": ".py",
   "mimetype": "text/x-python",
   "name": "python",
   "nbconvert_exporter": "python",
   "pygments_lexer": "ipython3",
   "version": "3.10.6"
  }
 },
 "nbformat": 4,
 "nbformat_minor": 4
}
