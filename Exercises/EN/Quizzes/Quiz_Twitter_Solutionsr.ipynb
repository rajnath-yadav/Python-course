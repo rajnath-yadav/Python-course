{
 "cells": [
  {
   "cell_type": "markdown",
   "id": "rocky-association",
   "metadata": {},
   "source": [
    "#Example: Twitter Data\n",
    "\n",
    "What are the 10 most popular hashtags in this tweet file?\n",
    "\n",
    "[Twitter API](https://dev.twitter.com/docs/platform-objects/tweets), [entities](https://dev.twitter.com/docs/platform-objects/entities)\n",
    "\n",
    "Hints:\n",
    "- Each line of the file is a json object\n",
    "- Use the `json` module to read each line and store as a dictionary.\n",
    "- You only need to keep the `hashtags` information.  If your json line variable is `data`, you can get the `hashtags` by doing the following.\n",
    "\n",
    "    data['entities']['hashtags']"
   ]
  },
  {
   "cell_type": "code",
   "execution_count": 1,
   "id": "complex-belle",
   "metadata": {
    "collapsed": false,
    "jupyter": {
     "outputs_hidden": false
    }
   },
   "outputs": [
    {
     "name": "stdout",
     "output_type": "stream",
     "text": [
      "data/twitter_stream.txt\n"
     ]
    }
   ],
   "source": [
    "import os, json\n",
    "data_path = os.path.join('data','twitter_stream.txt')\n",
    "print(data_path)"
   ]
  },
  {
   "cell_type": "code",
   "execution_count": 2,
   "id": "economic-fancy",
   "metadata": {
    "collapsed": false,
    "jupyter": {
     "outputs_hidden": false
    }
   },
   "outputs": [],
   "source": [
    "def sort_dictionary(d):\n",
    "    pairs = sorted(d.items(), key=lambda x: x[1], reverse=True)\n",
    "    return pairs"
   ]
  },
  {
   "cell_type": "markdown",
   "id": "positive-train",
   "metadata": {},
   "source": [
    "## Read the data into a list of dictionaries\n",
    "\n",
    "- Consider working on a small test file.\n",
    "- How many lines do you get?"
   ]
  },
  {
   "cell_type": "code",
   "execution_count": 3,
   "id": "invalid-stability",
   "metadata": {
    "collapsed": false,
    "jupyter": {
     "outputs_hidden": false
    }
   },
   "outputs": [],
   "source": [
    "def load_twitter(tweet_file):\n",
    "    text_data = []\n",
    "    for line in tweet_file:\n",
    "        try:\n",
    "            data = json.loads(line)\n",
    "            text_data.append(data['entities']['hashtags'])\n",
    "        except:\n",
    "            pass\n",
    "    return text_data"
   ]
  },
  {
   "cell_type": "code",
   "execution_count": 4,
   "id": "suspected-buddy",
   "metadata": {
    "collapsed": false,
    "jupyter": {
     "outputs_hidden": false
    }
   },
   "outputs": [],
   "source": [
    "with open(data_path,'r') as infile:\n",
    "    twitter = load_twitter(infile)"
   ]
  },
  {
   "cell_type": "code",
   "execution_count": 5,
   "id": "crucial-blocking",
   "metadata": {
    "collapsed": false,
    "jupyter": {
     "outputs_hidden": false
    }
   },
   "outputs": [
    {
     "name": "stdout",
     "output_type": "stream",
     "text": [
      "8824\n"
     ]
    }
   ],
   "source": [
    "print(len(twitter))"
   ]
  },
  {
   "cell_type": "markdown",
   "id": "naughty-elimination",
   "metadata": {},
   "source": [
    "### What are the most popular tags?\n"
   ]
  },
  {
   "cell_type": "code",
   "execution_count": 6,
   "id": "suffering-audio",
   "metadata": {
    "collapsed": false,
    "jupyter": {
     "outputs_hidden": false
    }
   },
   "outputs": [],
   "source": [
    "top_ten = {}\n",
    "for t in twitter:\n",
    "    for h in t:\n",
    "        top_ten[h['text']] = top_ten.get(h['text'],0) + 1"
   ]
  },
  {
   "cell_type": "code",
   "execution_count": 7,
   "id": "plain-withdrawal",
   "metadata": {
    "collapsed": false,
    "jupyter": {
     "outputs_hidden": false
    }
   },
   "outputs": [
    {
     "name": "stdout",
     "output_type": "stream",
     "text": [
      "('gameinsight', 29)\n",
      "('androidgames', 19)\n",
      "('directionersandbeliebersfollowparty', 19)\n",
      "('FF', 18)\n",
      "('android', 17)\n",
      "('YoYMisGanas', 15)\n",
      "('RT', 14)\n",
      "('GabySpanicNossaEternaUsurpadora', 9)\n",
      "('iPad', 9)\n",
      "('AlémDaUsurpadora', 9)\n"
     ]
    }
   ],
   "source": [
    "tmp = sort_dictionary(top_ten)\n",
    "for t in tmp[:10]:\n",
    "    print(t)"
   ]
  },
  {
   "cell_type": "code",
   "execution_count": null,
   "id": "acute-pathology",
   "metadata": {
    "collapsed": false,
    "jupyter": {
     "outputs_hidden": false
    }
   },
   "outputs": [],
   "source": []
  }
 ],
 "metadata": {
  "css": [
   ""
  ],
  "kernelspec": {
   "display_name": "Python 3 (ipykernel)",
   "language": "python",
   "name": "python3"
  },
  "language_info": {
   "codemirror_mode": {
    "name": "ipython",
    "version": 3
   },
   "file_extension": ".py",
   "mimetype": "text/x-python",
   "name": "python",
   "nbconvert_exporter": "python",
   "pygments_lexer": "ipython3",
   "version": "3.8.10"
  }
 },
 "nbformat": 4,
 "nbformat_minor": 5
}
