{
 "cells": [
  {
   "cell_type": "markdown",
   "id": "similar-auckland",
   "metadata": {},
   "source": [
    "# Exercise: Hamlet Frequency"
   ]
  },
  {
   "cell_type": "markdown",
   "id": "native-handling",
   "metadata": {},
   "source": [
    "### Here's some help getting started\n",
    "\n",
    "Store the name of the file in the `hamlet` variable."
   ]
  },
  {
   "cell_type": "code",
   "execution_count": 1,
   "id": "certain-arrow",
   "metadata": {
    "collapsed": false,
    "jupyter": {
     "outputs_hidden": false
    }
   },
   "outputs": [],
   "source": [
    "import os\n",
    "hamlet = os.path.join('data','hamlet.txt')"
   ]
  },
  {
   "cell_type": "markdown",
   "id": "contrary-radar",
   "metadata": {},
   "source": [
    "Use a little regular expression to separate the file (`open(hamlet).read()`) into a list of lowercase words."
   ]
  },
  {
   "cell_type": "code",
   "execution_count": 2,
   "id": "vocational-secretary",
   "metadata": {
    "collapsed": false,
    "jupyter": {
     "outputs_hidden": false
    }
   },
   "outputs": [],
   "source": [
    "import re\n",
    "words = re.findall(r'\\w+', open(hamlet).read().lower())"
   ]
  },
  {
   "cell_type": "code",
   "execution_count": 3,
   "id": "gothic-helping",
   "metadata": {
    "collapsed": false,
    "jupyter": {
     "outputs_hidden": false
    }
   },
   "outputs": [
    {
     "name": "stdout",
     "output_type": "stream",
     "text": [
      "['hamlet', 'dramatis', 'personae', 'claudius', 'king', 'of', 'denmark', 'king', 'claudius', 'hamlet']\n"
     ]
    }
   ],
   "source": [
    "print(words[:10])"
   ]
  },
  {
   "cell_type": "code",
   "execution_count": 4,
   "id": "prime-negotiation",
   "metadata": {
    "collapsed": false,
    "jupyter": {
     "outputs_hidden": false
    }
   },
   "outputs": [
    {
     "name": "stdout",
     "output_type": "stream",
     "text": [
      "27577\n"
     ]
    }
   ],
   "source": [
    "print(len(words))"
   ]
  },
  {
   "cell_type": "markdown",
   "id": "foster-responsibility",
   "metadata": {},
   "source": [
    "### How many unique words did Shakespeare use?"
   ]
  },
  {
   "cell_type": "code",
   "execution_count": null,
   "id": "63419600-50ec-462d-b7ad-193d293a27c7",
   "metadata": {},
   "outputs": [],
   "source": []
  },
  {
   "cell_type": "markdown",
   "id": "aggressive-communist",
   "metadata": {},
   "source": [
    "### What is the average word length?"
   ]
  },
  {
   "cell_type": "code",
   "execution_count": null,
   "id": "2978105a-536e-4642-bd64-26aa8cc34237",
   "metadata": {},
   "outputs": [],
   "source": []
  },
  {
   "cell_type": "markdown",
   "id": "transparent-homeless",
   "metadata": {},
   "source": [
    "### What are the 10 most common words used in Hamlet?"
   ]
  },
  {
   "cell_type": "code",
   "execution_count": null,
   "id": "5e8fe52a-64f5-44af-9942-84dfe54c76f7",
   "metadata": {},
   "outputs": [],
   "source": []
  },
  {
   "cell_type": "markdown",
   "id": "disturbed-profession",
   "metadata": {},
   "source": [
    "### "
   ]
  }
 ],
 "metadata": {
  "css": [
   ""
  ],
  "kernelspec": {
   "display_name": "Python 3 (ipykernel)",
   "language": "python",
   "name": "python3"
  },
  "language_info": {
   "codemirror_mode": {
    "name": "ipython",
    "version": 3
   },
   "file_extension": ".py",
   "mimetype": "text/x-python",
   "name": "python",
   "nbconvert_exporter": "python",
   "pygments_lexer": "ipython3",
   "version": "3.8.10"
  }
 },
 "nbformat": 4,
 "nbformat_minor": 5
}
