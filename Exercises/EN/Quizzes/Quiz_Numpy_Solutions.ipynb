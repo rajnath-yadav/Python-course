{
 "cells": [
  {
   "cell_type": "markdown",
   "metadata": {
    "id": "vHFI6GfMGMSm"
   },
   "source": [
    "# Introduction to Python   \n",
    "\n",
    "### Numpy (Solutions)"
   ]
  },
  {
   "cell_type": "code",
   "execution_count": 1,
   "metadata": {
    "id": "h8b0IZh-mJdc"
   },
   "outputs": [],
   "source": [
    "import numpy as np"
   ]
  },
  {
   "cell_type": "markdown",
   "metadata": {
    "id": "1M6ZR6T6GrFW"
   },
   "source": [
    "#### 1) Create a function that receives an integer $n$ as argument and returns a matrix $ n x n $ with \"ones\" on the edges and \"zeros\" inside.\n",
    "\n"
   ]
  },
  {
   "cell_type": "markdown",
   "metadata": {},
   "source": [
    "Solution #1"
   ]
  },
  {
   "cell_type": "code",
   "execution_count": 2,
   "metadata": {
    "id": "QT8Xgudnly3D"
   },
   "outputs": [],
   "source": [
    "#hint: Indexes\n",
    "\n",
    "def array_0_1(n):\n",
    "    c = np.ones((n,n))\n",
    "    c[1:-1, 1:-1] = 0\n",
    "    return c"
   ]
  },
  {
   "cell_type": "code",
   "execution_count": 3,
   "metadata": {
    "colab": {
     "base_uri": "https://localhost:8080/"
    },
    "id": "Lk60TLkh3qjn",
    "outputId": "cfe3deb6-f44e-4046-a3bc-5fe4535a3128"
   },
   "outputs": [
    {
     "data": {
      "text/plain": [
       "array([[1., 1., 1., 1., 1., 1.],\n",
       "       [1., 0., 0., 0., 0., 1.],\n",
       "       [1., 0., 0., 0., 0., 1.],\n",
       "       [1., 0., 0., 0., 0., 1.],\n",
       "       [1., 0., 0., 0., 0., 1.],\n",
       "       [1., 1., 1., 1., 1., 1.]])"
      ]
     },
     "execution_count": 3,
     "metadata": {},
     "output_type": "execute_result"
    }
   ],
   "source": [
    "array_0_1(6)"
   ]
  },
  {
   "cell_type": "markdown",
   "metadata": {},
   "source": [
    "Solution #2"
   ]
  },
  {
   "cell_type": "code",
   "execution_count": 4,
   "metadata": {},
   "outputs": [
    {
     "name": "stdout",
     "output_type": "stream",
     "text": [
      "[[0. 0. 0. 0. 0. 0.]\n",
      " [0. 1. 1. 1. 1. 0.]\n",
      " [0. 1. 1. 1. 1. 0.]\n",
      " [0. 1. 1. 1. 1. 0.]\n",
      " [0. 1. 1. 1. 1. 0.]\n",
      " [0. 0. 0. 0. 0. 0.]]\n"
     ]
    }
   ],
   "source": [
    "def create_matrix(n):\n",
    "    my_array = np.zeros(n*n).reshape(n,n)\n",
    "    for row in range(n):\n",
    "        for column in range(n):\n",
    "            if row not in [0,n-1] and column not in [0, n-1]:\n",
    "                my_array[row,column] = 1\n",
    "    print(my_array)\n",
    "    \n",
    "create_matrix(6)"
   ]
  },
  {
   "cell_type": "markdown",
   "metadata": {
    "id": "nkPlX2_YHVBJ"
   },
   "source": [
    "#### 2) Create a function that transpose a matrix without using the method np.transpose or np.array.T."
   ]
  },
  {
   "cell_type": "code",
   "execution_count": 5,
   "metadata": {
    "id": "1B5--to-lzEs"
   },
   "outputs": [],
   "source": [
    "# Hint: Create a vector of ones and work the vector's shape\n",
    "# np.ones, np.zeros - defining the shape\n",
    "\n",
    "def transposing(array):\n",
    "    rows, columns = array.shape\n",
    "    T = np.zeros((columns, rows))  \n",
    "    for i in range(columns):\n",
    "        for j in range(rows):\n",
    "            T[i][j] = array[j][i]\n",
    "    return T"
   ]
  },
  {
   "cell_type": "code",
   "execution_count": 6,
   "metadata": {
    "id": "3og6Qb_qdNAU"
   },
   "outputs": [],
   "source": [
    "a = np.array([[2,3],[26,8],[1,1]])"
   ]
  },
  {
   "cell_type": "code",
   "execution_count": 7,
   "metadata": {
    "colab": {
     "base_uri": "https://localhost:8080/"
    },
    "id": "-Pf7jfasdYhb",
    "outputId": "4965b40c-fd84-44ee-b127-2fbd0e7170f8"
   },
   "outputs": [
    {
     "data": {
      "text/plain": [
       "array([[ 2,  3],\n",
       "       [26,  8],\n",
       "       [ 1,  1]])"
      ]
     },
     "execution_count": 7,
     "metadata": {},
     "output_type": "execute_result"
    }
   ],
   "source": [
    "a"
   ]
  },
  {
   "cell_type": "code",
   "execution_count": 8,
   "metadata": {
    "colab": {
     "base_uri": "https://localhost:8080/"
    },
    "id": "AqnAGjjvdQvE",
    "outputId": "89598741-ca21-4a68-c738-8a47a11739a3"
   },
   "outputs": [
    {
     "data": {
      "text/plain": [
       "array([[ 2, 26,  1],\n",
       "       [ 3,  8,  1]])"
      ]
     },
     "execution_count": 8,
     "metadata": {},
     "output_type": "execute_result"
    }
   ],
   "source": [
    "a.T"
   ]
  },
  {
   "cell_type": "code",
   "execution_count": 9,
   "metadata": {},
   "outputs": [
    {
     "data": {
      "text/plain": [
       "array([[ 2., 26.,  1.],\n",
       "       [ 3.,  8.,  1.]])"
      ]
     },
     "execution_count": 9,
     "metadata": {},
     "output_type": "execute_result"
    }
   ],
   "source": [
    "transposing(a)"
   ]
  },
  {
   "cell_type": "markdown",
   "metadata": {
    "id": "BjQQns18IJTN"
   },
   "source": [
    "#### 3) Create two 1d arrays with length of 10 that contains random integers from 0 to 1000. How many iterations does it take until the sum of their values are the same?"
   ]
  },
  {
   "cell_type": "code",
   "execution_count": 10,
   "metadata": {
    "id": "K1b3PyZsrWPH"
   },
   "outputs": [
    {
     "name": "stdout",
     "output_type": "stream",
     "text": [
      "15761\n"
     ]
    }
   ],
   "source": [
    "# hint: np.random.randint\n",
    "\n",
    "count = 0\n",
    "while True:\n",
    "    count +=1\n",
    "    a1 = np.random.randint(1000, size = 10)\n",
    "    a2 = np.random.randint(1000, size = 10)\n",
    "    if a1.sum() == a2.sum():\n",
    "        print(count)\n",
    "        break"
   ]
  },
  {
   "cell_type": "markdown",
   "metadata": {
    "id": "Wpa8eL4K3jZf"
   },
   "source": [
    "Obviously, being random, each result will be different"
   ]
  }
 ],
 "metadata": {
  "colab": {
   "collapsed_sections": [],
   "name": "3rd Assignment.ipynb",
   "provenance": [],
   "toc_visible": true
  },
  "kernelspec": {
   "display_name": "Python 3 (ipykernel)",
   "language": "python",
   "name": "python3"
  },
  "language_info": {
   "codemirror_mode": {
    "name": "ipython",
    "version": 3
   },
   "file_extension": ".py",
   "mimetype": "text/x-python",
   "name": "python",
   "nbconvert_exporter": "python",
   "pygments_lexer": "ipython3",
   "version": "3.8.10"
  }
 },
 "nbformat": 4,
 "nbformat_minor": 4
}
