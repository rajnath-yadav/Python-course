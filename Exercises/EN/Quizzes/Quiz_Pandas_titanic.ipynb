{
 "cells": [
  {
   "cell_type": "markdown",
   "id": "practical-amendment",
   "metadata": {},
   "source": [
    "#Exercise: Titanic Data with `pandas`"
   ]
  },
  {
   "cell_type": "markdown",
   "id": "southeast-tamil",
   "metadata": {},
   "source": [
    "Again, this is the 892 line training set from [Kaggle](http://www.kaggle.com/c/titanic-gettingStarted/data).  Same file as before."
   ]
  },
  {
   "cell_type": "code",
   "execution_count": 4,
   "id": "cross-render",
   "metadata": {
    "collapsed": false,
    "jupyter": {
     "outputs_hidden": false
    }
   },
   "outputs": [
    {
     "name": "stdout",
     "output_type": "stream",
     "text": [
      "data/titanic.csv\n"
     ]
    }
   ],
   "source": [
    "import os\n",
    "import pandas as pd\n",
    "data_path = os.path.join('data','titanic.csv')\n",
    "print(data_path)"
   ]
  },
  {
   "cell_type": "markdown",
   "id": "reserved-summary",
   "metadata": {},
   "source": [
    "### Read the data\n",
    "\n",
    "- Read with `pandas.read_csv`\n",
    "- Verify that you get `892` lines"
   ]
  },
  {
   "cell_type": "code",
   "execution_count": null,
   "id": "pacific-economy",
   "metadata": {
    "collapsed": false,
    "jupyter": {
     "outputs_hidden": false
    }
   },
   "outputs": [],
   "source": []
  },
  {
   "cell_type": "markdown",
   "id": "coastal-individual",
   "metadata": {},
   "source": [
    "### What percent of the people survied?\n",
    "\n",
    "- Yes, they survived: `d.survived == 1`"
   ]
  },
  {
   "cell_type": "code",
   "execution_count": null,
   "id": "ruled-contrast",
   "metadata": {
    "collapsed": false,
    "jupyter": {
     "outputs_hidden": false
    }
   },
   "outputs": [],
   "source": []
  },
  {
   "cell_type": "markdown",
   "id": "olive-might",
   "metadata": {},
   "source": [
    "### Function\n",
    "\n",
    "Write a function that returns a dictionary of the number of `survived`, `not survived`, and `unknown`.  Here is the example function call:\n",
    "```python\n",
    "print titanic_function(data)\n",
    "\n",
    "{'survived': 342, 'not survived': 549}\n",
    "\n",
    "```\n"
   ]
  },
  {
   "cell_type": "code",
   "execution_count": 2,
   "id": "extra-implementation",
   "metadata": {
    "collapsed": false,
    "jupyter": {
     "outputs_hidden": false
    }
   },
   "outputs": [],
   "source": [
    "\n",
    "    "
   ]
  },
  {
   "cell_type": "markdown",
   "id": "waiting-principal",
   "metadata": {},
   "source": [
    "### What percent of males survived? Females?"
   ]
  },
  {
   "cell_type": "code",
   "execution_count": null,
   "id": "innocent-swaziland",
   "metadata": {
    "collapsed": false,
    "jupyter": {
     "outputs_hidden": false
    }
   },
   "outputs": [],
   "source": []
  }
 ],
 "metadata": {
  "css": [
   ""
  ],
  "kernelspec": {
   "display_name": "Python 3 (ipykernel)",
   "language": "python",
   "name": "python3"
  },
  "language_info": {
   "codemirror_mode": {
    "name": "ipython",
    "version": 3
   },
   "file_extension": ".py",
   "mimetype": "text/x-python",
   "name": "python",
   "nbconvert_exporter": "python",
   "pygments_lexer": "ipython3",
   "version": "3.8.10"
  }
 },
 "nbformat": 4,
 "nbformat_minor": 5
}
