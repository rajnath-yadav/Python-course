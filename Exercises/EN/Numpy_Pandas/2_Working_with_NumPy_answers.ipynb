{
 "cells": [
  {
   "cell_type": "markdown",
   "metadata": {},
   "source": [
    "## About This Notebook \n",
    "In this **Working with NumPy** notebook, we will learn:\n",
    "- How to use `numpy.genfromtxt()` to read in an ndarray.\n",
    "- What a boolean array is, and how to create one.\n",
    "- How to use boolean indexing to filter values in one and two-dimensional ndarrays.\n",
    "- How to assign one or more new values to an ndarray based on their locations.\n",
    "- How to assign one or more new values to an ndarray based on their values.\n",
    "***\n",
    "## 1. Reading CSV files with NumPy\n",
    "\n",
    "In this chapter, we will learn a technique called <b>Boolean Indexing</b>. Before we dig deeper into this topic, let's first learn how to read files into NumPy ndarrays. Below is the simplified syntax of the function, as well as an explanation for the two parameters:\n",
    "\n",
    "````python\n",
    "np.genfromtxt(filename, delimiter=None)\n",
    "````\n",
    "\n",
    "- ``filename``: A positional argument, usually a string representing the path to the text file to be read.\n",
    "- ``delimiter``: A named argument, specifying the string used to separate each value.\n",
    "\n",
    "In our case, the data is stored in a CSV file, therefore the delimiter is a comma \",\".\n",
    "So this is how we can read in a file named ``data.csv``:\n",
    "\n",
    "\n",
    "````python\n",
    "data = np.genfromtxt('<path_to_>/data.csv', delimiter = ',')\n",
    "````"
   ]
  },
  {
   "cell_type": "markdown",
   "metadata": {},
   "source": [
    "### Task 3.2.1:\n",
    "Now let's try to read our nyc_taxis.csv file into NumPy.\n",
    "\n",
    "1. Import the NumPy library and assign to the alias ``np``.\n",
    "2. Use the `np.genfromtxt()` function to read the nyc_taxis.csv file into NumPy. Assign the result to taxi. Do not forget to use also delimiter argument, such as shown above.\n",
    "3. Use the ``ndarray.shape`` attribute to assign the shape of taxi to ``taxi_shape``."
   ]
  },
  {
   "cell_type": "code",
   "execution_count": 1,
   "metadata": {},
   "outputs": [
    {
     "name": "stdout",
     "output_type": "stream",
     "text": [
      "(89561, 15)\n"
     ]
    }
   ],
   "source": [
    "# Start your code here:\n",
    "\n",
    "import numpy as np\n",
    "taxi = np.genfromtxt('../../../Data/csv/nyc_taxis.csv', delimiter = ',')\n",
    "taxi_shape = taxi.shape\n",
    "\n",
    "print(taxi_shape)"
   ]
  },
  {
   "cell_type": "markdown",
   "metadata": {},
   "source": [
    "## 2. Reading CSV files with NumPy Continued\n",
    "\n",
    "We have used the `numpy.genfromtxt()` function to read the ``nyc_taxis.csv`` file into NumPy in the previous notebook.\n",
    "\n",
    "Just to refresh your memory, in the previous mission we have done something like this:"
   ]
  },
  {
   "cell_type": "markdown",
   "metadata": {},
   "source": [
    "````python\n",
    "# import nyc_taxi.csv as a list of lists\n",
    "f = open(\"nyc_taxis.csv\", \"r\")\n",
    "taxi_list = list(csv.reader(f))\n",
    "\n",
    "# remove the header row\n",
    "taxi_list = taxi_list[1:]\n",
    "\n",
    "# convert all values to floats\n",
    "converted_taxi_list = []\n",
    "for row in taxi_list:\n",
    "    converted_row = []\n",
    "    for item in row:\n",
    "        converted_row.append(float(item))\n",
    "    converted_taxi_list.append(converted_row)\n",
    "\n",
    "taxi = np.array(converted_taxi_list)\n",
    "````"
   ]
  },
  {
   "cell_type": "markdown",
   "metadata": {},
   "source": [
    "Have you noticed that we converted all the values to floats before we converted the list of lists to an ndarray? \n",
    "> The reason for this is because that NumPy ndarrays can contain only **one datatype**.\n",
    "\n",
    "This part of the code was omitted in the previous exercise, because when `numpy.getfromtxt()` is called, the function automatically tries to determine the data type of the file by looking at the values.\n",
    "\n",
    "To see which datatype we have in the ndarray, simply use `ndarray.dtype` attribute like this:\n",
    "````python\n",
    "print(taxi.dtype)\n",
    "````\n",
    "### Task 3.2.2:\n",
    "1. Use the `numpy.genfromtxt()` function to again read the nyc_taxis.csv file into NumPy, but this time, skip the first row. Assign the result to `taxi`.\n",
    "2. Assign the shape of `taxi` to `taxi_shape`."
   ]
  },
  {
   "cell_type": "code",
   "execution_count": 2,
   "metadata": {},
   "outputs": [],
   "source": [
    "# Start your code here:\n",
    "\n",
    "import numpy as np\n",
    "taxi = np.genfromtxt('../../../Data/csv/nyc_taxis.csv', delimiter = ',', skip_header = True)\n",
    "taxi_shape = taxi.shape"
   ]
  },
  {
   "cell_type": "markdown",
   "metadata": {},
   "source": [
    "## 3. Boolean Arrays\n",
    "\n",
    "In this session, we're going to focus on the boolean array.\n",
    "\n",
    "Do you remember that the boolean (or bool) type is a built-in Python type that can be one of two unique values:\n",
    "\n",
    "- True\n",
    "- False\n",
    "\n",
    "Do you also remember that we've used boolean values when working with Python comparison operators like \n",
    "- ``==`` equal\n",
    "- ``>`` greater than\n",
    "- ``<`` less than\n",
    "- ``!=`` not equal\n",
    "\n",
    "See a couple examples of simple boolean operations below just to refresh your memory:"
   ]
  },
  {
   "cell_type": "code",
   "execution_count": 3,
   "metadata": {},
   "outputs": [
    {
     "name": "stdout",
     "output_type": "stream",
     "text": [
      "True\n"
     ]
    }
   ],
   "source": [
    "print(type(3.5) == float)"
   ]
  },
  {
   "cell_type": "code",
   "execution_count": 4,
   "metadata": {},
   "outputs": [
    {
     "name": "stdout",
     "output_type": "stream",
     "text": [
      "False\n"
     ]
    }
   ],
   "source": [
    "print(5 > 6)"
   ]
  },
  {
   "cell_type": "markdown",
   "metadata": {},
   "source": [
    "In the previous notebook where we explored vector operations we learned that the result of an operation between a ndarray and a single value is a new ndarray:"
   ]
  },
  {
   "cell_type": "code",
   "execution_count": 5,
   "metadata": {},
   "outputs": [
    {
     "name": "stdout",
     "output_type": "stream",
     "text": [
      "[12 14 16 18]\n"
     ]
    }
   ],
   "source": [
    "import numpy as np\n",
    "print(np.array([2,4,6,8]) + 10)\n",
    "\n",
    "#The + 10 operation is applied to each value in the array"
   ]
  },
  {
   "cell_type": "markdown",
   "metadata": {},
   "source": [
    "Guess what happens when we perform a **boolean operation** between an ndarray and a single value:"
   ]
  },
  {
   "cell_type": "code",
   "execution_count": 6,
   "metadata": {},
   "outputs": [
    {
     "name": "stdout",
     "output_type": "stream",
     "text": [
      "[ True  True False False]\n"
     ]
    }
   ],
   "source": [
    "import numpy as np\n",
    "print(np.array([2,4,6,8]) < 5)"
   ]
  },
  {
   "cell_type": "markdown",
   "metadata": {},
   "source": [
    "## 4. Boolean Indexing with 1D ndarrays\n",
    "\n",
    "In the last exercise, we learned how to create boolean arrays using vectorized boolean operations. Now, I want to show you a technique known as **boolean indexing**, (or index/select) using boolean arrays.\n",
    "See an example from the previous notebook:"
   ]
  },
  {
   "cell_type": "code",
   "execution_count": 7,
   "metadata": {},
   "outputs": [
    {
     "name": "stdout",
     "output_type": "stream",
     "text": [
      "[False  True False  True]\n"
     ]
    }
   ],
   "source": [
    "c = np.array([80.0, 103.4, 96.9, 200.3])\n",
    "c_bool = c > 100\n",
    "print(c_bool)"
   ]
  },
  {
   "cell_type": "markdown",
   "metadata": {},
   "source": [
    "How do we index using our new boolean array? All we need to do is to use the square brackets like this:"
   ]
  },
  {
   "cell_type": "code",
   "execution_count": 8,
   "metadata": {},
   "outputs": [
    {
     "name": "stdout",
     "output_type": "stream",
     "text": [
      "[103.4 200.3]\n"
     ]
    }
   ],
   "source": [
    "result = c[c_bool]\n",
    "print(result)"
   ]
  },
  {
   "cell_type": "markdown",
   "metadata": {},
   "source": [
    "The boolean array acts as a filter, the values that corresponding to **True** become part of the result and the values that corresponding to **False** are removed from the final list.\n",
    "\n",
    "How can we use boolean indexing knowledge in our data set?\n",
    "For example, to confirm the number of taxi rides from the month of january, we can do this:"
   ]
  },
  {
   "cell_type": "code",
   "execution_count": 9,
   "metadata": {
    "collapsed": true,
    "jupyter": {
     "outputs_hidden": true
    }
   },
   "outputs": [
    {
     "name": "stdout",
     "output_type": "stream",
     "text": [
      "13481\n"
     ]
    }
   ],
   "source": [
    "# First, select just the pickup_month column (second column in the ndarray with column index 1)\n",
    "pickup_month = taxi[:,1]\n",
    "\n",
    "# use a boolean operation to make a boolean array, where the value 1 corresponds to January\n",
    "january_bool = pickup_month == 1\n",
    "\n",
    "# use the new boolean array to select only the items from pickup_month that have a value of 1\n",
    "january = pickup_month[january_bool]\n",
    "\n",
    "# use the .shape attribute to find out how many items are in our january ndarray\n",
    "january_rides = january.shape[0]\n",
    "print(january_rides)"
   ]
  },
  {
   "cell_type": "markdown",
   "metadata": {},
   "source": [
    "### Task 3.2.4:\n",
    "\n",
    "1. Calculate the number of rides in the taxi ndarray that are from **February**:\n",
    "    - Create a boolean array, ``february_bool``, that evaluates whether the items in ``pickup_month`` are equal to ``2``.\n",
    "    - Use the ``february_bool`` boolean array to index ``pickup_month``. Assign the result to ``february``.\n",
    "    - Use the ``ndarray.shape`` attribute to find the number of items in `february`. Assign the result to ``february_rides``."
   ]
  },
  {
   "cell_type": "code",
   "execution_count": 10,
   "metadata": {},
   "outputs": [],
   "source": [
    "# Start your code below:\n",
    "\n",
    "pickup_month = taxi[:,1]\n",
    "february_bool = pickup_month == 2\n",
    "february = pickup_month[february_bool]\n",
    "february_rides = february.shape[0]"
   ]
  },
  {
   "cell_type": "markdown",
   "metadata": {},
   "source": [
    "## 5. Boolean Indexing with 2D ndaarays\n",
    "\n",
    "Now it is time to use boolean indexing with ``2D ndarrays``. \n",
    "> One thing to keep in mind is that the boolean array must have the same length as the dimension you're indexing. This is one of the constraints when we work with 2D ndarrays."
   ]
  },
  {
   "cell_type": "code",
   "execution_count": 11,
   "metadata": {},
   "outputs": [
    {
     "name": "stdout",
     "output_type": "stream",
     "text": [
      "[[ 1  2  3]\n",
      " [ 4  5  6]\n",
      " [ 7  8  9]\n",
      " [10 11 12]]\n"
     ]
    }
   ],
   "source": [
    "arr = np.array([\n",
    "                [1,2,3],\n",
    "                [4,5,6],\n",
    "                [7,8,9],\n",
    "                [10,11,12]\n",
    "])\n",
    "\n",
    "print(arr)"
   ]
  },
  {
   "cell_type": "code",
   "execution_count": 12,
   "metadata": {},
   "outputs": [
    {
     "name": "stdout",
     "output_type": "stream",
     "text": [
      "[[ 1  2  3]\n",
      " [ 7  8  9]\n",
      " [10 11 12]]\n"
     ]
    }
   ],
   "source": [
    "bool_1 = [True, False, \n",
    "        True, True]\n",
    "print(arr[bool_1])"
   ]
  },
  {
   "cell_type": "code",
   "execution_count": 13,
   "metadata": {},
   "outputs": [
    {
     "ename": "IndexError",
     "evalue": "boolean index did not match indexed array along dimension 1; dimension is 3 but corresponding boolean dimension is 4",
     "output_type": "error",
     "traceback": [
      "\u001b[1;31m---------------------------------------------------------------------------\u001b[0m",
      "\u001b[1;31mIndexError\u001b[0m                                Traceback (most recent call last)",
      "\u001b[1;32m<ipython-input-13-c9dbdc3bdfe8>\u001b[0m in \u001b[0;36m<module>\u001b[1;34m\u001b[0m\n\u001b[1;32m----> 1\u001b[1;33m \u001b[0mprint\u001b[0m\u001b[1;33m(\u001b[0m\u001b[0marr\u001b[0m\u001b[1;33m[\u001b[0m\u001b[1;33m:\u001b[0m\u001b[1;33m,\u001b[0m \u001b[0mbool_1\u001b[0m\u001b[1;33m]\u001b[0m\u001b[1;33m)\u001b[0m\u001b[1;33m\u001b[0m\u001b[1;33m\u001b[0m\u001b[0m\n\u001b[0m",
      "\u001b[1;31mIndexError\u001b[0m: boolean index did not match indexed array along dimension 1; dimension is 3 but corresponding boolean dimension is 4"
     ]
    }
   ],
   "source": [
    "print(arr[:, bool_1])"
   ]
  },
  {
   "cell_type": "markdown",
   "metadata": {},
   "source": [
    "You see that `bool_1`'s shape (4) is not the same as the shape of `arr`'s second axis(3), so it can't be used to index and produces an error."
   ]
  },
  {
   "cell_type": "code",
   "execution_count": 15,
   "metadata": {},
   "outputs": [
    {
     "name": "stdout",
     "output_type": "stream",
     "text": [
      "[[ 2  3]\n",
      " [ 5  6]\n",
      " [ 8  9]\n",
      " [11 12]]\n"
     ]
    }
   ],
   "source": [
    "bool_2 = [False, True, True]\n",
    "print(arr[:,bool_2])"
   ]
  },
  {
   "cell_type": "markdown",
   "metadata": {},
   "source": [
    "`bool_2`'s shape (3) is the same as the shape of `arr`'s second axis (3), so this selects the 2nd and 3rd columns."
   ]
  },
  {
   "cell_type": "markdown",
   "metadata": {},
   "source": [
    "Now let's apply what we have learned to our data set. This time we will analyze the average speed of trips. Recall that we calculated the ``average travel speed `` as follows:\n",
    "````python\n",
    "trip_mph = taxi[:,7] / (taxi[:,8] / 3600)\n",
    "````"
   ]
  },
  {
   "cell_type": "markdown",
   "metadata": {},
   "source": [
    "Next, how do we check for trips with an average speed greater than 20,000 mph?"
   ]
  },
  {
   "cell_type": "code",
   "execution_count": 16,
   "metadata": {},
   "outputs": [],
   "source": [
    "trip_mph = taxi[:,7] / (taxi[:,8] / 3600)"
   ]
  },
  {
   "cell_type": "code",
   "execution_count": 17,
   "metadata": {},
   "outputs": [
    {
     "name": "stdout",
     "output_type": "stream",
     "text": [
      "[[ 2.   2.  23.   1. ]\n",
      " [ 2.   2.  19.6  1. ]\n",
      " [ 2.   2.  16.7  2. ]\n",
      " [ 3.   3.  17.8  2. ]\n",
      " [ 2.   2.  17.2  2. ]\n",
      " [ 3.   3.  16.9  3. ]\n",
      " [ 2.   2.  27.1  4. ]]\n"
     ]
    }
   ],
   "source": [
    "# create a boolean array for trips with average\n",
    "# speeds greater than 20,000 mph\n",
    "trip_mph_bool = trip_mph > 20000\n",
    "\n",
    "# use the boolean array to select the rows for\n",
    "# those trips, and the pickup_location_code,\n",
    "# dropoff_location_code, trip_distance, and\n",
    "# trip_length columns\n",
    "trips_over_20000_mph = taxi[trip_mph_bool,5:9]\n",
    "\n",
    "print(trips_over_20000_mph)"
   ]
  },
  {
   "cell_type": "markdown",
   "metadata": {},
   "source": [
    "### Task 3.2.5 (HARD):\n",
    "1. Create a boolean array, ``tip_bool``, that determines which rows have values for the `tip_amount` column of more than 50.<br>\n",
    "Hint: You might have to examine the original nyc_taxis.csv file to find an index of desired column.\n",
    "2. Use the ``tip_bool`` array to select all rows from taxi with values tip amounts of more than 50, and the columns from indexes `5` to `13` inclusive. Assign the resulting array to ``top_tips``."
   ]
  },
  {
   "cell_type": "code",
   "execution_count": 18,
   "metadata": {},
   "outputs": [],
   "source": [
    "#Start your code below\n",
    "\n",
    "tip_amount = taxi[:,12]\n",
    "tip_bool = tip_amount > 50\n",
    "top_tips = taxi[tip_bool, 5: 14]"
   ]
  },
  {
   "cell_type": "markdown",
   "metadata": {},
   "source": [
    "## 6. Assigning Values in ndarrays (OPTIONAL)\n",
    "\n",
    "After having learned how to retrieve data from ndarrays, now we will use the same indexing techniques to modify values within an ndarray. The syntax looks like this: <br>\n",
    "\n",
    "````python\n",
    "ndarray[location_of_values] = new_value\n",
    "````"
   ]
  },
  {
   "cell_type": "markdown",
   "metadata": {},
   "source": [
    "With 1D array, all we need to do is to specify one specific index location like this:"
   ]
  },
  {
   "cell_type": "code",
   "execution_count": 19,
   "metadata": {},
   "outputs": [
    {
     "name": "stdout",
     "output_type": "stream",
     "text": [
      "['orange' 'blue' 'black' 'blue' 'purple']\n"
     ]
    }
   ],
   "source": [
    "a = np.array(['red','blue','black','blue','purple'])\n",
    "a[0] = 'orange'\n",
    "print(a)"
   ]
  },
  {
   "cell_type": "markdown",
   "metadata": {},
   "source": [
    "Or multiple values can be assigned at once:"
   ]
  },
  {
   "cell_type": "code",
   "execution_count": 20,
   "metadata": {},
   "outputs": [
    {
     "name": "stdout",
     "output_type": "stream",
     "text": [
      "['orange' 'blue' 'black' 'pink' 'pink']\n"
     ]
    }
   ],
   "source": [
    "a[3:] = 'pink'\n",
    "print(a)"
   ]
  },
  {
   "cell_type": "markdown",
   "metadata": {},
   "source": [
    "With a 2D ndarray, just like with a 1D ndarray, we can assign one specific index location:"
   ]
  },
  {
   "cell_type": "code",
   "execution_count": 21,
   "metadata": {},
   "outputs": [
    {
     "name": "stdout",
     "output_type": "stream",
     "text": [
      "[[ 1  1  1  1  1]\n",
      " [ 1  1 99  1  1]\n",
      " [ 1  1  1  1  1]]\n"
     ]
    }
   ],
   "source": [
    "ones = np.array([[1, 1, 1, 1, 1],\n",
    "                 [1, 1, 1, 1, 1],\n",
    "                 [1, 1, 1, 1, 1]])\n",
    "ones[1,2] = 99\n",
    "print(ones)"
   ]
  },
  {
   "cell_type": "markdown",
   "metadata": {},
   "source": [
    "Or we can assign a whole row:"
   ]
  },
  {
   "cell_type": "code",
   "execution_count": 22,
   "metadata": {},
   "outputs": [
    {
     "name": "stdout",
     "output_type": "stream",
     "text": [
      "[[42 42 42 42 42]\n",
      " [ 1  1 99  1  1]\n",
      " [ 1  1  1  1  1]]\n"
     ]
    }
   ],
   "source": [
    "ones[0] = 42\n",
    "print(ones)"
   ]
  },
  {
   "cell_type": "markdown",
   "metadata": {},
   "source": [
    "Or a whole column:"
   ]
  },
  {
   "cell_type": "code",
   "execution_count": 23,
   "metadata": {},
   "outputs": [
    {
     "name": "stdout",
     "output_type": "stream",
     "text": [
      "[[42 42  0 42 42]\n",
      " [ 1  1  0  1  1]\n",
      " [ 1  1  0  1  1]]\n"
     ]
    }
   ],
   "source": [
    "ones[:,2] = 0\n",
    "print(ones)"
   ]
  },
  {
   "cell_type": "markdown",
   "metadata": {},
   "source": [
    "## 7. Assignment Using Boolean Arrays (OPTIONAL)\n",
    "\n",
    "Boolean arrays become extremely powerful when used for assignment, like this:"
   ]
  },
  {
   "cell_type": "code",
   "execution_count": 24,
   "metadata": {},
   "outputs": [
    {
     "name": "stdout",
     "output_type": "stream",
     "text": [
      "[ 1  2 99 99 99]\n"
     ]
    }
   ],
   "source": [
    "a2 = np.array([1, 2, 3, 4, 5])\n",
    "\n",
    "a2_bool = a2 > 2\n",
    "\n",
    "a2[a2_bool] = 99\n",
    "\n",
    "print(a2)"
   ]
  },
  {
   "cell_type": "markdown",
   "metadata": {},
   "source": [
    "The boolean array has the ability to control the values that the assignment applies to, and the other values remain unchanged."
   ]
  },
  {
   "cell_type": "code",
   "execution_count": 25,
   "metadata": {},
   "outputs": [
    {
     "name": "stdout",
     "output_type": "stream",
     "text": [
      "[ 1  2 99 99 99]\n"
     ]
    }
   ],
   "source": [
    "a = np.array([1, 2, 3, 4, 5])\n",
    "\n",
    "a [ a > 2] = 99\n",
    "\n",
    "print(a)"
   ]
  },
  {
   "cell_type": "markdown",
   "metadata": {},
   "source": [
    "## 8. Assignment Using Boolean Arrays Continued (OPTIONAL)\n",
    "\n",
    "Now let's take a look at an example of assignment using a boolean array with two dimensions:"
   ]
  },
  {
   "cell_type": "code",
   "execution_count": 26,
   "metadata": {},
   "outputs": [
    {
     "name": "stdout",
     "output_type": "stream",
     "text": [
      "[[ 1  2  3]\n",
      " [ 4 99 99]\n",
      " [99 99 99]]\n"
     ]
    }
   ],
   "source": [
    "b = np.array([\n",
    "                [1,2,3],\n",
    "                [4,5,6],\n",
    "                [7,8,9]           \n",
    "])\n",
    "\n",
    "b[b > 4] = 99\n",
    "print(b)\n",
    "\n",
    "# The b > 4 boolean operation produces a 2D boolean array \n",
    "# which then controls the values that the assignment applies to."
   ]
  },
  {
   "cell_type": "markdown",
   "metadata": {},
   "source": [
    "We can also use a 1D boolean array to perform assignment on a 2D array:"
   ]
  },
  {
   "cell_type": "code",
   "execution_count": 27,
   "metadata": {},
   "outputs": [
    {
     "name": "stdout",
     "output_type": "stream",
     "text": [
      "[[ 1  2  3]\n",
      " [ 4 99  6]\n",
      " [ 7 99  9]]\n"
     ]
    }
   ],
   "source": [
    "c = np.array([\n",
    "                [1,2,3],\n",
    "                [4,5,6],\n",
    "                [7,8,9]           \n",
    "])\n",
    "\n",
    "c[c[:,1] > 2, 1] = 99\n",
    "\n",
    "print(c)"
   ]
  },
  {
   "cell_type": "markdown",
   "metadata": {},
   "source": [
    "The above code selected the second column (with column index 1), and used boolean index technique (which value is > 2). The boolean array is only applied to the second column, while all other values remaining unchanged.\n",
    "\n",
    "The pseudocode syntax for this code is the following, first we used an intermediate variable:"
   ]
  },
  {
   "cell_type": "markdown",
   "metadata": {},
   "source": [
    "````python\n",
    "bool = array[:, column_for_comparison] == value_for_comparison\n",
    "array[bool, column_for_assignment] = new_value\n",
    "````"
   ]
  },
  {
   "cell_type": "markdown",
   "metadata": {},
   "source": [
    "And now all in one line:"
   ]
  },
  {
   "cell_type": "markdown",
   "metadata": {},
   "source": [
    "````python\n",
    "array[array[:, column_for_comparison] == value_for_comparison, column_for_assignment] = new_value\n",
    "````"
   ]
  }
 ],
 "metadata": {
  "kernelspec": {
   "display_name": "Python 3 (ipykernel)",
   "language": "python",
   "name": "python3"
  },
  "language_info": {
   "codemirror_mode": {
    "name": "ipython",
    "version": 3
   },
   "file_extension": ".py",
   "mimetype": "text/x-python",
   "name": "python",
   "nbconvert_exporter": "python",
   "pygments_lexer": "ipython3",
   "version": "3.10.6"
  }
 },
 "nbformat": 4,
 "nbformat_minor": 4
}
