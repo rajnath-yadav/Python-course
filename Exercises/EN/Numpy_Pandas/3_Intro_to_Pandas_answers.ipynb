{
 "cells": [
  {
   "cell_type": "markdown",
   "metadata": {},
   "source": [
    "# About This Notebook\n",
    "In this **Introduction to pandas** chapter, we will learn:\n",
    "- How pandas and NumPy combine to make working with data easier.\n",
    "- About the two core pandas types: series and dataframes.\n",
    "- How to select data from pandas objects using axis labels.\n",
    "***\n",
    "## 1. Understanding Pandas and NumPy\n",
    "\n",
    "The pandas library provides solutions to a lot of problems. However, pandas is not so much a replacement for NumPy but serves more as an extension of NumPy. Pandas uses the the NumPy library extensively, and you will notice this more when you dig deeper into the concept.\n",
    "\n",
    "The primary data structure in pandas is called a **dataframe**. \n",
    "This is the pandas equivalent of a Numpy 2D ndarray but with some key differences:\n",
    "\n",
    "> Axis values can have string **labels**, not just numeric ones. This means that the columns can now have their own meaningful names.\n",
    "\n",
    "> Dataframes can contain columns with **multiple data types**: including ``integer``, ``float``, and ``string``. This enables us to store, for example, strings and integers in one dataframe.\n",
    "\n",
    "## 2. Introduction to the Data\n",
    "In this chapter, we will work with a data set from Fortune magazine's 2017 Global 500 list.\n",
    "\n",
    "The data set is stored in a CSV file called **f500.csv**. Here is a data dictionary for some of the columns in the CSV:\n",
    "\n",
    "- **company**: Name of the company.\n",
    "- **rank**: Global 500 rank for the company.\n",
    "- **revenues**: Company's total revenue for the fiscal year, in millions of dollars (USD).\n",
    "- **revenue_change**: Percentage change in revenue between the current and prior fiscal year.\n",
    "- **profits**: Net income for the fiscal year, in millions of dollars (USD).\n",
    "- **ceo**: Company's Chief Executive Officer.\n",
    "- **industry**: Industry in which the company operates.\n",
    "- **sector**: Sector in which the company operates.\n",
    "- **previous_rank**: Global 500 rank for the company for the prior year.\n",
    "- **country**: Country in which the company is headquartered.\n",
    "\n",
    "After getting to know our data set, how do we actually import pandas library in Python?\n",
    "To import pandas, we simply type in the following code:\n",
    "\n",
    "````python\n",
    "import pandas as pd\n",
    "````"
   ]
  },
  {
   "cell_type": "markdown",
   "metadata": {},
   "source": [
    "Pandas' dataframes have a `.shape` attribute which returns a tuple representing the dimensions of each axis of the object. Now we want to use this and Python's `type()` function to take a closer look at the `f500` dataframe.\n",
    "\n",
    "### Task 3.3.2:\n",
    "\n",
    "1. Use Python's `type()` function to assign the type of `f500` to `f500_type`.\n",
    "2. Use the `DataFrame.shape` attribute to assign the shape of `f500` to `f500_shape`.\n",
    "3. Print both the `f500_type` and `f500_shape`."
   ]
  },
  {
   "cell_type": "code",
   "execution_count": 1,
   "metadata": {},
   "outputs": [
    {
     "name": "stdout",
     "output_type": "stream",
     "text": [
      "<class 'pandas.core.frame.DataFrame'> (500, 16)\n"
     ]
    }
   ],
   "source": [
    "import pandas as pd\n",
    "f500 = pd.read_csv('../../../Data/csv/f500.csv',index_col=0)\n",
    "f500.index.name = None\n",
    "# Start your code below:\n",
    "\n",
    "f500_type = type(f500)\n",
    "f500_shape = f500.shape\n",
    "\n",
    "print(f500_type, f500_shape)"
   ]
  },
  {
   "cell_type": "markdown",
   "metadata": {},
   "source": [
    "## 3. Introducing DataFrames\n",
    "\n",
    "Remember how we spent so much time in the course \"Be Around of Data Science\" talking about rectangular data structures? Moreover, we discussed flat tables consisting of rows (observations) and columns (features)? Now this will come in really handy! \n",
    "\n",
    "I want to show you the `DataFrame.head` method. By default, it will return the first five rows of our dataframe. However, it also accepts an optional integer parameter, which specifies the number of rows:"
   ]
  },
  {
   "cell_type": "code",
   "execution_count": 2,
   "metadata": {},
   "outputs": [
    {
     "data": {
      "text/html": [
       "<div>\n",
       "<style scoped>\n",
       "    .dataframe tbody tr th:only-of-type {\n",
       "        vertical-align: middle;\n",
       "    }\n",
       "\n",
       "    .dataframe tbody tr th {\n",
       "        vertical-align: top;\n",
       "    }\n",
       "\n",
       "    .dataframe thead th {\n",
       "        text-align: right;\n",
       "    }\n",
       "</style>\n",
       "<table border=\"1\" class=\"dataframe\">\n",
       "  <thead>\n",
       "    <tr style=\"text-align: right;\">\n",
       "      <th></th>\n",
       "      <th>rank</th>\n",
       "      <th>revenues</th>\n",
       "      <th>revenue_change</th>\n",
       "      <th>profits</th>\n",
       "      <th>assets</th>\n",
       "      <th>profit_change</th>\n",
       "      <th>ceo</th>\n",
       "      <th>industry</th>\n",
       "      <th>sector</th>\n",
       "      <th>previous_rank</th>\n",
       "      <th>country</th>\n",
       "      <th>hq_location</th>\n",
       "      <th>website</th>\n",
       "      <th>years_on_global_500_list</th>\n",
       "      <th>employees</th>\n",
       "      <th>total_stockholder_equity</th>\n",
       "    </tr>\n",
       "  </thead>\n",
       "  <tbody>\n",
       "    <tr>\n",
       "      <th>Walmart</th>\n",
       "      <td>1</td>\n",
       "      <td>485873</td>\n",
       "      <td>0.8</td>\n",
       "      <td>13643.0</td>\n",
       "      <td>198825</td>\n",
       "      <td>-7.2</td>\n",
       "      <td>C. Douglas McMillon</td>\n",
       "      <td>General Merchandisers</td>\n",
       "      <td>Retailing</td>\n",
       "      <td>1</td>\n",
       "      <td>USA</td>\n",
       "      <td>Bentonville, AR</td>\n",
       "      <td>http://www.walmart.com</td>\n",
       "      <td>23</td>\n",
       "      <td>2300000</td>\n",
       "      <td>77798</td>\n",
       "    </tr>\n",
       "    <tr>\n",
       "      <th>State Grid</th>\n",
       "      <td>2</td>\n",
       "      <td>315199</td>\n",
       "      <td>-4.4</td>\n",
       "      <td>9571.3</td>\n",
       "      <td>489838</td>\n",
       "      <td>-6.2</td>\n",
       "      <td>Kou Wei</td>\n",
       "      <td>Utilities</td>\n",
       "      <td>Energy</td>\n",
       "      <td>2</td>\n",
       "      <td>China</td>\n",
       "      <td>Beijing, China</td>\n",
       "      <td>http://www.sgcc.com.cn</td>\n",
       "      <td>17</td>\n",
       "      <td>926067</td>\n",
       "      <td>209456</td>\n",
       "    </tr>\n",
       "    <tr>\n",
       "      <th>Sinopec Group</th>\n",
       "      <td>3</td>\n",
       "      <td>267518</td>\n",
       "      <td>-9.1</td>\n",
       "      <td>1257.9</td>\n",
       "      <td>310726</td>\n",
       "      <td>-65.0</td>\n",
       "      <td>Wang Yupu</td>\n",
       "      <td>Petroleum Refining</td>\n",
       "      <td>Energy</td>\n",
       "      <td>4</td>\n",
       "      <td>China</td>\n",
       "      <td>Beijing, China</td>\n",
       "      <td>http://www.sinopec.com</td>\n",
       "      <td>19</td>\n",
       "      <td>713288</td>\n",
       "      <td>106523</td>\n",
       "    </tr>\n",
       "  </tbody>\n",
       "</table>\n",
       "</div>"
      ],
      "text/plain": [
       "               rank  revenues  revenue_change  profits  assets  profit_change  \\\n",
       "Walmart           1    485873             0.8  13643.0  198825           -7.2   \n",
       "State Grid        2    315199            -4.4   9571.3  489838           -6.2   \n",
       "Sinopec Group     3    267518            -9.1   1257.9  310726          -65.0   \n",
       "\n",
       "                               ceo               industry     sector  \\\n",
       "Walmart        C. Douglas McMillon  General Merchandisers  Retailing   \n",
       "State Grid                 Kou Wei              Utilities     Energy   \n",
       "Sinopec Group            Wang Yupu     Petroleum Refining     Energy   \n",
       "\n",
       "               previous_rank country      hq_location                 website  \\\n",
       "Walmart                    1     USA  Bentonville, AR  http://www.walmart.com   \n",
       "State Grid                 2   China   Beijing, China  http://www.sgcc.com.cn   \n",
       "Sinopec Group              4   China   Beijing, China  http://www.sinopec.com   \n",
       "\n",
       "               years_on_global_500_list  employees  total_stockholder_equity  \n",
       "Walmart                              23    2300000                     77798  \n",
       "State Grid                           17     926067                    209456  \n",
       "Sinopec Group                        19     713288                    106523  "
      ]
     },
     "execution_count": 2,
     "metadata": {},
     "output_type": "execute_result"
    }
   ],
   "source": [
    "f500.head(3)"
   ]
  },
  {
   "cell_type": "markdown",
   "metadata": {},
   "source": [
    "There is also the `DataFrame.tail` method to show us the last rows of our dataframe:"
   ]
  },
  {
   "cell_type": "code",
   "execution_count": 3,
   "metadata": {},
   "outputs": [
    {
     "data": {
      "text/html": [
       "<div>\n",
       "<style scoped>\n",
       "    .dataframe tbody tr th:only-of-type {\n",
       "        vertical-align: middle;\n",
       "    }\n",
       "\n",
       "    .dataframe tbody tr th {\n",
       "        vertical-align: top;\n",
       "    }\n",
       "\n",
       "    .dataframe thead th {\n",
       "        text-align: right;\n",
       "    }\n",
       "</style>\n",
       "<table border=\"1\" class=\"dataframe\">\n",
       "  <thead>\n",
       "    <tr style=\"text-align: right;\">\n",
       "      <th></th>\n",
       "      <th>rank</th>\n",
       "      <th>revenues</th>\n",
       "      <th>revenue_change</th>\n",
       "      <th>profits</th>\n",
       "      <th>assets</th>\n",
       "      <th>profit_change</th>\n",
       "      <th>ceo</th>\n",
       "      <th>industry</th>\n",
       "      <th>sector</th>\n",
       "      <th>previous_rank</th>\n",
       "      <th>country</th>\n",
       "      <th>hq_location</th>\n",
       "      <th>website</th>\n",
       "      <th>years_on_global_500_list</th>\n",
       "      <th>employees</th>\n",
       "      <th>total_stockholder_equity</th>\n",
       "    </tr>\n",
       "  </thead>\n",
       "  <tbody>\n",
       "    <tr>\n",
       "      <th>Wm. Morrison Supermarkets</th>\n",
       "      <td>498</td>\n",
       "      <td>21741</td>\n",
       "      <td>-11.3</td>\n",
       "      <td>406.4</td>\n",
       "      <td>11630</td>\n",
       "      <td>20.4</td>\n",
       "      <td>David T. Potts</td>\n",
       "      <td>Food and Drug Stores</td>\n",
       "      <td>Food &amp; Drug Stores</td>\n",
       "      <td>437</td>\n",
       "      <td>Britain</td>\n",
       "      <td>Bradford, Britain</td>\n",
       "      <td>http://www.morrisons.com</td>\n",
       "      <td>13</td>\n",
       "      <td>77210</td>\n",
       "      <td>5111</td>\n",
       "    </tr>\n",
       "    <tr>\n",
       "      <th>TUI</th>\n",
       "      <td>499</td>\n",
       "      <td>21655</td>\n",
       "      <td>-5.5</td>\n",
       "      <td>1151.7</td>\n",
       "      <td>16247</td>\n",
       "      <td>195.5</td>\n",
       "      <td>Friedrich Joussen</td>\n",
       "      <td>Travel Services</td>\n",
       "      <td>Business Services</td>\n",
       "      <td>467</td>\n",
       "      <td>Germany</td>\n",
       "      <td>Hanover, Germany</td>\n",
       "      <td>http://www.tuigroup.com</td>\n",
       "      <td>23</td>\n",
       "      <td>66779</td>\n",
       "      <td>3006</td>\n",
       "    </tr>\n",
       "    <tr>\n",
       "      <th>AutoNation</th>\n",
       "      <td>500</td>\n",
       "      <td>21609</td>\n",
       "      <td>3.6</td>\n",
       "      <td>430.5</td>\n",
       "      <td>10060</td>\n",
       "      <td>-2.7</td>\n",
       "      <td>Michael J. Jackson</td>\n",
       "      <td>Specialty Retailers</td>\n",
       "      <td>Retailing</td>\n",
       "      <td>0</td>\n",
       "      <td>USA</td>\n",
       "      <td>Fort Lauderdale, FL</td>\n",
       "      <td>http://www.autonation.com</td>\n",
       "      <td>12</td>\n",
       "      <td>26000</td>\n",
       "      <td>2310</td>\n",
       "    </tr>\n",
       "  </tbody>\n",
       "</table>\n",
       "</div>"
      ],
      "text/plain": [
       "                           rank  revenues  revenue_change  profits  assets  \\\n",
       "Wm. Morrison Supermarkets   498     21741           -11.3    406.4   11630   \n",
       "TUI                         499     21655            -5.5   1151.7   16247   \n",
       "AutoNation                  500     21609             3.6    430.5   10060   \n",
       "\n",
       "                           profit_change                 ceo  \\\n",
       "Wm. Morrison Supermarkets           20.4      David T. Potts   \n",
       "TUI                                195.5   Friedrich Joussen   \n",
       "AutoNation                          -2.7  Michael J. Jackson   \n",
       "\n",
       "                                       industry              sector  \\\n",
       "Wm. Morrison Supermarkets  Food and Drug Stores  Food & Drug Stores   \n",
       "TUI                             Travel Services   Business Services   \n",
       "AutoNation                  Specialty Retailers           Retailing   \n",
       "\n",
       "                           previous_rank  country          hq_location  \\\n",
       "Wm. Morrison Supermarkets            437  Britain    Bradford, Britain   \n",
       "TUI                                  467  Germany     Hanover, Germany   \n",
       "AutoNation                             0      USA  Fort Lauderdale, FL   \n",
       "\n",
       "                                             website  \\\n",
       "Wm. Morrison Supermarkets   http://www.morrisons.com   \n",
       "TUI                          http://www.tuigroup.com   \n",
       "AutoNation                 http://www.autonation.com   \n",
       "\n",
       "                           years_on_global_500_list  employees  \\\n",
       "Wm. Morrison Supermarkets                        13      77210   \n",
       "TUI                                              23      66779   \n",
       "AutoNation                                       12      26000   \n",
       "\n",
       "                           total_stockholder_equity  \n",
       "Wm. Morrison Supermarkets                      5111  \n",
       "TUI                                            3006  \n",
       "AutoNation                                     2310  "
      ]
     },
     "execution_count": 3,
     "metadata": {},
     "output_type": "execute_result"
    }
   ],
   "source": [
    "f500.tail(3)"
   ]
  },
  {
   "cell_type": "markdown",
   "metadata": {},
   "source": [
    "### Task 3.3.3:\n",
    "\n",
    "1. Use the `head()` method to select the **first 6 rows**. Assign the result to `f500_head`.\n",
    "2. Use the `tail()` method to select the **last 8 rows**. Assign the result to `f500_tail`."
   ]
  },
  {
   "cell_type": "code",
   "execution_count": 4,
   "metadata": {},
   "outputs": [],
   "source": [
    "# Start your code here:\n",
    "\n",
    "f500_head = f500.head(6)\n",
    "f500_tail = f500.tail(8)"
   ]
  },
  {
   "cell_type": "markdown",
   "metadata": {},
   "source": [
    "## 4. Introducting DataFrames Continued\n",
    "\n",
    "Now let's talk about the `DataFrame.dtypes` attribute. The `DataFrame.dtypes` attribute returns information about the types of each column."
   ]
  },
  {
   "cell_type": "code",
   "execution_count": 5,
   "metadata": {},
   "outputs": [
    {
     "name": "stdout",
     "output_type": "stream",
     "text": [
      "rank                          int64\n",
      "revenues                      int64\n",
      "revenue_change              float64\n",
      "profits                     float64\n",
      "assets                        int64\n",
      "profit_change               float64\n",
      "ceo                          object\n",
      "industry                     object\n",
      "sector                       object\n",
      "previous_rank                 int64\n",
      "country                      object\n",
      "hq_location                  object\n",
      "website                      object\n",
      "years_on_global_500_list      int64\n",
      "employees                     int64\n",
      "total_stockholder_equity      int64\n",
      "dtype: object\n"
     ]
    }
   ],
   "source": [
    "print(f500.dtypes)"
   ]
  },
  {
   "cell_type": "markdown",
   "metadata": {},
   "source": [
    "To see a comprehensive overview of all the dtypes used in our dataframe, as well its shape and other information, we should use the `DataFrame.info()` [method](https://pandas.pydata.org/pandas-docs/stable/reference/api/pandas.DataFrame.info.html). Remember that `DataFrame.info()` only prints the information, instead of returning it, so we can't assign it to a variable."
   ]
  },
  {
   "cell_type": "markdown",
   "metadata": {},
   "source": [
    "### Task 3.3.4:\n",
    "\n",
    "1. Use the `DataFrame.info()` method to display information about the `f500` dataframe."
   ]
  },
  {
   "cell_type": "code",
   "execution_count": 6,
   "metadata": {},
   "outputs": [
    {
     "name": "stdout",
     "output_type": "stream",
     "text": [
      "<class 'pandas.core.frame.DataFrame'>\n",
      "Index: 500 entries, Walmart to AutoNation\n",
      "Data columns (total 16 columns):\n",
      " #   Column                    Non-Null Count  Dtype  \n",
      "---  ------                    --------------  -----  \n",
      " 0   rank                      500 non-null    int64  \n",
      " 1   revenues                  500 non-null    int64  \n",
      " 2   revenue_change            498 non-null    float64\n",
      " 3   profits                   499 non-null    float64\n",
      " 4   assets                    500 non-null    int64  \n",
      " 5   profit_change             436 non-null    float64\n",
      " 6   ceo                       500 non-null    object \n",
      " 7   industry                  500 non-null    object \n",
      " 8   sector                    500 non-null    object \n",
      " 9   previous_rank             500 non-null    int64  \n",
      " 10  country                   500 non-null    object \n",
      " 11  hq_location               500 non-null    object \n",
      " 12  website                   500 non-null    object \n",
      " 13  years_on_global_500_list  500 non-null    int64  \n",
      " 14  employees                 500 non-null    int64  \n",
      " 15  total_stockholder_equity  500 non-null    int64  \n",
      "dtypes: float64(3), int64(7), object(6)\n",
      "memory usage: 66.4+ KB\n"
     ]
    }
   ],
   "source": [
    "# Start your code below:\n",
    "\n",
    "f500.info()"
   ]
  },
  {
   "cell_type": "markdown",
   "metadata": {},
   "source": [
    "## 5. Selecting a Column From a DataFrame by Label (IMPORTANT)\n",
    "\n",
    "Do you know that our axes in pandas all have labels and we can select data using just those labels? The **DataFrame.loc[]** attribute is exactly the syntax designed for this purpose:\n",
    "\n",
    "````python\n",
    "df.loc[row_label, column_label]\n",
    "````\n"
   ]
  },
  {
   "cell_type": "markdown",
   "metadata": {},
   "source": [
    "Pay close attention that we use brackets ``[]`` instead of parentheses ``()`` when selecting by location.\n",
    "\n",
    "Now let's look at an example:"
   ]
  },
  {
   "cell_type": "code",
   "execution_count": 7,
   "metadata": {},
   "outputs": [
    {
     "data": {
      "text/plain": [
       "Walmart                             1\n",
       "State Grid                          2\n",
       "Sinopec Group                       3\n",
       "China National Petroleum            4\n",
       "Toyota Motor                        5\n",
       "                                 ... \n",
       "Teva Pharmaceutical Industries    496\n",
       "New China Life Insurance          497\n",
       "Wm. Morrison Supermarkets         498\n",
       "TUI                               499\n",
       "AutoNation                        500\n",
       "Name: rank, Length: 500, dtype: int64"
      ]
     },
     "execution_count": 7,
     "metadata": {},
     "output_type": "execute_result"
    }
   ],
   "source": [
    "f500.loc[:,\"rank\"]"
   ]
  },
  {
   "cell_type": "markdown",
   "metadata": {},
   "source": [
    "Notice we used `:` to specify that all rows should be selected. And also pay attention that the new dataframe has the same row labels as the original.\n",
    "\n",
    "The following shortcut can also be used to select a single column:"
   ]
  },
  {
   "cell_type": "code",
   "execution_count": 8,
   "metadata": {},
   "outputs": [
    {
     "name": "stdout",
     "output_type": "stream",
     "text": [
      "Walmart                             1\n",
      "State Grid                          2\n",
      "Sinopec Group                       3\n",
      "China National Petroleum            4\n",
      "Toyota Motor                        5\n",
      "                                 ... \n",
      "Teva Pharmaceutical Industries    496\n",
      "New China Life Insurance          497\n",
      "Wm. Morrison Supermarkets         498\n",
      "TUI                               499\n",
      "AutoNation                        500\n",
      "Name: rank, Length: 500, dtype: int64\n"
     ]
    }
   ],
   "source": [
    "rank_col = f500[\"rank\"]\n",
    "print(rank_col)"
   ]
  },
  {
   "cell_type": "markdown",
   "metadata": {},
   "source": [
    "### Task 3.3.5:\n",
    "\n",
    "1. Select the `industry` column. Assign the result to the variable name `industries`.\n",
    "2. Use Python's `type()` function to assign the type of `industries` to `industries_type`."
   ]
  },
  {
   "cell_type": "code",
   "execution_count": 9,
   "metadata": {},
   "outputs": [
    {
     "name": "stdout",
     "output_type": "stream",
     "text": [
      "<class 'pandas.core.series.Series'>\n"
     ]
    }
   ],
   "source": [
    "# Start your code below:\n",
    "\n",
    "industries = f500[\"industry\"]\n",
    "industries_type = type(industries)\n",
    "print(industries_type)"
   ]
  },
  {
   "cell_type": "markdown",
   "metadata": {},
   "source": [
    "## 6. Selecting Columns From a DataFrame by Label Continued\n",
    "Below, we use a list of labels to select specific columns:\n"
   ]
  },
  {
   "cell_type": "code",
   "execution_count": 10,
   "metadata": {},
   "outputs": [
    {
     "data": {
      "text/html": [
       "<div>\n",
       "<style scoped>\n",
       "    .dataframe tbody tr th:only-of-type {\n",
       "        vertical-align: middle;\n",
       "    }\n",
       "\n",
       "    .dataframe tbody tr th {\n",
       "        vertical-align: top;\n",
       "    }\n",
       "\n",
       "    .dataframe thead th {\n",
       "        text-align: right;\n",
       "    }\n",
       "</style>\n",
       "<table border=\"1\" class=\"dataframe\">\n",
       "  <thead>\n",
       "    <tr style=\"text-align: right;\">\n",
       "      <th></th>\n",
       "      <th>country</th>\n",
       "      <th>rank</th>\n",
       "    </tr>\n",
       "  </thead>\n",
       "  <tbody>\n",
       "    <tr>\n",
       "      <th>Walmart</th>\n",
       "      <td>USA</td>\n",
       "      <td>1</td>\n",
       "    </tr>\n",
       "    <tr>\n",
       "      <th>State Grid</th>\n",
       "      <td>China</td>\n",
       "      <td>2</td>\n",
       "    </tr>\n",
       "    <tr>\n",
       "      <th>Sinopec Group</th>\n",
       "      <td>China</td>\n",
       "      <td>3</td>\n",
       "    </tr>\n",
       "    <tr>\n",
       "      <th>China National Petroleum</th>\n",
       "      <td>China</td>\n",
       "      <td>4</td>\n",
       "    </tr>\n",
       "    <tr>\n",
       "      <th>Toyota Motor</th>\n",
       "      <td>Japan</td>\n",
       "      <td>5</td>\n",
       "    </tr>\n",
       "    <tr>\n",
       "      <th>...</th>\n",
       "      <td>...</td>\n",
       "      <td>...</td>\n",
       "    </tr>\n",
       "    <tr>\n",
       "      <th>Teva Pharmaceutical Industries</th>\n",
       "      <td>Israel</td>\n",
       "      <td>496</td>\n",
       "    </tr>\n",
       "    <tr>\n",
       "      <th>New China Life Insurance</th>\n",
       "      <td>China</td>\n",
       "      <td>497</td>\n",
       "    </tr>\n",
       "    <tr>\n",
       "      <th>Wm. Morrison Supermarkets</th>\n",
       "      <td>Britain</td>\n",
       "      <td>498</td>\n",
       "    </tr>\n",
       "    <tr>\n",
       "      <th>TUI</th>\n",
       "      <td>Germany</td>\n",
       "      <td>499</td>\n",
       "    </tr>\n",
       "    <tr>\n",
       "      <th>AutoNation</th>\n",
       "      <td>USA</td>\n",
       "      <td>500</td>\n",
       "    </tr>\n",
       "  </tbody>\n",
       "</table>\n",
       "<p>500 rows × 2 columns</p>\n",
       "</div>"
      ],
      "text/plain": [
       "                                country  rank\n",
       "Walmart                             USA     1\n",
       "State Grid                        China     2\n",
       "Sinopec Group                     China     3\n",
       "China National Petroleum          China     4\n",
       "Toyota Motor                      Japan     5\n",
       "...                                 ...   ...\n",
       "Teva Pharmaceutical Industries   Israel   496\n",
       "New China Life Insurance          China   497\n",
       "Wm. Morrison Supermarkets       Britain   498\n",
       "TUI                             Germany   499\n",
       "AutoNation                          USA   500\n",
       "\n",
       "[500 rows x 2 columns]"
      ]
     },
     "execution_count": 10,
     "metadata": {},
     "output_type": "execute_result"
    }
   ],
   "source": [
    "f500.loc[:,[\"country\", \"rank\"]]"
   ]
  },
  {
   "cell_type": "code",
   "execution_count": 11,
   "metadata": {},
   "outputs": [
    {
     "data": {
      "text/html": [
       "<div>\n",
       "<style scoped>\n",
       "    .dataframe tbody tr th:only-of-type {\n",
       "        vertical-align: middle;\n",
       "    }\n",
       "\n",
       "    .dataframe tbody tr th {\n",
       "        vertical-align: top;\n",
       "    }\n",
       "\n",
       "    .dataframe thead th {\n",
       "        text-align: right;\n",
       "    }\n",
       "</style>\n",
       "<table border=\"1\" class=\"dataframe\">\n",
       "  <thead>\n",
       "    <tr style=\"text-align: right;\">\n",
       "      <th></th>\n",
       "      <th>country</th>\n",
       "      <th>rank</th>\n",
       "    </tr>\n",
       "  </thead>\n",
       "  <tbody>\n",
       "    <tr>\n",
       "      <th>Walmart</th>\n",
       "      <td>USA</td>\n",
       "      <td>1</td>\n",
       "    </tr>\n",
       "    <tr>\n",
       "      <th>State Grid</th>\n",
       "      <td>China</td>\n",
       "      <td>2</td>\n",
       "    </tr>\n",
       "    <tr>\n",
       "      <th>Sinopec Group</th>\n",
       "      <td>China</td>\n",
       "      <td>3</td>\n",
       "    </tr>\n",
       "    <tr>\n",
       "      <th>China National Petroleum</th>\n",
       "      <td>China</td>\n",
       "      <td>4</td>\n",
       "    </tr>\n",
       "    <tr>\n",
       "      <th>Toyota Motor</th>\n",
       "      <td>Japan</td>\n",
       "      <td>5</td>\n",
       "    </tr>\n",
       "    <tr>\n",
       "      <th>...</th>\n",
       "      <td>...</td>\n",
       "      <td>...</td>\n",
       "    </tr>\n",
       "    <tr>\n",
       "      <th>Teva Pharmaceutical Industries</th>\n",
       "      <td>Israel</td>\n",
       "      <td>496</td>\n",
       "    </tr>\n",
       "    <tr>\n",
       "      <th>New China Life Insurance</th>\n",
       "      <td>China</td>\n",
       "      <td>497</td>\n",
       "    </tr>\n",
       "    <tr>\n",
       "      <th>Wm. Morrison Supermarkets</th>\n",
       "      <td>Britain</td>\n",
       "      <td>498</td>\n",
       "    </tr>\n",
       "    <tr>\n",
       "      <th>TUI</th>\n",
       "      <td>Germany</td>\n",
       "      <td>499</td>\n",
       "    </tr>\n",
       "    <tr>\n",
       "      <th>AutoNation</th>\n",
       "      <td>USA</td>\n",
       "      <td>500</td>\n",
       "    </tr>\n",
       "  </tbody>\n",
       "</table>\n",
       "<p>500 rows × 2 columns</p>\n",
       "</div>"
      ],
      "text/plain": [
       "                                country  rank\n",
       "Walmart                             USA     1\n",
       "State Grid                        China     2\n",
       "Sinopec Group                     China     3\n",
       "China National Petroleum          China     4\n",
       "Toyota Motor                      Japan     5\n",
       "...                                 ...   ...\n",
       "Teva Pharmaceutical Industries   Israel   496\n",
       "New China Life Insurance          China   497\n",
       "Wm. Morrison Supermarkets       Britain   498\n",
       "TUI                             Germany   499\n",
       "AutoNation                          USA   500\n",
       "\n",
       "[500 rows x 2 columns]"
      ]
     },
     "execution_count": 11,
     "metadata": {},
     "output_type": "execute_result"
    }
   ],
   "source": [
    "f500[[\"country\",\"rank\"]]"
   ]
  },
  {
   "cell_type": "markdown",
   "metadata": {},
   "source": [
    "The code `f500.loc[:,[\"country\", \"rank\"]]` and `f500[[\"country\",\"rank\"]]` eventually return us the same result. "
   ]
  },
  {
   "cell_type": "markdown",
   "metadata": {},
   "source": [
    "You see that the object returned is two-dimensional, we know it's a dataframe, not a series. So instead of `df.loc[:,[\"col1\",\"col2\"]]`, we can also use `df[[\"col1\", \"col2\"]]` to select specific columns.\n",
    "\n",
    "Last but not least, let's finish by using **a slice object with labels** to select specific columns:"
   ]
  },
  {
   "cell_type": "code",
   "execution_count": 12,
   "metadata": {},
   "outputs": [
    {
     "data": {
      "text/html": [
       "<div>\n",
       "<style scoped>\n",
       "    .dataframe tbody tr th:only-of-type {\n",
       "        vertical-align: middle;\n",
       "    }\n",
       "\n",
       "    .dataframe tbody tr th {\n",
       "        vertical-align: top;\n",
       "    }\n",
       "\n",
       "    .dataframe thead th {\n",
       "        text-align: right;\n",
       "    }\n",
       "</style>\n",
       "<table border=\"1\" class=\"dataframe\">\n",
       "  <thead>\n",
       "    <tr style=\"text-align: right;\">\n",
       "      <th></th>\n",
       "      <th>rank</th>\n",
       "      <th>revenues</th>\n",
       "      <th>revenue_change</th>\n",
       "      <th>profits</th>\n",
       "    </tr>\n",
       "  </thead>\n",
       "  <tbody>\n",
       "    <tr>\n",
       "      <th>Walmart</th>\n",
       "      <td>1</td>\n",
       "      <td>485873</td>\n",
       "      <td>0.8</td>\n",
       "      <td>13643.0</td>\n",
       "    </tr>\n",
       "    <tr>\n",
       "      <th>State Grid</th>\n",
       "      <td>2</td>\n",
       "      <td>315199</td>\n",
       "      <td>-4.4</td>\n",
       "      <td>9571.3</td>\n",
       "    </tr>\n",
       "    <tr>\n",
       "      <th>Sinopec Group</th>\n",
       "      <td>3</td>\n",
       "      <td>267518</td>\n",
       "      <td>-9.1</td>\n",
       "      <td>1257.9</td>\n",
       "    </tr>\n",
       "    <tr>\n",
       "      <th>China National Petroleum</th>\n",
       "      <td>4</td>\n",
       "      <td>262573</td>\n",
       "      <td>-12.3</td>\n",
       "      <td>1867.5</td>\n",
       "    </tr>\n",
       "    <tr>\n",
       "      <th>Toyota Motor</th>\n",
       "      <td>5</td>\n",
       "      <td>254694</td>\n",
       "      <td>7.7</td>\n",
       "      <td>16899.3</td>\n",
       "    </tr>\n",
       "    <tr>\n",
       "      <th>...</th>\n",
       "      <td>...</td>\n",
       "      <td>...</td>\n",
       "      <td>...</td>\n",
       "      <td>...</td>\n",
       "    </tr>\n",
       "    <tr>\n",
       "      <th>Teva Pharmaceutical Industries</th>\n",
       "      <td>496</td>\n",
       "      <td>21903</td>\n",
       "      <td>11.5</td>\n",
       "      <td>329.0</td>\n",
       "    </tr>\n",
       "    <tr>\n",
       "      <th>New China Life Insurance</th>\n",
       "      <td>497</td>\n",
       "      <td>21796</td>\n",
       "      <td>-13.3</td>\n",
       "      <td>743.9</td>\n",
       "    </tr>\n",
       "    <tr>\n",
       "      <th>Wm. Morrison Supermarkets</th>\n",
       "      <td>498</td>\n",
       "      <td>21741</td>\n",
       "      <td>-11.3</td>\n",
       "      <td>406.4</td>\n",
       "    </tr>\n",
       "    <tr>\n",
       "      <th>TUI</th>\n",
       "      <td>499</td>\n",
       "      <td>21655</td>\n",
       "      <td>-5.5</td>\n",
       "      <td>1151.7</td>\n",
       "    </tr>\n",
       "    <tr>\n",
       "      <th>AutoNation</th>\n",
       "      <td>500</td>\n",
       "      <td>21609</td>\n",
       "      <td>3.6</td>\n",
       "      <td>430.5</td>\n",
       "    </tr>\n",
       "  </tbody>\n",
       "</table>\n",
       "<p>500 rows × 4 columns</p>\n",
       "</div>"
      ],
      "text/plain": [
       "                                rank  revenues  revenue_change  profits\n",
       "Walmart                            1    485873             0.8  13643.0\n",
       "State Grid                         2    315199            -4.4   9571.3\n",
       "Sinopec Group                      3    267518            -9.1   1257.9\n",
       "China National Petroleum           4    262573           -12.3   1867.5\n",
       "Toyota Motor                       5    254694             7.7  16899.3\n",
       "...                              ...       ...             ...      ...\n",
       "Teva Pharmaceutical Industries   496     21903            11.5    329.0\n",
       "New China Life Insurance         497     21796           -13.3    743.9\n",
       "Wm. Morrison Supermarkets        498     21741           -11.3    406.4\n",
       "TUI                              499     21655            -5.5   1151.7\n",
       "AutoNation                       500     21609             3.6    430.5\n",
       "\n",
       "[500 rows x 4 columns]"
      ]
     },
     "execution_count": 12,
     "metadata": {},
     "output_type": "execute_result"
    }
   ],
   "source": [
    "f500.loc[:,\"rank\":\"profits\"]"
   ]
  },
  {
   "cell_type": "markdown",
   "metadata": {},
   "source": [
    "The result is again a dataframe object with all of the columns from the first up until the last column in our slice. Unfortunately, there is no shortcut for selecting column slices.\n",
    "\n",
    "See the table below for a short summary of techniques that we have just encountered:\n",
    "\n",
    "|Select by Label|Explicit Syntax|Common Shorthand|\n",
    "|--|--|--|\n",
    "|Single column|df.loc[:,\"col1\"]|df[\"col1\"]|\n",
    "|List of columns|df.loc[:,[\"col1\", \"col7\"]]|df[[\"col1\", \"col7\"]]|\n",
    "|Slice of columns|df.loc[:,\"col1\":\"col4\"]|\n"
   ]
  },
  {
   "cell_type": "markdown",
   "metadata": {},
   "source": [
    "### Task 3.3.6:\n",
    "\n",
    "1. Select the `country` column. Assign the result to the variable name `countries`.\n",
    "2. In order, select the `revenues` and `years_on_global_500_list` columns. Assign the result to the variable name `revenues_years`.\n",
    "3. In order, select all columns from `ceo` up to and including `sector`. Assign the result to the variable name `ceo_to_sector`."
   ]
  },
  {
   "cell_type": "code",
   "execution_count": 13,
   "metadata": {},
   "outputs": [],
   "source": [
    "# Start your code below:\n",
    "\n",
    "countries = f500[\"country\"]\n",
    "revenues_years = f500[[\"revenues\",\"years_on_global_500_list\"]]\n",
    "ceo_to_sector = f500.loc[:,\"ceo\":\"sector\"]"
   ]
  },
  {
   "cell_type": "markdown",
   "metadata": {},
   "source": [
    "## 7. Selecting Rows From a DataFrame by Label\n",
    "\n",
    "Now, let's learn how to use the labels of the index axis to select rows.\n",
    "\n",
    "We can use the same syntax to select rows from a dataframe as we already have done for columns:\n",
    "\n",
    "````python\n",
    "df.loc[row_label, column_label]\n",
    "````\n",
    "\n",
    "#### To select a single row:"
   ]
  },
  {
   "cell_type": "code",
   "execution_count": 14,
   "metadata": {},
   "outputs": [
    {
     "name": "stdout",
     "output_type": "stream",
     "text": [
      "<class 'pandas.core.series.Series'>\n",
      "rank                                             3\n",
      "revenues                                    267518\n",
      "revenue_change                                -9.1\n",
      "profits                                     1257.9\n",
      "assets                                      310726\n",
      "profit_change                                -65.0\n",
      "ceo                                      Wang Yupu\n",
      "industry                        Petroleum Refining\n",
      "sector                                      Energy\n",
      "previous_rank                                    4\n",
      "country                                      China\n",
      "hq_location                         Beijing, China\n",
      "website                     http://www.sinopec.com\n",
      "years_on_global_500_list                        19\n",
      "employees                                   713288\n",
      "total_stockholder_equity                    106523\n",
      "Name: Sinopec Group, dtype: object\n"
     ]
    }
   ],
   "source": [
    "single_row = f500.loc[\"Sinopec Group\"]\n",
    "print(type(single_row))\n",
    "print(single_row)"
   ]
  },
  {
   "cell_type": "markdown",
   "metadata": {},
   "source": [
    "A **series** is returned because it is one-dimensional. \n",
    "> In short, ``series`` is a one-dimensional labeled array capable of holding data of any type (integer, string, float, python objects, etc.). \n",
    "There are many data types that may need to be stored in this series, like integer, float, and string values, so pandas uses the **object** dtype, since none of the numeric types could cater for all values.\n",
    "\n",
    "**To select a list of rows:**"
   ]
  },
  {
   "cell_type": "code",
   "execution_count": 15,
   "metadata": {},
   "outputs": [
    {
     "name": "stdout",
     "output_type": "stream",
     "text": [
      "<class 'pandas.core.frame.DataFrame'>\n",
      "              rank  revenues  revenue_change  profits  assets  profit_change  \\\n",
      "Toyota Motor     5    254694             7.7  16899.3  437575          -12.3   \n",
      "Walmart          1    485873             0.8  13643.0  198825           -7.2   \n",
      "\n",
      "                              ceo                  industry  \\\n",
      "Toyota Motor          Akio Toyoda  Motor Vehicles and Parts   \n",
      "Walmart       C. Douglas McMillon     General Merchandisers   \n",
      "\n",
      "                              sector  previous_rank country      hq_location  \\\n",
      "Toyota Motor  Motor Vehicles & Parts              8   Japan    Toyota, Japan   \n",
      "Walmart                    Retailing              1     USA  Bentonville, AR   \n",
      "\n",
      "                                   website  years_on_global_500_list  \\\n",
      "Toyota Motor  http://www.toyota-global.com                        23   \n",
      "Walmart             http://www.walmart.com                        23   \n",
      "\n",
      "              employees  total_stockholder_equity  \n",
      "Toyota Motor     364445                    157210  \n",
      "Walmart         2300000                     77798  \n"
     ]
    }
   ],
   "source": [
    "list_rows = f500.loc[[\"Toyota Motor\", \"Walmart\"]]\n",
    "print(type(list_rows))\n",
    "print(list_rows)"
   ]
  },
  {
   "cell_type": "markdown",
   "metadata": {},
   "source": [
    "**To select a slice object with labels:**\n",
    "\n",
    "For selection using slices, a shortcut can be used like below. This is the reason we can't use this shortcut for columns – because it's reserved for use with rows:"
   ]
  },
  {
   "cell_type": "code",
   "execution_count": 16,
   "metadata": {},
   "outputs": [
    {
     "name": "stdout",
     "output_type": "stream",
     "text": [
      "<class 'pandas.core.frame.DataFrame'>\n",
      "                          rank  revenues  revenue_change  profits  assets  \\\n",
      "State Grid                   2    315199            -4.4   9571.3  489838   \n",
      "Sinopec Group                3    267518            -9.1   1257.9  310726   \n",
      "China National Petroleum     4    262573           -12.3   1867.5  585619   \n",
      "Toyota Motor                 5    254694             7.7  16899.3  437575   \n",
      "\n",
      "                          profit_change            ceo  \\\n",
      "State Grid                         -6.2        Kou Wei   \n",
      "Sinopec Group                     -65.0      Wang Yupu   \n",
      "China National Petroleum          -73.7  Zhang Jianhua   \n",
      "Toyota Motor                      -12.3    Akio Toyoda   \n",
      "\n",
      "                                          industry                  sector  \\\n",
      "State Grid                               Utilities                  Energy   \n",
      "Sinopec Group                   Petroleum Refining                  Energy   \n",
      "China National Petroleum        Petroleum Refining                  Energy   \n",
      "Toyota Motor              Motor Vehicles and Parts  Motor Vehicles & Parts   \n",
      "\n",
      "                          previous_rank country     hq_location  \\\n",
      "State Grid                            2   China  Beijing, China   \n",
      "Sinopec Group                         4   China  Beijing, China   \n",
      "China National Petroleum              3   China  Beijing, China   \n",
      "Toyota Motor                          8   Japan   Toyota, Japan   \n",
      "\n",
      "                                               website  \\\n",
      "State Grid                      http://www.sgcc.com.cn   \n",
      "Sinopec Group                   http://www.sinopec.com   \n",
      "China National Petroleum        http://www.cnpc.com.cn   \n",
      "Toyota Motor              http://www.toyota-global.com   \n",
      "\n",
      "                          years_on_global_500_list  employees  \\\n",
      "State Grid                                      17     926067   \n",
      "Sinopec Group                                   19     713288   \n",
      "China National Petroleum                        17    1512048   \n",
      "Toyota Motor                                    23     364445   \n",
      "\n",
      "                          total_stockholder_equity  \n",
      "State Grid                                  209456  \n",
      "Sinopec Group                               106523  \n",
      "China National Petroleum                    301893  \n",
      "Toyota Motor                                157210  \n"
     ]
    }
   ],
   "source": [
    "slice_rows = f500[\"State Grid\":\"Toyota Motor\"]\n",
    "print(type(slice_rows))\n",
    "print(slice_rows)"
   ]
  },
  {
   "cell_type": "markdown",
   "metadata": {},
   "source": [
    "### Task 3.3.7: \n",
    "\n",
    "By selecting data from `f500`:\n",
    "1. Create a new variable `toyota`, with:\n",
    "    - Just the row with index `Toyota Motor`.\n",
    "    - All columns.\n",
    "2. Create a new variable, `drink_companies`, with:\n",
    "    - Rows with indicies `Anheuser-Busch InBev, Coca-Cola, and Heineken Holding`, in that order.\n",
    "    - All columns.\n",
    "3. Create a new variable, `middle_companies` with:\n",
    "    - All rows with indicies from `Tata Motors` to `Nationwide`, inclusive.\n",
    "    - All columns from `rank` to `country`, inclusive."
   ]
  },
  {
   "cell_type": "code",
   "execution_count": 17,
   "metadata": {},
   "outputs": [],
   "source": [
    "# Start your code below:\n",
    "\n",
    "toyota = f500.loc['Toyota Motor',]\n",
    "drink_companies = f500.loc[[\"Anheuser-Busch InBev\", \"Coca-Cola\", \"Heineken Holding\"]]\n",
    "middle_companies = f500.loc[\"Tata Motors\":\"Nationwide\", \"rank\":\"country\"]"
   ]
  },
  {
   "cell_type": "markdown",
   "metadata": {},
   "source": [
    "## 8. Value Counts Method\n",
    "\n",
    "We understand that **series** and **dataframes** are two distinct objects. They each have their own unique methods.\n",
    "\n",
    "First, let's select just one column from the ``f500`` dataframe:"
   ]
  },
  {
   "cell_type": "code",
   "execution_count": 18,
   "metadata": {},
   "outputs": [
    {
     "name": "stdout",
     "output_type": "stream",
     "text": [
      "<class 'pandas.core.series.Series'>\n"
     ]
    }
   ],
   "source": [
    "sectors = f500[\"sector\"]\n",
    "print(type(sectors))"
   ]
  },
  {
   "cell_type": "markdown",
   "metadata": {},
   "source": [
    "Now, we want to substitute ``Series`` in `Series.value_counts()` with the name of our `sectors` series, like this:"
   ]
  },
  {
   "cell_type": "code",
   "execution_count": 19,
   "metadata": {},
   "outputs": [
    {
     "name": "stdout",
     "output_type": "stream",
     "text": [
      "Financials                       118\n",
      "Energy                            80\n",
      "Technology                        44\n",
      "Motor Vehicles & Parts            34\n",
      "Wholesalers                       28\n",
      "Health Care                       27\n",
      "Food & Drug Stores                20\n",
      "Transportation                    19\n",
      "Telecommunications                18\n",
      "Retailing                         17\n",
      "Food, Beverages & Tobacco         16\n",
      "Materials                         16\n",
      "Industrials                       15\n",
      "Aerospace & Defense               14\n",
      "Engineering & Construction        13\n",
      "Chemicals                          7\n",
      "Household Products                 3\n",
      "Media                              3\n",
      "Hotels, Restaurants & Leisure      3\n",
      "Business Services                  3\n",
      "Apparel                            2\n",
      "Name: sector, dtype: int64\n"
     ]
    }
   ],
   "source": [
    "sectors_value_counts = sectors.value_counts()\n",
    "print(sectors_value_counts)"
   ]
  },
  {
   "cell_type": "markdown",
   "metadata": {},
   "source": [
    "You see that each unique non-null value is being counted and listed in the output above.\n",
    "\n",
    "Well, what happens when we try to use the `Series.value_counts()` method with a dataframe? First step, we should select the `sector` and `industry` columns to create a dataframe named `sectors_industries`, like this:"
   ]
  },
  {
   "cell_type": "code",
   "execution_count": 20,
   "metadata": {},
   "outputs": [
    {
     "name": "stdout",
     "output_type": "stream",
     "text": [
      "<class 'pandas.core.frame.DataFrame'>\n"
     ]
    }
   ],
   "source": [
    "sectors_industries = f500[[\"sector\", \"industry\"]]\n",
    "print(type(sectors_industries))"
   ]
  },
  {
   "cell_type": "markdown",
   "metadata": {},
   "source": [
    "Then, we'll try to use the `value_counts()` method:"
   ]
  },
  {
   "cell_type": "code",
   "execution_count": 21,
   "metadata": {},
   "outputs": [
    {
     "name": "stdout",
     "output_type": "stream",
     "text": [
      "sector                         industry                                      \n",
      "Financials                     Banks: Commercial and Savings                     51\n",
      "Motor Vehicles & Parts         Motor Vehicles and Parts                          34\n",
      "Energy                         Petroleum Refining                                28\n",
      "Financials                     Insurance: Life, Health (stock)                   24\n",
      "Food & Drug Stores             Food and Drug Stores                              20\n",
      "Energy                         Mining, Crude-Oil Production                      18\n",
      "Financials                     Insurance: Property and Casualty (Stock)          18\n",
      "Telecommunications             Telecommunications                                18\n",
      "Energy                         Utilities                                         18\n",
      "Wholesalers                    Trading                                           15\n",
      "Health Care                    Pharmaceuticals                                   15\n",
      "Aerospace & Defense            Aerospace and Defense                             14\n",
      "Engineering & Construction     Engineering, Construction                         13\n",
      "Technology                     Electronics, Electrical Equip.                    13\n",
      "Energy                         Energy                                            12\n",
      "Materials                      Metals                                            12\n",
      "Retailing                      Specialty Retailers                               10\n",
      "Industrials                    Industrial Machinery                              10\n",
      "Financials                     Insurance: Life, Health (Mutual)                   9\n",
      "Technology                     Computers, Office Equipment                        8\n",
      "Transportation                 Airlines                                           8\n",
      "Financials                     Diversified Financials                             8\n",
      "Food, Beverages & Tobacco      Food Production                                    7\n",
      "Retailing                      General Merchandisers                              7\n",
      "Chemicals                      Chemicals                                          7\n",
      "Technology                     Internet Services and Retailing                    6\n",
      "Transportation                 Mail, Package, and Freight Delivery                6\n",
      "Wholesalers                    Wholesalers: Health Care                           6\n",
      "Financials                     Real estate                                        6\n",
      "Health Care                    Health Care: Insurance and Managed Care            6\n",
      "Technology                     Semiconductors and Other Electronic Components     5\n",
      "                               Information Technology Services                    5\n",
      "Food, Beverages & Tobacco      Food Consumer Products                             5\n",
      "Materials                      Building Materials, Glass                          4\n",
      "Technology                     Network and Other Communications Equipment         4\n",
      "                               Computer Software                                  3\n",
      "Wholesalers                    Wholesalers: Food and Grocery                      3\n",
      "                               Wholesalers: Electronics and Office Equipment      3\n",
      "Transportation                 Railroads                                          3\n",
      "Energy                         Pipelines                                          3\n",
      "Food, Beverages & Tobacco      Beverages                                          3\n",
      "Hotels, Restaurants & Leisure  Food Services                                      3\n",
      "Media                          Entertainment                                      3\n",
      "Household Products             Household and Personal Products                    3\n",
      "Apparel                        Apparel                                            2\n",
      "Financials                     Insurance: Property and Casualty (Mutual)          2\n",
      "Health Care                    Health Care: Medical Facilities                    2\n",
      "Industrials                    Textiles                                           2\n",
      "Health Care                    Health Care: Pharmacy and Other Services           2\n",
      "Transportation                 Shipping                                           2\n",
      "Business Services              Temporary Help                                     2\n",
      "Industrials                    Construction and Farm Machinery                    2\n",
      "Health Care                    Medical Products and Equipment                     2\n",
      "Food, Beverages & Tobacco      Tobacco                                            1\n",
      "Industrials                    Miscellaneous                                      1\n",
      "Energy                         Oil & Gas Equipment Services                       1\n",
      "Business Services              Travel Services                                    1\n",
      "Wholesalers                    Wholesalers: Diversified                           1\n",
      "dtype: int64\n"
     ]
    }
   ],
   "source": [
    "si_value_counts = sectors_industries.value_counts()\n",
    "print(si_value_counts)"
   ]
  },
  {
   "cell_type": "markdown",
   "metadata": {},
   "source": [
    "We see that we have got the following error:\n",
    "\n",
    "> AttributeError: 'DataFrame' object has no attribute 'value_counts'\n",
    "\n",
    "\n",
    "That is because ``value_counts()`` is only a method for Series, not DataFrame."
   ]
  },
  {
   "cell_type": "markdown",
   "metadata": {},
   "source": [
    "### Task 3.3.8\n",
    "\n",
    "1. Find the counts of each unique value in the `country` column in the `f500` dataframe.\n",
    "    - Select the `country` column in the `f500` dataframe. Assign it to a variable named `countries*`\n",
    "    - Use the `Series.value_counts()` method to return the value counts for `countries`. Assign the results to `country_counts`."
   ]
  },
  {
   "cell_type": "code",
   "execution_count": 22,
   "metadata": {},
   "outputs": [],
   "source": [
    "# Start your code below:\n",
    "\n",
    "countries = f500[\"country\"]\n",
    "country_counts = countries.value_counts()"
   ]
  },
  {
   "cell_type": "markdown",
   "metadata": {},
   "source": [
    "## Summary\n",
    "\n",
    "Below is a summary table of all the different label selection we have learned so far:\n",
    "\n",
    "|Select by Label|Explicit Syntax|Shorthand Convention|\n",
    "|-------------|-----------|---------------|\n",
    "|Single column from dataframe|df.loc[:,\"col1\"]|df[\"col1\"]|\n",
    "|List of columns from dataframe|df.loc[:,\"col1\",\"col7\"]|df[\"col1\",\"col7\"]|\n",
    "|Single column from dataframe|df.loc[:,\"col1\":\"col4\"]| |\n",
    "|Single row from dataframe| df.loc[\"row4\"]|   |\n",
    "|List of rows from dataframe |df.loc[\"row1\",\"row8\"]]|  |\n",
    "|Slice of rows from dataframe|df.loc[\"row3\":\"row5\"]| df[\"row3\":\"row5\"]|\n",
    "|Single item from series|s.loc[\"item8\"]|s[\"item8\"]|\n",
    "|List of items from series|s.loc[[\"item1\", \"item7\"]]|s[[\"item1\",\"item7\"]]|\n",
    "|Slice of items from series|s.loc[\"item2\":\"item4\"] |s[\"item2\":\"item4\"]|\n"
   ]
  }
 ],
 "metadata": {
  "kernelspec": {
   "display_name": "Python 3 (ipykernel)",
   "language": "python",
   "name": "python3"
  },
  "language_info": {
   "codemirror_mode": {
    "name": "ipython",
    "version": 3
   },
   "file_extension": ".py",
   "mimetype": "text/x-python",
   "name": "python",
   "nbconvert_exporter": "python",
   "pygments_lexer": "ipython3",
   "version": "3.10.6"
  }
 },
 "nbformat": 4,
 "nbformat_minor": 4
}
