{
 "cells": [
  {
   "cell_type": "markdown",
   "metadata": {},
   "source": [
    "# About This Notebook\n",
    "In this last chapter of the course, **Exploring Data with pandas: Intermediate**, we will learn:\n",
    "- Select columns, rows and individual items using their integer location.\n",
    "- Use `pd.read_csv()` to read CSV files in pandas.\n",
    "- Work with integer axis labels.\n",
    "- How to use pandas methods to produce boolean arrays.\n",
    "- Use boolean operators to combine boolean comparisons to perform more complex analysis.\n",
    "- Use index labels to align data.\n",
    "- Use aggregation to perform advanced analysis using loops.\n",
    "***\n",
    "## 1. Reading CSV files with pandas(IMPORTANT)\n",
    "\n",
    "In the previous notebook about the fundamentals of exploring data with pandas, we worked with Fortune Global 500 dataset. In this chapter, we will learn how to use the `pandas.read_csv()` function to read in CSV files."
   ]
  },
  {
   "cell_type": "markdown",
   "metadata": {},
   "source": [
    "Previously, we used the snippet below to read our CSV file into pandas.\n"
   ]
  },
  {
   "cell_type": "code",
   "execution_count": 1,
   "metadata": {},
   "outputs": [
    {
     "data": {
      "text/html": [
       "<div>\n",
       "<style scoped>\n",
       "    .dataframe tbody tr th:only-of-type {\n",
       "        vertical-align: middle;\n",
       "    }\n",
       "\n",
       "    .dataframe tbody tr th {\n",
       "        vertical-align: top;\n",
       "    }\n",
       "\n",
       "    .dataframe thead th {\n",
       "        text-align: right;\n",
       "    }\n",
       "</style>\n",
       "<table border=\"1\" class=\"dataframe\">\n",
       "  <thead>\n",
       "    <tr style=\"text-align: right;\">\n",
       "      <th></th>\n",
       "      <th>rank</th>\n",
       "      <th>revenues</th>\n",
       "      <th>revenue_change</th>\n",
       "      <th>profits</th>\n",
       "      <th>assets</th>\n",
       "      <th>profit_change</th>\n",
       "      <th>ceo</th>\n",
       "      <th>industry</th>\n",
       "      <th>sector</th>\n",
       "      <th>previous_rank</th>\n",
       "      <th>country</th>\n",
       "      <th>hq_location</th>\n",
       "      <th>website</th>\n",
       "      <th>years_on_global_500_list</th>\n",
       "      <th>employees</th>\n",
       "      <th>total_stockholder_equity</th>\n",
       "    </tr>\n",
       "  </thead>\n",
       "  <tbody>\n",
       "    <tr>\n",
       "      <th>Walmart</th>\n",
       "      <td>1</td>\n",
       "      <td>485873</td>\n",
       "      <td>0.8</td>\n",
       "      <td>13643.0</td>\n",
       "      <td>198825</td>\n",
       "      <td>-7.2</td>\n",
       "      <td>C. Douglas McMillon</td>\n",
       "      <td>General Merchandisers</td>\n",
       "      <td>Retailing</td>\n",
       "      <td>1</td>\n",
       "      <td>USA</td>\n",
       "      <td>Bentonville, AR</td>\n",
       "      <td>http://www.walmart.com</td>\n",
       "      <td>23</td>\n",
       "      <td>2300000</td>\n",
       "      <td>77798</td>\n",
       "    </tr>\n",
       "    <tr>\n",
       "      <th>State Grid</th>\n",
       "      <td>2</td>\n",
       "      <td>315199</td>\n",
       "      <td>-4.4</td>\n",
       "      <td>9571.3</td>\n",
       "      <td>489838</td>\n",
       "      <td>-6.2</td>\n",
       "      <td>Kou Wei</td>\n",
       "      <td>Utilities</td>\n",
       "      <td>Energy</td>\n",
       "      <td>2</td>\n",
       "      <td>China</td>\n",
       "      <td>Beijing, China</td>\n",
       "      <td>http://www.sgcc.com.cn</td>\n",
       "      <td>17</td>\n",
       "      <td>926067</td>\n",
       "      <td>209456</td>\n",
       "    </tr>\n",
       "    <tr>\n",
       "      <th>Sinopec Group</th>\n",
       "      <td>3</td>\n",
       "      <td>267518</td>\n",
       "      <td>-9.1</td>\n",
       "      <td>1257.9</td>\n",
       "      <td>310726</td>\n",
       "      <td>-65.0</td>\n",
       "      <td>Wang Yupu</td>\n",
       "      <td>Petroleum Refining</td>\n",
       "      <td>Energy</td>\n",
       "      <td>4</td>\n",
       "      <td>China</td>\n",
       "      <td>Beijing, China</td>\n",
       "      <td>http://www.sinopec.com</td>\n",
       "      <td>19</td>\n",
       "      <td>713288</td>\n",
       "      <td>106523</td>\n",
       "    </tr>\n",
       "    <tr>\n",
       "      <th>China National Petroleum</th>\n",
       "      <td>4</td>\n",
       "      <td>262573</td>\n",
       "      <td>-12.3</td>\n",
       "      <td>1867.5</td>\n",
       "      <td>585619</td>\n",
       "      <td>-73.7</td>\n",
       "      <td>Zhang Jianhua</td>\n",
       "      <td>Petroleum Refining</td>\n",
       "      <td>Energy</td>\n",
       "      <td>3</td>\n",
       "      <td>China</td>\n",
       "      <td>Beijing, China</td>\n",
       "      <td>http://www.cnpc.com.cn</td>\n",
       "      <td>17</td>\n",
       "      <td>1512048</td>\n",
       "      <td>301893</td>\n",
       "    </tr>\n",
       "    <tr>\n",
       "      <th>Toyota Motor</th>\n",
       "      <td>5</td>\n",
       "      <td>254694</td>\n",
       "      <td>7.7</td>\n",
       "      <td>16899.3</td>\n",
       "      <td>437575</td>\n",
       "      <td>-12.3</td>\n",
       "      <td>Akio Toyoda</td>\n",
       "      <td>Motor Vehicles and Parts</td>\n",
       "      <td>Motor Vehicles &amp; Parts</td>\n",
       "      <td>8</td>\n",
       "      <td>Japan</td>\n",
       "      <td>Toyota, Japan</td>\n",
       "      <td>http://www.toyota-global.com</td>\n",
       "      <td>23</td>\n",
       "      <td>364445</td>\n",
       "      <td>157210</td>\n",
       "    </tr>\n",
       "  </tbody>\n",
       "</table>\n",
       "</div>"
      ],
      "text/plain": [
       "                          rank  revenues  revenue_change  profits  assets  \\\n",
       "Walmart                      1    485873             0.8  13643.0  198825   \n",
       "State Grid                   2    315199            -4.4   9571.3  489838   \n",
       "Sinopec Group                3    267518            -9.1   1257.9  310726   \n",
       "China National Petroleum     4    262573           -12.3   1867.5  585619   \n",
       "Toyota Motor                 5    254694             7.7  16899.3  437575   \n",
       "\n",
       "                          profit_change                  ceo  \\\n",
       "Walmart                            -7.2  C. Douglas McMillon   \n",
       "State Grid                         -6.2              Kou Wei   \n",
       "Sinopec Group                     -65.0            Wang Yupu   \n",
       "China National Petroleum          -73.7        Zhang Jianhua   \n",
       "Toyota Motor                      -12.3          Akio Toyoda   \n",
       "\n",
       "                                          industry                  sector  \\\n",
       "Walmart                      General Merchandisers               Retailing   \n",
       "State Grid                               Utilities                  Energy   \n",
       "Sinopec Group                   Petroleum Refining                  Energy   \n",
       "China National Petroleum        Petroleum Refining                  Energy   \n",
       "Toyota Motor              Motor Vehicles and Parts  Motor Vehicles & Parts   \n",
       "\n",
       "                          previous_rank country      hq_location  \\\n",
       "Walmart                               1     USA  Bentonville, AR   \n",
       "State Grid                            2   China   Beijing, China   \n",
       "Sinopec Group                         4   China   Beijing, China   \n",
       "China National Petroleum              3   China   Beijing, China   \n",
       "Toyota Motor                          8   Japan    Toyota, Japan   \n",
       "\n",
       "                                               website  \\\n",
       "Walmart                         http://www.walmart.com   \n",
       "State Grid                      http://www.sgcc.com.cn   \n",
       "Sinopec Group                   http://www.sinopec.com   \n",
       "China National Petroleum        http://www.cnpc.com.cn   \n",
       "Toyota Motor              http://www.toyota-global.com   \n",
       "\n",
       "                          years_on_global_500_list  employees  \\\n",
       "Walmart                                         23    2300000   \n",
       "State Grid                                      17     926067   \n",
       "Sinopec Group                                   19     713288   \n",
       "China National Petroleum                        17    1512048   \n",
       "Toyota Motor                                    23     364445   \n",
       "\n",
       "                          total_stockholder_equity  \n",
       "Walmart                                      77798  \n",
       "State Grid                                  209456  \n",
       "Sinopec Group                               106523  \n",
       "China National Petroleum                    301893  \n",
       "Toyota Motor                                157210  "
      ]
     },
     "execution_count": 1,
     "metadata": {},
     "output_type": "execute_result"
    }
   ],
   "source": [
    "import pandas as pd\n",
    "f500 = pd.read_csv('../../../Data/csv/f500.csv', index_col=0)\n",
    "f500.index.name = None\n",
    "f500.head()"
   ]
  },
  {
   "cell_type": "markdown",
   "metadata": {},
   "source": [
    "But if you look closely, you may see that the index axis labels are the values from the first column in the data set, **company**:"
   ]
  },
  {
   "cell_type": "raw",
   "metadata": {},
   "source": [
    "company,rank,revenues,revenue_change\n",
    "Walmart,1,485873,0.8\n",
    "State Grid,2,315199,-4.4\n",
    "Sinopec Group,3,267518,-9.1\n",
    "China National Petroleum,4,262573,-12.3\n",
    "Toyota Motor,5,254694,7.7"
   ]
  },
  {
   "cell_type": "markdown",
   "metadata": {},
   "source": [
    "You will see that in the [`read_csv()` function](https://pandas.pydata.org/pandas-docs/stable/generated/pandas.read_csv.html), the `index_col` parameter is optional from the official documentation. When we specify a value of `0`, the first column will be used as the row labels.\n",
    "\n",
    "Compare with the dataframe above, notice how the `f500` dataframe looks like if we remove the second line using `f500.index.name = None`."
   ]
  },
  {
   "cell_type": "code",
   "execution_count": 2,
   "metadata": {},
   "outputs": [
    {
     "data": {
      "text/html": [
       "<div>\n",
       "<style scoped>\n",
       "    .dataframe tbody tr th:only-of-type {\n",
       "        vertical-align: middle;\n",
       "    }\n",
       "\n",
       "    .dataframe tbody tr th {\n",
       "        vertical-align: top;\n",
       "    }\n",
       "\n",
       "    .dataframe thead th {\n",
       "        text-align: right;\n",
       "    }\n",
       "</style>\n",
       "<table border=\"1\" class=\"dataframe\">\n",
       "  <thead>\n",
       "    <tr style=\"text-align: right;\">\n",
       "      <th></th>\n",
       "      <th>rank</th>\n",
       "      <th>revenues</th>\n",
       "      <th>revenue_change</th>\n",
       "      <th>profits</th>\n",
       "      <th>assets</th>\n",
       "      <th>profit_change</th>\n",
       "      <th>ceo</th>\n",
       "      <th>industry</th>\n",
       "      <th>sector</th>\n",
       "      <th>previous_rank</th>\n",
       "      <th>country</th>\n",
       "      <th>hq_location</th>\n",
       "      <th>website</th>\n",
       "      <th>years_on_global_500_list</th>\n",
       "      <th>employees</th>\n",
       "      <th>total_stockholder_equity</th>\n",
       "    </tr>\n",
       "    <tr>\n",
       "      <th>company</th>\n",
       "      <th></th>\n",
       "      <th></th>\n",
       "      <th></th>\n",
       "      <th></th>\n",
       "      <th></th>\n",
       "      <th></th>\n",
       "      <th></th>\n",
       "      <th></th>\n",
       "      <th></th>\n",
       "      <th></th>\n",
       "      <th></th>\n",
       "      <th></th>\n",
       "      <th></th>\n",
       "      <th></th>\n",
       "      <th></th>\n",
       "      <th></th>\n",
       "    </tr>\n",
       "  </thead>\n",
       "  <tbody>\n",
       "    <tr>\n",
       "      <th>Walmart</th>\n",
       "      <td>1</td>\n",
       "      <td>485873</td>\n",
       "      <td>0.8</td>\n",
       "      <td>13643.0</td>\n",
       "      <td>198825</td>\n",
       "      <td>-7.2</td>\n",
       "      <td>C. Douglas McMillon</td>\n",
       "      <td>General Merchandisers</td>\n",
       "      <td>Retailing</td>\n",
       "      <td>1</td>\n",
       "      <td>USA</td>\n",
       "      <td>Bentonville, AR</td>\n",
       "      <td>http://www.walmart.com</td>\n",
       "      <td>23</td>\n",
       "      <td>2300000</td>\n",
       "      <td>77798</td>\n",
       "    </tr>\n",
       "    <tr>\n",
       "      <th>State Grid</th>\n",
       "      <td>2</td>\n",
       "      <td>315199</td>\n",
       "      <td>-4.4</td>\n",
       "      <td>9571.3</td>\n",
       "      <td>489838</td>\n",
       "      <td>-6.2</td>\n",
       "      <td>Kou Wei</td>\n",
       "      <td>Utilities</td>\n",
       "      <td>Energy</td>\n",
       "      <td>2</td>\n",
       "      <td>China</td>\n",
       "      <td>Beijing, China</td>\n",
       "      <td>http://www.sgcc.com.cn</td>\n",
       "      <td>17</td>\n",
       "      <td>926067</td>\n",
       "      <td>209456</td>\n",
       "    </tr>\n",
       "    <tr>\n",
       "      <th>Sinopec Group</th>\n",
       "      <td>3</td>\n",
       "      <td>267518</td>\n",
       "      <td>-9.1</td>\n",
       "      <td>1257.9</td>\n",
       "      <td>310726</td>\n",
       "      <td>-65.0</td>\n",
       "      <td>Wang Yupu</td>\n",
       "      <td>Petroleum Refining</td>\n",
       "      <td>Energy</td>\n",
       "      <td>4</td>\n",
       "      <td>China</td>\n",
       "      <td>Beijing, China</td>\n",
       "      <td>http://www.sinopec.com</td>\n",
       "      <td>19</td>\n",
       "      <td>713288</td>\n",
       "      <td>106523</td>\n",
       "    </tr>\n",
       "    <tr>\n",
       "      <th>China National Petroleum</th>\n",
       "      <td>4</td>\n",
       "      <td>262573</td>\n",
       "      <td>-12.3</td>\n",
       "      <td>1867.5</td>\n",
       "      <td>585619</td>\n",
       "      <td>-73.7</td>\n",
       "      <td>Zhang Jianhua</td>\n",
       "      <td>Petroleum Refining</td>\n",
       "      <td>Energy</td>\n",
       "      <td>3</td>\n",
       "      <td>China</td>\n",
       "      <td>Beijing, China</td>\n",
       "      <td>http://www.cnpc.com.cn</td>\n",
       "      <td>17</td>\n",
       "      <td>1512048</td>\n",
       "      <td>301893</td>\n",
       "    </tr>\n",
       "    <tr>\n",
       "      <th>Toyota Motor</th>\n",
       "      <td>5</td>\n",
       "      <td>254694</td>\n",
       "      <td>7.7</td>\n",
       "      <td>16899.3</td>\n",
       "      <td>437575</td>\n",
       "      <td>-12.3</td>\n",
       "      <td>Akio Toyoda</td>\n",
       "      <td>Motor Vehicles and Parts</td>\n",
       "      <td>Motor Vehicles &amp; Parts</td>\n",
       "      <td>8</td>\n",
       "      <td>Japan</td>\n",
       "      <td>Toyota, Japan</td>\n",
       "      <td>http://www.toyota-global.com</td>\n",
       "      <td>23</td>\n",
       "      <td>364445</td>\n",
       "      <td>157210</td>\n",
       "    </tr>\n",
       "  </tbody>\n",
       "</table>\n",
       "</div>"
      ],
      "text/plain": [
       "                          rank  revenues  revenue_change  profits  assets  \\\n",
       "company                                                                     \n",
       "Walmart                      1    485873             0.8  13643.0  198825   \n",
       "State Grid                   2    315199            -4.4   9571.3  489838   \n",
       "Sinopec Group                3    267518            -9.1   1257.9  310726   \n",
       "China National Petroleum     4    262573           -12.3   1867.5  585619   \n",
       "Toyota Motor                 5    254694             7.7  16899.3  437575   \n",
       "\n",
       "                          profit_change                  ceo  \\\n",
       "company                                                        \n",
       "Walmart                            -7.2  C. Douglas McMillon   \n",
       "State Grid                         -6.2              Kou Wei   \n",
       "Sinopec Group                     -65.0            Wang Yupu   \n",
       "China National Petroleum          -73.7        Zhang Jianhua   \n",
       "Toyota Motor                      -12.3          Akio Toyoda   \n",
       "\n",
       "                                          industry                  sector  \\\n",
       "company                                                                      \n",
       "Walmart                      General Merchandisers               Retailing   \n",
       "State Grid                               Utilities                  Energy   \n",
       "Sinopec Group                   Petroleum Refining                  Energy   \n",
       "China National Petroleum        Petroleum Refining                  Energy   \n",
       "Toyota Motor              Motor Vehicles and Parts  Motor Vehicles & Parts   \n",
       "\n",
       "                          previous_rank country      hq_location  \\\n",
       "company                                                            \n",
       "Walmart                               1     USA  Bentonville, AR   \n",
       "State Grid                            2   China   Beijing, China   \n",
       "Sinopec Group                         4   China   Beijing, China   \n",
       "China National Petroleum              3   China   Beijing, China   \n",
       "Toyota Motor                          8   Japan    Toyota, Japan   \n",
       "\n",
       "                                               website  \\\n",
       "company                                                  \n",
       "Walmart                         http://www.walmart.com   \n",
       "State Grid                      http://www.sgcc.com.cn   \n",
       "Sinopec Group                   http://www.sinopec.com   \n",
       "China National Petroleum        http://www.cnpc.com.cn   \n",
       "Toyota Motor              http://www.toyota-global.com   \n",
       "\n",
       "                          years_on_global_500_list  employees  \\\n",
       "company                                                         \n",
       "Walmart                                         23    2300000   \n",
       "State Grid                                      17     926067   \n",
       "Sinopec Group                                   19     713288   \n",
       "China National Petroleum                        17    1512048   \n",
       "Toyota Motor                                    23     364445   \n",
       "\n",
       "                          total_stockholder_equity  \n",
       "company                                             \n",
       "Walmart                                      77798  \n",
       "State Grid                                  209456  \n",
       "Sinopec Group                               106523  \n",
       "China National Petroleum                    301893  \n",
       "Toyota Motor                                157210  "
      ]
     },
     "execution_count": 2,
     "metadata": {},
     "output_type": "execute_result"
    }
   ],
   "source": [
    "f500 = pd.read_csv('../../../Data/csv/f500.csv', index_col=0)\n",
    "f500.head()"
   ]
  },
  {
   "cell_type": "markdown",
   "metadata": {},
   "source": [
    "Do you see the text **company** above the index labels? This is the name of the first column in the CSV. This value is used as the **axis name** for the index axis in Pandas.\n",
    "\n",
    "You see that both the column and index axes can have names assigned to them. Originally, we accessed the name of the index axes and set it to `None`, that's why the dataframe didn't have a name for the index axis."
   ]
  },
  {
   "cell_type": "markdown",
   "metadata": {},
   "source": [
    "### Task 3.5.1\n",
    "1. Use the `pandas.read_csv()` function to read the `f500.csv` CSV file as a pandas dataframe. Assign it to the variable name `f500`.\n",
    "    - Do not use the `index_col` parameter.\n",
    "2. Use the following code to insert the NaN values (missing values) into the `previous_rank` column: <br>\n",
    "````python\n",
    "f500.loc[f500[\"previous_rank\"] == 0, \"previous_rank\"] = np.nan\n",
    "````\n",
    "Remark: If you get a notice that `np` is not defined, you have to import NumPy by typing `import numpy as np`."
   ]
  },
  {
   "cell_type": "code",
   "execution_count": 3,
   "metadata": {},
   "outputs": [],
   "source": [
    "# Start your code below:\n",
    "\n",
    "import pandas as pd\n",
    "import numpy as np\n",
    "\n",
    "f500 = pd.read_csv('../../../Data/csv/f500.csv')\n",
    "f500.index.name = None\n",
    "\n",
    "f500.loc[f500[\"previous_rank\"] == 0, \"previous_rank\"] = np.nan\n",
    "f500_selection = f500.loc[:,[\"rank\",\"revenues\", \"revenue_change\"]].head()"
   ]
  },
  {
   "cell_type": "markdown",
   "metadata": {},
   "source": [
    "## 2. Using iloc to select by integer position\n",
    "\n",
    "In the previous exercise we read our CSV file into pandas. But this time, we didn't use the `index_col` parameter:"
   ]
  },
  {
   "cell_type": "code",
   "execution_count": 4,
   "metadata": {},
   "outputs": [
    {
     "name": "stdout",
     "output_type": "stream",
     "text": [
      "                    company  rank  revenues\n",
      "0                   Walmart     1    485873\n",
      "1                State Grid     2    315199\n",
      "2             Sinopec Group     3    267518\n",
      "3  China National Petroleum     4    262573\n",
      "4              Toyota Motor     5    254694\n"
     ]
    }
   ],
   "source": [
    "f500 = pd.read_csv('../../../Data/csv/f500.csv')\n",
    "print(f500[['company', 'rank', 'revenues']].head())"
   ]
  },
  {
   "cell_type": "markdown",
   "metadata": {},
   "source": [
    "There are two significant differences with the approach that we just took above:\n",
    "- the **company** column is now included as a regular column, not as an index column\n",
    "- the **index labels** now start from `0` as **integers**\n",
    "\n",
    "This is the more conventional way how we should read in a dataframe, and we will be going with this method from now on.\n",
    "\n",
    "However, do you still remember how we worked with a dataframe with **string index labels**? We used `loc[]` to select the data."
   ]
  },
  {
   "cell_type": "markdown",
   "metadata": {},
   "source": [
    "For selecting rows and columns by their integer positions, we use `iloc[]`. Using `iloc[]` is almost identical to indexing with NumPy, with integer positions starting at `0` like ndarrays and Python lists.\n",
    "\n",
    "`DataFrame.iloc[]` behaves similarly to `DataFrame.loc[]`. The full syntax for `DataFrame.iloc[]`, in pseudocode, is: \n",
    "\n",
    "````python\n",
    "df.iloc[row_index, column_index]\n",
    "````\n",
    "\n",
    "To help you memorize the two syntaxes easier:\n",
    "- ``loc``: label based selection\n",
    "- ``iloc``: integer position based selection"
   ]
  },
  {
   "cell_type": "markdown",
   "metadata": {},
   "source": [
    "### Task 3.5.2\n",
    "1. Select just the fifth row of the `f500` dataframe. Assign the result to `fifth_row`.\n",
    "2. Select the value in the first row of the `company` column. Assign the result to `company_value`."
   ]
  },
  {
   "cell_type": "code",
   "execution_count": 77,
   "metadata": {},
   "outputs": [],
   "source": [
    "# Start your code below:\n",
    "\n",
    "fifth_row = f500.iloc[4,:]\n",
    "company_value = f500.iloc[0,0] # company is the first row"
   ]
  },
  {
   "cell_type": "markdown",
   "metadata": {},
   "source": [
    "## 3. Using iloc to select by integer position continued\n",
    "\n",
    "If we want to select the first column from our `f500` dataset, we need to use ``:``, a colon, to specify all rows, and then use the integer ``0`` to specify the first column, like this:"
   ]
  },
  {
   "cell_type": "code",
   "execution_count": 6,
   "metadata": {
    "scrolled": true
   },
   "outputs": [
    {
     "name": "stdout",
     "output_type": "stream",
     "text": [
      "0                                           Walmart\n",
      "1                                        State Grid\n",
      "2                                     Sinopec Group\n",
      "3                          China National Petroleum\n",
      "4                                      Toyota Motor\n",
      "5                                        Volkswagen\n",
      "6                                 Royal Dutch Shell\n",
      "7                                Berkshire Hathaway\n",
      "8                                             Apple\n",
      "9                                       Exxon Mobil\n",
      "10                                         McKesson\n",
      "11                                               BP\n",
      "12                               UnitedHealth Group\n",
      "13                                       CVS Health\n",
      "14                              Samsung Electronics\n",
      "15                                         Glencore\n",
      "16                                          Daimler\n",
      "17                                   General Motors\n",
      "18                                             AT&T\n",
      "19                                       EXOR Group\n",
      "20                                       Ford Motor\n",
      "21            Industrial & Commercial Bank of China\n",
      "22                                AmerisourceBergen\n",
      "23             China State Construction Engineering\n",
      "24                                              AXA\n",
      "25                                       Amazon.com\n",
      "26                       Hon Hai Precision Industry\n",
      "27                          China Construction Bank\n",
      "28                                      Honda Motor\n",
      "29                                            Total\n",
      "                           ...                     \n",
      "470                                           Amgen\n",
      "471                                  Rabobank Group\n",
      "472                                          Altice\n",
      "473                                            Onex\n",
      "474                                US Foods Holding\n",
      "475    Shanxi Jincheng Anthracite Coal Mining Group\n",
      "476                                Randstad Holding\n",
      "477                                Tencent Holdings\n",
      "478                                      LG Display\n",
      "479                                  Emirates Group\n",
      "480                                    U.S. Bancorp\n",
      "481                          H & M Hennes & Mauritz\n",
      "482                                           Aflac\n",
      "483                                          Sodexo\n",
      "484                           Suning Commerce Group\n",
      "485                                       GS Caltex\n",
      "486                               Ultrapar Holdings\n",
      "487                                      Xiamen C&D\n",
      "488                                  Sears Holdings\n",
      "489                        China General Technology\n",
      "490                                   National Grid\n",
      "491                                  Dollar General\n",
      "492                                  Telecom Italia\n",
      "493                        Xiamen ITG Holding Group\n",
      "494           Xinjiang Guanghui Industry Investment\n",
      "495                  Teva Pharmaceutical Industries\n",
      "496                        New China Life Insurance\n",
      "497                       Wm. Morrison Supermarkets\n",
      "498                                             TUI\n",
      "499                                      AutoNation\n",
      "Name: company, Length: 500, dtype: object\n"
     ]
    }
   ],
   "source": [
    "first_column = f500.iloc[:,0]\n",
    "print(first_column)"
   ]
  },
  {
   "cell_type": "markdown",
   "metadata": {},
   "source": [
    "To specify a positional slice, try to use the same shortcut that we used with labels. Below is an example how we would select the rows between index positions one to four (inclusive):"
   ]
  },
  {
   "cell_type": "code",
   "execution_count": 7,
   "metadata": {},
   "outputs": [
    {
     "name": "stdout",
     "output_type": "stream",
     "text": [
      "                    company  rank  revenues  revenue_change  profits  assets  \\\n",
      "1                State Grid     2    315199            -4.4   9571.3  489838   \n",
      "2             Sinopec Group     3    267518            -9.1   1257.9  310726   \n",
      "3  China National Petroleum     4    262573           -12.3   1867.5  585619   \n",
      "4              Toyota Motor     5    254694             7.7  16899.3  437575   \n",
      "\n",
      "   profit_change            ceo                  industry  \\\n",
      "1           -6.2        Kou Wei                 Utilities   \n",
      "2          -65.0      Wang Yupu        Petroleum Refining   \n",
      "3          -73.7  Zhang Jianhua        Petroleum Refining   \n",
      "4          -12.3    Akio Toyoda  Motor Vehicles and Parts   \n",
      "\n",
      "                   sector  previous_rank country     hq_location  \\\n",
      "1                  Energy              2   China  Beijing, China   \n",
      "2                  Energy              4   China  Beijing, China   \n",
      "3                  Energy              3   China  Beijing, China   \n",
      "4  Motor Vehicles & Parts              8   Japan   Toyota, Japan   \n",
      "\n",
      "                        website  years_on_global_500_list  employees  \\\n",
      "1        http://www.sgcc.com.cn                        17     926067   \n",
      "2        http://www.sinopec.com                        19     713288   \n",
      "3        http://www.cnpc.com.cn                        17    1512048   \n",
      "4  http://www.toyota-global.com                        23     364445   \n",
      "\n",
      "   total_stockholder_equity  \n",
      "1                    209456  \n",
      "2                    106523  \n",
      "3                    301893  \n",
      "4                    157210  \n"
     ]
    }
   ],
   "source": [
    "second_to_sixth_rows = f500[1:5]\n",
    "print(second_to_sixth_rows)"
   ]
  },
  {
   "cell_type": "markdown",
   "metadata": {},
   "source": [
    "Pay attention to the fact that the row at index position `5` is not included, just as if we were slicing with a Python list or NumPy ndarray. Recall that `loc[]` handles slicing differently:\n",
    "\n",
    "- With `loc[]`, the ending slice **is** included.\n",
    "- With `iloc[]`, the ending slice **is not** included.\n",
    "\n",
    "The table below summarizes the usage of `DataFrame.iloc[]` and `Series.iloc[]` to select by integer position:\n",
    "\n",
    "|Select by integer position| Explicit Syntax| Shorthand Convention|\n",
    "|--|--|--|\n",
    "|Single column from dataframe|df.iloc[:,3]| |\n",
    "|List of columns from dataframe|df.iloc[:,[3,5,6]] | |\n",
    "|Slice of columns from dataframe|df.iloc[:,3:7]| |\n",
    "|Single row from dataframe|df.iloc[20]| |\n",
    "|List of rows from dataframe|df.iloc[[0,3,8]]| |\n",
    "|Slice of rows from dataframe|df.iloc[3:5]|df[3:5]|\n",
    "|Single items from series|s.iloc[8]|s[8]|\n",
    "|List of item from series |s.iloc[[2,8,1]]|s[[2,8,1]]|\n",
    "|Slice of items from series|s.iloc[5:10]|s[5:10]|"
   ]
  },
  {
   "cell_type": "markdown",
   "metadata": {},
   "source": [
    "### Task 3.5.3\n",
    "1. Select the first three rows of the `f500` dataframe. Assign the result to `first_three_rows`.\n",
    "2. Select the first and seventh rows and the first five columns of the `f500` dataframe. Assign the result to `first_seventh_row_slice`."
   ]
  },
  {
   "cell_type": "code",
   "execution_count": 8,
   "metadata": {},
   "outputs": [
    {
     "name": "stdout",
     "output_type": "stream",
     "text": [
      "         company  rank  revenues  revenue_change  profits  assets  \\\n",
      "0        Walmart     1    485873             0.8  13643.0  198825   \n",
      "1     State Grid     2    315199            -4.4   9571.3  489838   \n",
      "2  Sinopec Group     3    267518            -9.1   1257.9  310726   \n",
      "\n",
      "   profit_change                  ceo               industry     sector  \\\n",
      "0           -7.2  C. Douglas McMillon  General Merchandisers  Retailing   \n",
      "1           -6.2              Kou Wei              Utilities     Energy   \n",
      "2          -65.0            Wang Yupu     Petroleum Refining     Energy   \n",
      "\n",
      "   previous_rank country      hq_location                 website  \\\n",
      "0              1     USA  Bentonville, AR  http://www.walmart.com   \n",
      "1              2   China   Beijing, China  http://www.sgcc.com.cn   \n",
      "2              4   China   Beijing, China  http://www.sinopec.com   \n",
      "\n",
      "   years_on_global_500_list  employees  total_stockholder_equity  \n",
      "0                        23    2300000                     77798  \n",
      "1                        17     926067                    209456  \n",
      "2                        19     713288                    106523  \n",
      "             company  rank  revenues  revenue_change  profits\n",
      "0            Walmart     1    485873             0.8  13643.0\n",
      "6  Royal Dutch Shell     7    240033           -11.8   4575.0\n"
     ]
    }
   ],
   "source": [
    "# Start your code below:\n",
    "\n",
    "first_three_rows = f500[:3]\n",
    "first_seventh_row_slice = f500.iloc[[0, 6], :5]\n",
    "\n",
    "print(first_three_rows)\n",
    "print(first_seventh_row_slice)"
   ]
  },
  {
   "cell_type": "markdown",
   "metadata": {},
   "source": [
    "## 4. Using pandas methods to create boolean masks\n",
    "\n",
    "There are two methods that I want to introduce to you in this chapter, which are the `Series.isnull()` [method](https://pandas.pydata.org/pandas-docs/stable/generated/pandas.Series.isnull.html) and `Series.notnull()` [method](https://pandas.pydata.org/pandas-docs/stable/reference/api/pandas.Series.notnull.html). These two methods can be either used to select rows that contain null (or NaN) values or to select rows that do **not** contain null values.\n",
    "\n",
    "Let's first have a look at the `Series.isnull()` method, which is used to view rows with null values (i.e. missing values) in one column.\n",
    "Here is an example for the `revenue_change` column:"
   ]
  },
  {
   "cell_type": "code",
   "execution_count": 10,
   "metadata": {},
   "outputs": [
    {
     "name": "stdout",
     "output_type": "stream",
     "text": [
      "0    False\n",
      "1    False\n",
      "2    False\n",
      "3    False\n",
      "4    False\n",
      "Name: revenue_change, dtype: bool\n"
     ]
    }
   ],
   "source": [
    "rev_is_null = f500[\"revenue_change\"].isnull()\n",
    "print(rev_is_null.head())"
   ]
  },
  {
   "cell_type": "markdown",
   "metadata": {},
   "source": [
    "We see that using `Series.isnull()` resulted in a boolean series. Just like in NumPy, we can use this series to filter our dataframe, `f500`:"
   ]
  },
  {
   "cell_type": "code",
   "execution_count": 11,
   "metadata": {},
   "outputs": [
    {
     "name": "stdout",
     "output_type": "stream",
     "text": [
      "                        company  country      sector\n",
      "90                       Uniper  Germany      Energy\n",
      "180  Hewlett Packard Enterprise      USA  Technology\n"
     ]
    }
   ],
   "source": [
    "import pandas as pd\n",
    "import numpy as np\n",
    "\n",
    "f500 = pd.read_csv(\"f500.csv\")\n",
    "f500.index.name = None\n",
    "\n",
    "\n",
    "rev_change_null = f500[rev_is_null]\n",
    "print(rev_change_null[[\"company\", \"country\",\"sector\"]])"
   ]
  },
  {
   "cell_type": "markdown",
   "metadata": {},
   "source": [
    "### Task 3.5.4\n",
    "1. Use the `Series.isnull()` method to select all rows from `f500` that have a null value for the `profit_change` column. Select only the `company`, `profits`, and `profit_change` columns. Assign the result to `null_profit_change`.\n"
   ]
  },
  {
   "cell_type": "code",
   "execution_count": 24,
   "metadata": {
    "scrolled": true
   },
   "outputs": [
    {
     "name": "stdout",
     "output_type": "stream",
     "text": [
      "                                          company  profits  profit_change\n",
      "5                                      Volkswagen   5937.3            NaN\n",
      "7                              Berkshire Hathaway  24074.0            NaN\n",
      "11                                             BP    115.0            NaN\n",
      "15                                       Glencore   1379.0            NaN\n",
      "22                              AmerisourceBergen   1427.9            NaN\n",
      "30                               General Electric   8831.0            NaN\n",
      "74                                      Petrobras  -4838.0            NaN\n",
      "90                                         Uniper  -3557.5            NaN\n",
      "92                                          Engie   -458.9            NaN\n",
      "98                            U.S. Postal Service  -5591.0            NaN\n",
      "119                               China Minmetals   -446.7            NaN\n",
      "123                             Dell Technologies  -1672.0            NaN\n",
      "126                                 JXTG Holdings   1477.3            NaN\n",
      "131                                           ENI  -1619.0            NaN\n",
      "140                               Albertsons Cos.   -373.3            NaN\n",
      "142                                Sinochem Group    468.0            NaN\n",
      "144                                    Mitsubishi   4063.5            NaN\n",
      "148                                Vodafone Group  -6904.0            NaN\n",
      "151                                         Pemex -10256.3            NaN\n",
      "155                                 ArcelorMittal   1779.0            NaN\n",
      "180                    Hewlett Packard Enterprise   3161.0            NaN\n",
      "188                                 Deutsche Bank  -1550.4            NaN\n",
      "194                                           RWE  -6249.1            NaN\n",
      "196                                       Finatis    687.8            NaN\n",
      "203                       China Baowu Steel Group    442.8            NaN\n",
      "204                                   Noble Group      8.7            NaN\n",
      "206                                       Statoil  -2902.0            NaN\n",
      "210                                     ChemChina     17.9            NaN\n",
      "211                                 Deutsche Bahn    768.6            NaN\n",
      "220                                    HBIS Group   -146.8            NaN\n",
      "..                                            ...      ...            ...\n",
      "248                                        Mitsui   2825.3            NaN\n",
      "258        China National Building Material Group     74.5            NaN\n",
      "260                                        JD.com   -573.0            NaN\n",
      "283                                      Barclays   2807.4            NaN\n",
      "285                                      Centrica   2256.7            NaN\n",
      "305                                        Repsol   1919.7            NaN\n",
      "312                      Hyundai Heavy Industries    469.8            NaN\n",
      "315                               Rio Tinto Group   4617.0            NaN\n",
      "316                                SNCF Mobilites    565.1            NaN\n",
      "319                          Jizhong Energy Group   -153.9            NaN\n",
      "325            Shaanxi Yanchang Petroleum (Group)    -22.6            NaN\n",
      "336              Shaanxi Coal & Chemical Industry   -254.4            NaN\n",
      "338                                Jiangxi Copper     20.4            NaN\n",
      "353                           Credit Suisse Group  -2750.7            NaN\n",
      "369                                          Vale   3982.0            NaN\n",
      "371                         Shandong Energy Group     39.2            NaN\n",
      "375                        Charter Communications   3522.0            NaN\n",
      "397                                 LafargeHolcim   1817.9            NaN\n",
      "422                                Idemitsu Kosan    813.7            NaN\n",
      "429                        Datong Coal Mine Group   -214.8            NaN\n",
      "430                                Lotte Shopping    144.9            NaN\n",
      "443                                ConocoPhillips  -3615.0            NaN\n",
      "444                  Yangquan Coal Industry Group     11.1            NaN\n",
      "447                      Shanxi LuAn Mining Group   -106.9            NaN\n",
      "456                               Heraeus Holding      NaN            NaN\n",
      "472                                        Altice  -1722.5            NaN\n",
      "473                                          Onex   -130.0            NaN\n",
      "475  Shanxi Jincheng Anthracite Coal Mining Group      3.0            NaN\n",
      "488                                Sears Holdings  -2221.0            NaN\n",
      "492                                Telecom Italia   1999.4            NaN\n",
      "\n",
      "[64 rows x 3 columns]\n"
     ]
    }
   ],
   "source": [
    "# Start your code below:\n",
    "\n",
    "profit_change_bool  = f500[\"profit_change\"].isnull()\n",
    "null_profit_change = f500[profit_change_bool][[\"company\", \"profits\", \"profit_change\"]]\n",
    "print(null_profit_change)"
   ]
  },
  {
   "cell_type": "markdown",
   "metadata": {},
   "source": [
    "## 5. Working with Integer Labels (OPTIONAL)\n",
    "\n",
    "Now let's check the difference between `DataFrame.loc[]` and `DataFrame.iloc[]` – what kind of different output will they provide?:"
   ]
  },
  {
   "cell_type": "markdown",
   "metadata": {},
   "source": [
    "We can use `DataFrame.iloc[]`, and it will get us the following result:"
   ]
  },
  {
   "cell_type": "code",
   "execution_count": 25,
   "metadata": {},
   "outputs": [
    {
     "name": "stdout",
     "output_type": "stream",
     "text": [
      "company          Volkswagen\n",
      "profits              5937.3\n",
      "profit_change           NaN\n",
      "Name: 5, dtype: object\n"
     ]
    }
   ],
   "source": [
    "# Only works if you have completed task 3.5.4\n",
    "\n",
    "first_null_profit_change = null_profit_change.iloc[0]\n",
    "print(first_null_profit_change)"
   ]
  },
  {
   "cell_type": "markdown",
   "metadata": {},
   "source": [
    "But `DataFrame.loc[]` will throw an error:"
   ]
  },
  {
   "cell_type": "code",
   "execution_count": 26,
   "metadata": {},
   "outputs": [
    {
     "ename": "KeyError",
     "evalue": "'the label [0] is not in the [index]'",
     "output_type": "error",
     "traceback": [
      "\u001b[1;31m---------------------------------------------------------------------------\u001b[0m",
      "\u001b[1;31mKeyError\u001b[0m                                  Traceback (most recent call last)",
      "\u001b[1;32mC:\\ProgramData\\Anaconda3\\lib\\site-packages\\pandas\\core\\indexing.py\u001b[0m in \u001b[0;36m_validate_key\u001b[1;34m(self, key, axis)\u001b[0m\n\u001b[0;32m   1789\u001b[0m                 \u001b[1;32mif\u001b[0m \u001b[1;32mnot\u001b[0m \u001b[0max\u001b[0m\u001b[1;33m.\u001b[0m\u001b[0mcontains\u001b[0m\u001b[1;33m(\u001b[0m\u001b[0mkey\u001b[0m\u001b[1;33m)\u001b[0m\u001b[1;33m:\u001b[0m\u001b[1;33m\u001b[0m\u001b[1;33m\u001b[0m\u001b[0m\n\u001b[1;32m-> 1790\u001b[1;33m                     \u001b[0merror\u001b[0m\u001b[1;33m(\u001b[0m\u001b[1;33m)\u001b[0m\u001b[1;33m\u001b[0m\u001b[1;33m\u001b[0m\u001b[0m\n\u001b[0m\u001b[0;32m   1791\u001b[0m             \u001b[1;32mexcept\u001b[0m \u001b[0mTypeError\u001b[0m \u001b[1;32mas\u001b[0m \u001b[0me\u001b[0m\u001b[1;33m:\u001b[0m\u001b[1;33m\u001b[0m\u001b[1;33m\u001b[0m\u001b[0m\n",
      "\u001b[1;32mC:\\ProgramData\\Anaconda3\\lib\\site-packages\\pandas\\core\\indexing.py\u001b[0m in \u001b[0;36merror\u001b[1;34m()\u001b[0m\n\u001b[0;32m   1784\u001b[0m                                .format(key=key,\n\u001b[1;32m-> 1785\u001b[1;33m                                        axis=self.obj._get_axis_name(axis)))\n\u001b[0m\u001b[0;32m   1786\u001b[0m \u001b[1;33m\u001b[0m\u001b[0m\n",
      "\u001b[1;31mKeyError\u001b[0m: 'the label [0] is not in the [index]'",
      "\nDuring handling of the above exception, another exception occurred:\n",
      "\u001b[1;31mKeyError\u001b[0m                                  Traceback (most recent call last)",
      "\u001b[1;32m<ipython-input-26-9e659fcf245c>\u001b[0m in \u001b[0;36m<module>\u001b[1;34m\u001b[0m\n\u001b[1;32m----> 1\u001b[1;33m \u001b[0mfirst_null_profit_change\u001b[0m \u001b[1;33m=\u001b[0m \u001b[0mnull_profit_change\u001b[0m\u001b[1;33m.\u001b[0m\u001b[0mloc\u001b[0m\u001b[1;33m[\u001b[0m\u001b[1;36m0\u001b[0m\u001b[1;33m]\u001b[0m\u001b[1;33m\u001b[0m\u001b[1;33m\u001b[0m\u001b[0m\n\u001b[0m",
      "\u001b[1;32mC:\\ProgramData\\Anaconda3\\lib\\site-packages\\pandas\\core\\indexing.py\u001b[0m in \u001b[0;36m__getitem__\u001b[1;34m(self, key)\u001b[0m\n\u001b[0;32m   1476\u001b[0m \u001b[1;33m\u001b[0m\u001b[0m\n\u001b[0;32m   1477\u001b[0m             \u001b[0mmaybe_callable\u001b[0m \u001b[1;33m=\u001b[0m \u001b[0mcom\u001b[0m\u001b[1;33m.\u001b[0m\u001b[0m_apply_if_callable\u001b[0m\u001b[1;33m(\u001b[0m\u001b[0mkey\u001b[0m\u001b[1;33m,\u001b[0m \u001b[0mself\u001b[0m\u001b[1;33m.\u001b[0m\u001b[0mobj\u001b[0m\u001b[1;33m)\u001b[0m\u001b[1;33m\u001b[0m\u001b[1;33m\u001b[0m\u001b[0m\n\u001b[1;32m-> 1478\u001b[1;33m             \u001b[1;32mreturn\u001b[0m \u001b[0mself\u001b[0m\u001b[1;33m.\u001b[0m\u001b[0m_getitem_axis\u001b[0m\u001b[1;33m(\u001b[0m\u001b[0mmaybe_callable\u001b[0m\u001b[1;33m,\u001b[0m \u001b[0maxis\u001b[0m\u001b[1;33m=\u001b[0m\u001b[0maxis\u001b[0m\u001b[1;33m)\u001b[0m\u001b[1;33m\u001b[0m\u001b[1;33m\u001b[0m\u001b[0m\n\u001b[0m\u001b[0;32m   1479\u001b[0m \u001b[1;33m\u001b[0m\u001b[0m\n\u001b[0;32m   1480\u001b[0m     \u001b[1;32mdef\u001b[0m \u001b[0m_is_scalar_access\u001b[0m\u001b[1;33m(\u001b[0m\u001b[0mself\u001b[0m\u001b[1;33m,\u001b[0m \u001b[0mkey\u001b[0m\u001b[1;33m)\u001b[0m\u001b[1;33m:\u001b[0m\u001b[1;33m\u001b[0m\u001b[1;33m\u001b[0m\u001b[0m\n",
      "\u001b[1;32mC:\\ProgramData\\Anaconda3\\lib\\site-packages\\pandas\\core\\indexing.py\u001b[0m in \u001b[0;36m_getitem_axis\u001b[1;34m(self, key, axis)\u001b[0m\n\u001b[0;32m   1909\u001b[0m \u001b[1;33m\u001b[0m\u001b[0m\n\u001b[0;32m   1910\u001b[0m         \u001b[1;31m# fall thru to straight lookup\u001b[0m\u001b[1;33m\u001b[0m\u001b[1;33m\u001b[0m\u001b[1;33m\u001b[0m\u001b[0m\n\u001b[1;32m-> 1911\u001b[1;33m         \u001b[0mself\u001b[0m\u001b[1;33m.\u001b[0m\u001b[0m_validate_key\u001b[0m\u001b[1;33m(\u001b[0m\u001b[0mkey\u001b[0m\u001b[1;33m,\u001b[0m \u001b[0maxis\u001b[0m\u001b[1;33m)\u001b[0m\u001b[1;33m\u001b[0m\u001b[1;33m\u001b[0m\u001b[0m\n\u001b[0m\u001b[0;32m   1912\u001b[0m         \u001b[1;32mreturn\u001b[0m \u001b[0mself\u001b[0m\u001b[1;33m.\u001b[0m\u001b[0m_get_label\u001b[0m\u001b[1;33m(\u001b[0m\u001b[0mkey\u001b[0m\u001b[1;33m,\u001b[0m \u001b[0maxis\u001b[0m\u001b[1;33m=\u001b[0m\u001b[0maxis\u001b[0m\u001b[1;33m)\u001b[0m\u001b[1;33m\u001b[0m\u001b[1;33m\u001b[0m\u001b[0m\n\u001b[0;32m   1913\u001b[0m \u001b[1;33m\u001b[0m\u001b[0m\n",
      "\u001b[1;32mC:\\ProgramData\\Anaconda3\\lib\\site-packages\\pandas\\core\\indexing.py\u001b[0m in \u001b[0;36m_validate_key\u001b[1;34m(self, key, axis)\u001b[0m\n\u001b[0;32m   1796\u001b[0m                 \u001b[1;32mraise\u001b[0m\u001b[1;33m\u001b[0m\u001b[1;33m\u001b[0m\u001b[0m\n\u001b[0;32m   1797\u001b[0m             \u001b[1;32mexcept\u001b[0m\u001b[1;33m:\u001b[0m\u001b[1;33m\u001b[0m\u001b[1;33m\u001b[0m\u001b[0m\n\u001b[1;32m-> 1798\u001b[1;33m                 \u001b[0merror\u001b[0m\u001b[1;33m(\u001b[0m\u001b[1;33m)\u001b[0m\u001b[1;33m\u001b[0m\u001b[1;33m\u001b[0m\u001b[0m\n\u001b[0m\u001b[0;32m   1799\u001b[0m \u001b[1;33m\u001b[0m\u001b[0m\n\u001b[0;32m   1800\u001b[0m     \u001b[1;32mdef\u001b[0m \u001b[0m_is_scalar_access\u001b[0m\u001b[1;33m(\u001b[0m\u001b[0mself\u001b[0m\u001b[1;33m,\u001b[0m \u001b[0mkey\u001b[0m\u001b[1;33m)\u001b[0m\u001b[1;33m:\u001b[0m\u001b[1;33m\u001b[0m\u001b[1;33m\u001b[0m\u001b[0m\n",
      "\u001b[1;32mC:\\ProgramData\\Anaconda3\\lib\\site-packages\\pandas\\core\\indexing.py\u001b[0m in \u001b[0;36merror\u001b[1;34m()\u001b[0m\n\u001b[0;32m   1783\u001b[0m                 raise KeyError(u\"the label [{key}] is not in the [{axis}]\"\n\u001b[0;32m   1784\u001b[0m                                .format(key=key,\n\u001b[1;32m-> 1785\u001b[1;33m                                        axis=self.obj._get_axis_name(axis)))\n\u001b[0m\u001b[0;32m   1786\u001b[0m \u001b[1;33m\u001b[0m\u001b[0m\n\u001b[0;32m   1787\u001b[0m             \u001b[1;32mtry\u001b[0m\u001b[1;33m:\u001b[0m\u001b[1;33m\u001b[0m\u001b[1;33m\u001b[0m\u001b[0m\n",
      "\u001b[1;31mKeyError\u001b[0m: 'the label [0] is not in the [index]'"
     ]
    }
   ],
   "source": [
    "first_null_profit_change = null_profit_change.loc[0]"
   ]
  },
  {
   "cell_type": "markdown",
   "metadata": {},
   "source": [
    "We get an error, telling us that **the label [0] is not in the [index]**. Remember that `DataFrame.loc[]` is used for label based selection:\n",
    "\n",
    "- ``loc``: label based selection\n",
    "- ``iloc``: integer position based selection\n",
    "\n",
    "We see that there is no row with a 0 label in the index, we got the error above. If we wanted to select a row using `loc[]`, we'd have to use the integer label for the first row — `5`.\n"
   ]
  },
  {
   "cell_type": "code",
   "execution_count": 28,
   "metadata": {},
   "outputs": [
    {
     "name": "stdout",
     "output_type": "stream",
     "text": [
      "company          Volkswagen\n",
      "profits              5937.3\n",
      "profit_change           NaN\n",
      "Name: 5, dtype: object\n"
     ]
    }
   ],
   "source": [
    "first_null_profit_change = null_profit_change.loc[5]\n",
    "print(first_null_profit_change)"
   ]
  },
  {
   "cell_type": "markdown",
   "metadata": {},
   "source": [
    "## 6. Pandas Index Alignment (OPTIONAL)\n",
    "Do you know that pandas has a very powerful aspect? --- Almost every operation will <b>align on the index labels</b>. Let's look at an example below to understand what this means. We have a dataframe named `food` and a series named `alt_name`:"
   ]
  },
  {
   "cell_type": "code",
   "execution_count": 29,
   "metadata": {},
   "outputs": [
    {
     "data": {
      "text/html": [
       "<div>\n",
       "<style scoped>\n",
       "    .dataframe tbody tr th:only-of-type {\n",
       "        vertical-align: middle;\n",
       "    }\n",
       "\n",
       "    .dataframe tbody tr th {\n",
       "        vertical-align: top;\n",
       "    }\n",
       "\n",
       "    .dataframe thead th {\n",
       "        text-align: right;\n",
       "    }\n",
       "</style>\n",
       "<table border=\"1\" class=\"dataframe\">\n",
       "  <thead>\n",
       "    <tr style=\"text-align: right;\">\n",
       "      <th></th>\n",
       "      <th>fruit_veg</th>\n",
       "      <th>qty</th>\n",
       "    </tr>\n",
       "  </thead>\n",
       "  <tbody>\n",
       "    <tr>\n",
       "      <th>tomato</th>\n",
       "      <td>fruit</td>\n",
       "      <td>4</td>\n",
       "    </tr>\n",
       "    <tr>\n",
       "      <th>carrot</th>\n",
       "      <td>veg</td>\n",
       "      <td>2</td>\n",
       "    </tr>\n",
       "    <tr>\n",
       "      <th>lime</th>\n",
       "      <td>fruit</td>\n",
       "      <td>4</td>\n",
       "    </tr>\n",
       "    <tr>\n",
       "      <th>corn</th>\n",
       "      <td>veg</td>\n",
       "      <td>1</td>\n",
       "    </tr>\n",
       "    <tr>\n",
       "      <th>eggplant</th>\n",
       "      <td>veg</td>\n",
       "      <td>2</td>\n",
       "    </tr>\n",
       "  </tbody>\n",
       "</table>\n",
       "</div>"
      ],
      "text/plain": [
       "         fruit_veg  qty\n",
       "tomato       fruit    4\n",
       "carrot         veg    2\n",
       "lime         fruit    4\n",
       "corn           veg    1\n",
       "eggplant       veg    2"
      ]
     },
     "execution_count": 29,
     "metadata": {},
     "output_type": "execute_result"
    }
   ],
   "source": [
    "import pandas as pd\n",
    "d = {'fruit_veg': [\"fruit\", \"veg\", \"fruit\", \"veg\",\"veg\"], 'qty': [4, 2, 4, 1, 2]}\n",
    "food = pd.DataFrame(data=d)\n",
    "food.index = ['tomato', 'carrot', 'lime', 'corn','eggplant'] \n",
    "food"
   ]
  },
  {
   "cell_type": "code",
   "execution_count": 30,
   "metadata": {},
   "outputs": [
    {
     "data": {
      "text/plain": [
       "arugula        rocket\n",
       "eggplant    aubergine\n",
       "corn            maize\n",
       "dtype: object"
      ]
     },
     "execution_count": 30,
     "metadata": {},
     "output_type": "execute_result"
    }
   ],
   "source": [
    "alt_name = pd.Series(['rocket', 'aubergine', 'maize'], index=[\"arugula\", \"eggplant\", \"corn\"])\n",
    "alt_name"
   ]
  },
  {
   "cell_type": "markdown",
   "metadata": {},
   "source": [
    "By observing the two dataframes above, we see that though the `food` dataframe and the `alt_name` series have different numbers of items, they share two of the same index labels which are `corn` and `eggplant`. However, these are in different orders. If we wanted to add `alt_name` as a new column in our `food` dataframe, we can use the following code:"
   ]
  },
  {
   "cell_type": "code",
   "execution_count": 31,
   "metadata": {},
   "outputs": [
    {
     "data": {
      "text/html": [
       "<div>\n",
       "<style scoped>\n",
       "    .dataframe tbody tr th:only-of-type {\n",
       "        vertical-align: middle;\n",
       "    }\n",
       "\n",
       "    .dataframe tbody tr th {\n",
       "        vertical-align: top;\n",
       "    }\n",
       "\n",
       "    .dataframe thead th {\n",
       "        text-align: right;\n",
       "    }\n",
       "</style>\n",
       "<table border=\"1\" class=\"dataframe\">\n",
       "  <thead>\n",
       "    <tr style=\"text-align: right;\">\n",
       "      <th></th>\n",
       "      <th>fruit_veg</th>\n",
       "      <th>qty</th>\n",
       "      <th>alt_name</th>\n",
       "    </tr>\n",
       "  </thead>\n",
       "  <tbody>\n",
       "    <tr>\n",
       "      <th>tomato</th>\n",
       "      <td>fruit</td>\n",
       "      <td>4</td>\n",
       "      <td>NaN</td>\n",
       "    </tr>\n",
       "    <tr>\n",
       "      <th>carrot</th>\n",
       "      <td>veg</td>\n",
       "      <td>2</td>\n",
       "      <td>NaN</td>\n",
       "    </tr>\n",
       "    <tr>\n",
       "      <th>lime</th>\n",
       "      <td>fruit</td>\n",
       "      <td>4</td>\n",
       "      <td>NaN</td>\n",
       "    </tr>\n",
       "    <tr>\n",
       "      <th>corn</th>\n",
       "      <td>veg</td>\n",
       "      <td>1</td>\n",
       "      <td>maize</td>\n",
       "    </tr>\n",
       "    <tr>\n",
       "      <th>eggplant</th>\n",
       "      <td>veg</td>\n",
       "      <td>2</td>\n",
       "      <td>aubergine</td>\n",
       "    </tr>\n",
       "  </tbody>\n",
       "</table>\n",
       "</div>"
      ],
      "text/plain": [
       "         fruit_veg  qty   alt_name\n",
       "tomato       fruit    4        NaN\n",
       "carrot         veg    2        NaN\n",
       "lime         fruit    4        NaN\n",
       "corn           veg    1      maize\n",
       "eggplant       veg    2  aubergine"
      ]
     },
     "execution_count": 31,
     "metadata": {},
     "output_type": "execute_result"
    }
   ],
   "source": [
    "food[\"alt_name\"] = alt_name\n",
    "\n",
    "food"
   ]
  },
  {
   "cell_type": "markdown",
   "metadata": {},
   "source": [
    "When we perform the code above, pandas will intentionally ignore the order of the ``alt_name`` series, and automatically align on the index labels.\n",
    "\n",
    "In addition, Pandas will also:\n",
    "\n",
    "- Discard any items that have an index that doesn't match the dataframe (like `arugula`).\n",
    "- Fill any remaining rows with `NaN`.\n",
    "\n",
    "Observe the result again carefully."
   ]
  },
  {
   "cell_type": "code",
   "execution_count": 32,
   "metadata": {},
   "outputs": [
    {
     "data": {
      "text/html": [
       "<div>\n",
       "<style scoped>\n",
       "    .dataframe tbody tr th:only-of-type {\n",
       "        vertical-align: middle;\n",
       "    }\n",
       "\n",
       "    .dataframe tbody tr th {\n",
       "        vertical-align: top;\n",
       "    }\n",
       "\n",
       "    .dataframe thead th {\n",
       "        text-align: right;\n",
       "    }\n",
       "</style>\n",
       "<table border=\"1\" class=\"dataframe\">\n",
       "  <thead>\n",
       "    <tr style=\"text-align: right;\">\n",
       "      <th></th>\n",
       "      <th>fruit_veg</th>\n",
       "      <th>qty</th>\n",
       "      <th>alt_name</th>\n",
       "    </tr>\n",
       "  </thead>\n",
       "  <tbody>\n",
       "    <tr>\n",
       "      <th>tomato</th>\n",
       "      <td>fruit</td>\n",
       "      <td>4</td>\n",
       "      <td>NaN</td>\n",
       "    </tr>\n",
       "    <tr>\n",
       "      <th>carrot</th>\n",
       "      <td>veg</td>\n",
       "      <td>2</td>\n",
       "      <td>NaN</td>\n",
       "    </tr>\n",
       "    <tr>\n",
       "      <th>lime</th>\n",
       "      <td>fruit</td>\n",
       "      <td>4</td>\n",
       "      <td>NaN</td>\n",
       "    </tr>\n",
       "    <tr>\n",
       "      <th>corn</th>\n",
       "      <td>veg</td>\n",
       "      <td>1</td>\n",
       "      <td>maize</td>\n",
       "    </tr>\n",
       "    <tr>\n",
       "      <th>eggplant</th>\n",
       "      <td>veg</td>\n",
       "      <td>2</td>\n",
       "      <td>aubergine</td>\n",
       "    </tr>\n",
       "  </tbody>\n",
       "</table>\n",
       "</div>"
      ],
      "text/plain": [
       "         fruit_veg  qty   alt_name\n",
       "tomato       fruit    4        NaN\n",
       "carrot         veg    2        NaN\n",
       "lime         fruit    4        NaN\n",
       "corn           veg    1      maize\n",
       "eggplant       veg    2  aubergine"
      ]
     },
     "execution_count": 32,
     "metadata": {},
     "output_type": "execute_result"
    }
   ],
   "source": [
    "# Below is the result\n",
    "food"
   ]
  },
  {
   "cell_type": "markdown",
   "metadata": {},
   "source": [
    "You see that with every occasion, the pandas library will align on index, no matter if our index labels are strings or integers - this makes working with data from different sources much much easier."
   ]
  },
  {
   "cell_type": "markdown",
   "metadata": {},
   "source": [
    "## 7. Using Boolean Operators (IMPORTANT)\n",
    "We can combine boolean arrays using **boolean operators**. In Python, these boolean operators are `and`, `or`, and `not`. But in pandas, there is a slight difference compared to Python. Take a look at the chart below: \n",
    "\n",
    "|pandas|Python equivalent|Meaning|\n",
    "|-|-|-|\n",
    "|a & b| a and b| True if both a and b are True, else False|\n",
    "| a \\| b| a or b| True if either a or b is True|\n",
    "|~a| not a | True if a is False, else False|\n",
    "\n",
    "Let's try to use the syntaxes in the table in the small example below:"
   ]
  },
  {
   "cell_type": "code",
   "execution_count": 34,
   "metadata": {},
   "outputs": [
    {
     "data": {
      "text/html": [
       "<div>\n",
       "<style scoped>\n",
       "    .dataframe tbody tr th:only-of-type {\n",
       "        vertical-align: middle;\n",
       "    }\n",
       "\n",
       "    .dataframe tbody tr th {\n",
       "        vertical-align: top;\n",
       "    }\n",
       "\n",
       "    .dataframe thead th {\n",
       "        text-align: right;\n",
       "    }\n",
       "</style>\n",
       "<table border=\"1\" class=\"dataframe\">\n",
       "  <thead>\n",
       "    <tr style=\"text-align: right;\">\n",
       "      <th></th>\n",
       "      <th>company</th>\n",
       "      <th>revenues</th>\n",
       "      <th>country</th>\n",
       "    </tr>\n",
       "  </thead>\n",
       "  <tbody>\n",
       "    <tr>\n",
       "      <th>0</th>\n",
       "      <td>Walmart</td>\n",
       "      <td>485873</td>\n",
       "      <td>USA</td>\n",
       "    </tr>\n",
       "    <tr>\n",
       "      <th>1</th>\n",
       "      <td>State Grid</td>\n",
       "      <td>315199</td>\n",
       "      <td>China</td>\n",
       "    </tr>\n",
       "    <tr>\n",
       "      <th>2</th>\n",
       "      <td>Sinopec Group</td>\n",
       "      <td>267518</td>\n",
       "      <td>China</td>\n",
       "    </tr>\n",
       "    <tr>\n",
       "      <th>3</th>\n",
       "      <td>China National Petroleum</td>\n",
       "      <td>262573</td>\n",
       "      <td>China</td>\n",
       "    </tr>\n",
       "    <tr>\n",
       "      <th>4</th>\n",
       "      <td>Toyota Motor</td>\n",
       "      <td>254694</td>\n",
       "      <td>Japan</td>\n",
       "    </tr>\n",
       "  </tbody>\n",
       "</table>\n",
       "</div>"
      ],
      "text/plain": [
       "                    company  revenues country\n",
       "0                   Walmart    485873     USA\n",
       "1                State Grid    315199   China\n",
       "2             Sinopec Group    267518   China\n",
       "3  China National Petroleum    262573   China\n",
       "4              Toyota Motor    254694   Japan"
      ]
     },
     "execution_count": 34,
     "metadata": {},
     "output_type": "execute_result"
    }
   ],
   "source": [
    "cols = [\"company\", \"revenues\", \"country\"]\n",
    "f500_sel = f500[cols].head()\n",
    "f500_sel.head()"
   ]
  },
  {
   "cell_type": "markdown",
   "metadata": {},
   "source": [
    "We want to find the companies in `f500_sel` with more than 265 billion in revenue, and on top of that with headquarters located in China. We can achieve this by using two boolean comparisons like this:"
   ]
  },
  {
   "cell_type": "code",
   "execution_count": 35,
   "metadata": {},
   "outputs": [
    {
     "name": "stdout",
     "output_type": "stream",
     "text": [
      "0     True\n",
      "1     True\n",
      "2     True\n",
      "3    False\n",
      "4    False\n",
      "Name: revenues, dtype: bool\n",
      "0    False\n",
      "1     True\n",
      "2     True\n",
      "3     True\n",
      "4    False\n",
      "Name: country, dtype: bool\n"
     ]
    }
   ],
   "source": [
    "over_265 = f500_sel[\"revenues\"] > 265000\n",
    "china = f500_sel[\"country\"] == \"China\"\n",
    "print(over_265.head())\n",
    "print(china.head())"
   ]
  },
  {
   "cell_type": "markdown",
   "metadata": {},
   "source": [
    "What we can do next is to use the `&` operator to combine the two boolean arrays to get the actual boolean we want, like this:"
   ]
  },
  {
   "cell_type": "code",
   "execution_count": 37,
   "metadata": {},
   "outputs": [
    {
     "data": {
      "text/plain": [
       "0    False\n",
       "1     True\n",
       "2     True\n",
       "3    False\n",
       "4    False\n",
       "dtype: bool"
      ]
     },
     "execution_count": 37,
     "metadata": {},
     "output_type": "execute_result"
    }
   ],
   "source": [
    "combined = over_265 & china\n",
    "combined.head()"
   ]
  },
  {
   "cell_type": "markdown",
   "metadata": {},
   "source": [
    "Last but not least, we perform selection on our dataframe to get the final result like this:"
   ]
  },
  {
   "cell_type": "code",
   "execution_count": 38,
   "metadata": {
    "collapsed": true,
    "jupyter": {
     "outputs_hidden": true
    }
   },
   "outputs": [
    {
     "data": {
      "text/html": [
       "<div>\n",
       "<style scoped>\n",
       "    .dataframe tbody tr th:only-of-type {\n",
       "        vertical-align: middle;\n",
       "    }\n",
       "\n",
       "    .dataframe tbody tr th {\n",
       "        vertical-align: top;\n",
       "    }\n",
       "\n",
       "    .dataframe thead th {\n",
       "        text-align: right;\n",
       "    }\n",
       "</style>\n",
       "<table border=\"1\" class=\"dataframe\">\n",
       "  <thead>\n",
       "    <tr style=\"text-align: right;\">\n",
       "      <th></th>\n",
       "      <th>company</th>\n",
       "      <th>revenues</th>\n",
       "    </tr>\n",
       "  </thead>\n",
       "  <tbody>\n",
       "    <tr>\n",
       "      <th>1</th>\n",
       "      <td>State Grid</td>\n",
       "      <td>315199</td>\n",
       "    </tr>\n",
       "    <tr>\n",
       "      <th>2</th>\n",
       "      <td>Sinopec Group</td>\n",
       "      <td>267518</td>\n",
       "    </tr>\n",
       "  </tbody>\n",
       "</table>\n",
       "</div>"
      ],
      "text/plain": [
       "         company  revenues\n",
       "1     State Grid    315199\n",
       "2  Sinopec Group    267518"
      ]
     },
     "execution_count": 38,
     "metadata": {},
     "output_type": "execute_result"
    }
   ],
   "source": [
    "final_cols = [\"company\", \"revenues\"]\n",
    "result = f500_sel.loc[combined, final_cols]\n",
    "result.head()"
   ]
  },
  {
   "cell_type": "markdown",
   "metadata": {},
   "source": [
    "This is the end result which fulfills all of our criteria.\n",
    "\n",
    "### Task 3.5.7\n",
    "Now try to do a similar task by yourself:\n",
    "1. Select all companies with revenues over **100 billion** and **negative profits** from the `f500` dataframe. Note that the entries in the profits column are given in millions of dollars (USD). The result should include all columns.\n",
    "    - Create a boolean array that selects the companies with revenues greater than 100 billion. Assign the result to `large_revenue`.\n",
    "    - Create a boolean array that selects the companies with profits less than `0`. Assign the result to `negative_profits`.\n",
    "    - Combine `large_revenue` and `negative_profits`. Assign the result to `combined`.\n",
    "    - Use combined to filter `f500`. Assign the result to `big_rev_neg_profit`."
   ]
  },
  {
   "cell_type": "code",
   "execution_count": 40,
   "metadata": {},
   "outputs": [],
   "source": [
    "# Start your code below:\n",
    "\n",
    "large_revenue = f500[\"revenues\"] > 100000\n",
    "negative_profits = f500[\"profits\"] < 0\n",
    "combined = large_revenue & negative_profits\n",
    "big_rev_neg_profit = f500[combined]"
   ]
  },
  {
   "cell_type": "markdown",
   "metadata": {},
   "source": [
    "## 8. Sorting Values\n",
    "\n",
    "Now let's try to answer some more complicated questions about our data set. What if we wanted to find the company that employs the most people in China? How can we achieve this? We can first select all of the rows where the `country` column equals `China`, like this:"
   ]
  },
  {
   "cell_type": "code",
   "execution_count": 41,
   "metadata": {},
   "outputs": [],
   "source": [
    "selected_rows = f500[f500[\"country\"] == \"China\"]"
   ]
  },
  {
   "cell_type": "markdown",
   "metadata": {},
   "source": [
    "Then, we can use the [`DataFrame.sort_values()` method](https://pandas.pydata.org/pandas-docs/stable/generated/pandas.DataFrame.sort_values.html) to sort the rows on the employees column, like this:\n",
    "\n"
   ]
  },
  {
   "cell_type": "code",
   "execution_count": 42,
   "metadata": {},
   "outputs": [
    {
     "name": "stdout",
     "output_type": "stream",
     "text": [
      "                                company country  employees\n",
      "204                         Noble Group   China       1000\n",
      "458             Yango Financial Holding   China      10234\n",
      "438  China National Aviation Fuel Group   China      11739\n",
      "128                         Tewoo Group   China      17353\n",
      "182            Amer International Group   China      17852\n"
     ]
    }
   ],
   "source": [
    "sorted_rows = selected_rows.sort_values(\"employees\")\n",
    "print(sorted_rows[[\"company\", \"country\", \"employees\"]].head())"
   ]
  },
  {
   "cell_type": "markdown",
   "metadata": {},
   "source": [
    "The `sort_values()` method will by default automatically sort the rows in ascending order — from smallest to largest.\n",
    "\n",
    "But if we want to sort the rows in descending order instead, we can achieve this by setting the `ascending` parameter to `False`, like this:\n",
    "\n"
   ]
  },
  {
   "cell_type": "code",
   "execution_count": 43,
   "metadata": {},
   "outputs": [
    {
     "name": "stdout",
     "output_type": "stream",
     "text": [
      "                        company country  employees\n",
      "3      China National Petroleum   China    1512048\n",
      "118            China Post Group   China     941211\n",
      "1                    State Grid   China     926067\n",
      "2                 Sinopec Group   China     713288\n",
      "37   Agricultural Bank of China   China     501368\n"
     ]
    }
   ],
   "source": [
    "sorted_rows = selected_rows.sort_values(\"employees\", ascending=False)\n",
    "print(sorted_rows[[\"company\", \"country\", \"employees\"]].head())"
   ]
  },
  {
   "cell_type": "markdown",
   "metadata": {},
   "source": [
    "Now we see the Companies in China who employ the most people is China National Petroleum. \n",
    "\n",
    "Can you find out the same about Japanese company?\n",
    "### Task 3.5.8\n",
    "\n",
    "1. Find the companies headquartered in Japan with the largest number of employees.\n",
    "    - Select only the rows that have a country name equal to `Japan`.\n",
    "    - Use `DataFrame.sort_values()` to sort those rows by the `employees` column in descending order.\n",
    "    - Use `DataFrame.iloc[]` to select the first row from the sorted dataframe.\n",
    "    - Extract the company name from the index label `company` from the first row. Assign the result to `top_japanese_employer`."
   ]
  },
  {
   "cell_type": "code",
   "execution_count": 104,
   "metadata": {},
   "outputs": [],
   "source": [
    "# Start your code below:\n",
    "\n",
    "japan = f500[f500[\"country\"] == \"Japan\"]\n",
    "sorted_rows = japan.sort_values(\"employees\", ascending=False)\n",
    "top_japanese_employer = sorted_rows.iloc[0,]\n",
    "top_japanese_employer = top_japanese_employer.loc[\"company\"]"
   ]
  }
 ],
 "metadata": {
  "kernelspec": {
   "display_name": "Python 3 (ipykernel)",
   "language": "python",
   "name": "python3"
  },
  "language_info": {
   "codemirror_mode": {
    "name": "ipython",
    "version": 3
   },
   "file_extension": ".py",
   "mimetype": "text/x-python",
   "name": "python",
   "nbconvert_exporter": "python",
   "pygments_lexer": "ipython3",
   "version": "3.10.6"
  }
 },
 "nbformat": 4,
 "nbformat_minor": 4
}
