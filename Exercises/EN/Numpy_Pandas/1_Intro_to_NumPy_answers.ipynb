{
 "cells": [
  {
   "cell_type": "markdown",
   "metadata": {},
   "source": [
    "## About This Notebook \n",
    "In this **Introduction to NumPy** chapter, we will learn:\n",
    "- How vectorization makes our code faster.\n",
    "- About n-dimensional arrays, and NumPy's ndarrays.\n",
    "- How to select specific items, rows, columns, 1D slices, and 2D slices from ndarrays.\n",
    "- How to apply simple calculations to entire ndarrays.\n",
    "- How to use vectorized methods to perform calculations across any axis of an ndarray.\n",
    "***\n",
    "## 1. Introduction\n",
    "\n",
    "In this notebook, we'll learn data analysis with some of the most powerful Python libraries for working with data.\n",
    "\n",
    "Have you ever wondered why the Python language is so popular? One straight forward answer is that Python makes writing programs easy. Python is a **high-level language**, which means we don’t need to worry about allocating memory or choosing how certain operations are done by our computers' processors like we have to when we use a **low-level language**, such as C. It takes usually more time to code in a low-level language; however, it also gives us more ability to optimize the code in order for it to run faster.\n",
    "\n",
    "We have two Python libraries that enable us to write code efficiently without sacrificing performance: <b>NumPy</b> and<b> pandas</b>.\n",
    "\n",
    "Now let's take a closer look at NumPy.\n",
    "\n"
   ]
  },
  {
   "cell_type": "markdown",
   "metadata": {},
   "source": [
    "## 2. Introduction to Ndarrays\n",
    "\n",
    "The core data structure in NumPy is the <b>ndarray </b>or <b> n-dimensional array</b>. In data science,<b> array </b>describes a collection of elements, similar to a list. The word <b>n-dimensional </b>refers to the fact that ndarrays can have one or more dimensions. Let's first begin this session by working with one-dimensional (1D) ndarrays.\n",
    "\n",
    "In order to use the NumPy library, the first step is to import numpy into our Python environment like this:\n",
    "\n",
    "````python\n",
    "import numpy as np\n",
    "````\n",
    "Note that ``np`` is the common alias for numpy."
   ]
  },
  {
   "cell_type": "markdown",
   "metadata": {},
   "source": [
    "With the NumPy library a list can be directly converted to an ndarray using the `numpy.array()` [constructor](https://docs.scipy.org/doc/numpy-1.13.0/reference/generated/numpy.array.html).\n",
    "How can we create a 1D ndarray? Look at the code below:\n",
    "\n",
    "````python\n",
    "data_ndarray = np. array([5,10,15,20])\n",
    "````"
   ]
  },
  {
   "cell_type": "markdown",
   "metadata": {},
   "source": [
    "Have you noticed that we used the syntax `np.array()` instead of `numpy.array()`? This is because we used the alias `as np` in our code: \n",
    "````python\n",
    "import numpy as np\n",
    "````\n",
    "Now, let's do some exercises creating 1D ndarrays.\n",
    "\n",
    "### Task 3.1.2:\n",
    "1. Import `numpy` and assign it to the alias `np`.\n",
    "2. Create a NumPy ndarray from the list `[10, 20, 30]`. Assign the result to the variable `data_ndarray`."
   ]
  },
  {
   "cell_type": "code",
   "execution_count": 1,
   "metadata": {},
   "outputs": [
    {
     "name": "stdout",
     "output_type": "stream",
     "text": [
      "[10 20 30]\n"
     ]
    }
   ],
   "source": [
    "# Start your code below:\n",
    "\n",
    "import numpy as np\n",
    "data_ndarray = np.array([10,20,30])\n",
    "print(data_ndarray)"
   ]
  },
  {
   "cell_type": "markdown",
   "metadata": {},
   "source": [
    "## 3. NYC Taxi-Airport Data\n",
    "\n",
    "So far we've only created one-dimensional ndarrys. However, ndarrays can also be two-dimensional. \n",
    "To illustrate this, we will analyze New York City taxi trip data released by the city of New York.\n",
    "\n",
    "Our dataset is stored in a [CSV file](https://en.wikipedia.org/wiki/Comma-separated_values) called <b>nyc_taxis.csv</b>. To convert the data set into a 2D ndarray, we'll first use Python's built-in csv [module](https://docs.python.org/3/library/csv.html) to import our CSV as a \"list of lists\". Then we can convert the lists of lists to an ndarray like this:"
   ]
  },
  {
   "cell_type": "markdown",
   "metadata": {},
   "source": [
    "Our list of lists is stored as `data_list`:\n",
    "````python\n",
    "data_ndarray = np.array(data_list)\n",
    "````"
   ]
  },
  {
   "cell_type": "markdown",
   "metadata": {},
   "source": [
    "Below is the information about selected columns from the data set:\n",
    "- `pickup_year`: The year of the trip.\n",
    "- `pickup_month`: The month of the trip (January is 1, December is 12).\n",
    "- `pickup_day`: The day of the month of the trip.\n",
    "- `pickup_location_code`: The airport or borough where the trip started.\n",
    "- `dropoff_location_code`: The airport or borough where the trip finished.\n",
    "- `trip_distance`: The distance of the trip in miles.\n",
    "- `trip_length`: The length of the trip in seconds.\n",
    "- `fare_amount`: The base fare of the trip, in dollars.\n",
    "- `total_amount`: The total amount charged to the passenger, including all fees, tolls and tips.\n",
    "\n",
    "### Task 3.1.3 (IMPORTANT):\n",
    "We have used Python's csv module to import the nyc_taxis.csv file and convert it to a list of lists containing float values.\n",
    "\n",
    "1. Add a line of code using the `numpy.array()` constructor to convert the `converted_taxi_list` variable to a NumPy ndarray.\n",
    "2. Assign the result to the variable name `taxi`."
   ]
  },
  {
   "cell_type": "code",
   "execution_count": 2,
   "metadata": {},
   "outputs": [],
   "source": [
    "import csv\n",
    "import numpy as np\n",
    "\n",
    "# import nyc_taxi.csv as a list of lists\n",
    "f = open(\"../../../Data/csv/nyc_taxis.csv\", \"r\")\n",
    "taxi_list = list(csv.reader(f))\n",
    "\n",
    "# remove the header row\n",
    "taxi_list = taxi_list[1:]\n",
    "\n",
    "# convert all values to floats\n",
    "converted_taxi_list = []\n",
    "for row in taxi_list:\n",
    "    converted_row = []\n",
    "    for item in row:\n",
    "        converted_row.append(float(item))\n",
    "    converted_taxi_list.append(converted_row)\n",
    "\n",
    "    \n",
    "# Start your code below:\n",
    "\n",
    "taxi = np.array(converted_taxi_list)"
   ]
  },
  {
   "cell_type": "markdown",
   "metadata": {},
   "source": [
    "## 4. Array Shapes\n",
    "\n",
    "if we want, we can use the `print()` function to take a look at the data in the `taxi` variable."
   ]
  },
  {
   "cell_type": "code",
   "execution_count": 3,
   "metadata": {},
   "outputs": [
    {
     "name": "stdout",
     "output_type": "stream",
     "text": [
      "[[2.016e+03 1.000e+00 1.000e+00 ... 1.165e+01 6.999e+01 1.000e+00]\n",
      " [2.016e+03 1.000e+00 1.000e+00 ... 8.000e+00 5.430e+01 1.000e+00]\n",
      " [2.016e+03 1.000e+00 1.000e+00 ... 0.000e+00 3.780e+01 2.000e+00]\n",
      " ...\n",
      " [2.016e+03 6.000e+00 3.000e+01 ... 5.000e+00 6.334e+01 1.000e+00]\n",
      " [2.016e+03 6.000e+00 3.000e+01 ... 8.950e+00 4.475e+01 1.000e+00]\n",
      " [2.016e+03 6.000e+00 3.000e+01 ... 0.000e+00 5.484e+01 2.000e+00]]\n"
     ]
    }
   ],
   "source": [
    "# the code below only works if you have solved task 1.2\n",
    "print(taxi)"
   ]
  },
  {
   "cell_type": "markdown",
   "metadata": {},
   "source": [
    "The elipses (...) between rows and columns indicate that there is more data in our NumPy ndarray than can easily be printed. In order to know the number of rows and columns in an ndarray, we can use the `ndarray.shape` attribute like this: "
   ]
  },
  {
   "cell_type": "code",
   "execution_count": 4,
   "metadata": {},
   "outputs": [
    {
     "name": "stdout",
     "output_type": "stream",
     "text": [
      "(2, 3)\n"
     ]
    }
   ],
   "source": [
    "import numpy as np\n",
    "data_ndarray = np.array([[5, 10, 15], \n",
    "                         [20, 25, 30]])\n",
    "print(data_ndarray.shape)"
   ]
  },
  {
   "cell_type": "markdown",
   "metadata": {},
   "source": [
    "A data type **tuple** is returned as the result. Recall what we learned in the previous course about tuple — this type of value can't be modified.\n",
    "\n",
    "This value output gives us the following information:\n",
    "1. The first number tells us that there are 2 rows in `data_ndarray`.\n",
    "2. The second number tells us that there are 3 columns in `data_ndarray`."
   ]
  },
  {
   "cell_type": "markdown",
   "metadata": {},
   "source": [
    "## 5. Selecting and Slicing Rows and Items from ndarrays\n",
    "\n",
    "The following code will compare working with ndarrays and list of lists to select one or more rows of data:"
   ]
  },
  {
   "cell_type": "markdown",
   "metadata": {},
   "source": [
    "#### List of lists method:\n",
    "````python\n",
    "# Selecting a single row\n",
    "sel_lol = data_lol[1]\n",
    "\n",
    "#Selecting multiple rows\n",
    "sel_lol = data_lol[2:]\n",
    "````"
   ]
  },
  {
   "cell_type": "markdown",
   "metadata": {},
   "source": [
    "#### NumPy method:\n",
    "\n",
    "````python\n",
    "# Selecting a single row\n",
    "sel_np = data_np[1]\n",
    "\n",
    "#Selecting multiple rows\n",
    "sel_np = data_np[2:]\n",
    "````"
   ]
  },
  {
   "cell_type": "markdown",
   "metadata": {},
   "source": [
    "You see that the syntax of selecting rows in ndarrays is very similar to lists of lists. In fact, the syntax that we wrote above is a kind of shortcut. For any 2D array, the full syntax for selecting data is:"
   ]
  },
  {
   "cell_type": "markdown",
   "metadata": {},
   "source": [
    "````python\n",
    "ndarray[row_index,column_index]\n",
    "````\n",
    "\n",
    "When you want to select the entire columns for a given set of rows, you just need to do this:\n",
    "````python\n",
    "ndarray[row_index]\n",
    "````"
   ]
  },
  {
   "cell_type": "markdown",
   "metadata": {},
   "source": [
    "Here `row_index` defines the location along the row axis and `column_index` defines the location along the column axis.\n",
    "\n",
    "Like lists, array slicing is from the first specified index up to — but **not including** – the second specified index. For example, to select the items at index 1, 2, and 3, we'd need to use the slice `[1:4]`.\n",
    "\n",
    "This is how we **select a single item** from a 2D ndarray:"
   ]
  },
  {
   "cell_type": "markdown",
   "metadata": {},
   "source": [
    "\n",
    "#### List of lists method\n",
    "\n",
    "````python\n",
    "# Selecting a single row\n",
    "sel_lol = data_lol[1][3]\n",
    "````"
   ]
  },
  {
   "cell_type": "markdown",
   "metadata": {},
   "source": [
    "#### NumPy method\n",
    "\n",
    "````python\n",
    "# Selecting a single row\n",
    "sel_np = data_np[1,3] # The comma here separates row/column locations. Produces a single Python object.\n",
    "````"
   ]
  },
  {
   "cell_type": "markdown",
   "metadata": {},
   "source": [
    "Two separate pairs of square brackets back-to-back are used with a list of lists and a single pair of brackets with comma-separated row and column locations is used with a NumPy ndarray."
   ]
  },
  {
   "cell_type": "markdown",
   "metadata": {},
   "source": [
    "### Task 3.1.5:\n",
    "From the `taxi` ndarray:\n",
    "\n",
    "1. Select the row at index `0`. Assign it to `row_0`.\n",
    "2. Select every column for the rows from index `391` up to and including `500`. Assign them to `rows_391_to_500`.\n",
    "3. Select the item at row index `21` and column index `5`. Assign it to `row_21_column_5`."
   ]
  },
  {
   "cell_type": "code",
   "execution_count": 5,
   "metadata": {},
   "outputs": [],
   "source": [
    "# Start your code below:\n",
    "\n",
    "row_0 = taxi[0]\n",
    "rows_391_to_500 = taxi[391:501]\n",
    "row_21_column_5 = taxi[21,5]"
   ]
  },
  {
   "cell_type": "markdown",
   "metadata": {},
   "source": [
    "## 6. Selecting Columns and Custom Slicing ndarrays\n",
    "\n",
    "Let's take a look at how to select one or more columns of data:"
   ]
  },
  {
   "cell_type": "markdown",
   "metadata": {},
   "source": [
    "\n",
    "#### List of lists method\n",
    "````python\n",
    "# Selecting a single row\n",
    "sel_lol = []\n",
    "\n",
    "for row in data_lol:\n",
    "    col4 = row[3]\n",
    "    sel_lol.append(col4)\n",
    "    \n",
    "#Selecting multiple columns\n",
    "sel_lol = []\n",
    "\n",
    "for row in data_lol:\n",
    "    col23 = row[2:3]\n",
    "    sel_lol.append(col23)\n",
    "    \n",
    "#Selecting multiple, specific columns\n",
    "sel_lol = []\n",
    "\n",
    "for row in data_lol:\n",
    "    cols = [row[1], row[3], row[4]]\n",
    "    sel_lol.append(cols)\n",
    "````"
   ]
  },
  {
   "cell_type": "markdown",
   "metadata": {},
   "source": [
    "#### NumPy Method\n",
    "\n",
    "````python\n",
    "# Selecting a single row\n",
    "sel_np = data_np[:,3] #Produces a 1D ndarray\n",
    "    \n",
    "#Selecting multiple columns\n",
    "sel_np = data_np[:, 1:3] # Produces a 2D ndarray\n",
    "    \n",
    "#Selecting multiple, specific columns\n",
    "cols = [1, 3, 4]\n",
    "sel_np = data_np[:,cols] # Produces a 2D ndarray``\n",
    "````"
   ]
  },
  {
   "cell_type": "markdown",
   "metadata": {},
   "source": [
    "You see that with a list of lists, we need to use a for loop to extract specific column(s) and append them back to a new list. It is much easier with ndarrays. We again use single brackets with comma-separated row and column locations, but we use a colon (`:`) for the row locations, which gives us all of the rows.\n",
    "\n",
    "If we want to select a partial 1D slice of a row or column, we can combine a single value for one dimension with a slice for the other dimension:"
   ]
  },
  {
   "cell_type": "markdown",
   "metadata": {},
   "source": [
    "\n",
    "#### List of lists method\n",
    "````python\n",
    "# Selecting a 1D slice (row)\n",
    "sel_lol = data_lol[2][1:4]  #third row (row index of 2) of column 1, 2, 3\n",
    "\n",
    "#Selecting a 1D slice (column)\n",
    "sel_lol = []\n",
    "\n",
    "rows = data_lol[1:5] #fifth column (column index of 4) of row 1, 2, 3, 4\n",
    "for r in rows:\n",
    "    col5 = r[4]\n",
    "    sel_lol.append(col5) \n",
    "````"
   ]
  },
  {
   "cell_type": "markdown",
   "metadata": {},
   "source": [
    "#### NumPy Method\n",
    "\n",
    "````python\n",
    "# Selecting a 1D slice (row)\n",
    "sel_np = data_np[2, 1:4] # Produces a 1D ndarray\n",
    "    \n",
    "# Selecting a 1D slice (column)\n",
    "sel_np = data_np[1:5, 4] # Produces a 1D ndarray\n",
    "````"
   ]
  },
  {
   "cell_type": "markdown",
   "metadata": {},
   "source": [
    "Lastly, if we want to select a 2D slice, we can use slices for both dimensions:"
   ]
  },
  {
   "cell_type": "markdown",
   "metadata": {},
   "source": [
    "#### List of lists method\n",
    "\n",
    "````python\n",
    "# Selecting a 2D slice \n",
    "sel_lol = []\n",
    "\n",
    "rows = data_lol[1:4]\n",
    "for r in rows:\n",
    "    new_row = r[:3]\n",
    "    sel_lol.append(new_row)\n",
    "````"
   ]
  },
  {
   "cell_type": "markdown",
   "metadata": {},
   "source": [
    "#### NumPy method\n",
    "\n",
    "````python\n",
    "# Selecting a 2D slice \n",
    "sel_np = data_np[1:4,:3]\n",
    "````"
   ]
  },
  {
   "cell_type": "markdown",
   "metadata": {},
   "source": [
    "### Task 3.1.6:\n",
    "From the `taxi` ndarray:\n",
    "\n",
    "1. Select every row for the columns at indexes `1`, `4`, and `7`. Assign them to `columns_1_4_7`.\n",
    "2. Select the columns at indexes `5` to `8` inclusive for the row at index `99`. Assign them to `row_99_columns_5_to_8`.\n",
    "3. Select the rows at indexes `100` to `200` inclusive for the column at index `14`. Assign them to `rows_100_to_200_column_14`.\n"
   ]
  },
  {
   "cell_type": "code",
   "execution_count": 6,
   "metadata": {},
   "outputs": [],
   "source": [
    "# Start your code below:\n",
    "\n",
    "columns_1_4_7 = taxi[:,[1,4,7]]\n",
    "row_99_columns_5_to_8 = taxi[99,5:9]\n",
    "rows_100_to_200_column_14 = taxi[100:201,14]"
   ]
  },
  {
   "cell_type": "markdown",
   "metadata": {},
   "source": [
    "## 7. Vector Math\n",
    "In this section we will explore the power of vectorization. Take a look at the example below:"
   ]
  },
  {
   "cell_type": "code",
   "execution_count": 7,
   "metadata": {},
   "outputs": [
    {
     "data": {
      "text/plain": [
       "array([ 3,  9, 15])"
      ]
     },
     "execution_count": 7,
     "metadata": {},
     "output_type": "execute_result"
    }
   ],
   "source": [
    "# convert the list of lists to an ndarray\n",
    "my_numbers = [[1,2,3],[4,5,6], [7,8,9]] \n",
    "my_numbers = np.array(my_numbers)\n",
    "\n",
    "# select each of the columns - the result\n",
    "# of each will be a 1D ndarray\n",
    "col1 = my_numbers[:,0]\n",
    "col2 = my_numbers[:,1]\n",
    "\n",
    "# add the two columns\n",
    "sums = col1 + col2\n",
    "sums"
   ]
  },
  {
   "cell_type": "markdown",
   "metadata": {},
   "source": [
    "The code above can be simplified into one line of code, like this:"
   ]
  },
  {
   "cell_type": "code",
   "execution_count": 8,
   "metadata": {},
   "outputs": [
    {
     "data": {
      "text/plain": [
       "array([ 3,  9, 15])"
      ]
     },
     "execution_count": 8,
     "metadata": {},
     "output_type": "execute_result"
    }
   ],
   "source": [
    "sums = my_numbers[:,0] + my_numbers[:,1]\n",
    "sums"
   ]
  },
  {
   "cell_type": "markdown",
   "metadata": {},
   "source": [
    "Some key take aways from the code above:\n",
    "- When we selected each column, we used the syntax `ndarray[:,c]` where `c` is the column index we wanted to select. Like we saw in the previous screen, the colon selects all rows.\n",
    "- To add the two 1D ndarrays, `col1` and `col2` we can simply put the addition operator ``+`` between them."
   ]
  },
  {
   "cell_type": "markdown",
   "metadata": {},
   "source": [
    "## 8. Vector Math Continued\n",
    "\n",
    "Do you know that the standard Python numeric operators also work with vectors such as:\n",
    "\n",
    "- **Addition**: `vector_a + vector_b`\n",
    "- **Subtraction**: `vector_a - vector_b`\n",
    "- **Multiplication**: (unrelated to the vector multiplication in linear algebra): `vector_a * vector_b`\n",
    "- **Division**: `vecotr_a / vector_b`\n",
    "\n",
    "Note that all these operations are entry-wise.\n",
    "\n",
    "Below is an example table from our taxi data set:"
   ]
  },
  {
   "cell_type": "markdown",
   "metadata": {},
   "source": [
    "|trip_distance|trip_length|\n",
    "|-------------|-----------|\n",
    "|21.00|2037.0|\n",
    "|16.29|1520.0|\n",
    "|12.70|1462.0|\n",
    "|8.70|1210.0|\n",
    "|5.56|759.0|"
   ]
  },
  {
   "cell_type": "markdown",
   "metadata": {},
   "source": [
    "We want to use these columns to calculate the average travel speed of each trip in miles per hour. For this we can use the formula below: <br>\n",
    "**miles per hour = distance in miles / length in hours**\n",
    "\n",
    "The current column `trip_distance` is already expressed in miles, but `trip_length` is expressed in seconds. First, we want to convert `trip_length` into hours:"
   ]
  },
  {
   "cell_type": "markdown",
   "metadata": {},
   "source": [
    "````python\n",
    "trip_distance = taxi[:,7]\n",
    "trip_length_seconds = taxi[:,8]\n",
    "\n",
    "trip_length_hours = trip_length_seconds / 3600 \n",
    "````\n",
    "Note: 3600 seconds is one hour"
   ]
  },
  {
   "cell_type": "markdown",
   "metadata": {},
   "source": [
    "We can then divide each value in the vector by a single number, 3600, instead of another vector. Let's see the first five rows of the result below:\n",
    "\n",
    "|trip_length_hours|\n",
    "|-------------|\n",
    "|0.565833|\n",
    "|0.422222|\n",
    "|0.406111|\n",
    "|0.336111|\n",
    "|0.210833|\n"
   ]
  },
  {
   "cell_type": "markdown",
   "metadata": {},
   "source": [
    "## 9. Calculating Statistics For 1D ndarrays\n",
    "\n",
    "We've created ``trip_mph`` in the previous exercise. This is a 1D ndarray of the average mile-per-hour speed of each trip in our dataset. Now, something else we can do is to calculate the ``minimum``, ``maximum``, and ``mean`` values for `trip_distance`.\n",
    "\n",
    "In order to calculate the minimum value of a 1D ndarray, all we need to do is to use the vectorized `ndarray.min()` [method](https://docs.scipy.org/doc/numpy-1.14.0/reference/generated/numpy.ndarray.min.html), like this:\n",
    "\n",
    "````python\n",
    "distance_min = trip_distance.min()\n",
    "````"
   ]
  },
  {
   "cell_type": "markdown",
   "metadata": {},
   "source": [
    "For other Numpy ndarrays methods we have:\n",
    "- [ndarray.min()](https://docs.scipy.org/doc/numpy-1.14.0/reference/generated/numpy.ndarray.min.html#numpy.ndarray.min) to calculate the minimum value\n",
    "- [ndarray.max()](https://docs.scipy.org/doc/numpy-1.16.1/reference/generated/numpy.ndarray.max.html#numpy.ndarray.max) to calculate the maximum value\n",
    "- [ndarray.mean()](https://docs.scipy.org/doc/numpy-1.14.0/reference/generated/numpy.ndarray.mean.html#numpy.ndarray.mean) to calculate the mean or average value\n",
    "- [ndarray.sum()](https://docs.scipy.org/doc/numpy-1.14.0/reference/generated/numpy.ndarray.sum.html#numpy.ndarray.sum) to calculate the sum of the values\n",
    "\n",
    "You will find the full list of ndarray methods in the NumPy ndarray documentation [here](https://docs.scipy.org/doc/numpy-1.14.0/reference/arrays.ndarray.html#calculation).\n",
    "\n",
    "### Task 3.1.9:\n",
    "1. Use the `ndarray.max()` method to calculate the maximum value of `trip_distance`. Assign the result to `distance_max`.\n",
    "2. Use the `ndarray.mean()` method to calculate the average value of `trip_distance`. Assign the result to `distance_mean`."
   ]
  },
  {
   "cell_type": "code",
   "execution_count": 9,
   "metadata": {},
   "outputs": [],
   "source": [
    "# Selecting only the relevant column distance\n",
    "trip_distance = taxi[:,7]\n",
    "trip_distance_miles = taxi[:,7]\n",
    "trip_length_seconds = taxi[:,8]\n",
    "\n",
    "trip_length_hours = trip_length_seconds / 3600 # 3600 seconds is one hour\n",
    "trip_mph = trip_distance_miles / trip_length_hours\n",
    "# Start your code below:\n",
    "mph_min = trip_mph.min()\n",
    "mph_max = trip_mph.max()\n",
    "mph_mean = trip_mph.mean()"
   ]
  },
  {
   "cell_type": "markdown",
   "metadata": {},
   "source": [
    "## 10. Calculating Statistics For 1D ndarrays Continued (IMPORTANT)\n",
    "\n",
    "Let's examine the difference between methods and functions.\n",
    "<b>Functions</b> act as stand alone segments of code that usually take an input, perform some processing, and return some output. Take for example the `len()` function used to calculate the length of a list or the number of characters in a string:"
   ]
  },
  {
   "cell_type": "code",
   "execution_count": 10,
   "metadata": {},
   "outputs": [
    {
     "name": "stdout",
     "output_type": "stream",
     "text": [
      "3\n"
     ]
    }
   ],
   "source": [
    "my_list = [25,18,9]\n",
    "print(len(my_list))"
   ]
  },
  {
   "cell_type": "code",
   "execution_count": 11,
   "metadata": {},
   "outputs": [
    {
     "name": "stdout",
     "output_type": "stream",
     "text": [
      "3\n"
     ]
    }
   ],
   "source": [
    "my_string = 'RBI'\n",
    "print(len(my_string))"
   ]
  },
  {
   "cell_type": "markdown",
   "metadata": {},
   "source": [
    "In contrast, <b>methods</b> are special functions that belong to a specific type of object. In other words, when we work with list objects, there are special functions or methods that can only be used with lists. For example, `list.append()` method is used to add an item to the end of a list. We will get an error if we use this method on a string:"
   ]
  },
  {
   "cell_type": "code",
   "execution_count": 12,
   "metadata": {},
   "outputs": [
    {
     "ename": "AttributeError",
     "evalue": "'str' object has no attribute 'append'",
     "output_type": "error",
     "traceback": [
      "\u001b[0;31m---------------------------------------------------------------------------\u001b[0m",
      "\u001b[0;31mAttributeError\u001b[0m                            Traceback (most recent call last)",
      "Input \u001b[0;32mIn [12]\u001b[0m, in \u001b[0;36m<cell line: 1>\u001b[0;34m()\u001b[0m\n\u001b[0;32m----> 1\u001b[0m \u001b[43mmy_string\u001b[49m\u001b[38;5;241;43m.\u001b[39;49m\u001b[43mappend\u001b[49m(\u001b[38;5;124m'\u001b[39m\u001b[38;5;124m is the best!\u001b[39m\u001b[38;5;124m'\u001b[39m)\n",
      "\u001b[0;31mAttributeError\u001b[0m: 'str' object has no attribute 'append'"
     ]
    }
   ],
   "source": [
    "my_string.append(' is the best!')"
   ]
  },
  {
   "cell_type": "markdown",
   "metadata": {},
   "source": [
    "There are cases in NumPy where operations are sometimes implemented as both methods and functions. It can be confusing at first glance, so let's take a look at an example."
   ]
  },
  {
   "cell_type": "markdown",
   "metadata": {},
   "source": [
    "|Calculation|Function Representation|Method Representation|\n",
    "|-------------|-----------|---------------|\n",
    "|Calculate the minimum value of trip_mph|np.min(trip_mph)|trip_mph.min()|\n",
    "|Calculate the maximum value of trip_mph|np.ax(trip_mph)|trip_mph.max()|\n",
    "|Calculate the mean average value of trip_mph|np.mean(trip_mph)|trip_mph.mean()|\n",
    "|Calculate the median average value of trip_mph|np.median(trip_mph)|There is no ndarray median method|\n",
    "\n",
    "To help you remember, you can see it as this:\n",
    "- anything that starts with `np` (e.g. `np.mean()`) is a function \n",
    "- anything expressed with an object (or variable) name first (e.g. `trip_mph.mean()`) is a method\n",
    "- it's up to you to decide which one to use\n",
    "- however, it is more common to use the method approach "
   ]
  },
  {
   "cell_type": "markdown",
   "metadata": {},
   "source": [
    "## 11. Calculating Statistics For 2D ndarrays\n",
    "\n",
    "We have only worked with statistics for 1D ndarrays so far. If we use the `ndarray.max()` method on a 2D ndarray without any additional parameters, a single value will be returned, just like with a 1D array.\n",
    "\n",
    "What happens if we want to find the **maximum value of each row**?\n",
    "Specification of the axis parameter is needed as an indication that we want to calculate the maximum value for each row.\n",
    "\n",
    "If we want to find the maximum value of each column, we'd use an axis value of 0 like this:\n",
    "\n",
    "ndarray.max(axis = 0)\n",
    "\n",
    "Let's use what we've learned to check the data in our taxi data set. Below is an example table of our data set:\n",
    "\n",
    "|fare_amount|fees_amount|tolls_amount|tip_amount|total_amount|\n",
    "|-------------|-----------|--------|-------------|-----------|\n",
    "|52.0|0.8|5.54|11.65|69.99|\n",
    "|45.0|1.3|0.00|8.00|54.3|\n",
    "|36.5|1.3|0.00|0.00|37.8|\n",
    "|26.0|1.3|0.00|5.46|32.76|\n",
    "|17.5|1.3|0.00|0.00|18.8|\n",
    "\n",
    "You see that **total amount = fare amount + fees amount + tolls amount + tip amount**.\n",
    "\n",
    "Now let's see if you can perform a 2D ndarray calculation on the data set.\n",
    "\n",
    "### Task 3.1.11:\n",
    "1. Use the `ndarray.sum()` method to calculate the sum of each row in `fare_components`. Assign the result to `fare_sums`.\n",
    "2. Extract the 14th column in `taxi_first_five`. Assign to `fare_totals`.\n",
    "3. Print `fare_totals` and `fare_sums`. You should see the same numbers."
   ]
  },
  {
   "cell_type": "code",
   "execution_count": null,
   "metadata": {},
   "outputs": [],
   "source": [
    "# get the table from above (first five rows of taxi and columns fare_amount, fees_amount, tolls_amount, tip_amount)\n",
    "fare_components = taxi[:5,[9,10,11,12]]\n",
    "# we'll compare against the first 5 rows only\n",
    "taxi_first_five = taxi[:5]\n",
    "\n",
    "# Start your code below:\n",
    "\n",
    "# select these columns: fare_amount, fees_amount, tolls_amount, tip_amount\n",
    "fare_components = taxi_first_five[:,9:13]\n",
    "fare_sums = fare_components.sum(axis = 1)\n",
    "fare_totals = taxi_first_five[:,13]\n",
    "print(fare_totals)\n",
    "print(fare_sums)"
   ]
  }
 ],
 "metadata": {
  "kernelspec": {
   "display_name": "Python 3 (ipykernel)",
   "language": "python",
   "name": "python3"
  },
  "language_info": {
   "codemirror_mode": {
    "name": "ipython",
    "version": 3
   },
   "file_extension": ".py",
   "mimetype": "text/x-python",
   "name": "python",
   "nbconvert_exporter": "python",
   "pygments_lexer": "ipython3",
   "version": "3.10.6"
  }
 },
 "nbformat": 4,
 "nbformat_minor": 4
}
