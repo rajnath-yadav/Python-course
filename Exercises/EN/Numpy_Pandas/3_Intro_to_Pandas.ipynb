{
 "cells": [
  {
   "cell_type": "markdown",
   "metadata": {},
   "source": [
    "# About This Notebook\n",
    "In this **Introduction to pandas** chapter, we will learn:\n",
    "- How pandas and NumPy combine to make working with data easier.\n",
    "- About the two core pandas types: series and dataframes.\n",
    "- How to select data from pandas objects using axis labels.\n",
    "***\n",
    "## 1. Understanding Pandas and NumPy\n",
    "\n",
    "The pandas library provides solutions to a lot of problems. However, pandas is not so much a replacement for NumPy but serves more as an extension of NumPy. Pandas uses the the NumPy library extensively, and you will notice this more when you dig deeper into the concept.\n",
    "\n",
    "The primary data structure in pandas is called a **dataframe**. \n",
    "This is the pandas equivalent of a Numpy 2D ndarray but with some key differences:\n",
    "\n",
    "> Axis values can have string **labels**, not just numeric ones. This means that the columns can now have their own meaningful names.\n",
    "\n",
    "> Dataframes can contain columns with **multiple data types**: including ``integer``, ``float``, and ``string``. This enables us to store, for example, strings and integers in one dataframe.\n",
    "\n",
    "## 2. Introduction to the Data\n",
    "In this chapter, we will work with a data set from Fortune magazine's 2017 Global 500 list.\n",
    "\n",
    "The data set is stored in a CSV file called **f500.csv**. Here is a data dictionary for some of the columns in the CSV:\n",
    "\n",
    "- **company**: Name of the company.\n",
    "- **rank**: Global 500 rank for the company.\n",
    "- **revenues**: Company's total revenue for the fiscal year, in millions of dollars (USD).\n",
    "- **revenue_change**: Percentage change in revenue between the current and prior fiscal year.\n",
    "- **profits**: Net income for the fiscal year, in millions of dollars (USD).\n",
    "- **ceo**: Company's Chief Executive Officer.\n",
    "- **industry**: Industry in which the company operates.\n",
    "- **sector**: Sector in which the company operates.\n",
    "- **previous_rank**: Global 500 rank for the company for the prior year.\n",
    "- **country**: Country in which the company is headquartered.\n",
    "\n",
    "After getting to know our data set, how do we actually import pandas library in Python?\n",
    "To import pandas, we simply type in the following code:\n",
    "\n",
    "````python\n",
    "import pandas as pd\n",
    "````"
   ]
  },
  {
   "cell_type": "markdown",
   "metadata": {},
   "source": [
    "Pandas' dataframes have a `.shape` attribute which returns a tuple representing the dimensions of each axis of the object. Now we want to use this and Python's `type()` function to take a closer look at the `f500` dataframe.\n",
    "\n",
    "### Task 3.3.2:\n",
    "\n",
    "1. Use Python's `type()` function to assign the type of `f500` to `f500_type`.\n",
    "2. Use the `DataFrame.shape` attribute to assign the shape of `f500` to `f500_shape`.\n",
    "3. Print both the `f500_type` and `f500_shape`."
   ]
  },
  {
   "cell_type": "code",
   "execution_count": 1,
   "metadata": {},
   "outputs": [],
   "source": [
    "import pandas as pd\n",
    "f500 = pd.read_csv('../../../Data/csv/f500.csv',index_col=0)\n",
    "f500.index.name = None\n",
    "# Start your code below:\n"
   ]
  },
  {
   "cell_type": "markdown",
   "metadata": {},
   "source": [
    "## 3. Introducing DataFrames\n",
    "\n",
    "Remember how we spent so much time in the course \"Be Around of Data Science\" talking about rectangular data structures? Moreover, we discussed flat tables consisting of rows (observations) and columns (features)? Now this will come in really handy! \n",
    "\n",
    "I want to show you the `DataFrame.head` method. By default, it will return the first five rows of our dataframe. However, it also accepts an optional integer parameter, which specifies the number of rows:"
   ]
  },
  {
   "cell_type": "code",
   "execution_count": null,
   "metadata": {},
   "outputs": [],
   "source": [
    "f500.head(3)"
   ]
  },
  {
   "cell_type": "markdown",
   "metadata": {},
   "source": [
    "There is also the `DataFrame.tail` method to show us the last rows of our dataframe:"
   ]
  },
  {
   "cell_type": "code",
   "execution_count": null,
   "metadata": {},
   "outputs": [],
   "source": [
    "f500.tail(3)"
   ]
  },
  {
   "cell_type": "markdown",
   "metadata": {},
   "source": [
    "### Task 3.3.3:\n",
    "\n",
    "1. Use the `head()` method to select the **first 6 rows**. Assign the result to `f500_head`.\n",
    "2. Use the `tail()` method to select the **last 8 rows**. Assign the result to `f500_tail`."
   ]
  },
  {
   "cell_type": "code",
   "execution_count": 2,
   "metadata": {},
   "outputs": [],
   "source": [
    "# Start your code here:\n"
   ]
  },
  {
   "cell_type": "markdown",
   "metadata": {},
   "source": [
    "## 4. Introducting DataFrames Continued\n",
    "\n",
    "Now let's talk about the `DataFrame.dtypes` attribute. The `DataFrame.dtypes` attribute returns information about the types of each column."
   ]
  },
  {
   "cell_type": "code",
   "execution_count": null,
   "metadata": {},
   "outputs": [],
   "source": [
    "print(f500.dtypes)"
   ]
  },
  {
   "cell_type": "markdown",
   "metadata": {},
   "source": [
    "To see a comprehensive overview of all the dtypes used in our dataframe, as well its shape and other information, we should use the `DataFrame.info()` [method](https://pandas.pydata.org/pandas-docs/stable/reference/api/pandas.DataFrame.info.html). Remember that `DataFrame.info()` only prints the information, instead of returning it, so we can't assign it to a variable."
   ]
  },
  {
   "cell_type": "markdown",
   "metadata": {},
   "source": [
    "### Task 3.3.4:\n",
    "\n",
    "1. Use the `DataFrame.info()` method to display information about the `f500` dataframe."
   ]
  },
  {
   "cell_type": "code",
   "execution_count": 3,
   "metadata": {},
   "outputs": [],
   "source": [
    "# Start your code below:\n"
   ]
  },
  {
   "cell_type": "markdown",
   "metadata": {},
   "source": [
    "## 5. Selecting a Column From a DataFrame by Label (IMPORTANT)\n",
    "\n",
    "Do you know that our axes in pandas all have labels and we can select data using just those labels? The **DataFrame.loc[]** attribute is exactly the syntax designed for this purpose:\n",
    "\n",
    "````python\n",
    "df.loc[row_label, column_label]\n",
    "````\n"
   ]
  },
  {
   "cell_type": "markdown",
   "metadata": {},
   "source": [
    "Pay close attention that we use brackets ``[]`` instead of parentheses ``()`` when selecting by location.\n",
    "\n",
    "Now let's look at an example:"
   ]
  },
  {
   "cell_type": "code",
   "execution_count": null,
   "metadata": {},
   "outputs": [],
   "source": [
    "f500.loc[:,\"rank\"]"
   ]
  },
  {
   "cell_type": "markdown",
   "metadata": {},
   "source": [
    "Notice we used `:` to specify that all rows should be selected. And also pay attention that the new dataframe has the same row labels as the original.\n",
    "\n",
    "The following shortcut can also be used to select a single column:"
   ]
  },
  {
   "cell_type": "code",
   "execution_count": null,
   "metadata": {},
   "outputs": [],
   "source": [
    "rank_col = f500[\"rank\"]\n",
    "print(rank_col)"
   ]
  },
  {
   "cell_type": "markdown",
   "metadata": {},
   "source": [
    "### Task 3.3.5:\n",
    "\n",
    "1. Select the `industry` column. Assign the result to the variable name `industries`.\n",
    "2. Use Python's `type()` function to assign the type of `industries` to `industries_type`."
   ]
  },
  {
   "cell_type": "code",
   "execution_count": 4,
   "metadata": {},
   "outputs": [],
   "source": [
    "# Start your code below:\n"
   ]
  },
  {
   "cell_type": "markdown",
   "metadata": {},
   "source": [
    "## 6. Selecting Columns From a DataFrame by Label Continued\n",
    "Below, we use a list of labels to select specific columns:\n"
   ]
  },
  {
   "cell_type": "code",
   "execution_count": null,
   "metadata": {},
   "outputs": [],
   "source": [
    "f500.loc[:,[\"country\", \"rank\"]]"
   ]
  },
  {
   "cell_type": "code",
   "execution_count": null,
   "metadata": {},
   "outputs": [],
   "source": [
    "f500[[\"country\",\"rank\"]]"
   ]
  },
  {
   "cell_type": "markdown",
   "metadata": {},
   "source": [
    "The code `f500.loc[:,[\"country\", \"rank\"]]` and `f500[[\"country\",\"rank\"]]` eventually return us the same result. "
   ]
  },
  {
   "cell_type": "markdown",
   "metadata": {},
   "source": [
    "You see that the object returned is two-dimensional, we know it's a dataframe, not a series. So instead of `df.loc[:,[\"col1\",\"col2\"]]`, we can also use `df[[\"col1\", \"col2\"]]` to select specific columns.\n",
    "\n",
    "Last but not least, let's finish by using **a slice object with labels** to select specific columns:"
   ]
  },
  {
   "cell_type": "code",
   "execution_count": null,
   "metadata": {},
   "outputs": [],
   "source": [
    "f500.loc[:,\"rank\":\"profits\"]"
   ]
  },
  {
   "cell_type": "markdown",
   "metadata": {},
   "source": [
    "The result is again a dataframe object with all of the columns from the first up until the last column in our slice. Unfortunately, there is no shortcut for selecting column slices.\n",
    "\n",
    "See the table below for a short summary of techniques that we have just encountered:\n",
    "\n",
    "|Select by Label|Explicit Syntax|Common Shorthand|\n",
    "|--|--|--|\n",
    "|Single column|df.loc[:,\"col1\"]|df[\"col1\"]|\n",
    "|List of columns|df.loc[:,[\"col1\", \"col7\"]]|df[[\"col1\", \"col7\"]]|\n",
    "|Slice of columns|df.loc[:,\"col1\":\"col4\"]|\n"
   ]
  },
  {
   "cell_type": "markdown",
   "metadata": {},
   "source": [
    "### Task 3.3.6:\n",
    "\n",
    "1. Select the `country` column. Assign the result to the variable name `countries`.\n",
    "2. In order, select the `revenues` and `years_on_global_500_list` columns. Assign the result to the variable name `revenues_years`.\n",
    "3. In order, select all columns from `ceo` up to and including `sector`. Assign the result to the variable name `ceo_to_sector`."
   ]
  },
  {
   "cell_type": "code",
   "execution_count": 5,
   "metadata": {},
   "outputs": [],
   "source": [
    "# Start your code below:\n"
   ]
  },
  {
   "cell_type": "markdown",
   "metadata": {},
   "source": [
    "## 7. Selecting Rows From a DataFrame by Label\n",
    "\n",
    "Now, let's learn how to use the labels of the index axis to select rows.\n",
    "\n",
    "We can use the same syntax to select rows from a dataframe as we already have done for columns:\n",
    "\n",
    "````python\n",
    "df.loc[row_label, column_label]\n",
    "````\n",
    "\n",
    "#### To select a single row:"
   ]
  },
  {
   "cell_type": "code",
   "execution_count": null,
   "metadata": {},
   "outputs": [],
   "source": [
    "single_row = f500.loc[\"Sinopec Group\"]\n",
    "print(type(single_row))\n",
    "print(single_row)"
   ]
  },
  {
   "cell_type": "markdown",
   "metadata": {},
   "source": [
    "A **series** is returned because it is one-dimensional. \n",
    "> In short, ``series`` is a one-dimensional labeled array capable of holding data of any type (integer, string, float, python objects, etc.). \n",
    "There are many data types that may need to be stored in this series, like integer, float, and string values, so pandas uses the **object** dtype, since none of the numeric types could cater for all values.\n",
    "\n",
    "**To select a list of rows:**"
   ]
  },
  {
   "cell_type": "code",
   "execution_count": null,
   "metadata": {},
   "outputs": [],
   "source": [
    "list_rows = f500.loc[[\"Toyota Motor\", \"Walmart\"]]\n",
    "print(type(list_rows))\n",
    "print(list_rows)"
   ]
  },
  {
   "cell_type": "markdown",
   "metadata": {},
   "source": [
    "**To select a slice object with labels:**\n",
    "\n",
    "For selection using slices, a shortcut can be used like below. This is the reason we can't use this shortcut for columns – because it's reserved for use with rows:"
   ]
  },
  {
   "cell_type": "code",
   "execution_count": null,
   "metadata": {},
   "outputs": [],
   "source": [
    "slice_rows = f500[\"State Grid\":\"Toyota Motor\"]\n",
    "print(type(slice_rows))\n",
    "print(slice_rows)"
   ]
  },
  {
   "cell_type": "markdown",
   "metadata": {},
   "source": [
    "### Task 3.3.7: \n",
    "\n",
    "By selecting data from `f500`:\n",
    "1. Create a new variable `toyota`, with:\n",
    "    - Just the row with index `Toyota Motor`.\n",
    "    - All columns.\n",
    "2. Create a new variable, `drink_companies`, with:\n",
    "    - Rows with indicies `Anheuser-Busch InBev, Coca-Cola, and Heineken Holding`, in that order.\n",
    "    - All columns.\n",
    "3. Create a new variable, `middle_companies` with:\n",
    "    - All rows with indicies from `Tata Motors` to `Nationwide`, inclusive.\n",
    "    - All columns from `rank` to `country`, inclusive."
   ]
  },
  {
   "cell_type": "code",
   "execution_count": 6,
   "metadata": {},
   "outputs": [],
   "source": [
    "# Start your code below:\n"
   ]
  },
  {
   "cell_type": "markdown",
   "metadata": {},
   "source": [
    "## 8. Value Counts Method\n",
    "\n",
    "We understand that **series** and **dataframes** are two distinct objects. They each have their own unique methods.\n",
    "\n",
    "First, let's select just one column from the ``f500`` dataframe:"
   ]
  },
  {
   "cell_type": "code",
   "execution_count": null,
   "metadata": {},
   "outputs": [],
   "source": [
    "sectors = f500[\"sector\"]\n",
    "print(type(sectors))"
   ]
  },
  {
   "cell_type": "markdown",
   "metadata": {},
   "source": [
    "Now, we want to substitute ``Series`` in `Series.value_counts()` with the name of our `sectors` series, like this:"
   ]
  },
  {
   "cell_type": "code",
   "execution_count": null,
   "metadata": {},
   "outputs": [],
   "source": [
    "sectors_value_counts = sectors.value_counts()\n",
    "print(sectors_value_counts)"
   ]
  },
  {
   "cell_type": "markdown",
   "metadata": {},
   "source": [
    "You see that each unique non-null value is being counted and listed in the output above.\n",
    "\n",
    "Well, what happens when we try to use the `Series.value_counts()` method with a dataframe? First step, we should select the `sector` and `industry` columns to create a dataframe named `sectors_industries`, like this:"
   ]
  },
  {
   "cell_type": "code",
   "execution_count": null,
   "metadata": {},
   "outputs": [],
   "source": [
    "sectors_industries = f500[[\"sector\", \"industry\"]]\n",
    "print(type(sectors_industries))"
   ]
  },
  {
   "cell_type": "markdown",
   "metadata": {},
   "source": [
    "Then, we'll try to use the `value_counts()` method:"
   ]
  },
  {
   "cell_type": "code",
   "execution_count": null,
   "metadata": {},
   "outputs": [],
   "source": [
    "si_value_counts = sectors_industries.value_counts()\n",
    "print(si_value_counts)"
   ]
  },
  {
   "cell_type": "markdown",
   "metadata": {},
   "source": [
    "We see that we have got the following error:\n",
    "\n",
    "> AttributeError: 'DataFrame' object has no attribute 'value_counts'\n",
    "\n",
    "\n",
    "That is because ``value_counts()`` is only a method for Series, not DataFrame."
   ]
  },
  {
   "cell_type": "markdown",
   "metadata": {},
   "source": [
    "### Task 3.3.8\n",
    "\n",
    "1. Find the counts of each unique value in the `country` column in the `f500` dataframe.\n",
    "    - Select the `country` column in the `f500` dataframe. Assign it to a variable named `countries*`\n",
    "    - Use the `Series.value_counts()` method to return the value counts for `countries`. Assign the results to `country_counts`."
   ]
  },
  {
   "cell_type": "code",
   "execution_count": 7,
   "metadata": {},
   "outputs": [],
   "source": [
    "# Start your code below:\n"
   ]
  },
  {
   "cell_type": "markdown",
   "metadata": {},
   "source": [
    "## Summary\n",
    "\n",
    "Below is a summary table of all the different label selection we have learned so far:\n",
    "\n",
    "|Select by Label|Explicit Syntax|Shorthand Convention|\n",
    "|-------------|-----------|---------------|\n",
    "|Single column from dataframe|df.loc[:,\"col1\"]|df[\"col1\"]|\n",
    "|List of columns from dataframe|df.loc[:,\"col1\",\"col7\"]|df[\"col1\",\"col7\"]|\n",
    "|Single column from dataframe|df.loc[:,\"col1\":\"col4\"]| |\n",
    "|Single row from dataframe| df.loc[\"row4\"]|   |\n",
    "|List of rows from dataframe |df.loc[\"row1\",\"row8\"]]|  |\n",
    "|Slice of rows from dataframe|df.loc[\"row3\":\"row5\"]| df[\"row3\":\"row5\"]|\n",
    "|Single item from series|s.loc[\"item8\"]|s[\"item8\"]|\n",
    "|List of items from series|s.loc[[\"item1\", \"item7\"]]|s[[\"item1\",\"item7\"]]|\n",
    "|Slice of items from series|s.loc[\"item2\":\"item4\"] |s[\"item2\":\"item4\"]|\n"
   ]
  }
 ],
 "metadata": {
  "kernelspec": {
   "display_name": "Python 3 (ipykernel)",
   "language": "python",
   "name": "python3"
  },
  "language_info": {
   "codemirror_mode": {
    "name": "ipython",
    "version": 3
   },
   "file_extension": ".py",
   "mimetype": "text/x-python",
   "name": "python",
   "nbconvert_exporter": "python",
   "pygments_lexer": "ipython3",
   "version": "3.10.6"
  }
 },
 "nbformat": 4,
 "nbformat_minor": 4
}
