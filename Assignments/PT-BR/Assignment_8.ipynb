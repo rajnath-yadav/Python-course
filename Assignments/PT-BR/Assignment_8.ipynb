{
  "nbformat": 4,
  "nbformat_minor": 0,
  "metadata": {
    "colab": {
      "name": "Lista Substitutiva.ipynb",
      "provenance": [],
      "collapsed_sections": []
    },
    "kernelspec": {
      "name": "python3",
      "display_name": "Python 3"
    }
  },
  "cells": [
    {
      "cell_type": "markdown",
      "metadata": {
        "id": "jRaxIYlHJxVd"
      },
      "source": [
        "## Lista Substitutiva\n",
        "\n",
        "- Prazo **08-11-2020 (DOMINGO)** às 23:59. Fora do prazo não será aceito.\n",
        "\n",
        "- Questões copiadas de terceiros serão anuladas.\n",
        "\n",
        "- É esperado um código organizado (sem células vazias soltas). Comentários no código são bem-vindos também. "
      ]
    },
    {
      "cell_type": "markdown",
      "metadata": {
        "id": "MPCPc-4fV6ID"
      },
      "source": [
        "1) Simule 10.000 lançamentos de um dado não-viciado de 6 lados.  Qual número mais frequente na sua simulação?"
      ]
    },
    {
      "cell_type": "markdown",
      "metadata": {
        "id": "TTccHVUlXqJM"
      },
      "source": [
        "2) De todos os números resultantes do produto entre dois números de 3 dígitos:\n",
        "\n",
        "- Quantos são divisíveis por 7?\n",
        "- Quantos começam com o  '125'? Ex: 125866\n",
        "- Quantos são palíndromos pares?\n"
      ]
    },
    {
      "cell_type": "markdown",
      "metadata": {
        "id": "slh_YwlvQGUS"
      },
      "source": [
        "#### **Usando o mesmo dataset da lista 4 (PIB Municípios), responda as questões abaixo**"
      ]
    },
    {
      "cell_type": "markdown",
      "metadata": {
        "id": "LgbTKHVuSHW9"
      },
      "source": [
        "3) Quais estados mais cresceram entre 2010 e 2017?"
      ]
    },
    {
      "cell_type": "markdown",
      "metadata": {
        "id": "i0kwduWHSLh3"
      },
      "source": [
        "4) Faça um gráfico de barras com o resultado da questão 1"
      ]
    },
    {
      "cell_type": "markdown",
      "metadata": {
        "id": "W3EUI6WJSdWe"
      },
      "source": [
        "5) Crie um dataframe apenas com os resultados de PIB de SP e MG. Qual atividade econômica mais frequente?"
      ]
    },
    {
      "cell_type": "markdown",
      "metadata": {
        "id": "Riy1TrgeTS0J"
      },
      "source": [
        "6) Crie uma função que receba como argumento a 'UF' e 'Ano' e retorne quantos municípios naquele Estado tiveram variação de PIB negativa e positiva.\n",
        "\n",
        "**Exemplo fictício**\n",
        "\n",
        "funcao('SP', '2005') \n",
        "\n",
        "Retorna: 'Em SP 200 municípios cresceram e 100 municípios perderam PIB em 2005'"
      ]
    }
  ]
}