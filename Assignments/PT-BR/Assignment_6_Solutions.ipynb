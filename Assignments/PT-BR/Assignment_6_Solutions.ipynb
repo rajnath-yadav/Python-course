{
 "cells": [
  {
   "cell_type": "markdown",
   "metadata": {},
   "source": [
    "**1)** Um endereço IP é um código identificador usado como protocolo de comunicação de rede entre computadores. O código consiste de um \"endereço\" na rede local, e é formado por quatro números de 0 a 255 separados por ponto. Faça com que a função `myip()` receba em formato string um endereço de IP e remova os zeros desnecessários para a representação do número. Ou seja:\n",
    "\n",
    ">```python\n",
    ">>>> myip(\"192.168.015.007\")\n",
    ">192.168.15.7\n",
    ">>>> myip(\"010.000.000.100\")\n",
    ">10.0.0.100\n",
    ">>>> myip(\"192.168.011.015\")\n",
    ">192.168.11.15\n",
    "```"
   ]
  },
  {
   "cell_type": "code",
   "execution_count": 1,
   "metadata": {},
   "outputs": [
    {
     "data": {
      "text/plain": [
       "'192.40.0.1'"
      ]
     },
     "execution_count": 1,
     "metadata": {},
     "output_type": "execute_result"
    }
   ],
   "source": [
    "import re\n",
    "\n",
    "def myip(t):\n",
    "    return re.sub(r'\\b0+(\\d)', r'\\1', t)\n",
    "\n",
    "myip(\"192.040.000.001\")"
   ]
  },
  {
   "cell_type": "markdown",
   "metadata": {},
   "source": [
    "**2)** Você receberá, como parâmetro de sua função `endereco()`, uma string. Esse endereço pode estar escrito de algumas formas, e você deve padroniza-lo. Para o caso de \"avenida\" (case insensitive), substitua por \"A.\" (maiúsculo), o mesmo para \"Rua\" e \"R.\". Faça com que os demais componentes sejam da forma primeira letra maiuscula e demais minusculas (CamelCase) separados por espaço. O número ao final deve ser mantido após vírgula. Ou seja, os seguintes exemplos devem ser satisfeitos:\n",
    "\n",
    ">```python\n",
    ">>>> endereco(\"avenida santo amaro, 120\")\n",
    ">A. Santo Amaro, 120\n",
    ">>>> endereco(\"rua das Amélias, 437\")\n",
    ">R. Das Amélias, 437\n",
    ">>>> endereco(\"A. santos DumOnt, 27\")\n",
    ">A. Santos Dumont, 27\n",
    ">>>> endereco(\"Rua Afonso Pena, 1320\")\n",
    ">R. Afonso Pena, 1320\n",
    ">```"
   ]
  },
  {
   "cell_type": "code",
   "execution_count": 2,
   "metadata": {},
   "outputs": [
    {
     "data": {
      "text/plain": [
       "'R. Das Antilhas, 270'"
      ]
     },
     "execution_count": 2,
     "metadata": {},
     "output_type": "execute_result"
    }
   ],
   "source": [
    "def endereco(t):\n",
    "    t=t.title()\n",
    "    t=re.sub('Rua','R.',t)\n",
    "    t=re.sub('Avenida','A.',t)\n",
    "    return t\n",
    "\n",
    "endereco(\"RuA das AntIlhAs, 270\")"
   ]
  },
  {
   "cell_type": "markdown",
   "metadata": {},
   "source": [
    "**3)** A ferramenta `re.sub()` avalia um padrão de expressão regular e executa um método para cada correspondência válida. Com isso, podemos utiliza-lo para modificar strings de várias formas. Neste exercício, programe a função `logicread()` para receber um texto contendo os símbolos `&&` e `||`. Ela deve realizar a conversão dos mesmos em `and` e `or` respectivamente, quando houverem espaços brancos em ambos os lados dos símbolos (que devem ser mantidos). Outro detalhe é que esses símbolos não ocorrem no começo ou final das linhas. Com tudo funcionando, deve-se conseguir:\n",
    "\n",
    ">```python\n",
    ">>>> t='''a = 1;\n",
    ">b = input();\n",
    ">if a + b > 0 && a - b < 0:\n",
    ">    start()\n",
    ">elif a*b > 10 || a/b < 1:\n",
    ">    stop()\n",
    ">print set(list(a)) | set(list(b)) \n",
    ">#Obsereve que não deve mudar &&& ou ||| ou & ou |\n",
    ">#Apenas mude os '&&' que teham espaço em ambos os lados\n",
    ">#Apenas mude os '||' que tenham espaço em ambos os lados.'''\n",
    ">>>> logicread(t)\n",
    ">a = 1;\n",
    ">b = input();\n",
    ">if a + b > 0 and a - b < 0:\n",
    ">    start()\n",
    ">elif a*b > 10 or a/b < 1:\n",
    ">    stop()\n",
    ">print set(list(a)) | set(list(b)) \n",
    ">#Obsereve que não deve mudar &&& ou ||| ou & ou |\n",
    ">#Apenas mude os '&&' que tenham espaço em ambos os lados\n",
    ">#Apenas mude os '||' que tenham espaço em ambos os lados.\n",
    ">```"
   ]
  },
  {
   "cell_type": "code",
   "execution_count": 3,
   "metadata": {},
   "outputs": [
    {
     "name": "stdout",
     "output_type": "stream",
     "text": [
      "Hey there or Hello World! Is this working and perfect?\n",
      "Does it remove ||| does it not | '&&' something right '||' no way & not\n"
     ]
    }
   ],
   "source": [
    "import re\n",
    "\n",
    "def logicread(t):\n",
    "    t=re.sub(\" && \",\" and \",t)\n",
    "    t=re.sub(r\" \\|\\| \",\" or \",t)\n",
    "    return t\n",
    "\n",
    "teste = '''\\\n",
    "Hey there || Hello World! Is this working && perfect?\n",
    "Does it remove ||| does it not | '&&' something right '||' no way & not'''\n",
    "\n",
    "print(logicread(teste))"
   ]
  },
  {
   "cell_type": "markdown",
   "metadata": {},
   "source": [
    "**4)** Pela primeira vez a Escola Livre de Matemática, Filosofia e Linguística de Skyrim vai receber a Maratona de Expressões Regulares (regex) (RegExCon). A maratona acontece da seguinte forma: os participantes competem sempre contra 1 oponente. Um ganha um perde. No final, só o campeão restará. Em uma disputa os participantes recebem uma lista com várias expressões regulares e para cada uma os participantes devem calcular se várias palavras dadas são reconhecidas ou não por tal regex.\n",
    "\n",
    "Como membro da Escola Livre você está participando, e quer ganhar. Para garantir sua vitória, você deve escrever um programa para resolver o problema e deixá-lo rodando na sua Máquina Calculadora de Coisas Legais em casa. Como um mago, especialista em Alteração e Ilusão, você pode facilmente controlar sua máquina com a mente, então você consegue usar o programa durante a maratona. É proibido utilizar magia na maratona, mas coincidentemente a Escola de Winterhold vai sediar um Congresso de Magos, então você não precisa se preocupar, use sua magia.\n",
    "\n",
    "Uma expressão regular é utilizada para descrever uma linguagem (um conjunto de palavras). Considere que o alfabeto de todas linguagens neste problema é {a, b}.\n",
    "\n",
    "Uma regex R é válida se:\n",
    "\n",
    "    1) R é “a” ou “b”;\n",
    "    2) R é “(P.S)” onde P e S são expressões regulares;\n",
    "    3) R é “(P|S)” onde P e S são expressões regulares;\n",
    "    4) R é “(P*)” onde P é uma expressão regular.\n",
    "\n",
    "Expressões regulares podem ser aninhadas. Não há operação ternária com os operadores “.” e “|”, nem operação binária com o operator “*”. Palavras sempre começam com “(“ e terminam com “)”. O conjunto L de palavras reconhecidas por R é formado seguindo estas regras:\n",
    "\n",
    "    1) Se R é “(a)”, L = {a};\n",
    "    2) Se R é “(b)”, L = {b};\n",
    "    3) Se R é “(P.S)”, L = todas palavras que podem ser obtidas a partir da concatenação das palavras p e s, onde p é reconhecida por P e s por S;\n",
    "    4) Se R é “(P|S)”, L = união dos conjuntos de palavras reconhecidas por P e S;\n",
    "    5) Se R é “(P*)”, R reconhece a concatenação de 0 ou mais palavras reconhecidas por P.\n",
    "\n",
    "\n",
    "Em suma, você deve construir uma função que receba um texto no seguinte formato: a primeira linha contém uma regex (0 < tamanho da regex < 150). A próxima linha contém um inteiro P (1 ≤ P ≤ 100). Cada uma das próximas P linhas contém uma palavra (tamanho < 50) formada por 'a's e 'b's que representa a seguinte questão: “Esta palavra é reconhecida pela regex dada?”. Para cada questão descrita anteriormente, responda “Y” (sem aspas) se a resposta é “sim” ou “N” (sem aspas) se a resposta é “não”. Após implementar essa função chamada `maratona`, o seguinte bloco de códigos deve ser possível:\n",
    "\n",
    ">```python\n",
    ">>>> t='''(a)\n",
    ">3\n",
    ">a\n",
    ">b\n",
    ">aa'''\n",
    ">>>> maratona(t)\n",
    ">Y\n",
    ">N\n",
    ">N\n",
    ">>>> t='''(a.b)\n",
    ">3\n",
    ">a\n",
    ">ab\n",
    ">b'''\n",
    ">>>> maratona(t)\n",
    ">N\n",
    ">Y\n",
    ">N\n",
    ">>>> t='''(a|b)\n",
    ">4\n",
    ">a\n",
    ">b\n",
    ">ab\n",
    ">ba'''\n",
    ">>>> maratona(t)\n",
    ">Y\n",
    ">Y\n",
    ">N\n",
    ">N\n",
    ">>>> t='''(a*)\n",
    ">3\n",
    ">a\n",
    ">aaaaaaaaaaa\n",
    ">aaaaabaaaaa'''\n",
    ">>>> maratona(t)\n",
    ">Y\n",
    ">Y\n",
    ">N\n",
    ">>>> t='''((a*).(b*))\n",
    ">3\n",
    ">bbbaaa\n",
    ">aaabbb\n",
    ">bbbbbbbbbbbbbbbbbbbbbbbbbbbbbbb'''\n",
    ">>>> maratona(t)\n",
    ">N\n",
    ">Y\n",
    ">Y\n",
    ">```\n",
    "\n",
    "Fonte: Burlando a Maratona - URI Online Judge | 1109. Disponível [aqui](https://www.urionlinejudge.com.br/judge/pt/problems/view/1109). Acesso em 08/01/2021."
   ]
  },
  {
   "cell_type": "code",
   "execution_count": 4,
   "metadata": {},
   "outputs": [
    {
     "name": "stdout",
     "output_type": "stream",
     "text": [
      "Y\n",
      "Y\n",
      "N\n",
      "N\n"
     ]
    }
   ],
   "source": [
    "def maratona(t):\n",
    "    R,P,*palavras = t.split(\"\\n\")\n",
    "    assert len(R) < 150\n",
    "    assert len(palavras) < 100\n",
    "\n",
    "    #Vamos assumir que a regex é válida\n",
    "    respostas = []\n",
    "\n",
    "    \"\"\"A única diferença entre a expressão regular do \n",
    "    problema e do python é que o nosso ponto representa contatenação,\n",
    "    então removemos ele, pois para capturar uma concatenação\n",
    "    basta colocar as expressões lado a lado\"\"\"\n",
    "\n",
    "    R = R.replace(\".\",\"\")\n",
    "    \n",
    "    for palavra in palavras:\n",
    "        \"\"\" re.fullmatch(regex,string) retorna um MatchObject\n",
    "            se a string corresponde exatamente \n",
    "            com a regex dada e None se não corresponde\"\"\"\n",
    "        if re.fullmatch(R,palavra): \n",
    "            respostas.append(\"Y\")\n",
    "        else:\n",
    "            respostas.append(\"N\")\n",
    "\n",
    "    return \"\\n\".join(respostas)\n",
    "\n",
    "t='''\\\n",
    "(a|b)\n",
    "4\n",
    "a\n",
    "b\n",
    "ab\n",
    "ba'''\n",
    "print(maratona(t))"
   ]
  },
  {
   "cell_type": "markdown",
   "metadata": {},
   "source": [
    "**5)** Na lista 4, usamos um arquivo extraído do primeiro capítulo do livro [Alice in Wonderland](http://www.gutenberg.org/files/11/11-0.txt), para gerar um dicionário de contagem de palavras criar um top-10 das palavras mais repetidas (_the, she, to, it, and, was, a, of, i, alice, that_; nessa ordem). \n",
    "\n",
    "Porém, dessas dez, nove são _stop words_, ou seja, palavras muito usada na língua inglesa e que se repetem muito em quase todos os contextos, como artigos, preposições, pronomes, etc.\n",
    "\n",
    "Vocês tem duas missões nessa questão:\n",
    "\n",
    "**5.1)** Modificar a função `alice1` para que retorne uma string sem as _stop words_ que listamos no código.\n",
    "\n",
    "Além da lista de _stop words_ que queremos que você remova, deixamos pronta a parte da leitura do arquivo, o texto bruto fica armazenado na variável `alice`\n",
    "\n",
    "Dicas: \n",
    "- `re.sub` pode ser útil;\n",
    "- Tome cuidado com espaços!! Ao remover as _stop words_ certifique-se de que não está deixando espaços desnecessários pelo texto. Por exemplo, _\"alice was beginning\"_ deverá ficar _\"alice beginning\"_(com um espaço) e não _\"alice  beginning\"_(com dois espaços).\n",
    "- Também tome cuidado com substituições indevidas!! Note que _a_ é uma _stopword_ mas você não deseja transformar _\"rabbit\"_ em _\"rbbit\"_ ou _\"r bbit\"_."
   ]
  },
  {
   "cell_type": "code",
   "execution_count": 5,
   "metadata": {},
   "outputs": [],
   "source": [
    "stopwords = ['a', 'about', 'after', 'again', 'all', 'an', 'and', 'any', \n",
    "            'as', 'at', 'be', 'before', 'but', 'by', 'can', 'did',\n",
    "            'do', 'few', 'for', 'from', 'had', 'have',\n",
    "            'having', 'her', 'here', 'herself', 'how', 'i','ll', 'if',\n",
    "            'in', 'into', 'is', 'it', 'just', 'me', 'my', 'no',\n",
    "            'not', 'now', 'of', 'off', 'on', 'once', 'only', 'or',\n",
    "            'other', 'out', 'over', 'own', 's', 'she', 'should', 'so',\n",
    "            'such', 't', 'that', 'the', 'their', 'them', 'then', 'there',\n",
    "            'they', 'this', 'those', 'through', 'to', 'too', 'under', 'up', \n",
    "            'very', 'was', 'were', 'what', 'when', 'which', 'why', 'you', 'with', 'you']\n",
    "\n",
    "def alice1():\n",
    "    arquivo =  open('aux_files/alice.txt','r')\n",
    "    alice = arquivo.read()\n",
    "    arquivo.close()\n",
    "\n",
    "    for x in stopwords:\n",
    "        alice = re.sub(rf\" {x} \",\" \",alice)\n",
    "    return alice\n",
    "\n",
    "#alice1()"
   ]
  },
  {
   "cell_type": "markdown",
   "metadata": {},
   "source": [
    "**5.2)** Modificar a função `alice2` de forma que receba a string do capítulo devidamente limpa do item anterior, um valor inteiro n, e retorne e n-ésima palavra que mais se repete nessa string (a primeira é alice, claro). Se n for maior que a quantidade de palavras disponíveis, retorne uma string vazia."
   ]
  },
  {
   "cell_type": "code",
   "execution_count": 6,
   "metadata": {},
   "outputs": [
    {
     "data": {
      "text/plain": [
       "'think'"
      ]
     },
     "execution_count": 6,
     "metadata": {},
     "output_type": "execute_result"
    }
   ],
   "source": [
    "def alice2(t,n):\n",
    "    assert(set(t.split()).isdisjoint(stopwords)), \"StopWord detectada no resultado do item 5.1\"\n",
    "    #A linha acima levanda um AssertionError \n",
    "    #se sua string ainda estiver as stop words\n",
    "\n",
    "    counts = {}\n",
    "    for word in t.split():\n",
    "        if word not in counts:\n",
    "            counts[word] = 0\n",
    "        counts[word]+=1\n",
    "    counts_sorted = [i[0] for i in sorted(counts.items(), key=lambda x: -x[1])]\n",
    "    if n>len(counts_sorted):\n",
    "        return \"\"\n",
    "    else:\n",
    "        return counts_sorted[n-1]\n",
    "    \n",
    "alice = alice1()\n",
    "alice2(alice,5)"
   ]
  },
  {
   "cell_type": "markdown",
   "metadata": {},
   "source": [
    "## Desafio\n",
    "\n",
    "**6)** BibTeX é uma ferramenta de formatação usada em documentos LaTeX, largamente utilizada no meio acadêmico. Segue um exemplo de como seria uma citação da versão americana da 7ª edição do livro de Cálculo II de James Stewart. \n",
    "\n",
    ">```latex\n",
    ">@book{stewart2011,\n",
    ">  title={Multivariable Calculus},\n",
    ">  author={Stewart, J.},\n",
    ">  isbn={9780538497879},\n",
    ">  lccn={2010936601},\n",
    ">  url={https://books.google.com.br/books?id=K1LyXtlFDbkC},\n",
    ">  year={2011},\n",
    ">  publisher={Cengage Learning}\n",
    ">}\n",
    ">```\n",
    "\n",
    "O usuário salva essas referências em um arquivo .bib como forma de organizar todas as suas fontes e citá-las em seu documento LaTeX.\n",
    "\n",
    "Você foi contratado por [Efthimios Kaxiras](https://www.physics.harvard.edu/people/facpages/kaxiras), Professor e Pesquisador do Departamento de Física de Harvard University. Ele escreveu um arquivo .bib com 45 artigos de seu repertório acadêmico (arquivo kaxiras.bib), e lhe deu a missão de organizar essas informações no python para futuras análises (quem sabe ele não te chama novamente no futuro...). \n",
    "\n",
    "Veja abaixo os dois primeiros artigos do .bib:\n",
    "\n",
    ">```latex\n",
    ">@article{244,\n",
    ">\tauthor = \"Ming-Wei Lin, Cheng Ling, Luis A. Agapito, Nicholas Kioussis, Yiyang Zhang, Mark Ming-Cheng Cheng\",\n",
    ">\ttitle = \"Approaching the intrinsic band gap in suspended high-mobility graphene nanoribbons\",\n",
    ">\tURL = \"Papers/2011/PhysRevB_84_125411_2011.pdf\",\n",
    ">\tjournal = \"PHYSICAL REVIEW B\",\n",
    ">\tvolume = \"84\"\n",
    ">}\n",
    ">@article{243,\n",
    ">\tauthor = \"JAdam Gali, Efthimios Kaxiras, Gergely T. Zimanyi, Sheng Meng\",\n",
    ">\ttitle = \"Effect of symmetry breaking on the optical absorption of semiconductor nanoparticles\",\n",
    ">\tURL = \"Papers/2011/PhysRevB_84_035325_2011.pdf\",\n",
    ">\tjournal = \"PHYSICAL REVIEW B\",\n",
    ">\tvolume = \"84\"\n",
    ">}\n",
    ">```\n",
    "\n",
    "Kaxiras deseja que você modifique a função `bibtex` de forma que ela retorne uma lista de dicionários, onde cada dicionário representa um artigo, as chaves são _\"author\", \"title\", \"url\", \"journal\"_ e _\"volume\"_ e os valores de cada chave serão as strings correspondentes extraídas do .bib. Por exemplo, o início dessa lista seria:\n",
    "\n",
    ">```python\n",
    ">[{\"author\":\"Ming-Wei Lin, Cheng Ling, Luis A. Agapito, Nicholas Kioussis, Yiyang Zhang, Mark Ming-Cheng Cheng\",\n",
    ">\t\"title\":\"Approaching the intrinsic band gap in suspended high-mobility graphene nanoribbons\",\n",
    ">\t\"url\":\"Papers/2011/PhysRevB_84_125411_2011.pdf\",\n",
    ">\t\"journal\":\"PHYSICAL REVIEW B\",\n",
    ">\t\"volume\":\"84\"},\n",
    ">{\"author\":\"JAdam Gali, Efthimios Kaxiras, Gergely T. Zimanyi, Sheng Meng\",\n",
    ">\t\"title\":\"Effect of symmetry breaking on the optical absorption of semiconductor nanoparticles\",\n",
    ">\t\"url\":\"Papers/2011/PhysRevB_84_035325_2011.pdf\",\n",
    ">\t\"journal\":\"PHYSICAL REVIEW B\",\n",
    ">\t\"volume\":\"84\"},\n",
    ">    \n",
    ">    ...]\n",
    ">```\n",
    "\n",
    "Após te passar o trabalho Kaxiras te diz: \"Boa sorte, e divirta-se!\""
   ]
  },
  {
   "cell_type": "code",
   "execution_count": 7,
   "metadata": {},
   "outputs": [
    {
     "name": "stdout",
     "output_type": "stream",
     "text": [
      "[{'author': 'Ming-Wei Lin, Cheng Ling, Luis A. Agapito, Nicholas Kioussis, Yiyang Zhang, Mark Ming-Cheng Cheng', 'title': 'Approaching the intrinsic band gap in suspended high-mobility graphene nanoribbons', 'url': 'Papers/2011/PhysRevB_84_125411_2011.pdf', 'journal': 'PHYSICAL REVIEW B', 'volume': '84'}, {'author': 'JAdam Gali, Efthimios Kaxiras, Gergely T. Zimanyi, Sheng Meng', 'title': 'Effect of symmetry breaking on the optical absorption of semiconductor nanoparticles', 'url': 'Papers/2011/PhysRevB_84_035325_2011.pdf', 'journal': 'PHYSICAL REVIEW B', 'volume': '84'}, {'author': 'Jan M. Knaup, Han Li, Joost J. Vlassak, and Efthimios Kaxiras', 'title': 'Influence of CH2 content and network defects on the elastic properties of organosilicate glasses', 'url': 'Papers/2011/PhysRevB_83_054204_2011.pdf', 'journal': 'PHYSICAL REVIEW B', 'volume': '83'}, {'author': 'Martin Heiss, Sonia Conesa-Boj, Jun Ren, Hsiang-Han Tseng, Adam Gali', 'title': 'Direct correlation of crystal structure and optical properties in wurtzite/zinc-blende\\nGaAs nanowire heterostructures', 'url': 'Papers/2011/PhysRevB_83_045303_2011.pdf', 'journal': 'PHYSICAL REVIEW B', 'volume': '83'}, {'author': 'Simone Melchionna, Efthimios Kaxiras, Massimo Bernaschi and Sauro Succi', 'title': 'Endothelial shear stress from large-scale blood flow simulations', 'url': 'Papers/2011/PhilTransRSocA_369_2354_2011.pdf', 'journal': 'Phil. Trans. R. Soc. A', 'volume': '369'}, {'author': 'J R Maze, A Gali, E Togan, Y Chu, A Trifonov', 'title': 'Properties of nitrogen-vacancy centers in diamond:\\nthe group theoretic approach', 'url': 'Papers/2011/NewJPhys_13_025025_2011.pdf', 'journal': 'New Journal of Physics', 'volume': '13'}, {'author': 'Kejie Zhao, Wei L. Wang, John Gregoire, Matt Pharr, Zhigang Suo', 'title': 'Lithium-Assisted Plastic Deformation of Silicon Electrodes in\\nLithium-Ion Batteries: A First-Principles Theoretical Study', 'url': 'Papers/2011/NanoLett_11_2962-2967_2011.pdf', 'journal': 'Nano Lett.', 'volume': '11'}, {'author': 'Masataka Katono, Takeru Bessho, Sheng Meng, Robin Humphry-Baker, Guido Rothenberger', 'title': 'D-π-A Dye System Containing Cyano-Benzoic Acid as Anchoring\\nGroup for Dye-Sensitized Solar Cells', 'url': 'Papers/2011/Langmuir_27_14248_2011.pdf', 'journal': 'Langmuir', 'volume': '27'}, {'author': 'Thomas D. Kuhne, Tod A. Pascal, Efthimios Kaxiras, and Yousung Jung', 'title': 'New Insights into the Structure of the Vapor/Water\\nInterface from Large-Scale First-Principles Simulations', 'url': 'Papers/2011/JPhysChemLett_2_105-113_2011.pdf', 'journal': 'J. Phys. Chem. Lett.', 'volume': '2'}, {'author': 'Sheng Meng, Efthimios Kaxiras, Md. K. Nazeeruddin, and Michael Gratzel', 'title': 'Design of Dye Acceptors for Photovoltaics from First-Principles\\nCalculations', 'url': 'Papers/2011/JPhysChemC_115_9276-9282_2011.pdf', 'journal': 'J. Phys. Chem. C', 'volume': '115'}, {'author': 'Bingjun Xu, Jan Haubrich, Thomas A. Baker, Efthimios Kaxiras, and Cynthia M. Friend', 'title': 'Theoretical Study of O-Assisted Selective Coupling of Methanol on\\nAu(111)', 'url': 'Papers/2011/JPhysChemC_115_3703-3708_2011.pdf', 'journal': 'J. Phys. Chem. C', 'volume': '115'}, {'author': 'Jun Ren, Sheng Meng, Yi-Lin Wang, Xu-Cun Ma, Qi-Kun Xue, Efthimios Kaxiras', 'title': 'Properties of copper (fluoro-)phthalocyanine layers deposited\\non epitaxial graphene', 'url': 'Papers/2011/JChemPhys_134_194706_2011.pdf', 'journal': 'J. Chem. Phys.', 'volume': '134'}, {'author': 'Jan Haubrich, Efthimios Kaxiras, and Cynthia M. Friend', 'title': 'The Role of Surface and Subsurface Point Defects for Chemical Model\\nStudies on TiO2: A First-Principles Theoretical Study of Formaldehyde\\nBonding on Rutile TiO2(110)', 'url': 'Papers/2011/Chemistry_17_4496-4506_2011.pdf', 'journal': 'Chem. Eur. J.', 'volume': '17'}, {'author': 'Thomas A. Baker, Bingjun Xu, Stephen C. Jensen, Cynthia M. Friend and Efthimios Kaxiras', 'title': 'Role of defects in propene adsorption and reaction on a partially\\nO-covered Au(111) surface', 'url': 'Papers/2011/CatalSciTechnol_1_1166_2011.pdf', 'journal': 'Catal. Sci. Technol.', 'volume': '1'}, {'author': 'Youdong Mao, Wei L. Wang, Dongguang Wei, Efthimios Kaxiras, and Joseph G. Sodroski', 'title': 'Graphene Structures at an Extreme\\nDegree of Buckling', 'url': 'Papers/2011/ACSNano_5_1395-1400_2011.pdf', 'journal': 'ACSNano.', 'volume': '5'}, {'author': 'H. Li, J.M. Knaup, E. Kaxiras and J.J. Vlassak', 'title': 'Stiffening of organosilicate glasses by organic cross-linking', 'url': 'Papers/ActaMater_59_44-52_2011.pdf', 'journal': 'Acta Mater.', 'volume': '59'}, {'author': 'W.L. Wang and E. Kaxiras', 'title': 'Graphene hydrate: theoretical prediction of a new insulating \\nform of graphene', 'url': 'Papers/NewJPhys_12_125012_2010.pdf', 'journal': 'New J. Phys.', 'volume': '12'}, {'author': 'L.A. Agapito, N. Kioussis and E. Kaxiras', 'title': 'Electric-field control of magnetism in graphene quantum dots:\\n Ab initio calculations', 'url': 'Papers/PhysRevB_82_201411_2010.pdf', 'journal': 'Phys. Rev. B', 'volume': '82'}, {'author': 'A. Peters, S. Melchionna, E. Kaxiras, J. Latt, J. Sircar, S. Succi', 'title': 'Multiscale simulation of cardiovascular flows on the IBM Bluegene/P: \\nfull heart-circulation system at near red-blood cell resolution', 'url': 'Papers/IEEE-SC10_2010.pdf', 'journal': '2010 ACM/IEEE International Conference for High Performance', 'volume': 'NA'}, {'author': 'J. Ren, E. Kaxiras and S. Meng', 'title': 'Optical properties of clusters and molecules from real-time time-dependent\\ndensity functional theory using a self-consistent field', 'url': 'Papers/MolPhys_108_1829-1844_2010.pdf', 'journal': 'Molec. Phys.', 'volume': '108'}, {'author': 'T.A. Baker, E. Kaxiras and C.M. Friend', 'title': 'Insights from Theory on the Relationship Between Surface Reactivity\\nand Gold Atom Release', 'url': 'Papers/TopicsCatal_53_365-377_2010.pdf', 'journal': 'Top. Catal.', 'volume': '53'}, {'author': 'H.P. Chen, R.K. Kalia, E. Kaxiras, G. Lu, A. Nakano, K. Nomura', 'title': 'Embrittlement of Metal by Solute Segregation-Induced Amorphization', 'url': 'Papers/PhysRevLett_104_155502_2010.pdf', 'journal': 'Phys. Rev. Lett.', 'volume': '104'}, {'author': 'S. Meng and E. Kaxiras', 'title': 'Electron and Hole Dynamics in Dye-Sensitized Solar Cells:\\nInfluencing Factors and Systematic Trends', 'url': 'Papers/NanoLett_10_1238-1247_2010.pdf', 'journal': 'NanoLett.', 'volume': '10'}, {'author': 'C.L. Chang, S.K.R.S. Sankaranarayanan, D. Ruzmetov, M.H. Engelhard, E. Kaxiras and S. Ramanathan', 'title': 'Compositional tuning of ultrathin surface oxides on metal and alloy\\nsubstrates using photons: Dynamic simulations and experiments', 'url': 'Papers/PhysRevB_81_085406_2010.pdf', 'journal': 'Phys. Rev. B', 'volume': '81'}, {'author': 'T.A. Baker, C.M. Friend and E. Kaxiras', 'title': 'Local Bonding Effects in the Oxidation of CO on Oxygen-Covered\\nAu(111) from Ab Initio Molecular Dynamics Simulations', 'url': 'Papers/JChemTheComp_6_279-287_2010.pdf', 'journal': 'J. Chem. Theory Comput.', 'volume': '6'}, {'author': 'S. Melchionna, M. Bernaschi, S. Succi, E. Kaxiras, F.J. Rybicki, D. Mitsouras, A.U. Coskun and C.L. Feldman', 'title': 'Hydrokinetic approach to large-scale cardiovascular blood flow', 'url': 'Papers/CompPhysComm_181_462-472_2010.pdf', 'journal': 'Comp. Phys. Comm.', 'volume': '181'}, {'author': 'M. Bernaschi, M. Fatica, S. Melchionna, S. Succi and E. Kaxiras', 'title': 'A flexible high-performance Lattice Boltzmann GPU code for the\\nsimulations of fluid flows in complex geometries', 'url': 'Papers/ConcComp_22_1-14_2010.pdf', 'journal': 'Concurrency Computat.: Pract. Exper.', 'volume': '22'}, {'author': 'E. Manousakis, J. Ren, S. Meng and E. Kaxiras', 'title': 'Is the nature of magnetic order in copper-oxides and iron-pnictides \\ndifferent?', 'url': 'Papers/SolStComm_150_62-65_2010.pdf', 'journal': 'Sol. St. Comm.', 'volume': '150'}, {'author': 'A. Gali, E. Janzen, P. Deak, G. Kresse and E. Kaxiras', 'title': 'Theory of Spin-Conserving Excitation of the N-V Center in Diamond', 'url': 'Papers/PhysRevLett_103_186404_2009.pdf', 'journal': 'Phys. Rev. Lett.', 'volume': '103'}, {'author': 'S.K.R.S. Sankaranarayanan, E. Kaxiras and S. Ramanathan', 'title': 'Electric field tuning of oxygen stoichiometry at oxide surfaces:\\nmolecular dynamics isimulations studies iof zirconia', 'url': 'Papers/EnEnviSci_2_1196-1204_2009.pdf', 'journal': 'Energy & Environmental Sci.', 'volume': '2'}, {'author': 'M. Bernaschi, S. Melchionna, S. Succi, M. Fyta, E. Kaxira', 'title': 'MUPHY: A parallel MUlti PHYsics/scale code for high performance \\nbio-fluidic simulations', 'url': 'Papers/CompPhysComm_180_1495-1502_2009.pdf', 'journal': 'Comp. Phys. Comm.', 'volume': '180'}, {'author': 'T.A. Baker, B.J. Xu, X.Y. Liu, E. Kaxiras and C.M. Friend', 'title': 'Nature of Oxidation of the Au(111) Surface: Experiment and\\nTheoretical Investigation', 'url': 'Papers/JPhysChemC_113_16561-16564_2009.pdf', 'journal': 'J. Phys. Chem. C', 'volume': '113'}, {'author': 'F.J. Rybicki, S. Melchionna, D. Mitsouras, A.U. Coskun, A.G. Whitmore, E. Kaxiras, S. Succi, P.H. Stone and C.L. Feldman', 'title': 'Prediction of coronary artery plaque progression and potential rupture\\nfrom 320-detector row prospectively ECG-gated single heart beat CT angiography: \\nLattice Boltzmann evaluation of endothelial shear stress', 'url': 'Papers/IntJCardImag_25_289-299_2009.pdf', 'journal': 'Int. J. Cardiovasc. Imaging', 'volume': '25'}, {'author': 'H. Chen, W.G. Zhu, E. Kaxiras, and Z.Y. Zhang', 'title': 'Optimization of Mn doping in group-IV-based dilute magnetic semiconductors\\nby electronic codopants', 'url': 'Papers/PhysRevB_79_235202_2009.pdf', 'journal': 'Phys. Rev. B', 'volume': '79'}, {'author': 'M. Fyta, S. Melchionna, M. Bernaschi, E. Kaxiras and S. Succi', 'title': 'Numerical simulation of conformational variability in biopolymer translocation \\nthrough wide nanopores', 'url': 'Papers/JStatMech_2009.pdf', 'journal': 'J. Stat. Mech: Th. and Exper.', 'volume': '06'}, {'author': 'E.M. Kotsalis, J.H. Walther, E. Kaxiras and P. Koumoutsakos', 'title': 'Control algorithm for multiscale flow simulations of water', 'url': 'Papers/PhysRevE_79_045701RC_2009.pdf', 'journal': 'Phys. Rev. E - Rap. Comm.', 'volume': '79'}, {'author': 'C.E. Lekka, J. Ren, S. Meng and E. Kaxiras', 'title': 'Structural, Electronic, and Optical Properties of Representative Cu-Flavonoid Complexes', 'url': 'Papers/JPhysChemB_113_6478_2009.pdf', 'journal': 'J. Phys. Chem. B', 'volume': '113'}, {'author': 'W.L. Wang, O.V. Yazyev, S. Meng and E. Kaxiras', 'title': 'Topological Frustration in Graphene Nanoflakes: Magnetic Order and Spin Logic Devices', 'url': 'Papers/PhysRevLett_102_157201_2009.pdf', 'journal': 'Phys. Rev. Lett.', 'volume': '102'}, {'author': 'A. Gali and E. Kaxiras', 'title': \"Comment on 'Ab initio Electronic and Optical Properties of the N-V-Center in Diamond'\", 'url': 'Papers/PhysRevLett_102_149703_2009.pdf', 'journal': 'Ab initio', 'volume': '102'}, {'author': 'S. Melchionna, M. Bernaschi, M. Fyta, E. Kaxiras and S. Succi', 'title': 'Quantized biopolymer translocation through nanopores: Departure from simple scaling', 'url': 'Papers/PhysRevE_79_030901RC_2009.pdf', 'journal': 'Phys. Rev. E - Rap. Comm.', 'volume': '79'}, {'author': 'S.K.R.S. Sankaranarayanan, E. Kaxiras, S. Ramanathan', 'title': 'Atomistic Simulation of Field Enhanced Oxidation of Al(1000) Beyond the Mott Potential', 'url': 'Papers/PhysRevLett_102_095504_2009.pdf', 'journal': 'Phys. Rev. Lett.', 'volume': '102'}, {'author': 'T.A. Baker, C.M. Friend and E. Kaxiras', 'title': 'Effects of chlorine and oxygen coverage on the structure of the Au(111) surface', 'url': 'Papers/JChemPhys_130_084701_2009.pdf', 'journal': 'J. Chem. Phys.', 'volume': '130'}, {'author': 'T.A. Baker, C.M. Friend and E. Kaxiras', 'title': 'Atomic Oxygen Adsorption on Au(111) Surfaces with Defects', 'url': 'Papers/JPhysChemC_113_3232_2009.pdf', 'journal': 'J. Phys. Chem. C', 'volume': '113'}, {'author': 'E. Kaxiras and S. Succi', 'title': 'Multiscale simulations of complex systems: computation meets reality', 'url': 'Papers/SciModSim_15_59_2008.pdf', 'journal': 'Sci. Model. Simul.', 'volume': '15'}, {'author': 'E. Manousakis, J. Ren, S. Meng and E. Kaxiras', 'title': 'Effective Hamiltonian for FeAs-based superconductors', 'url': 'Papers/PhysRevB_78_205112_2008.pdf', 'journal': 'Phys. Rev. B', 'volume': '78'}]\n"
     ]
    }
   ],
   "source": [
    "def bibtex(arquivo = \"aux_files/kaxiras.bib\"):\n",
    "    arquivo =  open(arquivo,'r')\n",
    "    kaxiras = arquivo.read()\n",
    "    arquivo.close()\n",
    "    \"\"\" \n",
    "    o padrão é atributo = \"texto\"\n",
    "    esse texto conte vários caracteres como\n",
    "    vírgulas, letras, etc, vale tudo menos aspas!\n",
    "    Usamos na solução a expressão [^\\\"]+ para capturar\n",
    "    o texto referente a cada atributo.\n",
    "    ^é um sinal de negação e \\\" identificaria aspas\n",
    "    ^\\\" identifica então qualquer coisa exceto aspas,\n",
    "    os colchetes servem para juntar essas expressões e\n",
    "    o sinal de + é pra capturar um ou mais caracteres que\n",
    "    batem com o conteúdo do colchete.\n",
    "    \"\"\"\n",
    "\n",
    "    # Vamos montar uma regex única para fazer todo\n",
    "    # o trabalho, mas vamos contruí-la por partes\n",
    "\n",
    "    author = r\"author = \\\"([^\\\"]+)\\\"\"\n",
    "    title = r\"title = \\\"([^\\\"]+)\\\"\"\n",
    "    url = r\"URL = \\\"([^\\\"]+)\\\"\"\n",
    "    journal = r\"journal = \\\"([^\\\"]+)\\\"\"\n",
    "    volume = r\"volume = \\\"([^\\\"]+)\\\"\"\n",
    "\n",
    "    regex = r\",\\s+\".join([author,title,url,journal,volume])\n",
    "    resultados = re.findall(regex,kaxiras)\n",
    "    # a variável 'resultados' é uma lista de \n",
    "    # tuplas dos valores que queremos no dicionário\n",
    "\n",
    "    return [dict(author=tupla[0],title=tupla[1],\n",
    "            url=tupla[2],journal=tupla[3],volume=tupla[4]) for tupla in resultados]\n",
    "\n",
    "print(bibtex())"
   ]
  },
  {
   "cell_type": "code",
   "execution_count": 8,
   "metadata": {},
   "outputs": [
    {
     "name": "stderr",
     "output_type": "stream",
     "text": [
      ".......\n",
      "----------------------------------------------------------------------\n",
      "Ran 7 tests in 0.018s\n",
      "\n",
      "OK\n"
     ]
    },
    {
     "data": {
      "text/plain": [
       "<unittest.main.TestProgram at 0x7fe959f67430>"
      ]
     },
     "execution_count": 8,
     "metadata": {},
     "output_type": "execute_result"
    }
   ],
   "source": [
    "import unittest\n",
    "\n",
    "class UnitTests(unittest.TestCase):\n",
    "    def test_myip(self):\n",
    "        self.assertEqual(myip(\"192.168.015.007\"),\"192.168.15.7\")\n",
    "        self.assertEqual(myip(\"010.000.000.100\"),\"10.0.0.100\")\n",
    "        self.assertEqual(myip(\"192.168.011.015\"),\"192.168.11.15\")\n",
    "        self.assertEqual(myip(\"192.200.000.010\"),\"192.200.0.10\")\n",
    "    \n",
    "    def test_endereco(self):\n",
    "        self.assertEqual(endereco(\"avenida santo amaro, 120\"),\"A. Santo Amaro, 120\")\n",
    "        self.assertEqual(endereco(\"rua das Amélias, 437\"),\"R. Das Amélias, 437\")\n",
    "        self.assertEqual(endereco(\"A. santos DumOnt, 27\"),\"A. Santos Dumont, 27\")\n",
    "        self.assertEqual(endereco(\"Rua Afonso Pena, 1320\"),\"R. Afonso Pena, 1320\")\n",
    "    \n",
    "    def test_logicread(self):\n",
    "        t_in='''\\\n",
    "a = 1;\n",
    "b = input();\n",
    "if a + b > 0 && a - b < 0:\n",
    "    start()\n",
    "elif a*b > 10 || a/b < 1:\n",
    "    stop()\n",
    "print set(list(a)) | set(list(b)) \n",
    "#Obsereve que não deve mudar &&& ou ||| ou & ou |\n",
    "#Apenas mude os '&&' que teham espaço em ambos os lados\n",
    "#Apenas mude os '||' que tenham espaço em ambos os lados.'''\n",
    "        \n",
    "        t_out='''\\\n",
    "a = 1;\n",
    "b = input();\n",
    "if a + b > 0 and a - b < 0:\n",
    "    start()\n",
    "elif a*b > 10 or a/b < 1:\n",
    "    stop()\n",
    "print set(list(a)) | set(list(b)) \n",
    "#Obsereve que não deve mudar &&& ou ||| ou & ou |\n",
    "#Apenas mude os '&&' que teham espaço em ambos os lados\n",
    "#Apenas mude os '||' que tenham espaço em ambos os lados.'''\n",
    "        self.assertEqual(logicread(t_in),t_out)\n",
    "    \n",
    "    def test_maratona_v1(self):\n",
    "        t1 = '''(a)\\n3\\na\\nb\\naa'''\n",
    "        t2 = \"(a.b)\\n3\\na\\nab\\nb\"\n",
    "        t3 = \"(a|b)\\n4\\na\\nb\\nab\\nba\"\n",
    "        t4 = '''(a*)\\n3\\na\\naaaaaaaaaaa\\naaaaabaaaaa'''\n",
    "        t5 = \"((a*).(b*))\\n3\\nbbbaaa\\naaabbb\\nbbbbbbbbbbbbbbbbbbbbbbbbbbbbbbb\"\n",
    "        \n",
    "        a1 = \"Y\\nN\\nN\"\n",
    "        a2 = \"N\\nY\\nN\"\n",
    "        a3 = \"Y\\nY\\nN\\nN\"\n",
    "        a4 = \"Y\\nY\\nN\"\n",
    "        a5 = \"N\\nY\\nY\"\n",
    "\n",
    "        self.assertEqual(maratona(t1),a1)\n",
    "        self.assertEqual(maratona(t2),a2)\n",
    "        self.assertEqual(maratona(t3),a3)\n",
    "        self.assertEqual(maratona(t4),a4)\n",
    "        self.assertEqual(maratona(t5),a5)\n",
    "    \n",
    "    def test_alice1(self):\n",
    "        alice = alice1()\n",
    "        stopwords = ['a', 'about', 'after', 'again', 'all', 'an', 'and', 'any', \n",
    "            'as', 'at', 'be', 'before', 'but', 'by', 'can', 'did',\n",
    "            'do', 'few', 'for', 'from', 'had', 'have',\n",
    "            'having', 'her', 'here', 'herself', 'how', 'i','ll', 'if',\n",
    "            'in', 'into', 'is', 'it', 'just', 'me', 'my', 'no',\n",
    "            'not', 'now', 'of', 'off', 'on', 'once', 'only', 'or',\n",
    "            'other', 'out', 'over', 'own', 's', 'she', 'should', 'so',\n",
    "            'such', 't', 'that', 'the', 'their', 'them', 'then', 'there',\n",
    "            'they', 'this', 'those', 'through', 'to', 'too', 'under', 'up', \n",
    "            'very', 'was', 'were', 'what', 'when', 'which', 'why', 'with','you']\n",
    "        for i in stopwords:\n",
    "            self.assertNotIn(i,alice.split())\n",
    "    def test_alice2(self):\n",
    "        t = 'down rabbit hole alice beginning get tired sitting sister bank nothing twice peeped book sister reading pictures conversations use book thought alice without pictures conversations considering mind well could hot day made feel sleepy stupid whether pleasure making daisy chain would worth trouble getting picking daisies suddenly white rabbit pink eyes ran close nothing remarkable nor alice think much way hear rabbit say itself oh dear oh dear shall late thought afterwards occurred ought wondered time seemed quite natural rabbit actually took watch its waistcoat pocket looked hurried alice started feet flashed across mind never seen rabbit either waistcoat pocket watch take burning curiosity ran across field fortunately time see pop down large rabbit hole hedge another moment down went alice never considering world get rabbit hole went straight like tunnel some way dipped suddenly down suddenly alice moment think stopping found falling down deep well either well deep fell slowly plenty time went down look wonder going happen next first tried look down make coming dark see anything looked sides well noticed filled cupboards book shelves saw maps pictures hung upon pegs took down jar one shelves passed labelled orange marmalade great disappointment empty like drop jar fear killing somebody underneath managed put one cupboards fell past well thought alice fall shall think nothing tumbling down stairs brave think home wouldn say anything even fell top house likely true down down down would fall never come end wonder many miles ve fallen time said aloud must getting somewhere near centre earth let see would four thousand miles down think see alice learnt several things sort lessons schoolroom though good opportunity showing knowledge one listen still good practice say yes right distance wonder latitude longitude ve got alice idea latitude longitude either thought nice grand words say presently began wonder shall fall right earth funny seem come among people walk heads downward antipathies think rather glad one listening time didn sound right word shall ask name country know please ma am new zealand australia tried curtsey spoke fancy curtseying re falling air think could manage ignorant little girl think asking never ask perhaps shall see written somewhere down down down nothing else alice soon began talking dinah miss much night think dinah cat hope remember saucer milk tea time dinah dear wish down are mice air m afraid might catch bat like mouse know cats eat bats wonder alice began get rather sleepy went saying dreamy sort way cats eat bats cats eat bats sometimes bats eat cats see couldn answer either question didn much matter way put felt dozing begun dream walking hand hand dinah saying earnestly dinah tell truth ever eat bat suddenly thump thump down came upon heap sticks dry leaves fall alice bit hurt jumped feet moment looked dark overhead another long passage white rabbit still sight hurrying down moment lost away went alice like wind time hear say turned corner oh ears whiskers late getting close behind turned corner rabbit longer seen found long low hall lit row lamps hanging roof doors round hall locked alice been way down one side trying every door walked sadly down middle wondering ever get suddenly came upon little three legged table made solid glass nothing except tiny golden key alice first thought might belong one doors hall alas either locks large key small rate would open however second time round came upon low curtain noticed behind little door fifteen inches high tried little golden key lock great delight fitted alice opened door found led small passage much larger than rat hole knelt down looked along passage loveliest garden ever saw longed get dark hall wander among beds bright flowers cool fountains could even get head doorway even head would go thought poor alice would little use without shoulders oh wish could shut like telescope think could knew begin see many way things happened lately alice begun think things indeed really impossible seemed use waiting little door went back table half hoping might find another key rate book rules shutting people like telescopes time found little bottle certainly said alice round neck bottle paper label words drink beautifully printed large letters well say drink wise little alice going hurry look first said see whether marked poison read several nice little histories children who got burnt eaten wild beasts unpleasant things because would remember simple rules friends taught red hot poker will burn hold long cut your finger deeply knife usually bleeds never forgotten drink much bottle marked poison almost certain disagree sooner later however bottle marked poison alice ventured taste finding nice fact sort mixed flavour cherry tart custard pine apple roast turkey toffee hot buttered toast soon finished curious feeling said alice must shutting like telescope indeed ten inches high face brightened thought right size going little door lovely garden first however waited minutes see going shrink further felt little nervous might end know said alice going altogether like candle wonder like tried fancy flame candle like candle blown could remember ever seen thing while finding nothing more happened decided going garden alas poor alice got door found forgotten little golden key went back table found could possibly reach could see quite plainly glass tried best climb one legs table slippery tired trying poor little thing sat down cried come use crying like said alice rather sharply advise leave minute generally gave good advice though seldom followed sometimes scolded severely bring tears eyes remembered trying box ears cheated game croquet playing against curious child fond pretending two people use thought poor alice pretend two people hardly enough left make one respectable person soon eye fell little glass box lying table opened found small cake words eat beautifully marked currants well eat said alice makes grow larger reach key makes grow smaller creep door either way get garden don care happens ate little bit said anxiously way way holding hand top head feel way growing quite surprised find remained same size sure generally happens one eats cake alice got much way expecting nothing way things happen seemed quite dull stupid life go common way set work soon finished cake\\n'\n",
    "        self.assertEqual(alice2(t,1),\"alice\")\n",
    "        self.assertEqual(alice2(t,3),\"little\")\n",
    "        self.assertCountEqual([\"rabbit\",\"time\",\"one\"],[alice2(t,i) for i in [8,9,10]])\n",
    "        self.assertCountEqual([\"think\",\"like\"],[alice2(t,i) for i in [5,6]])\n",
    "\n",
    "    def test_bibtex(self):\n",
    "        answer = [{'author': 'Ming-Wei Lin, Cheng Ling, Luis A. Agapito, Nicholas Kioussis, Yiyang Zhang, Mark Ming-Cheng Cheng', 'title': 'Approaching the intrinsic band gap in suspended high-mobility graphene nanoribbons', 'url': 'Papers/2011/PhysRevB_84_125411_2011.pdf', 'journal': 'PHYSICAL REVIEW B', 'volume': '84'}, {'author': 'JAdam Gali, Efthimios Kaxiras, Gergely T. Zimanyi, Sheng Meng', 'title': 'Effect of symmetry breaking on the optical absorption of semiconductor nanoparticles', 'url': 'Papers/2011/PhysRevB_84_035325_2011.pdf', 'journal': 'PHYSICAL REVIEW B', 'volume': '84'}, {'author': 'Jan M. Knaup, Han Li, Joost J. Vlassak, and Efthimios Kaxiras', 'title': 'Influence of CH2 content and network defects on the elastic properties of organosilicate glasses', 'url': 'Papers/2011/PhysRevB_83_054204_2011.pdf', 'journal': 'PHYSICAL REVIEW B', 'volume': '83'}, {'author': 'Martin Heiss, Sonia Conesa-Boj, Jun Ren, Hsiang-Han Tseng, Adam Gali', 'title': 'Direct correlation of crystal structure and optical properties in wurtzite/zinc-blende\\nGaAs nanowire heterostructures', 'url': 'Papers/2011/PhysRevB_83_045303_2011.pdf', 'journal': 'PHYSICAL REVIEW B', 'volume': '83'}, {'author': 'Simone Melchionna, Efthimios Kaxiras, Massimo Bernaschi and Sauro Succi', 'title': 'Endothelial shear stress from large-scale blood flow simulations', 'url': 'Papers/2011/PhilTransRSocA_369_2354_2011.pdf', 'journal': 'Phil. Trans. R. Soc. A', 'volume': '369'}, {'author': 'J R Maze, A Gali, E Togan, Y Chu, A Trifonov', 'title': 'Properties of nitrogen-vacancy centers in diamond:\\nthe group theoretic approach', 'url': 'Papers/2011/NewJPhys_13_025025_2011.pdf', 'journal': 'New Journal of Physics', 'volume': '13'}, {'author': 'Kejie Zhao, Wei L. Wang, John Gregoire, Matt Pharr, Zhigang Suo', 'title': 'Lithium-Assisted Plastic Deformation of Silicon Electrodes in\\nLithium-Ion Batteries: A First-Principles Theoretical Study', 'url': 'Papers/2011/NanoLett_11_2962-2967_2011.pdf', 'journal': 'Nano Lett.', 'volume': '11'}, {'author': 'Masataka Katono, Takeru Bessho, Sheng Meng, Robin Humphry-Baker, Guido Rothenberger', 'title': 'D-π-A Dye System Containing Cyano-Benzoic Acid as Anchoring\\nGroup for Dye-Sensitized Solar Cells', 'url': 'Papers/2011/Langmuir_27_14248_2011.pdf', 'journal': 'Langmuir', 'volume': '27'}, {'author': 'Thomas D. Kuhne, Tod A. Pascal, Efthimios Kaxiras, and Yousung Jung', 'title': 'New Insights into the Structure of the Vapor/Water\\nInterface from Large-Scale First-Principles Simulations', 'url': 'Papers/2011/JPhysChemLett_2_105-113_2011.pdf', 'journal': 'J. Phys. Chem. Lett.', 'volume': '2'}, {'author': 'Sheng Meng, Efthimios Kaxiras, Md. K. Nazeeruddin, and Michael Gratzel', 'title': 'Design of Dye Acceptors for Photovoltaics from First-Principles\\nCalculations', 'url': 'Papers/2011/JPhysChemC_115_9276-9282_2011.pdf', 'journal': 'J. Phys. Chem. C', 'volume': '115'}, {'author': 'Bingjun Xu, Jan Haubrich, Thomas A. Baker, Efthimios Kaxiras, and Cynthia M. Friend', 'title': 'Theoretical Study of O-Assisted Selective Coupling of Methanol on\\nAu(111)', 'url': 'Papers/2011/JPhysChemC_115_3703-3708_2011.pdf', 'journal': 'J. Phys. Chem. C', 'volume': '115'}, {'author': 'Jun Ren, Sheng Meng, Yi-Lin Wang, Xu-Cun Ma, Qi-Kun Xue, Efthimios Kaxiras', 'title': 'Properties of copper (fluoro-)phthalocyanine layers deposited\\non epitaxial graphene', 'url': 'Papers/2011/JChemPhys_134_194706_2011.pdf', 'journal': 'J. Chem. Phys.', 'volume': '134'}, {'author': 'Jan Haubrich, Efthimios Kaxiras, and Cynthia M. Friend', 'title': 'The Role of Surface and Subsurface Point Defects for Chemical Model\\nStudies on TiO2: A First-Principles Theoretical Study of Formaldehyde\\nBonding on Rutile TiO2(110)', 'url': 'Papers/2011/Chemistry_17_4496-4506_2011.pdf', 'journal': 'Chem. Eur. J.', 'volume': '17'}, {'author': 'Thomas A. Baker, Bingjun Xu, Stephen C. Jensen, Cynthia M. Friend and Efthimios Kaxiras', 'title': 'Role of defects in propene adsorption and reaction on a partially\\nO-covered Au(111) surface', 'url': 'Papers/2011/CatalSciTechnol_1_1166_2011.pdf', 'journal': 'Catal. Sci. Technol.', 'volume': '1'}, {'author': 'Youdong Mao, Wei L. Wang, Dongguang Wei, Efthimios Kaxiras, and Joseph G. Sodroski', 'title': 'Graphene Structures at an Extreme\\nDegree of Buckling', 'url': 'Papers/2011/ACSNano_5_1395-1400_2011.pdf', 'journal': 'ACSNano.', 'volume': '5'}, {'author': 'H. Li, J.M. Knaup, E. Kaxiras and J.J. Vlassak', 'title': 'Stiffening of organosilicate glasses by organic cross-linking', 'url': 'Papers/ActaMater_59_44-52_2011.pdf', 'journal': 'Acta Mater.', 'volume': '59'}, {'author': 'W.L. Wang and E. Kaxiras', 'title': 'Graphene hydrate: theoretical prediction of a new insulating \\nform of graphene', 'url': 'Papers/NewJPhys_12_125012_2010.pdf', 'journal': 'New J. Phys.', 'volume': '12'}, {'author': 'L.A. Agapito, N. Kioussis and E. Kaxiras', 'title': 'Electric-field control of magnetism in graphene quantum dots:\\n Ab initio calculations', 'url': 'Papers/PhysRevB_82_201411_2010.pdf', 'journal': 'Phys. Rev. B', 'volume': '82'}, {'author': 'A. Peters, S. Melchionna, E. Kaxiras, J. Latt, J. Sircar, S. Succi', 'title': 'Multiscale simulation of cardiovascular flows on the IBM Bluegene/P: \\nfull heart-circulation system at near red-blood cell resolution', 'url': 'Papers/IEEE-SC10_2010.pdf', 'journal': '2010 ACM/IEEE International Conference for High Performance', 'volume': 'NA'}, {'author': 'J. Ren, E. Kaxiras and S. Meng', 'title': 'Optical properties of clusters and molecules from real-time time-dependent\\ndensity functional theory using a self-consistent field', 'url': 'Papers/MolPhys_108_1829-1844_2010.pdf', 'journal': 'Molec. Phys.', 'volume': '108'}, {'author': 'T.A. Baker, E. Kaxiras and C.M. Friend', 'title': 'Insights from Theory on the Relationship Between Surface Reactivity\\nand Gold Atom Release', 'url': 'Papers/TopicsCatal_53_365-377_2010.pdf', 'journal': 'Top. Catal.', 'volume': '53'}, {'author': 'H.P. Chen, R.K. Kalia, E. Kaxiras, G. Lu, A. Nakano, K. Nomura', 'title': 'Embrittlement of Metal by Solute Segregation-Induced Amorphization', 'url': 'Papers/PhysRevLett_104_155502_2010.pdf', 'journal': 'Phys. Rev. Lett.', 'volume': '104'}, {'author': 'S. Meng and E. Kaxiras', 'title': 'Electron and Hole Dynamics in Dye-Sensitized Solar Cells:\\nInfluencing Factors and Systematic Trends', 'url': 'Papers/NanoLett_10_1238-1247_2010.pdf', 'journal': 'NanoLett.', 'volume': '10'}, {'author': 'C.L. Chang, S.K.R.S. Sankaranarayanan, D. Ruzmetov, M.H. Engelhard, E. Kaxiras and S. Ramanathan', 'title': 'Compositional tuning of ultrathin surface oxides on metal and alloy\\nsubstrates using photons: Dynamic simulations and experiments', 'url': 'Papers/PhysRevB_81_085406_2010.pdf', 'journal': 'Phys. Rev. B', 'volume': '81'}, {'author': 'T.A. Baker, C.M. Friend and E. Kaxiras', 'title': 'Local Bonding Effects in the Oxidation of CO on Oxygen-Covered\\nAu(111) from Ab Initio Molecular Dynamics Simulations', 'url': 'Papers/JChemTheComp_6_279-287_2010.pdf', 'journal': 'J. Chem. Theory Comput.', 'volume': '6'}, {'author': 'S. Melchionna, M. Bernaschi, S. Succi, E. Kaxiras, F.J. Rybicki, D. Mitsouras, A.U. Coskun and C.L. Feldman', 'title': 'Hydrokinetic approach to large-scale cardiovascular blood flow', 'url': 'Papers/CompPhysComm_181_462-472_2010.pdf', 'journal': 'Comp. Phys. Comm.', 'volume': '181'}, {'author': 'M. Bernaschi, M. Fatica, S. Melchionna, S. Succi and E. Kaxiras', 'title': 'A flexible high-performance Lattice Boltzmann GPU code for the\\nsimulations of fluid flows in complex geometries', 'url': 'Papers/ConcComp_22_1-14_2010.pdf', 'journal': 'Concurrency Computat.: Pract. Exper.', 'volume': '22'}, {'author': 'E. Manousakis, J. Ren, S. Meng and E. Kaxiras', 'title': 'Is the nature of magnetic order in copper-oxides and iron-pnictides \\ndifferent?', 'url': 'Papers/SolStComm_150_62-65_2010.pdf', 'journal': 'Sol. St. Comm.', 'volume': '150'}, {'author': 'A. Gali, E. Janzen, P. Deak, G. Kresse and E. Kaxiras', 'title': 'Theory of Spin-Conserving Excitation of the N-V Center in Diamond', 'url': 'Papers/PhysRevLett_103_186404_2009.pdf', 'journal': 'Phys. Rev. Lett.', 'volume': '103'}, {'author': 'S.K.R.S. Sankaranarayanan, E. Kaxiras and S. Ramanathan', 'title': 'Electric field tuning of oxygen stoichiometry at oxide surfaces:\\nmolecular dynamics isimulations studies iof zirconia', 'url': 'Papers/EnEnviSci_2_1196-1204_2009.pdf', 'journal': 'Energy & Environmental Sci.', 'volume': '2'}, {'author': 'M. Bernaschi, S. Melchionna, S. Succi, M. Fyta, E. Kaxira', 'title': 'MUPHY: A parallel MUlti PHYsics/scale code for high performance \\nbio-fluidic simulations', 'url': 'Papers/CompPhysComm_180_1495-1502_2009.pdf', 'journal': 'Comp. Phys. Comm.', 'volume': '180'}, {'author': 'T.A. Baker, B.J. Xu, X.Y. Liu, E. Kaxiras and C.M. Friend', 'title': 'Nature of Oxidation of the Au(111) Surface: Experiment and\\nTheoretical Investigation', 'url': 'Papers/JPhysChemC_113_16561-16564_2009.pdf', 'journal': 'J. Phys. Chem. C', 'volume': '113'}, {'author': 'F.J. Rybicki, S. Melchionna, D. Mitsouras, A.U. Coskun, A.G. Whitmore, E. Kaxiras, S. Succi, P.H. Stone and C.L. Feldman', 'title': 'Prediction of coronary artery plaque progression and potential rupture\\nfrom 320-detector row prospectively ECG-gated single heart beat CT angiography: \\nLattice Boltzmann evaluation of endothelial shear stress', 'url': 'Papers/IntJCardImag_25_289-299_2009.pdf', 'journal': 'Int. J. Cardiovasc. Imaging', 'volume': '25'}, {'author': 'H. Chen, W.G. Zhu, E. Kaxiras, and Z.Y. Zhang', 'title': 'Optimization of Mn doping in group-IV-based dilute magnetic semiconductors\\nby electronic codopants', 'url': 'Papers/PhysRevB_79_235202_2009.pdf', 'journal': 'Phys. Rev. B', 'volume': '79'}, {'author': 'M. Fyta, S. Melchionna, M. Bernaschi, E. Kaxiras and S. Succi', 'title': 'Numerical simulation of conformational variability in biopolymer translocation \\nthrough wide nanopores', 'url': 'Papers/JStatMech_2009.pdf', 'journal': 'J. Stat. Mech: Th. and Exper.', 'volume': '06'}, {'author': 'E.M. Kotsalis, J.H. Walther, E. Kaxiras and P. Koumoutsakos', 'title': 'Control algorithm for multiscale flow simulations of water', 'url': 'Papers/PhysRevE_79_045701RC_2009.pdf', 'journal': 'Phys. Rev. E - Rap. Comm.', 'volume': '79'}, {'author': 'C.E. Lekka, J. Ren, S. Meng and E. Kaxiras', 'title': 'Structural, Electronic, and Optical Properties of Representative Cu-Flavonoid Complexes', 'url': 'Papers/JPhysChemB_113_6478_2009.pdf', 'journal': 'J. Phys. Chem. B', 'volume': '113'}, {'author': 'W.L. Wang, O.V. Yazyev, S. Meng and E. Kaxiras', 'title': 'Topological Frustration in Graphene Nanoflakes: Magnetic Order and Spin Logic Devices', 'url': 'Papers/PhysRevLett_102_157201_2009.pdf', 'journal': 'Phys. Rev. Lett.', 'volume': '102'}, {'author': 'A. Gali and E. Kaxiras', 'title': \"Comment on 'Ab initio Electronic and Optical Properties of the N-V-Center in Diamond'\", 'url': 'Papers/PhysRevLett_102_149703_2009.pdf', 'journal': 'Ab initio', 'volume': '102'}, {'author': 'S. Melchionna, M. Bernaschi, M. Fyta, E. Kaxiras and S. Succi', 'title': 'Quantized biopolymer translocation through nanopores: Departure from simple scaling', 'url': 'Papers/PhysRevE_79_030901RC_2009.pdf', 'journal': 'Phys. Rev. E - Rap. Comm.', 'volume': '79'}, {'author': 'S.K.R.S. Sankaranarayanan, E. Kaxiras, S. Ramanathan', 'title': 'Atomistic Simulation of Field Enhanced Oxidation of Al(1000) Beyond the Mott Potential', 'url': 'Papers/PhysRevLett_102_095504_2009.pdf', 'journal': 'Phys. Rev. Lett.', 'volume': '102'}, {'author': 'T.A. Baker, C.M. Friend and E. Kaxiras', 'title': 'Effects of chlorine and oxygen coverage on the structure of the Au(111) surface', 'url': 'Papers/JChemPhys_130_084701_2009.pdf', 'journal': 'J. Chem. Phys.', 'volume': '130'}, {'author': 'T.A. Baker, C.M. Friend and E. Kaxiras', 'title': 'Atomic Oxygen Adsorption on Au(111) Surfaces with Defects', 'url': 'Papers/JPhysChemC_113_3232_2009.pdf', 'journal': 'J. Phys. Chem. C', 'volume': '113'}, {'author': 'E. Kaxiras and S. Succi', 'title': 'Multiscale simulations of complex systems: computation meets reality', 'url': 'Papers/SciModSim_15_59_2008.pdf', 'journal': 'Sci. Model. Simul.', 'volume': '15'}, {'author': 'E. Manousakis, J. Ren, S. Meng and E. Kaxiras', 'title': 'Effective Hamiltonian for FeAs-based superconductors', 'url': 'Papers/PhysRevB_78_205112_2008.pdf', 'journal': 'Phys. Rev. B', 'volume': '78'}]\n",
    "        test = bibtex('aux_files/kaxiras.bib')\n",
    "        self.assertEqual(len(test),45,msg=\"Lista não possui 45 elementos\")\n",
    "        self.assertIsInstance(test,list,msg = \"Objeto Final não é uma lista\")\n",
    "        self.assertIsInstance(test[0],dict,msg = \"Elementos da lista não são dicionários\")\n",
    "        for i in range(len(answer)):\n",
    "            self.assertIn(\"author\",test[i])\n",
    "            self.assertIn(\"title\",test[i])\n",
    "            self.assertIn(\"volume\",test[i])\n",
    "            self.assertIn(\"journal\",test[i])\n",
    "\n",
    "unittest.main(argv=['first-arg-is-ignored'], exit=False)"
   ]
  }
 ],
 "metadata": {
  "kernelspec": {
   "display_name": "Python 3",
   "language": "python",
   "name": "python3"
  },
  "language_info": {
   "codemirror_mode": {
    "name": "ipython",
    "version": 3
   },
   "file_extension": ".py",
   "mimetype": "text/x-python",
   "name": "python",
   "nbconvert_exporter": "python",
   "pygments_lexer": "ipython3",
   "version": "3.8.6"
  }
 },
 "nbformat": 4,
 "nbformat_minor": 4
}
