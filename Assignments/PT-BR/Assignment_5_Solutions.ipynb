{
 "cells": [
  {
   "cell_type": "markdown",
   "metadata": {},
   "source": [
    "**1)** A função `favoritos()` recebe como argumentos uma lista `l` de inteiros e dois sets `A` e `B`, também de inteiros. Você gosta dos inteiros de `A` e não gosta dos inteiros de `B`. Sua felicidade inicial é zero. Para cada `i` em `l`, acrescente `1` à sua felicidade se `i` pertence a `A`, e remova `1` de sua felicidade caso ele pertenca a `B`. Retorne ao final o valor de sua felicidade. Veja exemplo:\n",
    "\n",
    ">```python\n",
    ">>>> favoritos([1,2,3,4,5,6,7],{1,3,5,7},{1,2,4,8})\n",
    ">1\n",
    "```"
   ]
  },
  {
   "cell_type": "code",
   "execution_count": 1,
   "metadata": {},
   "outputs": [
    {
     "data": {
      "text/plain": [
       "3"
      ]
     },
     "execution_count": 1,
     "metadata": {},
     "output_type": "execute_result"
    }
   ],
   "source": [
    "def favoritos(l,A,B):\n",
    "    humor = 0\n",
    "    for i in l:\n",
    "        if i in A: humor += 1\n",
    "        if i in B: humor -= 1\n",
    "    return humor\n",
    "\n",
    "favoritos([1,2,4,8,16,32,64,128],{1,2,3,4,5,6,7,8,9,10},{11,12,13,14,15,16,17,18,19,20})"
   ]
  },
  {
   "cell_type": "markdown",
   "metadata": {},
   "source": [
    "**2)** Implemente a classe `Eletronico` com os atributos `marca`, `ano_compra` e `preco`, representando respectivamente, a marca do produto, seu ano de compra do objeto e o preço de pago na compra, em reais.\n",
    "\n",
    "Crie uma subclasse chamada `Smartphone` com novos atributos: `modelo`, `tela`, e `memoria` (além dos anteriores) representando o modelo do telefone, o tamanho da tela em polegadas, e o armazenamento interno em GB.\n",
    "\n",
    "Aparelhos eletrônicos e outros objetos em geral, sofrem a chamada depreciação, que é a perda de valor ao longo do tempo. Com isso, ao tentar revender um celular usado, dificilmente se obtém lucro. Considere que um smartphone perde 10% de valor ao ano (compostos). Dentro da classe `Smartphone` implemente uma função `venda`que recebe o ano de venda do aparelho e retorne o preço depreciado à taxa de 10% a.a.\n",
    "\n",
    "Exemplo:\n",
    "\n",
    ">```python\n",
    ">>>> celular1 = Smartphone(\"MarcaX\",2019,2000,\"ModeloY\",5.5,64)\n",
    ">>>> celular1.venda(2020)\n",
    "> 1800\n",
    "\n",
    "\n",
    "Obs: Use a fórmula dos juros compostos para calcular a depreciação, com taxa $i = -0.1$\n",
    "\n",
    "$M = C (1+i)^t$"
   ]
  },
  {
   "cell_type": "code",
   "execution_count": 2,
   "metadata": {},
   "outputs": [
    {
     "data": {
      "text/plain": [
       "86093.44200000002"
      ]
     },
     "execution_count": 2,
     "metadata": {},
     "output_type": "execute_result"
    }
   ],
   "source": [
    "class Eletronico():\n",
    "    def __init__(self,marca,ano_compra,preco):\n",
    "        self.marca = marca\n",
    "        self.ano_compra = ano_compra\n",
    "        self.preco = preco\n",
    "\n",
    "class Smartphone(Eletronico):\n",
    "    def __init__(self,marca,ano_compra,preco,modelo,tela,memoria):\n",
    "        super().__init__(marca,ano_compra,preco)\n",
    "        self.modelo = modelo\n",
    "        self.tela = tela\n",
    "        self.memoria = memoria\n",
    "\n",
    "    def venda(self,ano_venda):\n",
    "        t = ano_venda - self.ano_compra\n",
    "        return self.preco*0.9**t\n",
    "    \n",
    "celular = Smartphone(\"Apple\",2022,200000,\"Iphone30\",7.4,512)\n",
    "celular.venda(2030)"
   ]
  },
  {
   "cell_type": "markdown",
   "metadata": {},
   "source": [
    "**3)** A função `GetInfo()` recebe como parâmetros dois sets e devolve um dicionário. Seu trabalho é fazer com que cada item desse dicionário corresponda corretamente ao solicidado no código comentado, substituindo os valores `None` de cada um dos elementos do dicionário pelo devido código. Dica: é possível resolver cada item usando apenas uma operação de sets, sem precisar de loops ou variáveis adicionais. Veja exemplo:\n",
    "\n",
    ">```python\n",
    ">>>> a={1,3,\"Teste\",\"LP\"}\n",
    ">>>> b={2,3,\"LP\"}\n",
    ">>>> GetInfo(a,b)\n",
    ">{'intersection': {3, 'LP'}, 'union': {1, 2, 3, 'LP', 'Teste'}, 'JustA': {1, 'Teste'}, 'symetricDifference': {1, 2, 'Teste'}, 'a_sub_b': False, 'LPinA': True, 'NoCommonElements': False}\n",
    ">```"
   ]
  },
  {
   "cell_type": "code",
   "execution_count": 3,
   "metadata": {},
   "outputs": [
    {
     "data": {
      "text/plain": [
       "{'intersection': set(),\n",
       " 'union': {1, 2, 3, 4, 'conjuntinho', 'meu'},\n",
       " 'JustA': {'conjuntinho', 'meu'},\n",
       " 'symetricDifference': {1, 2, 3, 4, 'conjuntinho', 'meu'},\n",
       " 'a_sub_b': False,\n",
       " 'LPinA': False,\n",
       " 'NoCommonElements': True}"
      ]
     },
     "execution_count": 3,
     "metadata": {},
     "output_type": "execute_result"
    }
   ],
   "source": [
    "def GetInfo(a,b):\n",
    "    return {\n",
    "        \"intersection\" : a & b , # Set -> Interseção dos dois sets\n",
    "        \"union\" : a | b , # Set -> União dos dois sets\n",
    "        \"JustA\" : a - b , # Set -> Elementos que estão em A e não estão em B\n",
    "        \"symetricDifference\" : a ^ b , # Set -> Diferênça simétrica de A e B, ou seja, elementos que pertencem a um deles, mas não à interseção.\n",
    "        \"a_sub_b\" : a.issubset(b) , # Booleano -> se A é subconjunto de B\n",
    "        \"LPinA\" : \"LP\" in a , # Booleano -> se a string \"LP\" está em A\n",
    "        \"NoCommonElements\" : a.isdisjoint(b) # Booleano -> Se A e B sãão conjuntos disjuntos \n",
    "    }\n",
    "\n",
    "GetInfo({'meu','conjuntinho'},{1,2,3,4})"
   ]
  },
  {
   "cell_type": "markdown",
   "metadata": {},
   "source": [
    "**4)** A função `primos()` deve receber como único argumento um número inteiro e retornar um set dos números primos menores ou iguais a esse número. Para realizar essa tarefa, poderíamos montar a função de diversas formas. No nosso caso, vamos tomar uma abordagem um pouco mais esperta usando sets. No bloco a seguir, há um pseudocódigo que você deve seguir para implementar a questão.\n",
    "\n",
    ">```\n",
    ">função primos(N)\n",
    ">\n",
    ">    # Inicialização:\n",
    ">    primos <- set com todos os números de 2 a N\n",
    ">    p <- 2\n",
    ">\n",
    ">    # Encontrando os primos:\n",
    ">    enquanto p no intervalo [2,N]\n",
    ">\n",
    ">        # Encontra próximo primo\n",
    ">        enquanto p não está em primos e p está em [2,N]\n",
    ">            incremente p em uma unidade\n",
    ">        # Nesse ponto, p é primo\n",
    ">\n",
    ">        # Remoção dos múltiplos de p\n",
    ">        k <- p + p\n",
    ">        enquanto k menor ou igual a N\n",
    ">            remova k de primos\n",
    ">            k <- k + p\n",
    ">\n",
    ">        # Parta para próximo p\n",
    ">        incremente p em uma unidade\n",
    ">\n",
    ">    # Finalização\n",
    ">    # Nesse ponto, 'primos' contém apenas os primos\n",
    ">    retorne o set primos\n",
    ">\n",
    ">```"
   ]
  },
  {
   "cell_type": "code",
   "execution_count": 4,
   "metadata": {},
   "outputs": [
    {
     "data": {
      "text/plain": [
       "{2, 3, 5, 7, 11, 13, 17, 19, 23, 29, 31, 37, 41, 43, 47}"
      ]
     },
     "execution_count": 4,
     "metadata": {},
     "output_type": "execute_result"
    }
   ],
   "source": [
    "def primos(N):\n",
    "    primos = set(i for i in range(2,N+1))\n",
    "    p = 2\n",
    "    while 2 <= p <=N :\n",
    "        while p not in primos and 2 <= p <= N :\n",
    "            p += 1\n",
    "        k = p + p\n",
    "        while k <= N :\n",
    "            primos.discard(k)\n",
    "            k += p\n",
    "        p += 1\n",
    "    return primos\n",
    "\n",
    "primos(50)"
   ]
  },
  {
   "cell_type": "markdown",
   "metadata": {},
   "source": [
    "**5)** O conjunto das partes de um conjunto A é definido como o conjunto de todos os subconjuntos de A. Por exemplo, o conjunto das partes de {1, 2} é { { }, {1}, {2}, {1,2} }. Crie a função `partes(A)` de forma que ela receba um objeto set A, e retorne o conjuntos das partes de A, como um set de sets. Para todos os sets que for ultilizar, ultilize um chamado `frozenset`, que por ter estrutura rigida, vai permitir a criação de um set de sets. Dica: você pode usar a `combinations` que fez parte de uma lista anterior, ou mesmo a função `combinations` do pacote `itertools`, que coincidentemente equivale à função implementada mencionada ;)\n",
    "Segue o exemplo:\n",
    "\n",
    ">```python\n",
    ">>>> A = frozenset({1,2})\n",
    ">>>> partes(A)\n",
    "> frozenset({frozenset(), frozenset({2}), frozenset({1}), frozenset({1, 2})})\n",
    ">>>> B = frozenset({2,4,6,8})\n",
    ">>>> partes(B)\n",
    "> frozenset({frozenset({2, 4, 6}), frozenset({2}), frozenset({4}), frozenset({4, 6}), frozenset({8, 2}), frozenset({2, 6}), frozenset({8}), frozenset({8, 2, 6}), frozenset({2, 4}), frozenset({6}), frozenset({8, 4, 6}), frozenset({8, 6}), frozenset(), frozenset({8, 2, 4}), frozenset({8, 2, 4, 6}), frozenset({8, 4})})\n",
    "```"
   ]
  },
  {
   "cell_type": "code",
   "execution_count": 5,
   "metadata": {},
   "outputs": [
    {
     "data": {
      "text/plain": [
       "frozenset({frozenset(),\n",
       "           frozenset({3, 4}),\n",
       "           frozenset({2}),\n",
       "           frozenset({1, 4}),\n",
       "           frozenset({3}),\n",
       "           frozenset({2, 3}),\n",
       "           frozenset({2, 3, 4}),\n",
       "           frozenset({1, 2}),\n",
       "           frozenset({2, 4}),\n",
       "           frozenset({1}),\n",
       "           frozenset({1, 2, 4}),\n",
       "           frozenset({1, 3}),\n",
       "           frozenset({1, 2, 3}),\n",
       "           frozenset({4}),\n",
       "           frozenset({1, 3, 4}),\n",
       "           frozenset({1, 2, 3, 4})})"
      ]
     },
     "execution_count": 5,
     "metadata": {},
     "output_type": "execute_result"
    }
   ],
   "source": [
    "from itertools import combinations # Mesmo problema resolvido em lista anterior. Existe uma função para isso! \n",
    "                                   # Veja mais: https://docs.python.org/3/library/itertools.html#itertools.combinations\n",
    "def partes(A):\n",
    "    A, f= list(A), set()\n",
    "    for r in range(len(A)+1):\n",
    "        f.update(combinations(A,r))\n",
    "    return frozenset(frozenset(x) for x in f)\n",
    "\n",
    "partes({1,2,3,4})"
   ]
  },
  {
   "cell_type": "markdown",
   "metadata": {},
   "source": [
    "## Desafio\n",
    "\n",
    "**6)** A classe `Complexo` é um objeto que representa um número com, respectivamente, parte real e imaginária. Além do construtor, vocẽ deve programar os métodos `__add__`, `__sub__`, `__mul__`, `__truediv__`, `__abs__` e `__str__`. Todos esses métodos são chamados \"built-in\", que são usados pelos interpretadores como funções internas. Isso significa que, após implementar o `__add__`, por exemplo, você conseguira executar `a + b` onde `a` e `b` são objetos do tipo `Complexo`. Desta forma, temos:\n",
    "\n",
    " * `__add__` -> (+; retorna um objeto Complexo)\n",
    " * `__sub__` -> (-; retorna um objeto Complexo)\n",
    " * `__mul__` -> (*; retorna um objeto Complexo)\n",
    " * `__truediv__` -> (/; retorna um objeto Complexo)\n",
    " * `__abs__` -> (abs(); valor absoluto do número, que no caso de complexos do tipo 'A + Bi é dado por sqrt(A^2 + B^2); retorna um valor float arredondado para duas casas decimais [olhe a função round()])\n",
    " * `__str__` -> (str(); conversão para string no formato \"A + Bi\" ou \"A - Bi\", onde A e B devem ser ajustados para duas casas decimais; retorna uma string)\n",
    " \n",
    "Com tudo devidamente implementado, deve ser possível executar o seguinte bloco de código:\n",
    "\n",
    ">```python\n",
    ">>>> x = Complexo(3,2)\n",
    ">>>> y = Complexo(4,-5)\n",
    ">>>> str(x)\n",
    ">'3.00+2.00i'\n",
    ">>>> str(x+y)\n",
    ">'7.00-3.00i'\n",
    ">>>> str(x-y)\n",
    ">'-1.00+7.00i'\n",
    ">>>> str(y-x)\n",
    ">'1.00-7.00i'\n",
    ">>>> str(x*y)\n",
    ">'22.00-7.00i'\n",
    ">>>> str(x/y)\n",
    ">'0.05+0.56i'\n",
    ">>>> abs(y)\n",
    ">6.4\n",
    ">>> abs(x)\n",
    ">3.61\n",
    ">```"
   ]
  },
  {
   "cell_type": "code",
   "execution_count": 5,
   "metadata": {},
   "outputs": [
    {
     "name": "stdout",
     "output_type": "stream",
     "text": [
      "3.00+1.00i\n",
      "11.00-8.00i\n",
      "5.00-20.00i\n",
      "13.00+5.00i\n",
      "0.00-65.00i\n",
      "108.00+6.00i\n",
      "2.80+1.60i\n",
      "0.40+0.70i\n",
      "16.12\n",
      "6.71\n"
     ]
    }
   ],
   "source": [
    "class Complexo(object):\n",
    "    def __init__(self, real, imaginario):\n",
    "        self.real = real\n",
    "        self.imaginario = imaginario\n",
    "\n",
    "    def __add__(self, no):\n",
    "        return Complexo(\n",
    "          self.real + no.real,\n",
    "          self.imaginario + no.imaginario\n",
    "          )\n",
    "\n",
    "    def __sub__(self, no):\n",
    "        return Complexo(\n",
    "          self.real - no.real,\n",
    "          self.imaginario - no.imaginario\n",
    "          )\n",
    "\n",
    "    def __mul__(self, no):\n",
    "        return Complexo(\n",
    "          self.real * no.real - self.imaginario * no.imaginario,\n",
    "\n",
    "          self.real * no.imaginario + self.imaginario * no.real\n",
    "        )\n",
    "\n",
    "    def __truediv__(self, no):\n",
    "        return Complexo(\n",
    "          (self.real * no.real + self.imaginario * no.imaginario)/(no.real ** 2 + no.imaginario ** 2),\n",
    "\n",
    "          (self.imaginario * no.real - self.real * no.imaginario)/(no.real ** 2 + no.imaginario ** 2)\n",
    "        )\n",
    "\n",
    "    def __abs__(self):\n",
    "        val = (self.real ** 2 + self.imaginario ** 2) ** (1/2)\n",
    "        return round(val,2)\n",
    "\n",
    "    def __str__(self):\n",
    "        if self.imaginario == 0:\n",
    "            return \"%.2f+0.00i\" % (self.real)\n",
    "        elif self.real == 0:\n",
    "            if self.imaginario >= 0:\n",
    "                return \"0.00+%.2fi\" % (self.imaginario)\n",
    "            else:\n",
    "                return \"0.00-%.2fi\" % (abs(self.imaginario))\n",
    "        elif self.imaginario > 0:\n",
    "            return \"%.2f+%.2fi\" % (self.real, self.imaginario)\n",
    "        else:\n",
    "            return \"%.2f-%.2fi\" % (self.real, abs(self.imaginario))\n",
    "\n",
    "a = Complexo(3,6)\n",
    "b = Complexo(0,-5)\n",
    "c = Complexo(8,-14)\n",
    "d = Complexo(13,0)\n",
    "\n",
    "print(a+b)\n",
    "print(c+a)\n",
    "\n",
    "print(c-a)\n",
    "print(d-b)\n",
    "\n",
    "print(b*d)\n",
    "print(a*c)\n",
    "\n",
    "print(c/b)\n",
    "print(d/c)\n",
    "\n",
    "print(abs(c))\n",
    "print(abs(a))"
   ]
  },
  {
   "cell_type": "code",
   "execution_count": 8,
   "metadata": {},
   "outputs": [
    {
     "name": "stderr",
     "output_type": "stream",
     "text": [
      "......\n",
      "----------------------------------------------------------------------\n",
      "Ran 6 tests in 0.012s\n",
      "\n",
      "OK\n"
     ]
    },
    {
     "data": {
      "text/plain": [
       "<unittest.main.TestProgram at 0x7f913831eb50>"
      ]
     },
     "execution_count": 8,
     "metadata": {},
     "output_type": "execute_result"
    }
   ],
   "source": [
    "import unittest\n",
    "\n",
    "class UnitTests(unittest.TestCase):\n",
    "\n",
    "    def test_favoritos(self):\n",
    "        self.assertEqual(favoritos([1,2,3,4,5,6,7,8,9],{1,4,2,6,9,3},{0,1,2,8}),3)\n",
    "        self.assertEqual(favoritos([0,10,14,2,7,4,9],{0,14,9,27,8,4},{10,2,7,0,23}),0)\n",
    "        self.assertEqual(favoritos([3,14,15,17,9,80],{1,2,4,8,16,32},{1,3,5,7,9}),-2)\n",
    "        \n",
    "        \n",
    "    def test_Eletronico(self):\n",
    "        x = Eletronico('dell',2018,4500)\n",
    "        y = Smartphone('samsung',2017,1400,'J8',6.0,8)\n",
    "        self.assertEqual(x.marca,'dell')\n",
    "        self.assertEqual(y.modelo,'J8')\n",
    "        self.assertEqual(y.preco,1400)\n",
    "        self.assertAlmostEqual(y.venda(2020),1020.6,delta=0.1)\n",
    "        \n",
    "        \n",
    "    def test_GetInfo(self):\n",
    "        a1 = {\"LP\",\"Elements\",107}\n",
    "        b1 = {\"Elements\",107,True}\n",
    "        r1 = {'intersection': {107, 'Elements'}, 'union': {True, 'LP', 107, 'Elements'}, 'JustA': {'LP'}, 'symetricDifference': {True, 'LP'}, 'a_sub_b': False, 'LPinA': True, 'NoCommonElements': False}\n",
    "\n",
    "        a2 = {1997,\"Host\",True,\"_\"}\n",
    "        b2 = {2020,\"CV\",\"-\",\"Animals\"}\n",
    "        r2 = {'intersection': set(), 'union': {True, 2020, 'Host', 1997, 'Animals', '_', '-', 'CV'}, 'JustA': {1997, True, '_', 'Host'}, 'symetricDifference': {True, 2020, 'Host', 1997, 'Animals', '_', '-', 'CV'}, 'a_sub_b': False, 'LPinA': False, 'NoCommonElements': True}\n",
    "\n",
    "        a3 = {\"Ford\",\"Mustang\",\"Tesla\"}\n",
    "        b3 = {\"Tesla\",\"Ferrari\"}\n",
    "        r3 = {'intersection': {'Tesla'}, 'union': {'Mustang', 'Ford', 'Tesla', 'Ferrari'}, 'JustA': {'Mustang', 'Ford'}, 'symetricDifference': {'Mustang', 'Ford', 'Ferrari'}, 'a_sub_b': False, 'LPinA': False, 'NoCommonElements': False}\n",
    "\n",
    "        self.assertEqual(GetInfo(a1,b1),r1)\n",
    "        self.assertEqual(GetInfo(a2,b2),r2)\n",
    "        self.assertEqual(GetInfo(a3,b3),r3)\n",
    "\n",
    "        \n",
    "    def test_primos(self):\n",
    "        self.assertEqual(primos(128),{2, 3, 5, 7, 11, 13, 17, 19, 23, 29, 31, 37, 41, 43, 47, 53, 59, 61, 67, 71, 73, 79, 83, 89, 97, 101, 103, 107, 109, 113, 127})\n",
    "        self.assertEqual(primos(289),{2, 3, 5, 7, 11, 13, 17, 19, 23, 29, 31, 37, 41, 43, 47, 53, 59, 61, 67, 71, 73, 79, 83, 89, 97, 101, 103, 107, 109, 113, 127, 131, 137, 139, 149, 151, 157, 163, 167, 173, 179, 181, 191, 193, 197, 199, 211, 223, 227, 229, 233, 239, 241, 251, 257, 263, 269, 271, 277, 281, 283})\n",
    "        self.assertEqual(primos(5973),{2, 3, 5, 7, 11, 13, 17, 19, 23, 29, 31, 37, 41, 43, 47, 53, 59, 61, 67, 71, 73, 79, 83, 89, 97, 101, 103, 107, 109, 113, 127, 131, 137, 139, 149, 151, 157, 163, 167, 173, 179, 181, 191, 193, 197, 199, 211, 223, 227, 229, 233, 239, 241, 251, 257, 263, 269, 271, 277, 281, 283, 293, 307, 311, 313, 317, 331, 337, 347, 349, 353, 359, 367, 373, 379, 383, 389, 397, 401, 409, 419, 421, 431, 433, 439, 443, 449, 457, 461, 463, 467, 479, 487, 491, 499, 503, 509, 521, 523, 541, 547, 557, 563, 569, 571, 577, 587, 593, 599, 601, 607, 613, 617, 619, 631, 641, 643, 647, 653, 659, 661, 673, 677, 683, 691, 701, 709, 719, 727, 733, 739, 743, 751, 757, 761, 769, 773, 787, 797, 809, 811, 821, 823, 827, 829, 839, 853, 857, 859, 863, 877, 881, 883, 887, 907, 911, 919, 929, 937, 941, 947, 953, 967, 971, 977, 983, 991, 997, 1009, 1013, 1019, 1021, 1031, 1033, 1039, 1049, 1051, 1061, 1063, 1069, 1087, 1091, 1093, 1097, 1103, 1109, 1117, 1123, 1129, 1151, 1153, 1163, 1171, 1181, 1187, 1193, 1201, 1213, 1217, 1223, 1229, 1231, 1237, 1249, 1259, 1277, 1279, 1283, 1289, 1291, 1297, 1301, 1303, 1307, 1319, 1321, 1327, 1361, 1367, 1373, 1381, 1399, 1409, 1423, 1427, 1429, 1433, 1439, 1447, 1451, 1453, 1459, 1471, 1481, 1483, 1487, 1489, 1493, 1499, 1511, 1523, 1531, 1543, 1549, 1553, 1559, 1567, 1571, 1579, 1583, 1597, 1601, 1607, 1609, 1613, 1619, 1621, 1627, 1637, 1657, 1663, 1667, 1669, 1693, 1697, 1699, 1709, 1721, 1723, 1733, 1741, 1747, 1753, 1759, 1777, 1783, 1787, 1789, 1801, 1811, 1823, 1831, 1847, 1861, 1867, 1871, 1873, 1877, 1879, 1889, 1901, 1907, 1913, 1931, 1933, 1949, 1951, 1973, 1979, 1987, 1993, 1997, 1999, 2003, 2011, 2017, 2027, 2029, 2039, 2053, 2063, 2069, 2081, 2083, 2087, 2089, 2099, 2111, 2113, 2129, 2131, 2137, 2141, 2143, 2153, 2161, 2179, 2203, 2207, 2213, 2221, 2237, 2239, 2243, 2251, 2267, 2269, 2273, 2281, 2287, 2293, 2297, 2309, 2311, 2333, 2339, 2341, 2347, 2351, 2357, 2371, 2377, 2381, 2383, 2389, 2393, 2399, 2411, 2417, 2423, 2437, 2441, 2447, 2459, 2467, 2473, 2477, 2503, 2521, 2531, 2539, 2543, 2549, 2551, 2557, 2579, 2591, 2593, 2609, 2617, 2621, 2633, 2647, 2657, 2659, 2663, 2671, 2677, 2683, 2687, 2689, 2693, 2699, 2707, 2711, 2713, 2719, 2729, 2731, 2741, 2749, 2753, 2767, 2777, 2789, 2791, 2797, 2801, 2803, 2819, 2833, 2837, 2843, 2851, 2857, 2861, 2879, 2887, 2897, 2903, 2909, 2917, 2927, 2939, 2953, 2957, 2963, 2969, 2971, 2999, 3001, 3011, 3019, 3023, 3037, 3041, 3049, 3061, 3067, 3079, 3083, 3089, 3109, 3119, 3121, 3137, 3163, 3167, 3169, 3181, 3187, 3191, 3203, 3209, 3217, 3221, 3229, 3251, 3253, 3257, 3259, 3271, 3299, 3301, 3307, 3313, 3319, 3323, 3329, 3331, 3343, 3347, 3359, 3361, 3371, 3373, 3389, 3391, 3407, 3413, 3433, 3449, 3457, 3461, 3463, 3467, 3469, 3491, 3499, 3511, 3517, 3527, 3529, 3533, 3539, 3541, 3547, 3557, 3559, 3571, 3581, 3583, 3593, 3607, 3613, 3617, 3623, 3631, 3637, 3643, 3659, 3671, 3673, 3677, 3691, 3697, 3701, 3709, 3719, 3727, 3733, 3739, 3761, 3767, 3769, 3779, 3793, 3797, 3803, 3821, 3823, 3833, 3847, 3851, 3853, 3863, 3877, 3881, 3889, 3907, 3911, 3917, 3919, 3923, 3929, 3931, 3943, 3947, 3967, 3989, 4001, 4003, 4007, 4013, 4019, 4021, 4027, 4049, 4051, 4057, 4073, 4079, 4091, 4093, 4099, 4111, 4127, 4129, 4133, 4139, 4153, 4157, 4159, 4177, 4201, 4211, 4217, 4219, 4229, 4231, 4241, 4243, 4253, 4259, 4261, 4271, 4273, 4283, 4289, 4297, 4327, 4337, 4339, 4349, 4357, 4363, 4373, 4391, 4397, 4409, 4421, 4423, 4441, 4447, 4451, 4457, 4463, 4481, 4483, 4493, 4507, 4513, 4517, 4519, 4523, 4547, 4549, 4561, 4567, 4583, 4591, 4597, 4603, 4621, 4637, 4639, 4643, 4649, 4651, 4657, 4663, 4673, 4679, 4691, 4703, 4721, 4723, 4729, 4733, 4751, 4759, 4783, 4787, 4789, 4793, 4799, 4801, 4813, 4817, 4831, 4861, 4871, 4877, 4889, 4903, 4909, 4919, 4931, 4933, 4937, 4943, 4951, 4957, 4967, 4969, 4973, 4987, 4993, 4999, 5003, 5009, 5011, 5021, 5023, 5039, 5051, 5059, 5077, 5081, 5087, 5099, 5101, 5107, 5113, 5119, 5147, 5153, 5167, 5171, 5179, 5189, 5197, 5209, 5227, 5231, 5233, 5237, 5261, 5273, 5279, 5281, 5297, 5303, 5309, 5323, 5333, 5347, 5351, 5381, 5387, 5393, 5399, 5407, 5413, 5417, 5419, 5431, 5437, 5441, 5443, 5449, 5471, 5477, 5479, 5483, 5501, 5503, 5507, 5519, 5521, 5527, 5531, 5557, 5563, 5569, 5573, 5581, 5591, 5623, 5639, 5641, 5647, 5651, 5653, 5657, 5659, 5669, 5683, 5689, 5693, 5701, 5711, 5717, 5737, 5741, 5743, 5749, 5779, 5783, 5791, 5801, 5807, 5813, 5821, 5827, 5839, 5843, 5849, 5851, 5857, 5861, 5867, 5869, 5879, 5881, 5897, 5903, 5923, 5927, 5939, 5953})\n",
    "        self.assertEqual(primos(10993),{2, 3, 5, 7, 11, 13, 17, 19, 23, 29, 31, 37, 41, 43, 47, 53, 59, 61, 67, 71, 73, 79, 83, 89, 97, 101, 103, 107, 109, 113, 127, 131, 137, 139, 149, 151, 157, 163, 167, 173, 179, 181, 191, 193, 197, 199, 211, 223, 227, 229, 233, 239, 241, 251, 257, 263, 269, 271, 277, 281, 283, 293, 307, 311, 313, 317, 331, 337, 347, 349, 353, 359, 367, 373, 379, 383, 389, 397, 401, 409, 419, 421, 431, 433, 439, 443, 449, 457, 461, 463, 467, 479, 487, 491, 499, 503, 509, 521, 523, 541, 547, 557, 563, 569, 571, 577, 587, 593, 599, 601, 607, 613, 617, 619, 631, 641, 643, 647, 653, 659, 661, 673, 677, 683, 691, 701, 709, 719, 727, 733, 739, 743, 751, 757, 761, 769, 773, 787, 797, 809, 811, 821, 823, 827, 829, 839, 853, 857, 859, 863, 877, 881, 883, 887, 907, 911, 919, 929, 937, 941, 947, 953, 967, 971, 977, 983, 991, 997, 1009, 1013, 1019, 1021, 1031, 1033, 1039, 1049, 1051, 1061, 1063, 1069, 1087, 1091, 1093, 1097, 1103, 1109, 1117, 1123, 1129, 1151, 1153, 1163, 1171, 1181, 1187, 1193, 1201, 1213, 1217, 1223, 1229, 1231, 1237, 1249, 1259, 1277, 1279, 1283, 1289, 1291, 1297, 1301, 1303, 1307, 1319, 1321, 1327, 1361, 1367, 1373, 1381, 1399, 1409, 1423, 1427, 1429, 1433, 1439, 1447, 1451, 1453, 1459, 1471, 1481, 1483, 1487, 1489, 1493, 1499, 1511, 1523, 1531, 1543, 1549, 1553, 1559, 1567, 1571, 1579, 1583, 1597, 1601, 1607, 1609, 1613, 1619, 1621, 1627, 1637, 1657, 1663, 1667, 1669, 1693, 1697, 1699, 1709, 1721, 1723, 1733, 1741, 1747, 1753, 1759, 1777, 1783, 1787, 1789, 1801, 1811, 1823, 1831, 1847, 1861, 1867, 1871, 1873, 1877, 1879, 1889, 1901, 1907, 1913, 1931, 1933, 1949, 1951, 1973, 1979, 1987, 1993, 1997, 1999, 2003, 2011, 2017, 2027, 2029, 2039, 2053, 2063, 2069, 2081, 2083, 2087, 2089, 2099, 2111, 2113, 2129, 2131, 2137, 2141, 2143, 2153, 2161, 2179, 2203, 2207, 2213, 2221, 2237, 2239, 2243, 2251, 2267, 2269, 2273, 2281, 2287, 2293, 2297, 2309, 2311, 2333, 2339, 2341, 2347, 2351, 2357, 2371, 2377, 2381, 2383, 2389, 2393, 2399, 2411, 2417, 2423, 2437, 2441, 2447, 2459, 2467, 2473, 2477, 2503, 2521, 2531, 2539, 2543, 2549, 2551, 2557, 2579, 2591, 2593, 2609, 2617, 2621, 2633, 2647, 2657, 2659, 2663, 2671, 2677, 2683, 2687, 2689, 2693, 2699, 2707, 2711, 2713, 2719, 2729, 2731, 2741, 2749, 2753, 2767, 2777, 2789, 2791, 2797, 2801, 2803, 2819, 2833, 2837, 2843, 2851, 2857, 2861, 2879, 2887, 2897, 2903, 2909, 2917, 2927, 2939, 2953, 2957, 2963, 2969, 2971, 2999, 3001, 3011, 3019, 3023, 3037, 3041, 3049, 3061, 3067, 3079, 3083, 3089, 3109, 3119, 3121, 3137, 3163, 3167, 3169, 3181, 3187, 3191, 3203, 3209, 3217, 3221, 3229, 3251, 3253, 3257, 3259, 3271, 3299, 3301, 3307, 3313, 3319, 3323, 3329, 3331, 3343, 3347, 3359, 3361, 3371, 3373, 3389, 3391, 3407, 3413, 3433, 3449, 3457, 3461, 3463, 3467, 3469, 3491, 3499, 3511, 3517, 3527, 3529, 3533, 3539, 3541, 3547, 3557, 3559, 3571, 3581, 3583, 3593, 3607, 3613, 3617, 3623, 3631, 3637, 3643, 3659, 3671, 3673, 3677, 3691, 3697, 3701, 3709, 3719, 3727, 3733, 3739, 3761, 3767, 3769, 3779, 3793, 3797, 3803, 3821, 3823, 3833, 3847, 3851, 3853, 3863, 3877, 3881, 3889, 3907, 3911, 3917, 3919, 3923, 3929, 3931, 3943, 3947, 3967, 3989, 4001, 4003, 4007, 4013, 4019, 4021, 4027, 4049, 4051, 4057, 4073, 4079, 4091, 4093, 4099, 4111, 4127, 4129, 4133, 4139, 4153, 4157, 4159, 4177, 4201, 4211, 4217, 4219, 4229, 4231, 4241, 4243, 4253, 4259, 4261, 4271, 4273, 4283, 4289, 4297, 4327, 4337, 4339, 4349, 4357, 4363, 4373, 4391, 4397, 4409, 4421, 4423, 4441, 4447, 4451, 4457, 4463, 4481, 4483, 4493, 4507, 4513, 4517, 4519, 4523, 4547, 4549, 4561, 4567, 4583, 4591, 4597, 4603, 4621, 4637, 4639, 4643, 4649, 4651, 4657, 4663, 4673, 4679, 4691, 4703, 4721, 4723, 4729, 4733, 4751, 4759, 4783, 4787, 4789, 4793, 4799, 4801, 4813, 4817, 4831, 4861, 4871, 4877, 4889, 4903, 4909, 4919, 4931, 4933, 4937, 4943, 4951, 4957, 4967, 4969, 4973, 4987, 4993, 4999, 5003, 5009, 5011, 5021, 5023, 5039, 5051, 5059, 5077, 5081, 5087, 5099, 5101, 5107, 5113, 5119, 5147, 5153, 5167, 5171, 5179, 5189, 5197, 5209, 5227, 5231, 5233, 5237, 5261, 5273, 5279, 5281, 5297, 5303, 5309, 5323, 5333, 5347, 5351, 5381, 5387, 5393, 5399, 5407, 5413, 5417, 5419, 5431, 5437, 5441, 5443, 5449, 5471, 5477, 5479, 5483, 5501, 5503, 5507, 5519, 5521, 5527, 5531, 5557, 5563, 5569, 5573, 5581, 5591, 5623, 5639, 5641, 5647, 5651, 5653, 5657, 5659, 5669, 5683, 5689, 5693, 5701, 5711, 5717, 5737, 5741, 5743, 5749, 5779, 5783, 5791, 5801, 5807, 5813, 5821, 5827, 5839, 5843, 5849, 5851, 5857, 5861, 5867, 5869, 5879, 5881, 5897, 5903, 5923, 5927, 5939, 5953, 5981, 5987, 6007, 6011, 6029, 6037, 6043, 6047, 6053, 6067, 6073, 6079, 6089, 6091, 6101, 6113, 6121, 6131, 6133, 6143, 6151, 6163, 6173, 6197, 6199, 6203, 6211, 6217, 6221, 6229, 6247, 6257, 6263, 6269, 6271, 6277, 6287, 6299, 6301, 6311, 6317, 6323, 6329, 6337, 6343, 6353, 6359, 6361, 6367, 6373, 6379, 6389, 6397, 6421, 6427, 6449, 6451, 6469, 6473, 6481, 6491, 6521, 6529, 6547, 6551, 6553, 6563, 6569, 6571, 6577, 6581, 6599, 6607, 6619, 6637, 6653, 6659, 6661, 6673, 6679, 6689, 6691, 6701, 6703, 6709, 6719, 6733, 6737, 6761, 6763, 6779, 6781, 6791, 6793, 6803, 6823, 6827, 6829, 6833, 6841, 6857, 6863, 6869, 6871, 6883, 6899, 6907, 6911, 6917, 6947, 6949, 6959, 6961, 6967, 6971, 6977, 6983, 6991, 6997, 7001, 7013, 7019, 7027, 7039, 7043, 7057, 7069, 7079, 7103, 7109, 7121, 7127, 7129, 7151, 7159, 7177, 7187, 7193, 7207, 7211, 7213, 7219, 7229, 7237, 7243, 7247, 7253, 7283, 7297, 7307, 7309, 7321, 7331, 7333, 7349, 7351, 7369, 7393, 7411, 7417, 7433, 7451, 7457, 7459, 7477, 7481, 7487, 7489, 7499, 7507, 7517, 7523, 7529, 7537, 7541, 7547, 7549, 7559, 7561, 7573, 7577, 7583, 7589, 7591, 7603, 7607, 7621, 7639, 7643, 7649, 7669, 7673, 7681, 7687, 7691, 7699, 7703, 7717, 7723, 7727, 7741, 7753, 7757, 7759, 7789, 7793, 7817, 7823, 7829, 7841, 7853, 7867, 7873, 7877, 7879, 7883, 7901, 7907, 7919, 7927, 7933, 7937, 7949, 7951, 7963, 7993, 8009, 8011, 8017, 8039, 8053, 8059, 8069, 8081, 8087, 8089, 8093, 8101, 8111, 8117, 8123, 8147, 8161, 8167, 8171, 8179, 8191, 8209, 8219, 8221, 8231, 8233, 8237, 8243, 8263, 8269, 8273, 8287, 8291, 8293, 8297, 8311, 8317, 8329, 8353, 8363, 8369, 8377, 8387, 8389, 8419, 8423, 8429, 8431, 8443, 8447, 8461, 8467, 8501, 8513, 8521, 8527, 8537, 8539, 8543, 8563, 8573, 8581, 8597, 8599, 8609, 8623, 8627, 8629, 8641, 8647, 8663, 8669, 8677, 8681, 8689, 8693, 8699, 8707, 8713, 8719, 8731, 8737, 8741, 8747, 8753, 8761, 8779, 8783, 8803, 8807, 8819, 8821, 8831, 8837, 8839, 8849, 8861, 8863, 8867, 8887, 8893, 8923, 8929, 8933, 8941, 8951, 8963, 8969, 8971, 8999, 9001, 9007, 9011, 9013, 9029, 9041, 9043, 9049, 9059, 9067, 9091, 9103, 9109, 9127, 9133, 9137, 9151, 9157, 9161, 9173, 9181, 9187, 9199, 9203, 9209, 9221, 9227, 9239, 9241, 9257, 9277, 9281, 9283, 9293, 9311, 9319, 9323, 9337, 9341, 9343, 9349, 9371, 9377, 9391, 9397, 9403, 9413, 9419, 9421, 9431, 9433, 9437, 9439, 9461, 9463, 9467, 9473, 9479, 9491, 9497, 9511, 9521, 9533, 9539, 9547, 9551, 9587, 9601, 9613, 9619, 9623, 9629, 9631, 9643, 9649, 9661, 9677, 9679, 9689, 9697, 9719, 9721, 9733, 9739, 9743, 9749, 9767, 9769, 9781, 9787, 9791, 9803, 9811, 9817, 9829, 9833, 9839, 9851, 9857, 9859, 9871, 9883, 9887, 9901, 9907, 9923, 9929, 9931, 9941, 9949, 9967, 9973, 10007, 10009, 10037, 10039, 10061, 10067, 10069, 10079, 10091, 10093, 10099, 10103, 10111, 10133, 10139, 10141, 10151, 10159, 10163, 10169, 10177, 10181, 10193, 10211, 10223, 10243, 10247, 10253, 10259, 10267, 10271, 10273, 10289, 10301, 10303, 10313, 10321, 10331, 10333, 10337, 10343, 10357, 10369, 10391, 10399, 10427, 10429, 10433, 10453, 10457, 10459, 10463, 10477, 10487, 10499, 10501, 10513, 10529, 10531, 10559, 10567, 10589, 10597, 10601, 10607, 10613, 10627, 10631, 10639, 10651, 10657, 10663, 10667, 10687, 10691, 10709, 10711, 10723, 10729, 10733, 10739, 10753, 10771, 10781, 10789, 10799, 10831, 10837, 10847, 10853, 10859, 10861, 10867, 10883, 10889, 10891, 10903, 10909, 10937, 10939, 10949, 10957, 10973, 10979, 10987, 10993})\n",
    "\n",
    "\n",
    "    def test_partes(self):\n",
    "        self.assertEqual(partes(frozenset({2,4,8,16})),frozenset({frozenset({4}), frozenset({2}), frozenset({8, 2}), frozenset({16, 2}), frozenset({16, 4}), frozenset({8}), frozenset({16}), frozenset({16, 2, 4}), frozenset({2, 4}), frozenset({8, 16, 2, 4}), frozenset(), frozenset({8, 2, 4}), frozenset({8, 16, 4}), frozenset({8, 16}), frozenset({8, 4}), frozenset({8, 16, 2})}))\n",
    "        self.assertEqual(partes(frozenset({1,3,5,7,9})),frozenset({frozenset({1, 3, 5, 9}), frozenset({1, 3, 5}), frozenset({9, 3}), frozenset({9, 7}), frozenset({1, 5, 7}), frozenset({1}), frozenset({9, 3, 5}), frozenset({9, 5}), frozenset({1, 7}), frozenset({1, 3, 5, 7}), frozenset({1, 3, 7}), frozenset({3, 5}), frozenset({1, 5, 9}), frozenset({1, 3}), frozenset({1, 9, 7}), frozenset({3, 7}), frozenset({9, 5, 7}), frozenset({9}), frozenset({1, 3, 9}), frozenset({1, 5}), frozenset({5}), frozenset({5, 7}), frozenset({1, 5, 9, 7}), frozenset({9, 3, 7}), frozenset({1, 9}), frozenset({7}), frozenset({3}), frozenset({9, 3, 5, 7}), frozenset({3, 5, 7}), frozenset({1, 3, 5, 7, 9}), frozenset({1, 3, 9, 7}), frozenset()}))\n",
    "        self.assertEqual(partes(frozenset({0,3,5,6,9,10,20})),frozenset({frozenset({0, 6, 9, 10, 20}), frozenset({0, 3, 20}), frozenset({9, 10, 3, 5}), frozenset({0, 5, 6, 9, 20}), frozenset({0, 3, 5, 6, 10}), frozenset({10}), frozenset({0, 3, 5, 6, 9, 10, 20}), frozenset({9, 3, 5}), frozenset({0, 10, 3, 20}), frozenset({9, 10, 3}), frozenset({0, 3, 20, 5}), frozenset({9, 10, 20, 5}), frozenset({0, 3, 5, 6, 9, 20}), frozenset({10, 20, 5, 6}), frozenset({10, 20}), frozenset({0, 9, 6}), frozenset({9, 20, 6}), frozenset({0, 10, 5, 6}), frozenset({0, 3, 6, 9, 10, 20}), frozenset({0, 10}), frozenset({0, 3, 5, 10, 20}), frozenset({3, 5, 6, 9, 10, 20}), frozenset({10, 5}), frozenset({0, 3, 20, 6}), frozenset({0, 9, 10, 6}), frozenset({20, 5, 6}), frozenset({3, 5, 9, 10, 20}), frozenset({0, 3, 5, 6, 10, 20}), frozenset({0, 9}), frozenset({10, 20, 6}), frozenset({0, 9, 5, 6}), frozenset({0, 9, 20, 5}), frozenset({0, 9, 10, 20}), frozenset({3}), frozenset({0}), frozenset({0, 10, 20, 5}), frozenset({9, 3, 20, 5}), frozenset({3, 6, 9, 10, 20}), frozenset({0, 10, 3}), frozenset({0, 5, 6, 9, 10}), frozenset({10, 20, 5}), frozenset({0, 3, 5}), frozenset({9, 10, 3, 20}), frozenset({3, 5, 6, 9, 20}), frozenset({9, 5}), frozenset({0, 3, 5, 6}), frozenset({0, 3}), frozenset({0, 10, 3, 6}), frozenset({0, 10, 20, 6}), frozenset({3, 5}), frozenset({0, 3, 5, 6, 9, 10}), frozenset({9, 5, 6}), frozenset({0, 20, 5, 6}), frozenset({0, 20}), frozenset({9, 10, 6}), frozenset({3, 20, 6}), frozenset({0, 9, 3, 20}), frozenset({10, 3, 5}), frozenset({5}), frozenset({0, 3, 5, 9, 10, 20}), frozenset({3, 5, 6, 10, 20}), frozenset({0, 9, 20}), frozenset({20}), frozenset({10, 6}), frozenset({0, 3, 5, 6, 9}), frozenset({3, 20, 5}), frozenset({0, 10, 5}), frozenset({5, 6, 9, 10, 20}), frozenset({0, 9, 10, 3}), frozenset(), frozenset({0, 3, 6, 9, 10}), frozenset({10, 3, 20}), frozenset({0, 9, 3, 5}), frozenset({9, 10, 3, 6}), frozenset({9, 3, 5, 6}), frozenset({9, 3}), frozenset({0, 5}), frozenset({9, 3, 6}), frozenset({0, 3, 6}), frozenset({0, 9, 5}), frozenset({9, 3, 20}), frozenset({0, 10, 3, 5}), frozenset({0, 9, 10}), frozenset({20, 6}), frozenset({3, 6}), frozenset({0, 5, 6, 10, 20}), frozenset({0, 9, 10, 5}), frozenset({0, 3, 9, 10, 20}), frozenset({10, 3, 6}), frozenset({9, 10, 5, 6}), frozenset({9, 10}), frozenset({0, 20, 6}), frozenset({0, 3, 5, 9, 20}), frozenset({3, 5, 6}), frozenset({6}), frozenset({20, 5}), frozenset({0, 10, 6}), frozenset({9, 20, 5, 6}), frozenset({9, 20}), frozenset({0, 3, 5, 9, 10}), frozenset({0, 5, 6}), frozenset({9, 10, 20, 6}), frozenset({0, 20, 5}), frozenset({0, 3, 6, 9, 20}), frozenset({3, 5, 6, 9, 10}), frozenset({0, 10, 20}), frozenset({9, 6}), frozenset({9, 10, 20}), frozenset({10, 3, 20, 5}), frozenset({0, 9, 3}), frozenset({0, 6}), frozenset({9, 20, 5}), frozenset({0, 3, 5, 6, 20}), frozenset({5, 6}), frozenset({9, 10, 5}), frozenset({0, 3, 6, 10, 20}), frozenset({9}), frozenset({0, 5, 9, 10, 20}), frozenset({10, 5, 6}), frozenset({0, 9, 20, 6}), frozenset({10, 3, 20, 6}), frozenset({0, 5, 6, 9, 10, 20}), frozenset({3, 20}), frozenset({3, 20, 5, 6}), frozenset({10, 3}), frozenset({10, 3, 5, 6}), frozenset({9, 3, 20, 6}), frozenset({0, 9, 3, 6})}))\n",
    "\n",
    "    def test_Complexo(self):\n",
    "        a = Complexo(3,6)\n",
    "        b = Complexo(0,-5)\n",
    "        c = Complexo(8,-14)\n",
    "        d = Complexo(13,0)\n",
    "\n",
    "        self.assertEqual(str(a+b),'3.00+1.00i')\n",
    "        self.assertEqual(str(c+a),'11.00-8.00i')\n",
    "\n",
    "        self.assertEqual(str(c-a),'5.00-20.00i')\n",
    "        self.assertEqual(str(d-b),'13.00+5.00i')\n",
    "\n",
    "        self.assertEqual(str(b*d),'0.00-65.00i')\n",
    "        self.assertEqual(str(a*c),'108.00+6.00i')\n",
    "\n",
    "        self.assertEqual(str(c/b),'2.80+1.60i')\n",
    "        self.assertEqual(str(d/c),'0.40+0.70i')\n",
    "\n",
    "        self.assertEqual(abs(c),16.12)\n",
    "        self.assertEqual(abs(a),6.71)\n",
    "    \n",
    "    \n",
    "unittest.main(argv=['first-arg-is-ignored'], exit=False)"
   ]
  }
 ],
 "metadata": {
  "kernelspec": {
   "display_name": "Python 3",
   "language": "python",
   "name": "python3"
  },
  "language_info": {
   "codemirror_mode": {
    "name": "ipython",
    "version": 3
   },
   "file_extension": ".py",
   "mimetype": "text/x-python",
   "name": "python",
   "nbconvert_exporter": "python",
   "pygments_lexer": "ipython3",
   "version": "3.8.6"
  }
 },
 "nbformat": 4,
 "nbformat_minor": 4
}
