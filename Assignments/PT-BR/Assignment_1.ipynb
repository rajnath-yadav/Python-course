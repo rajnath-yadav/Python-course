{
 "cells": [
  {
   "cell_type": "markdown",
   "metadata": {},
   "source": [
    "1) Trabalhe a variável fornecida **x** apenas com atributos de string (como '.upper') para torna-la exatamente: \"$Diclorodifeniltricloroetano$\"."
   ]
  },
  {
   "cell_type": "code",
   "execution_count": 1,
   "metadata": {},
   "outputs": [],
   "source": [
    "x = \"DiClOrod  IFeNi  lTRicLOr oETaNo  \""
   ]
  },
  {
   "cell_type": "code",
   "execution_count": null,
   "metadata": {},
   "outputs": [],
   "source": []
  },
  {
   "cell_type": "markdown",
   "metadata": {},
   "source": [
    "2) Atribua respectivamente os valores **'palavra'** , **15** , **3.14** e **'lista'** para as variáveis **A**,**B**, **C** e **D** em uma única linha de código. Depois, imprima-as nessa mesma ordem em uma única linha separadas por um espaço, usando apenas um print."
   ]
  },
  {
   "cell_type": "code",
   "execution_count": null,
   "metadata": {},
   "outputs": [],
   "source": []
  },
  {
   "cell_type": "markdown",
   "metadata": {},
   "source": [
    "3) Ultilize a função **input()** para receber uma entrada na forma **'68.4 1.71'**, ou seja, dois números em ponto flutuante em uma linha separados por espaço. Daí, atribua esses números respectivamente às variáveis **p** e **h**, que representam peso e altura de um indivíduo (dica: dê uma olhada no método '.split()'). Com esses dados, calcule o Índice de Massa Corporal (IMC) do indivíduo a partir da seguinte relação:\n",
    "    \n",
    "\\begin{equation}\n",
    "IMC = \\dfrac{peso}{altura^2}\n",
    "\\end{equation}"
   ]
  },
  {
   "cell_type": "code",
   "execution_count": null,
   "metadata": {},
   "outputs": [],
   "source": []
  },
  {
   "cell_type": "markdown",
   "metadata": {},
   "source": [
    "Esse íncide pode ainda ser classificado conforme faixas de valores, de acordo com a tabela abaixo. Use estruturas condicionais para classificar e imprimir a classificação atribuida ao indivíduo.\n",
    "\n",
    "<center><img src=\"https://miro.medium.com/max/1514/0*XPL4s-jVqLsB6ae8.png\" width=\"40%\"><\\center>"
   ]
  },
  {
   "cell_type": "code",
   "execution_count": null,
   "metadata": {},
   "outputs": [],
   "source": []
  },
  {
   "cell_type": "markdown",
   "metadata": {},
   "source": [
    "4) Receba como input um número inteiro e, ultilizando um loop, calcule o fatorial deste número, ou seja, o produto de todos os inteiros de um até o número fornecido."
   ]
  },
  {
   "cell_type": "code",
   "execution_count": null,
   "metadata": {},
   "outputs": [],
   "source": []
  },
  {
   "cell_type": "markdown",
   "metadata": {},
   "source": [
    "5) Fazendo uso de um loop while e da função input, leia uma quantidade indefinida de números inteiros até que o número lido seja -1. Apresente a soma de todos esses números na forma de um print, excluindo o -1 lido ao final."
   ]
  },
  {
   "cell_type": "code",
   "execution_count": null,
   "metadata": {},
   "outputs": [],
   "source": []
  },
  {
   "cell_type": "markdown",
   "metadata": {},
   "source": [
    "6) Leia o **nome** de um funcionário, seu **número de horas trabalhadas** e o **valor que recebe por hora** em uma única linha separados por espaço. A seguir, calcule o **salário** desse funcionário e mostre-o com duas casas decimais."
   ]
  },
  {
   "cell_type": "code",
   "execution_count": null,
   "metadata": {},
   "outputs": [],
   "source": []
  },
  {
   "cell_type": "markdown",
   "metadata": {},
   "source": [
    "7) Leia três valores com ponto flutuante **A**, **B** e **C** respectivamente. Em seguida, calcule e mostre:"
   ]
  },
  {
   "cell_type": "code",
   "execution_count": null,
   "metadata": {},
   "outputs": [],
   "source": []
  },
  {
   "cell_type": "markdown",
   "metadata": {},
   "source": [
    "    a) a área do triângulo retângulo que tem A por base e C por altura."
   ]
  },
  {
   "cell_type": "code",
   "execution_count": null,
   "metadata": {},
   "outputs": [],
   "source": []
  },
  {
   "cell_type": "markdown",
   "metadata": {},
   "source": [
    "    b) a área do círculo de raio C. (pi = 3.14159)"
   ]
  },
  {
   "cell_type": "code",
   "execution_count": null,
   "metadata": {},
   "outputs": [],
   "source": []
  },
  {
   "cell_type": "markdown",
   "metadata": {},
   "source": [
    "    c) a área do trapézio que tem A e B por bases e C por altura."
   ]
  },
  {
   "cell_type": "code",
   "execution_count": null,
   "metadata": {},
   "outputs": [],
   "source": []
  },
  {
   "cell_type": "markdown",
   "metadata": {},
   "source": [
    "    d) a área do quadrado que tem lado B."
   ]
  },
  {
   "cell_type": "code",
   "execution_count": null,
   "metadata": {},
   "outputs": [],
   "source": []
  },
  {
   "cell_type": "markdown",
   "metadata": {},
   "source": [
    "    e) a área do retângulo que tem lados A e B."
   ]
  },
  {
   "cell_type": "code",
   "execution_count": null,
   "metadata": {},
   "outputs": [],
   "source": []
  },
  {
   "cell_type": "markdown",
   "metadata": {},
   "source": [
    "8) Leia **3 valores de ponto flutuante** e efetue o cálculo das **raízes da equação de segundo grau** formada por esses coeficientes (Bhaskara). Se não for possível calcular as raízes, mostre a mensagem **“Impossivel calcular”**."
   ]
  },
  {
   "cell_type": "code",
   "execution_count": null,
   "metadata": {},
   "outputs": [],
   "source": []
  },
  {
   "cell_type": "markdown",
   "metadata": {},
   "source": [
    "9) Leia quatro valores numéricos com ponto flutuante correspondentes às coordenadas de dois pontos no plano carteziano. Cada ponto virá em uma linha com suas coordenadas semapradas por espaço. Depois, calcule e mostre a distância entre esses dois pontos.\n",
    "\n",
    "(obs: $d=\\sqrt{(x_1-x_2)^2 + (y_1-y_2)^2}$)"
   ]
  },
  {
   "cell_type": "code",
   "execution_count": null,
   "metadata": {},
   "outputs": [],
   "source": []
  },
  {
   "cell_type": "markdown",
   "metadata": {},
   "source": [
    "10) Leia **dois números de ponto flutuante** em uma linha que representam as **coordenadas de um ponto carteziano**. Com isso, use **estruturas condicionais** para determinar se está na origem, imprimindo a menságem **'origem'**, em um dos eixos, imprimindo **'eixo x'** ou **'eixo y'**, ou em um dos quatro quadrantes, imprimindo **'q1'**, **'q2**', **'q3'** ou **'q4'**."
   ]
  },
  {
   "cell_type": "code",
   "execution_count": null,
   "metadata": {},
   "outputs": [],
   "source": []
  },
  {
   "cell_type": "markdown",
   "metadata": {},
   "source": [
    "11) Leia um número inteiro que representa um código de DDD para discagem interurbana. Em seguida, informe a qual cidade o DDD pertence, considerando a tabela abaixo.\n",
    "\n",
    "<center><img src=\"https://resources.urionlinejudge.com.br/gallery/images/problems/UOJ_1050.png\" width=\"40%\"><\\center>"
   ]
  },
  {
   "cell_type": "code",
   "execution_count": null,
   "metadata": {},
   "outputs": [],
   "source": []
  },
  {
   "cell_type": "markdown",
   "metadata": {},
   "source": [
    "12) Leia um valor inteiro entre 1 e 12, inclusive. Correspondente a este valor, deve ser apresentado como resposta em um print o mês do ano por extenso, com a primeira letra maiúscula."
   ]
  },
  {
   "cell_type": "code",
   "execution_count": null,
   "metadata": {},
   "outputs": [],
   "source": []
  },
  {
   "cell_type": "markdown",
   "metadata": {},
   "source": [
    "12) Faça um programa que leia 6 valores em uma linha. A seguir, mostre a quantidade de valores positivos digitados. Na linha seguinte, imprima a média dos valores com uma casa decimal."
   ]
  },
  {
   "cell_type": "code",
   "execution_count": null,
   "metadata": {},
   "outputs": [],
   "source": []
  },
  {
   "cell_type": "markdown",
   "metadata": {},
   "source": [
    "13) Leia um valor inteiro **N**. Apresente o **quadrado de cada um dos valores pares**, de 1 até N, inclusive N, se for o caso, dispostos um por linha."
   ]
  },
  {
   "cell_type": "code",
   "execution_count": null,
   "metadata": {},
   "outputs": [],
   "source": []
  },
  {
   "cell_type": "markdown",
   "metadata": {},
   "source": [
    "14) Leia um valor **N** que representa a quantidade de casos de teste. Em seguida, para cada um dos casos, **leia um número inteiro e imprima sua classificação como 'par/impar' e 'positivo/negativo'**. as duas palavras que classificam o número devem ser impressas em uma mesma linha separadas por um espaço. No caso do valor zero, imprima apenas **'nulo'**."
   ]
  },
  {
   "cell_type": "code",
   "execution_count": null,
   "metadata": {},
   "outputs": [],
   "source": []
  },
  {
   "cell_type": "markdown",
   "metadata": {},
   "source": [
    "## Desafio\n",
    "15) Problemas de ordenação são recorrentes na história da programação. Ao longo do tempo, diversos algoritmos foram desenvolvidos para cumprir essa função. O mais simples desses algoritmos é o **Bubble Sort**, que é baseado em comparações de elementos dois a dois em um loop de passagens pelos elementos. Leia mais sobre o **Bubble Sort** clicando [aqui](https://pt.wikipedia.org/wiki/Bubble_sort), ou veja esse [vídeo](https://www.youtube.com/watch?v=lyZQPjUT5B4). Sua missão, se decidir aceita-la, será receber como input seis números inteiros fora de ordem. Implemente o principio do **Bubble Sort** para ordenar esses seis números **usando apenas loop e estrutura condicional**. No fim, imprima os seis números em ordem crescente em uma única linha separados por espaço."
   ]
  },
  {
   "cell_type": "code",
   "execution_count": null,
   "metadata": {},
   "outputs": [],
   "source": []
  }
 ],
 "metadata": {
  "kernelspec": {
   "display_name": "Python 3 (ipykernel)",
   "language": "python",
   "name": "python3"
  },
  "language_info": {
   "codemirror_mode": {
    "name": "ipython",
    "version": 3
   },
   "file_extension": ".py",
   "mimetype": "text/x-python",
   "name": "python",
   "nbconvert_exporter": "python",
   "pygments_lexer": "ipython3",
   "version": "3.8.10"
  }
 },
 "nbformat": 4,
 "nbformat_minor": 4
}
