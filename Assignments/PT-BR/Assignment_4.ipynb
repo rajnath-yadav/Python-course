{
 "cells": [
  {
   "cell_type": "markdown",
   "metadata": {},
   "source": [
    "**1)** Suponha que o semestre só possua duas disciplinas: Cálculo II e Linguagens de Programação. Crie uma função `boletim()` que recebe duas tuplas (ou listas) de três elementos representando as notas da A1, A2 e AS nesta ordem. A primeira tupla (ou lista) se refere às notas de Cálculo II e a segunda, de Lingagens de Programação. Retorne um dicionário cujas chaves são os nomes da disciplina e os valores são outro dict de chaves 'A1','A2' e 'AS' e valores sendo as notas correspondentes. Veja exemplo abaixo.\n",
    "\n",
    ">```python\n",
    ">>>> boletim((4,8,7),(9,8,0))\n",
    ">{'Cálculo II': {'A1': 4, 'A2': 8, 'AS': 7}, 'Linguagens de Programação': {'A1': 9, 'A2': 8, 'AS': 0}}\n",
    "```"
   ]
  },
  {
   "cell_type": "code",
   "execution_count": null,
   "metadata": {},
   "outputs": [],
   "source": []
  },
  {
   "cell_type": "markdown",
   "metadata": {},
   "source": [
    "**2)** Programe a função `ordena()`, que recebe como único argumento um dicionário **d**, para que ordene esse dicionário com base em seus valores e retorne o dicionário ordenado. Os casos de teste não terão valores iguais. Vide exemplos:\n",
    "\n",
    ">```python\n",
    ">>>> ordena({1: 2, 3: 4, 4: 3, 2: 1, 0: 0})\n",
    ">{0: 0, 2: 1, 1: 2, 4: 3, 3: 4}\n",
    ">\n",
    ">>>> ordena({\"peixe\":1, \"ave\":10, \"bovino\":5, \"suino\":8})\n",
    ">{\"peixe\":1, \"bovino\":5, \"suino\":8, \"ave\":10}\n",
    "```"
   ]
  },
  {
   "cell_type": "code",
   "execution_count": null,
   "metadata": {},
   "outputs": [],
   "source": []
  },
  {
   "cell_type": "markdown",
   "metadata": {},
   "source": [
    "**3)** Programe a função `concatena()` para que ela receba como argumentos uma quantidade indeterminada de dicionários. Daí,concatene-os na ordem dada, gerando um único dicionário que deve ser dado como retorno da função. Os casos de teste não terão chaves em comum. Veja os exemplos:\n",
    "\n",
    ">```python\n",
    ">>>> concatena({1:'a',2:'b'},{3:'c',4:'d'},{5:'e',6:'f'})\n",
    ">{1:'a',2:'b',3:'c',4:'d',5:'e',6:'f'}\n",
    ">\n",
    ">>>> concatena({'a':1,'b':2,'c':3},{'d':4,'e':5,'f':6})\n",
    ">{'a':1,'b':2,'c':3,'d':4,'e':5,'f':6}\n",
    "```"
   ]
  },
  {
   "cell_type": "code",
   "execution_count": null,
   "metadata": {},
   "outputs": [],
   "source": []
  },
  {
   "cell_type": "markdown",
   "metadata": {},
   "source": [
    "**4)** Crie uma classe chamada `Triangulo`, cujo contrutor receba as medidas de seus três lados (em qualquer ordem). Implemente um método chamado `tipo`, que retorne:\n",
    "- 0 se as medidas não formam um triângulo\n",
    "- 1 se o triângulo for equilátero\n",
    "- 2 se o triângulo for isósceles\n",
    "- 3 se o triângulo for escaleno\n",
    "\n",
    "Veja exemplo:\n",
    "\n",
    ">```python\n",
    ">>>> tri = Triangulo(5,5,5) #Equilátero\n",
    ">>>> tri.tipo() \n",
    ">1\n",
    "```"
   ]
  },
  {
   "cell_type": "code",
   "execution_count": null,
   "metadata": {},
   "outputs": [],
   "source": []
  },
  {
   "cell_type": "markdown",
   "metadata": {},
   "source": [
    "**5)** A classe `Point` representa um objeto ponto no plano cartesiano. Programe-a para que ela tenha os métodos `show()`, `move()` e `dist()`. O primeiro deve retornar uma tupla com as coordenadas do ponto. A segunda deve receber como argumentos os deslocamentos em cada um dos eixos e atualizar a posição do objeto. Já a última, deve receber como argumento outro ponto e retornar a distância euclidiana entre os dois pontos. A correção da `dist()` aceitará uma margem de erro de 0.1. Não mude as linhas já existentes nessa questão e não crie ou remova funções ou classes. Com a classe devidamente implementada, deve ser possível executar a seguinte série de comandos:\n",
    "\n",
    ">```python\n",
    ">>>> p1 = Point(2, 3)\n",
    ">>>> p2 = Point(3, 3)\n",
    ">>>> p1.show()\n",
    ">(2, 3)\n",
    ">>>> p2.show()\n",
    ">(3, 3)\n",
    ">>>> p1.move(10, -10)\n",
    ">>>> p1.show()\n",
    ">(12, -7)\n",
    ">>>> p2.show()\n",
    ">(3, 3)\n",
    ">>>> p1.dist(p2)\n",
    ">13.45362404707371\n",
    "```"
   ]
  },
  {
   "cell_type": "code",
   "execution_count": null,
   "metadata": {},
   "outputs": [],
   "source": []
  },
  {
   "cell_type": "markdown",
   "metadata": {},
   "source": [
    "**6)** Você deve programar as duas classes `funcionario` e `gerente` de forma que gerente seja filha de funcionário. Os atributos de funcionario são nome, CPF, salario e departamento. Alem desses, a classe gerente deve ter também como acréscimo os atributos senha e gerenciados (que representa o número de funcionários que ele gerencia). Garanta que seus construtores estejam condizentes. Além disso, a classe funcionario deve ter o metodo `bonificar()`, que não recebe parâmetros e aumenta em 10% o salário do funcionário. A classe gerente deve ter os métodos `autenticarSenha(senha)`, que retorna um booleano resultante da validação do atributo senha com a entrada, e o método `bonificar()`, que aumenta em 15% seu salário. Não mude as linhas já existentes nessa questão e não crie ou remova funções ou classes.\n",
    "\n",
    "```python\n",
    ">>> f1=funcionario(\"João\",12345678900,2500,\"TI\")\n",
    ">>> f2=funcionario(\"Paulo\",12345678901,1800,\"TI\")\n",
    ">>> f3=gerente(\"Marta\",23456789012,6000,\"TI\",101101,2)\n",
    ">>> f1.nome()\n",
    "João\n",
    ">>> f2.CPF()\n",
    "12345678901\n",
    ">>> f3.separtamento()\n",
    "TI\n",
    ">>> f2.bonificar()\n",
    ">>> f2.salario()\n",
    "1980.00 #Consideraremos uma margem de erro\n",
    ">>> f3.bonificar()\n",
    "6900.00\n",
    ">>> f3.autenticarSenha(101101)\n",
    "True\n",
    ">>> f3.autenticarSenha(123456)\n",
    "False\n",
    "```"
   ]
  },
  {
   "cell_type": "code",
   "execution_count": null,
   "metadata": {},
   "outputs": [],
   "source": []
  },
  {
   "cell_type": "markdown",
   "metadata": {},
   "source": [
    "## Desafio\n",
    "\n",
    "**7)** Há um arquivo chamado \"alice.txt\", na qual se encontra o primeiro capítulo do livro Alice no País das Maravilhas em sua versão em inglês. O texto já foi devidamente limpo, removendo pontuações, caracteres especiais e espaçamentos desnecessários, ou seja, o trabalho sujo já foi feito ;)\n",
    "\n",
    "Há uma função semipronta que lê o arquivo e carrega o texto para a variável do tipo string chamada \"alice\"; Sua missão é fazer com que essa função retorne um dicionário cujas chaves são as palavras únicas do texto, e os valores são a quantidade de vezes que cada palavras se repete no capítulo.\n",
    "\n",
    "Extra: Tente descobrir as top 10 palavras mais usadas. Veja a imagem abaixo para ter uma ideia da resposta (Quanto maior a palavra mais vezes ela se repete).\n",
    "\n",
    "![](aux_files/alice.png)\n",
    "\n",
    "Livro: http://www.gutenberg.org/files/11/11-0.txt\n",
    "\n",
    "Geração da Imagem: https://pypi.org/project/wordcloud/"
   ]
  },
  {
   "cell_type": "code",
   "execution_count": 11,
   "metadata": {},
   "outputs": [],
   "source": [
    "def ler_texto():\n",
    "    file =  open('aux_files/alice.txt','r')\n",
    "    alice = file.read()\n",
    "    file.close()"
   ]
  },
  {
   "cell_type": "code",
   "execution_count": null,
   "metadata": {},
   "outputs": [],
   "source": []
  }
 ],
 "metadata": {
  "kernelspec": {
   "display_name": "Python 3",
   "language": "python",
   "name": "python3"
  },
  "language_info": {
   "codemirror_mode": {
    "name": "ipython",
    "version": 3
   },
   "file_extension": ".py",
   "mimetype": "text/x-python",
   "name": "python",
   "nbconvert_exporter": "python",
   "pygments_lexer": "ipython3",
   "version": "3.8.6"
  }
 },
 "nbformat": 4,
 "nbformat_minor": 4
}
