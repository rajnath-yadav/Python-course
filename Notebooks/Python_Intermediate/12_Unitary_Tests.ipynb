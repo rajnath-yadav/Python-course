{
 "cells": [
  {
   "cell_type": "markdown",
   "id": "indian-affiliation",
   "metadata": {},
   "source": [
    "# Introduction to Python  \n",
    "\n",
    "## [Python Unitary Tests](https://docs.python.org/3/library/unittest.html)  \n",
    "\n",
    "Inspired from code from [here](https://github.com/CoreyMSchafer/code_snippets/tree/master/Python-Unit-Testing)"
   ]
  },
  {
   "cell_type": "markdown",
   "id": "urban-adoption",
   "metadata": {},
   "source": [
    "#### Assert statement"
   ]
  },
  {
   "cell_type": "code",
   "execution_count": 10,
   "id": "future-passenger",
   "metadata": {},
   "outputs": [],
   "source": [
    "assert sum([1, 2, 3]) == 6, \"Should be 6\""
   ]
  },
  {
   "cell_type": "code",
   "execution_count": 11,
   "id": "eastern-variation",
   "metadata": {},
   "outputs": [
    {
     "ename": "AssertionError",
     "evalue": "Should be 6",
     "output_type": "error",
     "traceback": [
      "\u001b[0;31m---------------------------------------------------------------------------\u001b[0m",
      "\u001b[0;31mAssertionError\u001b[0m                            Traceback (most recent call last)",
      "\u001b[0;32m<ipython-input-11-44fd83d2162d>\u001b[0m in \u001b[0;36m<module>\u001b[0;34m\u001b[0m\n\u001b[0;32m----> 1\u001b[0;31m \u001b[0;32massert\u001b[0m \u001b[0msum\u001b[0m\u001b[0;34m(\u001b[0m\u001b[0;34m[\u001b[0m\u001b[0;36m1\u001b[0m\u001b[0;34m,\u001b[0m \u001b[0;36m2\u001b[0m\u001b[0;34m,\u001b[0m \u001b[0;36m3\u001b[0m\u001b[0;34m]\u001b[0m\u001b[0;34m)\u001b[0m \u001b[0;34m==\u001b[0m \u001b[0;36m4\u001b[0m\u001b[0;34m,\u001b[0m \u001b[0;34m\"Should be 6\"\u001b[0m\u001b[0;34m\u001b[0m\u001b[0;34m\u001b[0m\u001b[0m\n\u001b[0m",
      "\u001b[0;31mAssertionError\u001b[0m: Should be 6"
     ]
    }
   ],
   "source": [
    "assert sum([1, 2, 3]) == 4, \"Should be 6\"   #AssertionError"
   ]
  },
  {
   "cell_type": "markdown",
   "id": "assured-stylus",
   "metadata": {},
   "source": [
    "#### In an ideal scenario, we would move our tests to another file:"
   ]
  },
  {
   "cell_type": "markdown",
   "id": "spatial-texture",
   "metadata": {},
   "source": [
    "my_code.py"
   ]
  },
  {
   "cell_type": "code",
   "execution_count": 12,
   "id": "invisible-words",
   "metadata": {},
   "outputs": [],
   "source": [
    "def my_sum(my_container):\n",
    "    return sum(my_container)"
   ]
  },
  {
   "cell_type": "markdown",
   "id": "associate-water",
   "metadata": {},
   "source": [
    "test_my_code.py"
   ]
  },
  {
   "cell_type": "code",
   "execution_count": 13,
   "id": "adjustable-detail",
   "metadata": {},
   "outputs": [
    {
     "name": "stdout",
     "output_type": "stream",
     "text": [
      "Everything passed\n"
     ]
    }
   ],
   "source": [
    "def test_my_sum():\n",
    "    assert my_sum([1, 2, 3]) == 6, \"Should be 6\"\n",
    "\n",
    "if __name__ == \"__main__\":\n",
    "    test_my_sum()\n",
    "    print(\"Everything passed\")\n"
   ]
  },
  {
   "cell_type": "markdown",
   "id": "personalized-america",
   "metadata": {},
   "source": [
    "### But there are frameworks for running tests in Python"
   ]
  },
  {
   "cell_type": "markdown",
   "id": "regular-stack",
   "metadata": {},
   "source": [
    "### Choosing a Test Runner\n",
    "\n",
    "There are many test runners available for Python. The one built into the Python standard library is called unittest.  \n",
    "The three most popular test runners are:\n",
    "\n",
    "+ unittest\n",
    "+ nose or nose2\n",
    "+ pytest\n",
    "\n",
    "We are going to use unittest in our examples, but the concepts are the same in all of them.\n",
    "Running tests on the Jupyter notebooks is slightly different from running in independent files, so we will be comparing with the original examples:"
   ]
  },
  {
   "cell_type": "markdown",
   "id": "italian-north",
   "metadata": {},
   "source": [
    "#### Let's start creating the same functions we have in the file \"calc.py\":"
   ]
  },
  {
   "cell_type": "code",
   "execution_count": 15,
   "id": "greatest-bridal",
   "metadata": {},
   "outputs": [],
   "source": [
    "def add(x, y):\n",
    "    \"\"\"Add Function\"\"\"\n",
    "    return x + y\n",
    "\n",
    "\n",
    "def subtract(x, y):\n",
    "    \"\"\"Subtract Function\"\"\"\n",
    "    return x - y\n",
    "\n",
    "\n",
    "def multiply(x, y):\n",
    "    \"\"\"Multiply Function\"\"\"\n",
    "    return x * y\n",
    "\n",
    "\n",
    "def divide(x, y):\n",
    "    \"\"\"Divide Function\"\"\"\n",
    "    if y == 0:\n",
    "        raise ValueError('Can not divide by zero!')\n",
    "    return x / y"
   ]
  },
  {
   "cell_type": "markdown",
   "id": "excess-exercise",
   "metadata": {},
   "source": [
    "#### And now, we are going to compare the test_calc.py with the same tests adapted for the notebook:"
   ]
  },
  {
   "cell_type": "markdown",
   "id": "excited-implement",
   "metadata": {},
   "source": [
    "    import unittest\n",
    "    import calc\n",
    "\n",
    "\n",
    "    class TestCalc(unittest.TestCase):\n",
    "\n",
    "        def test_add(self):\n",
    "            self.assertEqual(calc.add(10, 5), 15)\n",
    "            self.assertEqual(calc.add(-1, 1), 0)\n",
    "            self.assertEqual(calc.add(-1, -1), -2)\n",
    "\n",
    "        def test_subtract(self):\n",
    "            self.assertEqual(calc.subtract(10, 5), 5)\n",
    "            self.assertEqual(calc.subtract(-1, 1), -2)\n",
    "            self.assertEqual(calc.subtract(-1, -1), 0)\n",
    "\n",
    "        def test_multiply(self):\n",
    "            self.assertEqual(calc.multiply(10, 5), 50)\n",
    "            self.assertEqual(calc.multiply(-1, 1), -1)\n",
    "            self.assertEqual(calc.multiply(-1, -1), 1)\n",
    "\n",
    "        def test_divide(self):\n",
    "            self.assertEqual(calc.divide(10, 5), 2)\n",
    "            self.assertEqual(calc.divide(-1, 1), -1)\n",
    "            self.assertEqual(calc.divide(-1, -1), 1)\n",
    "            self.assertEqual(calc.divide(5, 2), 2.5)\n",
    "\n",
    "            with self.assertRaises(ValueError):\n",
    "                calc.divide(10, 0)\n",
    "\n",
    "\n",
    "    if __name__ == '__main__':\n",
    "        unittest.main()"
   ]
  },
  {
   "cell_type": "code",
   "execution_count": 16,
   "id": "treated-qualification",
   "metadata": {},
   "outputs": [
    {
     "name": "stderr",
     "output_type": "stream",
     "text": [
      "....\n",
      "----------------------------------------------------------------------\n",
      "Ran 4 tests in 0.002s\n",
      "\n",
      "OK\n"
     ]
    },
    {
     "data": {
      "text/plain": [
       "<unittest.main.TestProgram at 0x7fad0c3c2700>"
      ]
     },
     "execution_count": 16,
     "metadata": {},
     "output_type": "execute_result"
    }
   ],
   "source": [
    "import unittest\n",
    "#import calc\n",
    "\n",
    "class TestCalc(unittest.TestCase):\n",
    "\n",
    "    def test_add(self):\n",
    "        self.assertEqual(add(10, 5), 15)                      # instead of self.assertEqual(calc.add(10, 5), 15)\n",
    "        self.assertEqual(add(-1, 1), 0)\n",
    "        self.assertEqual(add(-1, -1), -2)\n",
    "\n",
    "    def test_subtract(self):\n",
    "        self.assertEqual(subtract(10, 5), 5)\n",
    "        self.assertEqual(subtract(-1, 1), -2)\n",
    "        self.assertEqual(subtract(-1, -1), 0)\n",
    "\n",
    "    def test_multiply(self):\n",
    "        self.assertEqual(multiply(10, 5), 50)\n",
    "        self.assertEqual(multiply(-1, 1), -1)\n",
    "        self.assertEqual(multiply(-1, -1), 1)\n",
    "\n",
    "    def test_divide(self):\n",
    "        self.assertEqual(divide(10, 5), 2)\n",
    "        self.assertEqual(divide(-1, 1), -1)\n",
    "        self.assertEqual(divide(-1, -1), 1)\n",
    "        self.assertEqual(divide(5, 2), 2.5)\n",
    "\n",
    "        with self.assertRaises(ValueError):\n",
    "            divide(10, 0)\n",
    "\n",
    "unittest.main(argv=['first-arg-is-ignored'], exit=False)      # instead of if __name__ == '__main__':\n",
    "                                                              #                unittest.main()"
   ]
  },
  {
   "cell_type": "markdown",
   "id": "8afd2205-3af6-4a78-9faa-e6254e30c1eb",
   "metadata": {},
   "source": [
    "<table class=\"docutils align-default\">\n",
    "<colgroup>\n",
    "<col style=\"width: 48%\" />\n",
    "<col style=\"width: 34%\" />\n",
    "<col style=\"width: 18%\" />\n",
    "</colgroup>\n",
    "<thead>\n",
    "<tr class=\"row-odd\"><th class=\"head\"><p>Method</p></th>\n",
    "<th class=\"head\"><p>Checks that</p></th>\n",
    "<th class=\"head\"><p>New in</p></th>\n",
    "</tr>\n",
    "</thead>\n",
    "<tbody>\n",
    "<tr class=\"row-even\"><td><p><a class=\"reference internal\" href=\"#unittest.TestCase.assertEqual\" title=\"unittest.TestCase.assertEqual\"><code class=\"xref py py-meth docutils literal notranslate\"><span class=\"pre\">assertEqual(a,</span> <span class=\"pre\">b)</span></code></a></p></td>\n",
    "<td><p><code class=\"docutils literal notranslate\"><span class=\"pre\">a</span> <span class=\"pre\">==</span> <span class=\"pre\">b</span></code></p></td>\n",
    "<td></td>\n",
    "</tr>\n",
    "<tr class=\"row-odd\"><td><p><a class=\"reference internal\" href=\"#unittest.TestCase.assertNotEqual\" title=\"unittest.TestCase.assertNotEqual\"><code class=\"xref py py-meth docutils literal notranslate\"><span class=\"pre\">assertNotEqual(a,</span> <span class=\"pre\">b)</span></code></a></p></td>\n",
    "<td><p><code class=\"docutils literal notranslate\"><span class=\"pre\">a</span> <span class=\"pre\">!=</span> <span class=\"pre\">b</span></code></p></td>\n",
    "<td></td>\n",
    "</tr>\n",
    "<tr class=\"row-even\"><td><p><a class=\"reference internal\" href=\"#unittest.TestCase.assertTrue\" title=\"unittest.TestCase.assertTrue\"><code class=\"xref py py-meth docutils literal notranslate\"><span class=\"pre\">assertTrue(x)</span></code></a></p></td>\n",
    "<td><p><code class=\"docutils literal notranslate\"><span class=\"pre\">bool(x)</span> <span class=\"pre\">is</span> <span class=\"pre\">True</span></code></p></td>\n",
    "<td></td>\n",
    "</tr>\n",
    "<tr class=\"row-odd\"><td><p><a class=\"reference internal\" href=\"#unittest.TestCase.assertFalse\" title=\"unittest.TestCase.assertFalse\"><code class=\"xref py py-meth docutils literal notranslate\"><span class=\"pre\">assertFalse(x)</span></code></a></p></td>\n",
    "<td><p><code class=\"docutils literal notranslate\"><span class=\"pre\">bool(x)</span> <span class=\"pre\">is</span> <span class=\"pre\">False</span></code></p></td>\n",
    "<td></td>\n",
    "</tr>\n",
    "<tr class=\"row-even\"><td><p><a class=\"reference internal\" href=\"#unittest.TestCase.assertIs\" title=\"unittest.TestCase.assertIs\"><code class=\"xref py py-meth docutils literal notranslate\"><span class=\"pre\">assertIs(a,</span> <span class=\"pre\">b)</span></code></a></p></td>\n",
    "<td><p><code class=\"docutils literal notranslate\"><span class=\"pre\">a</span> <span class=\"pre\">is</span> <span class=\"pre\">b</span></code></p></td>\n",
    "<td><p>3.1</p></td>\n",
    "</tr>\n",
    "<tr class=\"row-odd\"><td><p><a class=\"reference internal\" href=\"#unittest.TestCase.assertIsNot\" title=\"unittest.TestCase.assertIsNot\"><code class=\"xref py py-meth docutils literal notranslate\"><span class=\"pre\">assertIsNot(a,</span> <span class=\"pre\">b)</span></code></a></p></td>\n",
    "<td><p><code class=\"docutils literal notranslate\"><span class=\"pre\">a</span> <span class=\"pre\">is</span> <span class=\"pre\">not</span> <span class=\"pre\">b</span></code></p></td>\n",
    "<td><p>3.1</p></td>\n",
    "</tr>\n",
    "<tr class=\"row-even\"><td><p><a class=\"reference internal\" href=\"#unittest.TestCase.assertIsNone\" title=\"unittest.TestCase.assertIsNone\"><code class=\"xref py py-meth docutils literal notranslate\"><span class=\"pre\">assertIsNone(x)</span></code></a></p></td>\n",
    "<td><p><code class=\"docutils literal notranslate\"><span class=\"pre\">x</span> <span class=\"pre\">is</span> <span class=\"pre\">None</span></code></p></td>\n",
    "<td><p>3.1</p></td>\n",
    "</tr>\n",
    "<tr class=\"row-odd\"><td><p><a class=\"reference internal\" href=\"#unittest.TestCase.assertIsNotNone\" title=\"unittest.TestCase.assertIsNotNone\"><code class=\"xref py py-meth docutils literal notranslate\"><span class=\"pre\">assertIsNotNone(x)</span></code></a></p></td>\n",
    "<td><p><code class=\"docutils literal notranslate\"><span class=\"pre\">x</span> <span class=\"pre\">is</span> <span class=\"pre\">not</span> <span class=\"pre\">None</span></code></p></td>\n",
    "<td><p>3.1</p></td>\n",
    "</tr>\n",
    "<tr class=\"row-even\"><td><p><a class=\"reference internal\" href=\"#unittest.TestCase.assertIn\" title=\"unittest.TestCase.assertIn\"><code class=\"xref py py-meth docutils literal notranslate\"><span class=\"pre\">assertIn(a,</span> <span class=\"pre\">b)</span></code></a></p></td>\n",
    "<td><p><code class=\"docutils literal notranslate\"><span class=\"pre\">a</span> <span class=\"pre\">in</span> <span class=\"pre\">b</span></code></p></td>\n",
    "<td><p>3.1</p></td>\n",
    "</tr>\n",
    "<tr class=\"row-odd\"><td><p><a class=\"reference internal\" href=\"#unittest.TestCase.assertNotIn\" title=\"unittest.TestCase.assertNotIn\"><code class=\"xref py py-meth docutils literal notranslate\"><span class=\"pre\">assertNotIn(a,</span> <span class=\"pre\">b)</span></code></a></p></td>\n",
    "<td><p><code class=\"docutils literal notranslate\"><span class=\"pre\">a</span> <span class=\"pre\">not</span> <span class=\"pre\">in</span> <span class=\"pre\">b</span></code></p></td>\n",
    "<td><p>3.1</p></td>\n",
    "</tr>\n",
    "<tr class=\"row-even\"><td><p><a class=\"reference internal\" href=\"#unittest.TestCase.assertIsInstance\" title=\"unittest.TestCase.assertIsInstance\"><code class=\"xref py py-meth docutils literal notranslate\"><span class=\"pre\">assertIsInstance(a,</span> <span class=\"pre\">b)</span></code></a></p></td>\n",
    "<td><p><code class=\"docutils literal notranslate\"><span class=\"pre\">isinstance(a,</span> <span class=\"pre\">b)</span></code></p></td>\n",
    "<td><p>3.2</p></td>\n",
    "</tr>\n",
    "<tr class=\"row-odd\"><td><p><a class=\"reference internal\" href=\"#unittest.TestCase.assertNotIsInstance\" title=\"unittest.TestCase.assertNotIsInstance\"><code class=\"xref py py-meth docutils literal notranslate\"><span class=\"pre\">assertNotIsInstance(a,</span> <span class=\"pre\">b)</span></code></a></p></td>\n",
    "<td><p><code class=\"docutils literal notranslate\"><span class=\"pre\">not</span> <span class=\"pre\">isinstance(a,</span> <span class=\"pre\">b)</span></code></p></td>\n",
    "<td><p>3.2</p></td>\n",
    "</tr>\n",
    "</tbody>\n",
    "</table>"
   ]
  },
  {
   "cell_type": "markdown",
   "id": "strong-serbia",
   "metadata": {},
   "source": [
    "### Now we are going to analyse a more sophisticated test set:  \n",
    "\n",
    "+ #### testing class methods\n",
    "+ #### [setUp](https://docs.python.org/3/library/unittest.html#unittest.TestCase.setUp) (prerequisite steps)\n",
    "+ #### [tearDown](https://docs.python.org/3/library/unittest.html#unittest.TestCase.tearDown) (clean-up steps)\n",
    "+ #### [mock](https://docs.python.org/3/library/unittest.mock.html) (replace parts of your system under test with mock objects and make assertions about how they have been used)"
   ]
  },
  {
   "cell_type": "markdown",
   "id": "attended-analysis",
   "metadata": {},
   "source": [
    "#### Given the class employee:"
   ]
  },
  {
   "cell_type": "code",
   "execution_count": 5,
   "id": "seasonal-maryland",
   "metadata": {},
   "outputs": [],
   "source": [
    "import requests\n",
    "\n",
    "class Employee:\n",
    "    \"\"\"A sample Employee class\"\"\"\n",
    "\n",
    "    raise_amt = 1.05\n",
    "\n",
    "    def __init__(self, first, last, pay):\n",
    "        self.first = first\n",
    "        self.last = last\n",
    "        self.pay = pay\n",
    "\n",
    "    @property\n",
    "    def email(self):\n",
    "        return '{}.{}@email.com'.format(self.first, self.last)\n",
    "\n",
    "    @property\n",
    "    def fullname(self):\n",
    "        return '{} {}'.format(self.first, self.last)\n",
    "\n",
    "    def apply_raise(self):\n",
    "        self.pay = int(self.pay * self.raise_amt)\n",
    "\n",
    "    def monthly_schedule(self, month):\n",
    "        response = requests.get(f'http://company.com/{self.last}/{month}')\n",
    "        if response.ok:\n",
    "            return response.text\n",
    "        else:\n",
    "            return 'Bad Response!'"
   ]
  },
  {
   "cell_type": "markdown",
   "id": "square-probe",
   "metadata": {},
   "source": [
    "### We have the original test file test_employee.py\n",
    "\n",
    "    import unittest\n",
    "    from unittest.mock import patch\n",
    "    from employee import Employee\n",
    "\n",
    "\n",
    "    class TestEmployee(unittest.TestCase):\n",
    "\n",
    "        @classmethod\n",
    "        def setUpClass(cls):\n",
    "            print('setupClass')\n",
    "\n",
    "        @classmethod\n",
    "        def tearDownClass(cls):\n",
    "            print('teardownClass')\n",
    "\n",
    "        def setUp(self):\n",
    "            print('setUp')\n",
    "            self.emp_1 = Employee('Corey', 'Schafer', 50000)\n",
    "            self.emp_2 = Employee('Sue', 'Smith', 60000)\n",
    "\n",
    "        def tearDown(self):\n",
    "            print('tearDown\\n')\n",
    "\n",
    "        def test_email(self):\n",
    "            print('test_email')\n",
    "            self.assertEqual(self.emp_1.email, 'Corey.Schafer@email.com')\n",
    "            self.assertEqual(self.emp_2.email, 'Sue.Smith@email.com')\n",
    "\n",
    "            self.emp_1.first = 'John'\n",
    "            self.emp_2.first = 'Jane'\n",
    "\n",
    "            self.assertEqual(self.emp_1.email, 'John.Schafer@email.com')\n",
    "            self.assertEqual(self.emp_2.email, 'Jane.Smith@email.com')\n",
    "\n",
    "        def test_fullname(self):\n",
    "            print('test_fullname')\n",
    "            self.assertEqual(self.emp_1.fullname, 'Corey Schafer')\n",
    "            self.assertEqual(self.emp_2.fullname, 'Sue Smith')\n",
    "\n",
    "            self.emp_1.first = 'John'\n",
    "            self.emp_2.first = 'Jane'\n",
    "\n",
    "            self.assertEqual(self.emp_1.fullname, 'John Schafer')\n",
    "            self.assertEqual(self.emp_2.fullname, 'Jane Smith')\n",
    "\n",
    "        def test_apply_raise(self):\n",
    "            print('test_apply_raise')\n",
    "            self.emp_1.apply_raise()\n",
    "            self.emp_2.apply_raise()\n",
    "\n",
    "            self.assertEqual(self.emp_1.pay, 52500)\n",
    "            self.assertEqual(self.emp_2.pay, 63000)\n",
    "\n",
    "        def test_monthly_schedule(self):\n",
    "            with patch('employee.requests.get') as mocked_get:\n",
    "                mocked_get.return_value.ok = True\n",
    "                mocked_get.return_value.text = 'Success'\n",
    "\n",
    "                schedule = self.emp_1.monthly_schedule('May')\n",
    "                mocked_get.assert_called_with('http://company.com/Schafer/May')\n",
    "                self.assertEqual(schedule, 'Success')\n",
    "\n",
    "                mocked_get.return_value.ok = False\n",
    "\n",
    "                schedule = self.emp_2.monthly_schedule('June')\n",
    "                mocked_get.assert_called_with('http://company.com/Smith/June')\n",
    "                self.assertEqual(schedule, 'Bad Response!')\n",
    "\n",
    "\n",
    "    if __name__ == '__main__':\n",
    "        unittest.main()"
   ]
  },
  {
   "cell_type": "markdown",
   "id": "wrong-macro",
   "metadata": {},
   "source": [
    "#### Adapted to run in the Notebook:"
   ]
  },
  {
   "cell_type": "code",
   "execution_count": 9,
   "id": "velvet-white",
   "metadata": {},
   "outputs": [
    {
     "name": "stderr",
     "output_type": "stream",
     "text": [
      "........"
     ]
    },
    {
     "name": "stdout",
     "output_type": "stream",
     "text": [
      "setupClass\n",
      "setUp\n",
      "test_apply_raise\n",
      "tearDown\n",
      "\n",
      "setUp\n",
      "test_email\n",
      "tearDown\n",
      "\n",
      "setUp\n",
      "test_fullname\n",
      "tearDown\n",
      "\n",
      "setUp\n",
      "tearDown\n",
      "\n",
      "teardownClass\n"
     ]
    },
    {
     "name": "stderr",
     "output_type": "stream",
     "text": [
      "\n",
      "----------------------------------------------------------------------\n",
      "Ran 8 tests in 0.004s\n",
      "\n",
      "OK\n"
     ]
    },
    {
     "data": {
      "text/plain": [
       "<unittest.main.TestProgram at 0x7f45117d1880>"
      ]
     },
     "execution_count": 9,
     "metadata": {},
     "output_type": "execute_result"
    }
   ],
   "source": [
    "import unittest\n",
    "from unittest.mock import patch\n",
    "#from employee import Employee\n",
    "\n",
    "\n",
    "class TestEmployee(unittest.TestCase):\n",
    "\n",
    "    @classmethod\n",
    "    def setUpClass(cls):\n",
    "        print('setupClass')\n",
    "\n",
    "    @classmethod\n",
    "    def tearDownClass(cls):\n",
    "        print('teardownClass')\n",
    "\n",
    "    def setUp(self):\n",
    "        print('setUp')\n",
    "        self.emp_1 = Employee('Corey', 'Schafer', 50000)\n",
    "        self.emp_2 = Employee('Sue', 'Smith', 60000)\n",
    "\n",
    "    def tearDown(self):\n",
    "        print('tearDown\\n')\n",
    "\n",
    "    def test_email(self):\n",
    "        print('test_email')\n",
    "        self.assertEqual(self.emp_1.email, 'Corey.Schafer@email.com')\n",
    "        self.assertEqual(self.emp_2.email, 'Sue.Smith@email.com')\n",
    "\n",
    "        self.emp_1.first = 'John'\n",
    "        self.emp_2.first = 'Jane'\n",
    "\n",
    "        self.assertEqual(self.emp_1.email, 'John.Schafer@email.com')\n",
    "        self.assertEqual(self.emp_2.email, 'Jane.Smith@email.com')\n",
    "\n",
    "    def test_fullname(self):\n",
    "        print('test_fullname')\n",
    "        self.assertEqual(self.emp_1.fullname, 'Corey Schafer')\n",
    "        self.assertEqual(self.emp_2.fullname, 'Sue Smith')\n",
    "\n",
    "        self.emp_1.first = 'John'\n",
    "        self.emp_2.first = 'Jane'\n",
    "\n",
    "        self.assertEqual(self.emp_1.fullname, 'John Schafer')\n",
    "        self.assertEqual(self.emp_2.fullname, 'Jane Smith')\n",
    "\n",
    "    def test_apply_raise(self):\n",
    "        print('test_apply_raise')\n",
    "        self.emp_1.apply_raise()\n",
    "        self.emp_2.apply_raise()\n",
    "\n",
    "        self.assertEqual(self.emp_1.pay, 52500)\n",
    "        self.assertEqual(self.emp_2.pay, 63000)\n",
    "\n",
    "    def test_monthly_schedule(self):\n",
    "        with patch('requests.get') as mocked_get:\n",
    "            mocked_get.return_value.ok = True\n",
    "            mocked_get.return_value.text = 'Success'\n",
    "\n",
    "            schedule = self.emp_1.monthly_schedule('May')\n",
    "            mocked_get.assert_called_with('http://company.com/Schafer/May')\n",
    "            self.assertEqual(schedule, 'Success')\n",
    "\n",
    "            mocked_get.return_value.ok = False\n",
    "\n",
    "            schedule = self.emp_2.monthly_schedule('June')\n",
    "            mocked_get.assert_called_with('http://company.com/Smith/June')\n",
    "            self.assertEqual(schedule, 'Bad Response!')\n",
    "\n",
    "\n",
    "unittest.main(argv=['first-arg-is-ignored'], exit=False)"
   ]
  }
 ],
 "metadata": {
  "kernelspec": {
   "display_name": "Python 3 (ipykernel)",
   "language": "python",
   "name": "python3"
  },
  "language_info": {
   "codemirror_mode": {
    "name": "ipython",
    "version": 3
   },
   "file_extension": ".py",
   "mimetype": "text/x-python",
   "name": "python",
   "nbconvert_exporter": "python",
   "pygments_lexer": "ipython3",
   "version": "3.8.10"
  }
 },
 "nbformat": 4,
 "nbformat_minor": 5
}
