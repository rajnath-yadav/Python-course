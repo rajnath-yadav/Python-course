{
 "cells": [
  {
   "cell_type": "markdown",
   "metadata": {},
   "source": [
    "# Introduction to Python  \n",
    "\n",
    "### Introduction to Scraping"
   ]
  },
  {
   "cell_type": "code",
   "execution_count": 2,
   "metadata": {},
   "outputs": [],
   "source": [
    "#import pylab\n",
    "import re\n",
    "import pandas as pd\n",
    "import numpy as np\n",
    "import matplotlib.pyplot as plt\n",
    "import seaborn as sns\n",
    "\n",
    "import requests\n",
    "import urllib\n",
    "from bs4 import BeautifulSoup as bs\n",
    "\n",
    "from IPython.display import HTML\n",
    "\n",
    "%matplotlib inline\n",
    "#%matplotlib notebook"
   ]
  },
  {
   "cell_type": "markdown",
   "metadata": {},
   "source": [
    "## 1 - Using only Pandas"
   ]
  },
  {
   "cell_type": "markdown",
   "metadata": {},
   "source": [
    "### 1.1 - Scraping HTML tables with Pandas"
   ]
  },
  {
   "cell_type": "markdown",
   "metadata": {},
   "source": [
    "#### Checking the page: [List of cities and towns in Austria](https://en.wikipedia.org/wiki/List_of_cities_and_towns_in_Austria)"
   ]
  },
  {
   "cell_type": "code",
   "execution_count": 3,
   "metadata": {},
   "outputs": [
    {
     "data": {
      "text/plain": [
       "18"
      ]
     },
     "execution_count": 3,
     "metadata": {},
     "output_type": "execute_result"
    }
   ],
   "source": [
    "url1 = \"https://en.wikipedia.org/wiki/List_of_cities_and_towns_in_Austria\"\n",
    "list_df_tables = pd.read_html(url1)\n",
    "len(list_df_tables)"
   ]
  },
  {
   "cell_type": "code",
   "execution_count": 4,
   "metadata": {},
   "outputs": [
    {
     "data": {
      "text/html": [
       "<div>\n",
       "<style scoped>\n",
       "    .dataframe tbody tr th:only-of-type {\n",
       "        vertical-align: middle;\n",
       "    }\n",
       "\n",
       "    .dataframe tbody tr th {\n",
       "        vertical-align: top;\n",
       "    }\n",
       "\n",
       "    .dataframe thead th {\n",
       "        text-align: right;\n",
       "    }\n",
       "</style>\n",
       "<table border=\"1\" class=\"dataframe\">\n",
       "  <thead>\n",
       "    <tr style=\"text-align: right;\">\n",
       "      <th></th>\n",
       "      <th>Name</th>\n",
       "      <th>State</th>\n",
       "      <th>Population (as of 2022)[1]</th>\n",
       "    </tr>\n",
       "  </thead>\n",
       "  <tbody>\n",
       "    <tr>\n",
       "      <th>0</th>\n",
       "      <td>Vienna</td>\n",
       "      <td>Vienna</td>\n",
       "      <td>1931593</td>\n",
       "    </tr>\n",
       "    <tr>\n",
       "      <th>1</th>\n",
       "      <td>Graz</td>\n",
       "      <td>Styria</td>\n",
       "      <td>292630</td>\n",
       "    </tr>\n",
       "    <tr>\n",
       "      <th>2</th>\n",
       "      <td>Linz</td>\n",
       "      <td>Upper Austria</td>\n",
       "      <td>207247</td>\n",
       "    </tr>\n",
       "    <tr>\n",
       "      <th>3</th>\n",
       "      <td>Salzburg</td>\n",
       "      <td>Salzburg</td>\n",
       "      <td>155331</td>\n",
       "    </tr>\n",
       "    <tr>\n",
       "      <th>4</th>\n",
       "      <td>Innsbruck</td>\n",
       "      <td>Tyrol</td>\n",
       "      <td>130585</td>\n",
       "    </tr>\n",
       "  </tbody>\n",
       "</table>\n",
       "</div>"
      ],
      "text/plain": [
       "        Name          State  Population (as of 2022)[1]\n",
       "0     Vienna         Vienna                     1931593\n",
       "1       Graz         Styria                      292630\n",
       "2       Linz  Upper Austria                      207247\n",
       "3   Salzburg       Salzburg                      155331\n",
       "4  Innsbruck          Tyrol                      130585"
      ]
     },
     "execution_count": 4,
     "metadata": {},
     "output_type": "execute_result"
    }
   ],
   "source": [
    "list_df_tables[0].head()"
   ]
  },
  {
   "cell_type": "code",
   "execution_count": 5,
   "metadata": {},
   "outputs": [
    {
     "data": {
      "text/html": [
       "<div>\n",
       "<style scoped>\n",
       "    .dataframe tbody tr th:only-of-type {\n",
       "        vertical-align: middle;\n",
       "    }\n",
       "\n",
       "    .dataframe tbody tr th {\n",
       "        vertical-align: top;\n",
       "    }\n",
       "\n",
       "    .dataframe thead th {\n",
       "        text-align: right;\n",
       "    }\n",
       "</style>\n",
       "<table border=\"1\" class=\"dataframe\">\n",
       "  <thead>\n",
       "    <tr style=\"text-align: right;\">\n",
       "      <th></th>\n",
       "      <th>Name</th>\n",
       "      <th>Designation</th>\n",
       "      <th>Population</th>\n",
       "    </tr>\n",
       "  </thead>\n",
       "  <tbody>\n",
       "    <tr>\n",
       "      <th>0</th>\n",
       "      <td>Andau</td>\n",
       "      <td>Market town</td>\n",
       "      <td>2285</td>\n",
       "    </tr>\n",
       "    <tr>\n",
       "      <th>1</th>\n",
       "      <td>Antau</td>\n",
       "      <td>Other municipality</td>\n",
       "      <td>758</td>\n",
       "    </tr>\n",
       "    <tr>\n",
       "      <th>2</th>\n",
       "      <td>Apetlon</td>\n",
       "      <td>Market town</td>\n",
       "      <td>1760</td>\n",
       "    </tr>\n",
       "    <tr>\n",
       "      <th>3</th>\n",
       "      <td>Bad Sauerbrunn</td>\n",
       "      <td>Other municipality</td>\n",
       "      <td>2219</td>\n",
       "    </tr>\n",
       "    <tr>\n",
       "      <th>4</th>\n",
       "      <td>Bad Tatzmannsdorf</td>\n",
       "      <td>Other municipality</td>\n",
       "      <td>1554</td>\n",
       "    </tr>\n",
       "    <tr>\n",
       "      <th>5</th>\n",
       "      <td>Badersdorf</td>\n",
       "      <td>Other municipality</td>\n",
       "      <td>287</td>\n",
       "    </tr>\n",
       "    <tr>\n",
       "      <th>6</th>\n",
       "      <td>Baumgarten</td>\n",
       "      <td>Other municipality</td>\n",
       "      <td>894</td>\n",
       "    </tr>\n",
       "    <tr>\n",
       "      <th>7</th>\n",
       "      <td>Bernstein</td>\n",
       "      <td>Market town</td>\n",
       "      <td>2123</td>\n",
       "    </tr>\n",
       "    <tr>\n",
       "      <th>8</th>\n",
       "      <td>Bildein</td>\n",
       "      <td>Other municipality</td>\n",
       "      <td>343</td>\n",
       "    </tr>\n",
       "    <tr>\n",
       "      <th>9</th>\n",
       "      <td>Bocksdorf</td>\n",
       "      <td>Other municipality</td>\n",
       "      <td>813</td>\n",
       "    </tr>\n",
       "  </tbody>\n",
       "</table>\n",
       "</div>"
      ],
      "text/plain": [
       "                Name         Designation  Population\n",
       "0              Andau         Market town        2285\n",
       "1              Antau  Other municipality         758\n",
       "2            Apetlon         Market town        1760\n",
       "3     Bad Sauerbrunn  Other municipality        2219\n",
       "4  Bad Tatzmannsdorf  Other municipality        1554\n",
       "5         Badersdorf  Other municipality         287\n",
       "6         Baumgarten  Other municipality         894\n",
       "7          Bernstein         Market town        2123\n",
       "8            Bildein  Other municipality         343\n",
       "9          Bocksdorf  Other municipality         813"
      ]
     },
     "execution_count": 5,
     "metadata": {},
     "output_type": "execute_result"
    }
   ],
   "source": [
    "list_df_tables[1].head(10)"
   ]
  },
  {
   "cell_type": "code",
   "execution_count": 6,
   "metadata": {},
   "outputs": [
    {
     "data": {
      "text/html": [
       "<div>\n",
       "<style scoped>\n",
       "    .dataframe tbody tr th:only-of-type {\n",
       "        vertical-align: middle;\n",
       "    }\n",
       "\n",
       "    .dataframe tbody tr th {\n",
       "        vertical-align: top;\n",
       "    }\n",
       "\n",
       "    .dataframe thead th {\n",
       "        text-align: right;\n",
       "    }\n",
       "</style>\n",
       "<table border=\"1\" class=\"dataframe\">\n",
       "  <thead>\n",
       "    <tr style=\"text-align: right;\">\n",
       "      <th></th>\n",
       "      <th>Name</th>\n",
       "      <th>Designation</th>\n",
       "      <th>Population</th>\n",
       "    </tr>\n",
       "  </thead>\n",
       "  <tbody>\n",
       "    <tr>\n",
       "      <th>0</th>\n",
       "      <td>Afritz am See</td>\n",
       "      <td>Other municipality</td>\n",
       "      <td>1429</td>\n",
       "    </tr>\n",
       "    <tr>\n",
       "      <th>1</th>\n",
       "      <td>Albeck</td>\n",
       "      <td>Other municipality</td>\n",
       "      <td>995</td>\n",
       "    </tr>\n",
       "    <tr>\n",
       "      <th>2</th>\n",
       "      <td>Althofen</td>\n",
       "      <td>Other city</td>\n",
       "      <td>4759</td>\n",
       "    </tr>\n",
       "    <tr>\n",
       "      <th>3</th>\n",
       "      <td>Arnoldstein</td>\n",
       "      <td>Market town</td>\n",
       "      <td>7096</td>\n",
       "    </tr>\n",
       "    <tr>\n",
       "      <th>4</th>\n",
       "      <td>Arriach</td>\n",
       "      <td>Other municipality</td>\n",
       "      <td>1349</td>\n",
       "    </tr>\n",
       "  </tbody>\n",
       "</table>\n",
       "</div>"
      ],
      "text/plain": [
       "            Name         Designation  Population\n",
       "0  Afritz am See  Other municipality        1429\n",
       "1         Albeck  Other municipality         995\n",
       "2       Althofen          Other city        4759\n",
       "3    Arnoldstein         Market town        7096\n",
       "4        Arriach  Other municipality        1349"
      ]
     },
     "execution_count": 6,
     "metadata": {},
     "output_type": "execute_result"
    }
   ],
   "source": [
    "list_df_tables[2].head()"
   ]
  },
  {
   "cell_type": "markdown",
   "metadata": {},
   "source": [
    "### 1.2 - Read files from URLs with Pandas\n",
    "\n",
    "Source: [data.gv.at](https://www.data.gv.at/katalog/dataset/41f8db46-d2d9-48b3-a8b3-138742613c1a)"
   ]
  },
  {
   "cell_type": "code",
   "execution_count": 7,
   "metadata": {},
   "outputs": [
    {
     "data": {
      "text/html": [
       "<div>\n",
       "<style scoped>\n",
       "    .dataframe tbody tr th:only-of-type {\n",
       "        vertical-align: middle;\n",
       "    }\n",
       "\n",
       "    .dataframe tbody tr th {\n",
       "        vertical-align: top;\n",
       "    }\n",
       "\n",
       "    .dataframe thead th {\n",
       "        text-align: right;\n",
       "    }\n",
       "</style>\n",
       "<table border=\"1\" class=\"dataframe\">\n",
       "  <thead>\n",
       "    <tr style=\"text-align: right;\">\n",
       "      <th></th>\n",
       "      <th>Datum</th>\n",
       "      <th>Kategorie</th>\n",
       "      <th>Titel</th>\n",
       "      <th>Beschreibung</th>\n",
       "    </tr>\n",
       "  </thead>\n",
       "  <tbody>\n",
       "    <tr>\n",
       "      <th>0</th>\n",
       "      <td>01.Jän.23</td>\n",
       "      <td>International</td>\n",
       "      <td>Neujahr (staatlicher Feiertag)</td>\n",
       "      <td>Beginn des Jahres nach dem gregorianischen Kal...</td>\n",
       "    </tr>\n",
       "    <tr>\n",
       "      <th>1</th>\n",
       "      <td>06.Jän.23</td>\n",
       "      <td>Christentum</td>\n",
       "      <td>Heilige Drei Könige (katholisch, evangelisch, ...</td>\n",
       "      <td>Beim Dreikönigsfest (auch Epiphanie, das heißt...</td>\n",
       "    </tr>\n",
       "    <tr>\n",
       "      <th>2</th>\n",
       "      <td>06.Jän.23</td>\n",
       "      <td>Christentum</td>\n",
       "      <td>Orthodoxer Heiliger Abend (nach julianischem K...</td>\n",
       "      <td>Als Symbol für den Stall, den Ort der Geburt J...</td>\n",
       "    </tr>\n",
       "    <tr>\n",
       "      <th>3</th>\n",
       "      <td>07.Jän.23</td>\n",
       "      <td>Christentum</td>\n",
       "      <td>Orthodoxes Weihnachten/Orthodoxer Christtag (n...</td>\n",
       "      <td>Serbische Bräuche: Am frühen Morgen besucht ei...</td>\n",
       "    </tr>\n",
       "    <tr>\n",
       "      <th>4</th>\n",
       "      <td>22.Jän.23</td>\n",
       "      <td>Traditionell</td>\n",
       "      <td>Chinesisches Neujahr</td>\n",
       "      <td>Nach dem chinesischen Kalender beginnt das Jah...</td>\n",
       "    </tr>\n",
       "    <tr>\n",
       "      <th>5</th>\n",
       "      <td>02.Feb.23</td>\n",
       "      <td>Christentum</td>\n",
       "      <td>Mariä Lichtmess / Darstellung des Herrn (katho...</td>\n",
       "      <td>Auch \"Einführung Jesu in den Tempel\" genannt. ...</td>\n",
       "    </tr>\n",
       "    <tr>\n",
       "      <th>6</th>\n",
       "      <td>06.Feb.23</td>\n",
       "      <td>Judentum</td>\n",
       "      <td>Tu BiSchwat</td>\n",
       "      <td>In Hebräisch so viel wie: \"15. Tag im Monat Sc...</td>\n",
       "    </tr>\n",
       "    <tr>\n",
       "      <th>7</th>\n",
       "      <td>14.Feb.23</td>\n",
       "      <td>International</td>\n",
       "      <td>Valentinstag</td>\n",
       "      <td>An diesem Tag werden Blumen als Zeichen der Zu...</td>\n",
       "    </tr>\n",
       "    <tr>\n",
       "      <th>8</th>\n",
       "      <td>16.Feb.23</td>\n",
       "      <td>Islam</td>\n",
       "      <td>Hizir Fest</td>\n",
       "      <td>14. bis 16. Februar: Hizir Fasten / Festtag (a...</td>\n",
       "    </tr>\n",
       "    <tr>\n",
       "      <th>9</th>\n",
       "      <td>22.Feb.23</td>\n",
       "      <td>Christentum</td>\n",
       "      <td>Aschermittwoch (katholisch, evangelisch)</td>\n",
       "      <td>Für die katholischen Christinnen und Christen ...</td>\n",
       "    </tr>\n",
       "  </tbody>\n",
       "</table>\n",
       "</div>"
      ],
      "text/plain": [
       "      Datum        Kategorie  \\\n",
       "0  01.Jän.23  International    \n",
       "1  06.Jän.23     Christentum   \n",
       "2  06.Jän.23     Christentum   \n",
       "3  07.Jän.23     Christentum   \n",
       "4  22.Jän.23    Traditionell   \n",
       "5  02.Feb.23     Christentum   \n",
       "6  06.Feb.23        Judentum   \n",
       "7  14.Feb.23   International   \n",
       "8  16.Feb.23           Islam   \n",
       "9  22.Feb.23     Christentum   \n",
       "\n",
       "                                               Titel  \\\n",
       "0                     Neujahr (staatlicher Feiertag)   \n",
       "1  Heilige Drei Könige (katholisch, evangelisch, ...   \n",
       "2  Orthodoxer Heiliger Abend (nach julianischem K...   \n",
       "3  Orthodoxes Weihnachten/Orthodoxer Christtag (n...   \n",
       "4                               Chinesisches Neujahr   \n",
       "5  Mariä Lichtmess / Darstellung des Herrn (katho...   \n",
       "6                                        Tu BiSchwat   \n",
       "7                                       Valentinstag   \n",
       "8                                       Hizir Fest     \n",
       "9           Aschermittwoch (katholisch, evangelisch)   \n",
       "\n",
       "                                        Beschreibung  \n",
       "0  Beginn des Jahres nach dem gregorianischen Kal...  \n",
       "1  Beim Dreikönigsfest (auch Epiphanie, das heißt...  \n",
       "2  Als Symbol für den Stall, den Ort der Geburt J...  \n",
       "3  Serbische Bräuche: Am frühen Morgen besucht ei...  \n",
       "4  Nach dem chinesischen Kalender beginnt das Jah...  \n",
       "5  Auch \"Einführung Jesu in den Tempel\" genannt. ...  \n",
       "6  In Hebräisch so viel wie: \"15. Tag im Monat Sc...  \n",
       "7  An diesem Tag werden Blumen als Zeichen der Zu...  \n",
       "8  14. bis 16. Februar: Hizir Fasten / Festtag (a...  \n",
       "9  Für die katholischen Christinnen und Christen ...  "
      ]
     },
     "execution_count": 7,
     "metadata": {},
     "output_type": "execute_result"
    }
   ],
   "source": [
    "df = pd.read_csv(\"https://www.wien.gv.at/menschen/integration/ogd/interkultureller-kalender-2023.csv\", \n",
    "                 skiprows=5, \n",
    "                 usecols=[0,1,2,3],\n",
    "                 engine=\"python\",\n",
    "                 on_bad_lines=\"skip\",\n",
    "                 sep=\";\",\n",
    "                )\n",
    "df.head(10)"
   ]
  },
  {
   "cell_type": "markdown",
   "metadata": {},
   "source": [
    "***\n",
    "\n",
    "## 2 - Scraping static pages using only [Requests](https://docs.python-requests.org/en/master/)"
   ]
  },
  {
   "cell_type": "markdown",
   "metadata": {
    "tags": []
   },
   "source": [
    "#### Which one to use: [urllib or requests?](https://stackoverflow.com/questions/2018026/what-are-the-differences-between-the-urllib-urllib2-urllib3-and-requests-modul)"
   ]
  },
  {
   "cell_type": "markdown",
   "metadata": {},
   "source": [
    "### 2.1 - Getting html content of the page  \n",
    "\n",
    "Source: [https://www.data.gv.at/](https://www.data.gv.at/suche/?typeFilter%5B%5D=dataset)"
   ]
  },
  {
   "cell_type": "code",
   "execution_count": 8,
   "metadata": {},
   "outputs": [
    {
     "name": "stdout",
     "output_type": "stream",
     "text": [
      "200\n"
     ]
    }
   ],
   "source": [
    "url2 = 'https://www.data.gv.at/suche/?typeFilter%5B%5D=dataset' \n",
    "content = requests.get(url2)\n",
    "print(content.status_code)"
   ]
  },
  {
   "cell_type": "markdown",
   "metadata": {},
   "source": [
    "Check [HTTP status codes](https://developer.mozilla.org/en-US/docs/Web/HTTP/Status) "
   ]
  },
  {
   "cell_type": "code",
   "execution_count": 9,
   "metadata": {},
   "outputs": [
    {
     "data": {
      "text/plain": [
       "'\\n<!doctype html>\\n<html lang=\"en\">\\n<head>\\n\\t<meta charset=\"utf-8\">\\n\\n<!-- Diese Seite wurde optimiert mit wpSEO (https://www.wpseo.org). -->\\n<title>Suche | data.gv.at</title>\\n<meta name=\"robots\" content=\"index, follow\" />\\n<link rel=\"canonical\" href=\"https://www.data.gv.at/suche/\" />\\n<meta property=\"og:type\" content=\"article\">\\n<meta property=\"og:url\" content=\"https://www.data.gv.at/suche/\">\\n<meta property=\"og:title\" content=\"Suche | data.gv.at\">\\n<meta property=\"og:description\" content=\"\">\\n<meta property=\"og:image\" content=\"https://www.data.gv.at/logo-200x200.png\">\\n<meta name=\"twitter:card\" content=\"summary\">\\n<meta name=\"twitter:site\" content=\"datagvat\">\\n<meta name=\"twitter:title\" content=\"Suche | data.gv.at\">\\n<meta name=\"twitter:description\" content=\"\">\\n\\n\\n\\t<meta name=\"viewport\" content=\"width=device-width, initial-scale=1, shrink-to-fit=no\">\\n\\t<meta http-equiv=\"Content-Type\" content=\"text/html; charset=utf-8\" />\\n\\t\\n\\t<meta http-equiv=\"description\" content=\"Offene Daten Österreich\" />\\n\\t<meta name=\"author\" content=\"BRZ GmbH\">\\n\\n\\t<link rel=\"alternate\" type=\"application/rss+xml\" title=\"data.gv.at RSS Feed\" href=\"https://www.data.gv.at/feed/\" />\\n\\t<link rel=\"alternate\" type=\"application/atom+xml\" title=\"data.gv.at Atom Feed\" href=\"https://www.data.gv.at/feed/atom/\" />\\n\\t<link rel=\"pingback\" href=\"https://www.data.gv.at/xmlrpc.php\" />\\n\\t<link rel=\"shortcut icon\" type=\"image/x-icon\" href=\"https://www.data.gv.at/wp-content/themes/datagvat-child/images/favicon.ico\" />\\n\\t\\n<link rel=\"alternate\" hreflang=\"de\" href=\"https://www.data.gv.at/suche/?typeFilter%5B0%5D=dataset\" />\\n<link rel=\"alternate\" hreflang=\"en\" href=\"https://www.data.gv.at/en/search/?typeFilter%5B0%5D=dataset\" />\\n<link rel=\"alternate\" hreflang=\"x-default\" href=\"https://www.data.gv.at/suche/?typeFilter%5B0%5D=dataset\" />\\n<link rel=\\'stylesheet\\' id=\\'email-subscribers-css\\' href=\\'https://www.data.gv.at/wp-content/plugins/email-subscribers-premium/lite/public/css/email-subscribers-public.css?ver=5.5.1\\' type=\\'text/css\\' media=\\'all\\' />\\n<link rel=\\'stylesheet\\' id=\\'mapsmarkerpro-css\\' href=\\'https://www.data.gv.at/wp-content/plugins/maps-marker-pro/css/mapsmarkerpro.css?ver=4.23\\' type=\\'text/css\\' media=\\'all\\' />\\n<link rel=\\'stylesheet\\' id=\\'wpml-legacy-horizontal-list-0-css\\' href=\\'//www.data.gv.at/wp-content/plugins/sitepress-multilingual-cms/templates/language-switchers/legacy-list-horizontal/style.min.css?ver=1\\' type=\\'text/css\\' media=\\'all\\' />\\n<link rel=\\'stylesheet\\' id=\\'jquery-ui-css\\' href=\\'https://www.data.gv.at/wp-content/themes/datagvat/css/jquery-ui.min.css?ver=1.0\\' type=\\'text/css\\' media=\\'all\\' />\\n<link rel=\\'stylesheet\\' id=\\'app-css\\' href=\\'https://www.data.gv.at/wp-content/themes/datagvat/css/app.css?ver=1.0\\' type=\\'text/css\\' media=\\'all\\' />\\n<link rel=\\'stylesheet\\' id=\\'skiplinks-css\\' href=\\'https://www.data.gv.at/wp-content/themes/datagvat/css/skiplinks.css?ver=1.0\\' type=\\'text/css\\' media=\\'all\\' />\\n<link rel=\\'stylesheet\\' id=\\'child_style-css\\' href=\\'https://www.data.gv.at/wp-content/themes/datagvat-child/style.css?ver=1.0.0\\' type=\\'text/css\\' media=\\'all\\' />\\n<link rel=\\'stylesheet\\' id=\\'child-app-css\\' href=\\'https://www.data.gv.at/wp-content/themes/datagvat-child/css/app.css?ver=1.0.0\\' type=\\'text/css\\' media=\\'all\\' />\\n<link rel=\\'stylesheet\\' id=\\'datatables-bootstrap4-css\\' href=\\'https://www.data.gv.at/wp-content/themes/datagvat-child/css/dataTables.bootstrap4.min.css?ver=1.13.1\\' type=\\'text/css\\' media=\\'all\\' />\\n<link rel=\\'stylesheet\\' id=\\'fontawesome-css\\' href=\\'https://www.data.gv.at/wp-content/themes/datagvat-child/assets/fontawesome/css/fontawesome.css?ver=6.2.1\\' type=\\'text/css\\' media=\\'all\\' />\\n<link rel=\\'stylesheet\\' id=\\'fontawesome-all-css\\' href=\\'https://www.data.gv.at/wp-content/themes/datagvat-child/assets/fontawesome/css/all.css?ver=6.2.1\\' type=\\'text/css\\' media=\\'all\\' />\\n<link rel=\\'stylesheet\\' id=\\'es_starter_main_css-css\\' href=\\'https://www.data.gv.at/wp-content/plugins/email-subscribers-premium/starter/assets/css/starter-main.css?ver=5.5.1\\' type=\\'text/css\\' media=\\'all\\' />\\n<link rel=\\'stylesheet\\' id=\\'es_pro_main_css-css\\' href=\\'https://www.data.gv.at/wp-content/plugins/email-subscribers-premium/pro/assets/css/pro-main.css?ver=5.5.1\\' type=\\'text/css\\' media=\\'all\\' />\\n<script type=\\'text/javascript\\' src=\\'https://www.data.gv.at/wp-content/themes/datagvat-child/js/jquery-3.5.1.js?ver=3.5.1\\' id=\\'jquery-js\\'></script>\\n<script type=\\'text/javascript\\' id=\\'wpml-cookie-js-extra\\'>\\n/* <![CDATA[ */\\nvar wpml_cookies = {\"wp-wpml_current_language\":{\"value\":\"de\",\"expires\":1,\"path\":\"\\\\/\"}};\\nvar wpml_cookies = {\"wp-wpml_current_language\":{\"value\":\"de\",\"expires\":1,\"path\":\"\\\\/\"}};\\n/* ]]> */\\n</script>\\n<script type=\\'text/javascript\\' src=\\'https://www.data.gv.at/wp-content/plugins/sitepress-multilingual-cms/res/js/cookies/language-cookie.js?ver=4.5.14\\' id=\\'wpml-cookie-js\\'></script>\\n<script type=\\'text/javascript\\' src=\\'https://www.data.gv.at/wp-content/themes/datagvat-child/js/jquery.dataTables.min.js?ver=1.13.1\\' id=\\'jquery-dataTables-js\\'></script>\\n<script type=\\'text/javascript\\' src=\\'https://www.data.gv.at/wp-includes/js/dist/vendor/mo'"
      ]
     },
     "execution_count": 9,
     "metadata": {},
     "output_type": "execute_result"
    }
   ],
   "source": [
    "content.text[0:5000]"
   ]
  },
  {
   "cell_type": "markdown",
   "metadata": {},
   "source": [
    "### How to filter content from the HTML?  \n",
    "\n",
    "#### A brief introduction to [Beautiful Soup](https://www.crummy.com/software/BeautifulSoup/bs4/doc/) library:\n",
    "\n",
    "[Free Course](https://www.classcentral.com/course/freecodecamp-web-scraping-with-python-beautiful-soup-crash-course-57810)"
   ]
  },
  {
   "cell_type": "code",
   "execution_count": 11,
   "metadata": {},
   "outputs": [
    {
     "name": "stderr",
     "output_type": "stream",
     "text": [
      "/home/renato/Documents/env_default/lib/python3.10/site-packages/IPython/core/display.py:419: UserWarning: Consider using IPython.display.IFrame instead\n",
      "  warnings.warn(\"Consider using IPython.display.IFrame instead\")\n"
     ]
    },
    {
     "data": {
      "text/html": [
       "<iframe width=\"560\" height=\"315\" src=\"https://www.youtube.com/embed/XVv6mJpFOb0\" title=\"YouTube video player\" frameborder=\"0\" allow=\"accelerometer; autoplay; clipboard-write; encrypted-media; gyroscope; picture-in-picture\" allowfullscreen></iframe>"
      ],
      "text/plain": [
       "<IPython.core.display.HTML object>"
      ]
     },
     "execution_count": 11,
     "metadata": {},
     "output_type": "execute_result"
    }
   ],
   "source": [
    "HTML('<iframe width=\"560\" height=\"315\" src=\"https://www.youtube.com/embed/XVv6mJpFOb0\" title=\"YouTube video player\" frameborder=\"0\" allow=\"accelerometer; autoplay; clipboard-write; encrypted-media; gyroscope; picture-in-picture\" allowfullscreen></iframe>')"
   ]
  },
  {
   "cell_type": "markdown",
   "metadata": {},
   "source": [
    "#### Beautiful Soup parsers:"
   ]
  },
  {
   "cell_type": "code",
   "execution_count": 12,
   "metadata": {},
   "outputs": [
    {
     "data": {
      "text/html": [
       "<div>\n",
       "<style scoped>\n",
       "    .dataframe tbody tr th:only-of-type {\n",
       "        vertical-align: middle;\n",
       "    }\n",
       "\n",
       "    .dataframe tbody tr th {\n",
       "        vertical-align: top;\n",
       "    }\n",
       "\n",
       "    .dataframe thead th {\n",
       "        text-align: right;\n",
       "    }\n",
       "</style>\n",
       "<table border=\"1\" class=\"dataframe\">\n",
       "  <thead>\n",
       "    <tr style=\"text-align: right;\">\n",
       "      <th></th>\n",
       "      <th>Parser</th>\n",
       "      <th>Typical usage</th>\n",
       "      <th>Advantages</th>\n",
       "      <th>Disadvantages</th>\n",
       "    </tr>\n",
       "  </thead>\n",
       "  <tbody>\n",
       "    <tr>\n",
       "      <th>1</th>\n",
       "      <td>Python’s html.parser</td>\n",
       "      <td>BeautifulSoup(markup, \"html.parser\")</td>\n",
       "      <td>Batteries included Decent speed Lenient (As of...</td>\n",
       "      <td>Not as fast as lxml, less lenient than html5lib.</td>\n",
       "    </tr>\n",
       "    <tr>\n",
       "      <th>2</th>\n",
       "      <td>lxml’s HTML parser</td>\n",
       "      <td>BeautifulSoup(markup, \"lxml\")</td>\n",
       "      <td>Very fast Lenient</td>\n",
       "      <td>External C dependency</td>\n",
       "    </tr>\n",
       "    <tr>\n",
       "      <th>3</th>\n",
       "      <td>lxml’s XML parser</td>\n",
       "      <td>BeautifulSoup(markup, \"lxml-xml\") BeautifulSou...</td>\n",
       "      <td>Very fast The only currently supported XML parser</td>\n",
       "      <td>External C dependency</td>\n",
       "    </tr>\n",
       "    <tr>\n",
       "      <th>4</th>\n",
       "      <td>html5lib</td>\n",
       "      <td>BeautifulSoup(markup, \"html5lib\")</td>\n",
       "      <td>Extremely lenient Parses pages the same way a ...</td>\n",
       "      <td>Very slow External Python dependency</td>\n",
       "    </tr>\n",
       "  </tbody>\n",
       "</table>\n",
       "</div>"
      ],
      "text/plain": [
       "0                Parser                                      Typical usage  \\\n",
       "1  Python’s html.parser               BeautifulSoup(markup, \"html.parser\")   \n",
       "2    lxml’s HTML parser                      BeautifulSoup(markup, \"lxml\")   \n",
       "3     lxml’s XML parser  BeautifulSoup(markup, \"lxml-xml\") BeautifulSou...   \n",
       "4              html5lib                  BeautifulSoup(markup, \"html5lib\")   \n",
       "\n",
       "0                                         Advantages  \\\n",
       "1  Batteries included Decent speed Lenient (As of...   \n",
       "2                                  Very fast Lenient   \n",
       "3  Very fast The only currently supported XML parser   \n",
       "4  Extremely lenient Parses pages the same way a ...   \n",
       "\n",
       "0                                     Disadvantages  \n",
       "1  Not as fast as lxml, less lenient than html5lib.  \n",
       "2                             External C dependency  \n",
       "3                             External C dependency  \n",
       "4              Very slow External Python dependency  "
      ]
     },
     "execution_count": 12,
     "metadata": {},
     "output_type": "execute_result"
    }
   ],
   "source": [
    "df_parsers = pd.read_html(\"https://www.crummy.com/software/BeautifulSoup/bs4/doc/\")[0]\n",
    "df_parsers.columns = df_parsers.iloc[0]\n",
    "df_parsers.drop(df_parsers.index[0], inplace=True)\n",
    "df_parsers.head()"
   ]
  },
  {
   "cell_type": "markdown",
   "metadata": {},
   "source": [
    "#### Back to our page content..."
   ]
  },
  {
   "cell_type": "code",
   "execution_count": 13,
   "metadata": {},
   "outputs": [
    {
     "name": "stdout",
     "output_type": "stream",
     "text": [
      "<class 'bs4.BeautifulSoup'>\n"
     ]
    }
   ],
   "source": [
    "soup = bs(content.text,'lxml')\n",
    "print(type(soup))"
   ]
  },
  {
   "cell_type": "markdown",
   "metadata": {},
   "source": [
    "### 2.1.1 - Getting formatted html content of the page "
   ]
  },
  {
   "cell_type": "code",
   "execution_count": 14,
   "metadata": {},
   "outputs": [
    {
     "name": "stdout",
     "output_type": "stream",
     "text": [
      "<!DOCTYPE html>\n",
      "<html lang=\"en\">\n",
      " <head>\n",
      "  <meta charset=\"utf-8\"/>\n",
      "  <!-- Diese Seite wurde optimiert mit wpSEO (https://www.wpseo.org). -->\n",
      "  <title>\n",
      "   Suche | data.gv.at\n",
      "  </title>\n",
      "  <meta content=\"index, follow\" name=\"robots\"/>\n",
      "  <link href=\"https://www.data.gv.at/suche/\" rel=\"canonical\"/>\n",
      "  <meta content=\"article\" property=\"og:type\"/>\n",
      "  <meta content=\"https://www.data.gv.at/suche/\" property=\"og:url\"/>\n",
      "  <meta content=\"Suche | data.gv.at\" property=\"og:title\"/>\n",
      "  <meta content=\"\" property=\"og:description\"/>\n",
      "  <meta content=\"https://www.data.gv.at/logo-200x200.png\" property=\"og:image\"/>\n",
      "  <meta content=\"summary\" name=\"twitter:card\"/>\n",
      "  <meta content=\"datagvat\" name=\"twitter:site\"/>\n",
      "  <meta content=\"Suche | data.gv.at\" name=\"twitter:title\"/>\n",
      "  <meta content=\"\" name=\"twitter:description\"/>\n",
      "  <meta content=\"width=device-width, initial-scale=1, shrink-to-fit=no\" name=\"viewport\"/>\n",
      "  <meta content=\"text/html; charset=utf-8\" http-equiv=\"Content-Type\"/>\n",
      "  <meta content=\"Offene Daten Österreich\" http-equiv=\"description\"/>\n",
      "  <meta content=\"BRZ GmbH\" name=\"author\"/>\n",
      "  <link href=\"https://www.data.gv.at/feed/\" rel=\"alternate\" title=\"data.gv.at RSS Feed\" type=\"application/rss+xml\"/>\n",
      "  <link href=\"https://www.data.gv.at/feed/atom/\" rel=\"alternate\" title=\"data.gv.at Atom Feed\" type=\"application/atom+xml\"/>\n",
      "  <link href=\"https://www.data.gv.at/xmlrpc.php\" rel=\"pingback\"/>\n",
      "  <link href=\"https://www.data.gv.at/wp-content/themes/datagvat-child/images/favicon.ico\" rel=\"shortcut icon\" type=\"image/x-icon\"/>\n",
      "  <link href=\"https://www.data.gv.at/suche/?typeFilter%5B0%5D=dataset\" hreflang=\"de\" rel=\"alternate\"/>\n",
      "  <link href=\"https://www.data.gv.at/en/search/?typeFilter%5B0%5D=dataset\" hreflang=\"en\" rel=\"alternate\"/>\n",
      "  <link href=\"https://www.data.gv.at/suche/?typeFilter%5B0%5D=dataset\" hreflang=\"x-default\" rel=\"alternate\"/>\n",
      "  <link href=\"https://www.data.gv.at/wp-content/plugins/email-subscribers-premium/lite/public/css/email-subscribers-public.css?ver=5.5.1\" id=\"email-subscribers-css\" media=\"all\" rel=\"stylesheet\" type=\"text/css\"/>\n",
      "  <link href=\"https://www.data.gv.at/wp-content/plugins/maps-marker-pro/css/mapsmarkerpro.css?ver=4.23\" id=\"mapsmarkerpro-css\" media=\"all\" rel=\"stylesheet\" type=\"text/css\"/>\n",
      "  <link href=\"//www.data.gv.at/wp-content/plugins/sitepress-multilingual-cms/templates/language-switchers/legacy-list-horizontal/style.min.css?ver=1\" id=\"wpml-legacy-horizontal-list-0-css\" media=\"all\" rel=\"stylesheet\" type=\"text/css\"/>\n",
      "  <link href=\"https://www.data.gv.at/wp-content/themes/datagvat/css/jquery-ui.min.css?ver=1.0\" id=\"jquery-ui-css\" media=\"all\" rel=\"stylesheet\" type=\"text/css\"/>\n",
      "  <link href=\"https://www.data.gv.at/wp-content/themes/datagvat/css/app.css?ver=1.0\" id=\"app-css\" media=\"all\" rel=\"stylesheet\" type=\"text/css\"/>\n",
      "  <link href=\"https://www.data.gv.at/wp-content/themes/datagvat/css/skiplinks.css?ver=1.0\" id=\"skiplinks-css\" media=\"all\" rel=\"stylesheet\" type=\"text/css\"/>\n",
      "  <link href=\"https://www.data.gv.at/wp-content/themes/datagvat-child/style.css?ver=1.0.0\" id=\"child_style-css\" media=\"all\" rel=\"stylesheet\" type=\"text/css\"/>\n",
      "  <link href=\"https://www.data.gv.at/wp-content/themes/datagvat-child/css/app.css?ver=1.0.0\" id=\"child-app-css\" media=\"all\" rel=\"stylesheet\" type=\"text/css\"/>\n",
      "  <link href=\"https://www.data.gv.at/wp-content/themes/datagvat-child/css/dataTables.bootstrap4.min.css?ver=1.13.1\" id=\"datatables-bootstrap4-css\" media=\"all\" rel=\"stylesheet\" type=\"text/css\"/>\n",
      "  <link href=\"https://www.data.gv.at/wp-content/themes/datagvat-child/assets/fontawesome/css/fontawesome.css?ver=6.2.1\" id=\"fontawesome-css\" media=\"all\" rel=\"stylesheet\" type=\"text/css\"/>\n",
      "  <link href=\"https://www.data.gv.at/wp-content/themes/datagvat-child/assets/fontawesome/css/all.css?ver=6.2.1\" id=\"fontawesome-all-css\" media=\"all\" rel=\"stylesheet\" type=\"text/css\"/>\n",
      "  <link href=\"https://www.data.gv.at/wp-content/plugins/email-subscribers-premium/starter/assets/css/starter-main.css?ver=5.5.1\" id=\"es_starter_main_css-css\" media=\"all\" rel=\"stylesheet\" type=\"text/css\"/>\n",
      "  <link href=\"https://www.data.gv.at/wp-content/plugins/email-subscribers-premium/pro/assets/css/pro-main.css?ver=5.5.1\" id=\"es_pro_main_css-css\" media=\"all\" rel=\"stylesheet\" type=\"text/css\"/>\n",
      "  <script id=\"jquery-js\" src=\"https://www.data.gv.at/wp-content/themes/datagvat-child/js/jquery-3.5.1.js?ver=3.5.1\" type=\"text/javascript\">\n",
      "  </script>\n",
      "  <script id=\"wpml-cookie-js-extra\" type=\"text/javascript\">\n",
      "   /* <![CDATA[ */\n",
      "var wpml_cookies = {\"wp-wpml_current_language\":{\"value\":\"de\",\"expires\":1,\"path\":\"\\/\"}};\n",
      "var wpml_cookies = {\"wp-wpml_current_language\":{\"value\":\"de\",\"expires\":1,\"path\":\"\\/\"}};\n",
      "/* ]]> */\n",
      "  </script>\n",
      "  <script id=\"wpml-cookie-js\" src=\"https://www.data.gv.at/wp-content/plugins/sitepress-multilingual-cms/res/js/cookies/language-cookie.js?ver=4.5.14\" type=\"text/javascript\">\n",
      "  </script>\n",
      "  <script id=\"jquery-dataTables-js\" src=\"https://www.data.gv.at/wp-content/themes/datagvat-child/js/jquery.dataTables.min.js?ver=1.13.1\" type=\"text/javascript\">\n",
      "  </script>\n",
      "  <script id=\"moment-js\" src=\"https://www.data.gv.at/wp-includes/js/dist/vendor/moment.min.js?ver=2.29.4\" type=\"text/javascript\">\n",
      "  </script>\n",
      "  <script id=\"moment-js-after\" type=\"text/javascript\">\n",
      "   moment.updateLocale( 'de_DE', {\"months\":[\"Januar\",\"Februar\",\"M\\u00e4rz\",\"April\",\"Mai\",\"Juni\",\"Juli\",\"August\",\"September\",\"Oktober\",\"November\",\"Dezember\"],\"monthsShort\":[\"Jan\",\"Feb\",\"Mrz\",\"Apr\",\"Mai\",\"Jun\",\"Jul\",\"Aug\",\"Sep\",\"Okt\",\"Nov\",\"Dez\"],\"weekdays\":[\"Sonntag\",\"Montag\",\"Dienstag\",\"Mittwoch\",\"Donnerstag\",\"Freitag\",\"Samstag\"],\"weekdaysShort\":[\"So\",\"Mo\",\"Di\",\"Mi\",\"Do\",\"Fr\",\"Sa\"],\"week\":{\"dow\":1},\"longDateFormat\":{\"LT\":\"H:i\",\"LTS\":null,\"L\":null,\"LL\":\"j. F Y\",\"LLL\":\"j. F Y G:i\",\"LLLL\":null}} );\n",
      "  </script>\n",
      "  <script id=\"datetime-moment-js\" src=\"https://www.data.gv.at/wp-content/themes/datagvat-child/js/datetime-moment.js?ver=1.13.1\" type=\"text/javascript\">\n",
      "  </script>\n",
      "  <script id=\"dataTables-bootstrap4-js\" src=\"https://www.data.gv.at/wp-content/themes/datagvat-child/js/dataTables.bootstrap4.min.js?ver=1.13.1\" type=\"text/javascript\">\n",
      "  </script>\n",
      "  <link href=\"https://www.data.gv.at/?p=192\" rel=\"shortlink\"/>\n",
      "  <link href=\"https://www.data.gv.at/wp-json/oembed/1.0/embed?url=https%3A%2F%2Fwww.data.gv.at%2Fsuche%2F\" rel=\"alternate\" type=\"application/json+oembed\"/>\n",
      "  <link href=\"https://www.data.gv.at/wp-json/oembed/1.0/embed?url=https%3A%2F%2Fwww.data.gv.at%2Fsuche%2F&amp;format=xml\" rel=\"alternate\" type=\"text/xml+oembed\"/>\n",
      "  <meta content=\"WPML ver:4.5.14 stt:1,3;\" name=\"generator\"/>\n",
      " </head>\n",
      " <body>\n",
      "  <div id=\"skiplinks\">\n",
      "   <p class=\"hidden\">\n",
      "    Seitenbereiche\n",
      "   </p>\n",
      "   <ul>\n",
      "    <li>\n",
      "     <a accesskey=\"0\" class=\"skip\" href=\"#jump_inhalt\">\n",
      "      Inhalt (\n",
      "      <span lang=\"en\" xml:lang=\"en\">\n",
      "       Accesskey\n",
      "      </span>\n",
      "      0)\n",
      "     </a>\n",
      "    </li>\n",
      "    <li>\n",
      "     <a accesskey=\"1\" class=\"skip\" href=\"#jump_menu\">\n",
      "      Hauptmenü (\n",
      "      <span lang=\"en\" xml:lang=\"en\">\n",
      "       Accesskey\n",
      "      </span>\n",
      "      1)\n",
      "     </a>\n",
      "    </li>\n",
      "    <li class=\"last\">\n",
      "     <a accesskey=\"2\" class=\"skip\" href=\"#jump_suche\">\n",
      "      Suche (\n",
      "      <span lang=\"en\" xml:lang=\"en\">\n",
      "       Accesskey\n",
      "      </span>\n",
      "      2)\n",
      "     </a>\n",
      "    </li>\n",
      "   </ul>\n",
      "  </div>\n",
      "  <header>\n",
      "   <!-- Sie sind nicht nur an offenen Daten sondern auch an Code interessiert? Dann laden wir Sie ein, an der Weiterentwicklung von data.gv.at mitzuarbeiten - bewerben Sie sich hier: https://www.brz-jobs.at/Jobs -->\n",
      "   <div class=\"header--banner container\">\n",
      "    <a href=\"/\">\n",
      "     <img alt=\"Logo data.gv.at\" class=\"logo\" src=\"https://www.data.gv.at/wp-content/themes/datagvat-child/img/logo.svg\"/>\n",
      "    </a>\n",
      "    <div class=\"header--center\">\n",
      "     <div class=\"counter\">\n",
      "      <div class=\"counter-left\">\n",
      "       <div>\n",
      "        41146\n",
      "       </div>\n",
      "       <div>\n",
      "        701\n",
      "       </div>\n",
      "       <div>\n",
      "        2390\n",
      "       </div>\n",
      "      </div>\n",
      "      <div>\n",
      "       <div>\n",
      "        <span>\n",
      "         Datensätze\n",
      "        </span>\n",
      "       </div>\n",
      "       <div>\n",
      "        <span>\n",
      "         Anwendungen\n",
      "        </span>\n",
      "       </div>\n",
      "       <div>\n",
      "        <span>\n",
      "         Organisationen\n",
      "        </span>\n",
      "       </div>\n",
      "      </div>\n",
      "     </div>\n",
      "     <div class=\"wpml-ls-statics-shortcode_actions wpml-ls wpml-ls-legacy-list-horizontal\">\n",
      "      <ul>\n",
      "       <li class=\"wpml-ls-slot-shortcode_actions wpml-ls-item wpml-ls-item-de wpml-ls-current-language wpml-ls-first-item wpml-ls-item-legacy-list-horizontal\">\n",
      "        <a class=\"wpml-ls-link\" href=\"https://www.data.gv.at/suche/?typeFilter%5B0%5D=dataset\">\n",
      "         <span class=\"wpml-ls-native\">\n",
      "          de\n",
      "         </span>\n",
      "        </a>\n",
      "       </li>\n",
      "       <li class=\"wpml-ls-slot-shortcode_actions wpml-ls-item wpml-ls-item-en wpml-ls-last-item wpml-ls-item-legacy-list-horizontal\">\n",
      "        <a class=\"wpml-ls-link\" href=\"https://www.data.gv.at/en/search/?typeFilter%5B0%5D=dataset\">\n",
      "         <span class=\"wpml-ls-display\">\n",
      "          en\n",
      "         </span>\n",
      "        </a>\n",
      "       </li>\n",
      "      </ul>\n",
      "     </div>\n",
      "     <div class=\"header--lang\">\n",
      "      <ul>\n",
      "       <li class=\"lang-item lang-left lang-current\">\n",
      "        <a href=\"#\" id=\"ckan_de\">\n",
      "         <span class=\"lang-select\">\n",
      "          de\n",
      "         </span>\n",
      "        </a>\n",
      "       </li>\n",
      "       <li class=\"lang-item lang-right\">\n",
      "        <a href=\"#\" id=\"ckan_en\">\n",
      "         <span class=\"lang-select\">\n",
      "          en\n",
      "         </span>\n",
      "        </a>\n",
      "       </li>\n",
      "      </ul>\n",
      "     </div>\n",
      "     <script type=\"text/javascript\">\n",
      "      document.getElementById(\"ckan_de\").onclick = function () {\n",
      "\t\t\t\t\t\tlocation.pathname = location.pathname.replace(/^\\/katalog\\/en\\//, '/katalog/');\n",
      "\t\t\t\t\t};\n",
      "\n",
      "\t\t\t\t\tdocument.getElementById(\"ckan_en\").onclick = function () {\n",
      "\t\t\t\t\t\tlocation.pathname = location.pathname.replace(/^\\/katalog(\\/|\\/de\\/)/, '/katalog/en/');\n",
      "\t\t\t\t\t};\n",
      "     </script>\n",
      "    </div>\n",
      "    <div class=\"header--social\">\n",
      "     <a href=\"https://mastodon.social/@datagvat\" rel=\"me\" target=\"_blank\" title=\"data.gv.at auf Mastodon\">\n",
      "      <img alt=\"Mastodon Logo\" src=\"https://www.data.gv.at/wp-content/themes/datagvat-child/img/mastodon-logo.png\"/>\n",
      "     </a>\n",
      "     <a href=\"https://twitter.com/datagvat\" target=\"_blank\n"
     ]
    }
   ],
   "source": [
    "print(soup.prettify()[0:10000])"
   ]
  },
  {
   "cell_type": "markdown",
   "metadata": {},
   "source": [
    "### 2.1.2 -  Getting only the text of the page "
   ]
  },
  {
   "cell_type": "code",
   "execution_count": 15,
   "metadata": {},
   "outputs": [
    {
     "name": "stdout",
     "output_type": "stream",
     "text": [
      " Suche | data.gv.at /* <![CDATA[ */\n",
      "var wpml_cookies = {\"wp-wpml_current_language\":{\"value\":\"de\",\"expires\":1,\"path\":\"\\/\"}};\n",
      "var wpml_cookies = {\"wp-wpml_current_language\":{\"value\":\"de\",\"expires\":1,\"path\":\"\\/\"}};\n",
      "/* ]]> */ moment.updateLocale( 'de_DE', {\"months\":[\"Januar\",\"Februar\",\"M\\u00e4rz\",\"April\",\"Mai\",\"Juni\",\"Juli\",\"August\",\"September\",\"Oktober\",\"November\",\"Dezember\"],\"monthsShort\":[\"Jan\",\"Feb\",\"Mrz\",\"Apr\",\"Mai\",\"Jun\",\"Jul\",\"Aug\",\"Sep\",\"Okt\",\"Nov\",\"Dez\"],\"weekdays\":[\"Sonntag\",\"Montag\",\"Dienstag\",\"Mittwoch\",\"Donnerstag\",\"Freitag\",\"Samstag\"],\"weekdaysShort\":[\"So\",\"Mo\",\"Di\",\"Mi\",\"Do\",\"Fr\",\"Sa\"],\"week\":{\"dow\":1},\"longDateFormat\":{\"LT\":\"H:i\",\"LTS\":null,\"L\":null,\"LL\":\"j. F Y\",\"LLL\":\"j. F Y G:i\",\"LLLL\":null}} ); Seitenbereiche Inhalt (Accesskey 0)\n",
      "Hauptmenü (Accesskey 1)\n",
      "Suche (Accesskey 2) \t\t\t\t\t\t\t41146\t\t\t\t\t\t \t\t\t\t\t\t\t701\t\t\t\t\t\t \t\t\t\t\t\t\t2390\t\t\t\t\t\t Datensätze Anwendungen Organisationen de en deen \t\t\t\t\tdocument.getElementById(\"ckan_de\").onclick = function () {\n",
      "\t\t\t\t\t\tlocation.pathname = location.pathname.replace(/^\\/katalog\\/en\\//, '/katalog/');\n",
      "\t\t\t\t\t}; \t\t\t\t\tdocument.getElementById(\"ckan_en\").onclick = function () {\n",
      "\t\t\t\t\t\tlocation.pathname = location.pathname.replace(/^\\/katalog(\\/|\\/de\\/)/, '/katalog/en/');\n",
      "\t\t\t\t\t};\n",
      "\t\t\t\t Grußbotschaft des Bundespräsidenten zum 10-jährigen data.gv.at Jubiläum Hauptmenü Daten Datensatz finden\n",
      "Gesamtbestand aller Datensätze COVID-19 Informationsportal\n",
      "Ausschreibungen laut BVergG2018\n",
      "Geodaten – INSPIRE Datensätze mit Anwendungen\n",
      "Veröffentlichende Stellen\n",
      "Visualisierung der Daten Anleitung zur Datenveröffentlichung\n",
      "Daten/Dokumente hinzufügen Anwendungen Anwendung finden\n",
      "Anwendung einreichen Infos Zielsetzung data.gv.at\n",
      "Open Data Prinzipien\n",
      "Entwicklung von Open Data\n",
      "E-Learning-Module zu Open Data\n",
      "Open Data Videos Cooperation OGD Österreich\n",
      "Kooperation OGD D-A-CH-LI Informationen zum BVergG 2018\n",
      "Leitfaden Open Data Analyse\n",
      "Leitfaden Open Data Governance\n",
      "Netiquette\n",
      "Erklärung zur Barrierefreiheit\n",
      "Datenschutzerklärung\n",
      "Impressum News News\n",
      "Newsletter abonnieren   Inhalt \tlet params = (new URL(window.location.href)).searchParams;\n",
      "\tlet typeFilterInput = document.getElementById('typeFilter');\n",
      "\twindow.addEventListener('load', function() {\n",
      "\t\ttypeFilterInput.value = params.has('typeFilter[]') ? params.get('typeFilter[]') : (params.has('typeFilter[0]') ? params.get('typeFilter[0]') : '')\n",
      "\t});\n",
      "\t Suche erweiterte Suche 42192 Treffer     Vorauswahl \n",
      "OpenDocument (4307)\n",
      "\t\t\t\t\t\t\t HighValueDataset (3)\n",
      "\t\t\t\t\t\t\t Kategorien \n",
      "Bevölkerung (1)\n",
      "\t\t\t\t\t\t\t Gesellschaft und Soziales (1)\n",
      "\t\t\t\t\t\t\t Landwirtschaft, Fischerei, Forstwirtschaft & Lebensmittel (140)\n",
      "\t\t\t\t\t\t\t Wirtschaft & Finanzen (33975)\n",
      "\t\t\t\t\t\t\t Bildung, Kultur & Sport (448)\n",
      "\t\t\t\t\t\t\t Energie (0)\n",
      "\t\t\t\t\t\t\t Umwelt (4311)\n",
      "\t\t\t\t\t\t\t Regierung & Öffentliche Verwaltung (948)\n",
      "\t\t\t\t\t\t\t Gesundheit (149)\n",
      "\t\t\t\t\t\t\t Internationale Themen (0)\n",
      "\t\t\t\t\t\t\t Justiz, Gesetze & Öffentliche Sicherheit (0)\n",
      "\t\t\t\t\t\t\t Regionen & Städte (832)\n",
      "\t\t\t\t\t\t\t Bevölkerung & Gesellschaft (871)\n",
      "\t\t\t\t\t\t\t Wissenschaft & Technologie (0)\n",
      "\t\t\t\t\t\t\t Transport & Verkehr (403)\n",
      "\t\t\t\t\t\t\t Kunst und Kultur (1)\n",
      "\t\t\t\t\t\t\t Umwelt (109)\n",
      "\t\t\t\t\t\t\t Veröffentlichende Stelle \n",
      "Offenerhaushalt.at (32669)\n",
      "\t\t\t\t\t\t\t Nationalparks Austria (3325)\n",
      "\t\t\t\t\t\t\t Stadt Linz (767)\n",
      "\t\t\t\t\t\t\t Umweltbundesamt GmbH (741)\n",
      "\t\t\t\t\t\t\t Stadt Wien (590)\n",
      "\t\t\t\t\t\t\t Gemeinde Engerwitzdorf (514)\n",
      "\t\t\t\t\t\t\t Statistik Austria (370)\n",
      "\t\t\t\t\t\t\t Land Oberösterreich (223)\n",
      "\t\t\t\t\t\t\t Stadt Graz (198)\n",
      "\t\t\t\t\t\t\t Land Salzburg (195)\n",
      "\t\t\t\t\t\t\t Alle anzeigen ...Veröffentlichende Stelle×AAGES (1)\n",
      "\t\t\t\t\t\t\tAGES GmbH (1)\n",
      "\t\t\t\t\t\t\tAMA (33)\n",
      "\t\t\t\t\t\t\tAMS Österreich (4)\n",
      "\t\t\t\t\t\t\tANKÖ Service Ges.m.b.H (1)\n",
      "\t\t\t\t\t\t\tASFINAG (1)\n",
      "\t\t\t\t\t\t\tAUSSCHREIBUNG.AT (1)\n",
      "\t\t\t\t\t\t\tAustriaTech (1)\n",
      "\t\t\t\t\t\t\tAustria Wirtschaftsservice Gesellschaft mbH (1)\n",
      "\t\t\t\t\t\t\tBBauamt Ref. IV (1)\n",
      "\t\t\t\t\t\t\tBetriebsleitung Fusch (1)\n",
      "\t\t\t\t\t\t\tBEV (44)\n",
      "\t\t\t\t\t\t\tBildungsdirektion Oberösterreich (1)\n",
      "\t\t\t\t\t\t\tBKA (25)\n",
      "\t\t\t\t\t\t\tBMA (10)\n",
      "\t\t\t\t\t\t\tBMBF (1)\n",
      "\t\t\t\t\t\t\tBMBWF (7)\n",
      "\t\t\t\t\t\t\tBMEIA (2)\n",
      "\t\t\t\t\t\t\tBMF (5)\n",
      "\t\t\t\t\t\t\tBMI (6)\n",
      "\t\t\t\t\t\t\tBMLRT (1)\n",
      "\t\t\t\t\t\t\tBMNT (9)\n",
      "\t\t\t\t\t\t\tBMSGPK (23)\n",
      "\t\t\t\t\t\t\tBMVIT (5)\n",
      "\t\t\t\t\t\t\tBundesbeschaffung Ges.m.b.H (1)\n",
      "\t\t\t\t\t\t\tBundesdenkmalamt (27)\n",
      "\t\t\t\t\t\t\tCCAMPUS 02-Fachhochschule der Wirtschaft GmbH (1)\n",
      "\t\t\t\t\t\t\tCooperation OGD Österreich (11)\n",
      "\t\t\t\t\t\t\tDDachverband der Sozialversicherungsträger (3)\n",
      "\t\t\t\t\t\t\tEE-Control (1)\n",
      "\t\t\t\t\t\t\tEinkaufsmanagement WU Wien (3)\n",
      "\t\t\t\t\t\t\tEnergie Burgenland AG (1)\n",
      "\t\t\t\t\t\t\teVergabe.at (1)\n",
      "\t\t\t\t\t\t\tEVN AG, Beschaffung und Einkauf (1)\n",
      "\t\t\t\t\t\t\tGGemeinde Altmünster (1)\n",
      "\t\t\t\t\t\t\tGemeinde Diex (1)\n",
      "\t\t\t\t\t\t\tGemeinde Edt bei Lambach (1)\n",
      "\t\t\t\t\t\t\tGemeinde Engerwitzdorf (514)\n",
      "\t\t\t\t\t\t\tGemeinde Eugendorf (2)\n",
      "\t\t\t\t\t\t\tGemeinde Gutenberg-Stenzengreith (1)\n",
      "\t\t\t\t\t\t\tGemeinde Gössendorf (2)\n",
      "\t\t\t\t\t\t\tGemeinde Hippach, Johann-Sponring-Straße 80, 6283 Hippach (1)\n",
      "\t\t\t\t\t\t\tGemeinde Kirchham (7)\n",
      "\t\t\t\t\t\t\tGemeinde Klaffer am Hochficht (1)\n",
      "\t\t\t\n"
     ]
    }
   ],
   "source": [
    "#print(soup.get_text()[0:10000])\n",
    "print(re.sub(r\"\\n{2,}\",\" \", soup.get_text()[0:5000]))"
   ]
  },
  {
   "cell_type": "markdown",
   "metadata": {},
   "source": [
    "### 2.1.3 -  Getting page information"
   ]
  },
  {
   "cell_type": "code",
   "execution_count": 16,
   "metadata": {},
   "outputs": [
    {
     "name": "stdout",
     "output_type": "stream",
     "text": [
      "<title>Suche | data.gv.at</title>\n",
      "title\n",
      "Suche | data.gv.at\n",
      "head\n",
      "<p class=\"hidden\">Seitenbereiche</p>\n"
     ]
    }
   ],
   "source": [
    "# title of the page\n",
    "print(soup.title)\n",
    "\n",
    "# get attributes:\n",
    "print(soup.title.name)\n",
    "\n",
    "# get values:\n",
    "print(soup.title.string)\n",
    "\n",
    "# beginning navigation:\n",
    "print(soup.title.parent.name)\n",
    "\n",
    "# getting specific values:\n",
    "print(soup.p)"
   ]
  },
  {
   "cell_type": "markdown",
   "metadata": {},
   "source": [
    "#### 2.1.3.1 - Finding paragraph tags `p` is a fairly common task.  \n",
    "In the case above, we're just finding the first one. What if we wanted to find them all?"
   ]
  },
  {
   "cell_type": "code",
   "execution_count": 17,
   "metadata": {},
   "outputs": [
    {
     "name": "stdout",
     "output_type": "stream",
     "text": [
      "[<p class=\"hidden\">Seitenbereiche</p>, <p><img alt=\"\" src=\"/stats/matomo.php?idsite=1\" style=\"border:0\"/></p>]\n"
     ]
    }
   ],
   "source": [
    "print(soup.find_all('p'))"
   ]
  },
  {
   "cell_type": "code",
   "execution_count": 18,
   "metadata": {},
   "outputs": [
    {
     "name": "stdout",
     "output_type": "stream",
     "text": [
      "Seitenbereiche\n",
      "None\n"
     ]
    }
   ],
   "source": [
    "for paragraph in soup.find_all('p'):\n",
    "    print(paragraph.string)"
   ]
  },
  {
   "cell_type": "code",
   "execution_count": 19,
   "metadata": {},
   "outputs": [
    {
     "name": "stdout",
     "output_type": "stream",
     "text": [
      "Seitenbereiche\n",
      "\n"
     ]
    }
   ],
   "source": [
    "for paragraph in soup.find_all('p'):\n",
    "    print(str(paragraph.text))"
   ]
  },
  {
   "cell_type": "markdown",
   "metadata": {},
   "source": [
    "The difference between string and text is that string produces a NavigableString object, and text is just typical unicode text. Notice that, if there are child tags in the paragraph item that we're attempting to use .string on, we will get None returned."
   ]
  },
  {
   "cell_type": "markdown",
   "metadata": {},
   "source": [
    "#### 2.1.3.2 - Extracting anchors and links"
   ]
  },
  {
   "cell_type": "code",
   "execution_count": 20,
   "metadata": {},
   "outputs": [
    {
     "data": {
      "text/plain": [
       "[<a accesskey=\"0\" class=\"skip\" href=\"#jump_inhalt\">Inhalt (<span lang=\"en\" xml:lang=\"en\">Accesskey</span> 0)</a>,\n",
       " <a accesskey=\"1\" class=\"skip\" href=\"#jump_menu\">Hauptmenü (<span lang=\"en\" xml:lang=\"en\">Accesskey</span> 1)</a>,\n",
       " <a accesskey=\"2\" class=\"skip\" href=\"#jump_suche\">Suche (<span lang=\"en\" xml:lang=\"en\">Accesskey</span> 2)</a>,\n",
       " <a href=\"/\"><img alt=\"Logo data.gv.at\" class=\"logo\" src=\"https://www.data.gv.at/wp-content/themes/datagvat-child/img/logo.svg\"/></a>,\n",
       " <a class=\"wpml-ls-link\" href=\"https://www.data.gv.at/suche/?typeFilter%5B0%5D=dataset\">\n",
       " <span class=\"wpml-ls-native\">de</span></a>,\n",
       " <a class=\"wpml-ls-link\" href=\"https://www.data.gv.at/en/search/?typeFilter%5B0%5D=dataset\">\n",
       " <span class=\"wpml-ls-display\">en</span></a>,\n",
       " <a href=\"#\" id=\"ckan_de\"><span class=\"lang-select\">de</span></a>,\n",
       " <a href=\"#\" id=\"ckan_en\"><span class=\"lang-select\">en</span></a>,\n",
       " <a href=\"https://mastodon.social/@datagvat\" rel=\"me\" target=\"_blank\" title=\"data.gv.at auf Mastodon\">\n",
       " <img alt=\"Mastodon Logo\" src=\"https://www.data.gv.at/wp-content/themes/datagvat-child/img/mastodon-logo.png\"/>\n",
       " </a>,\n",
       " <a href=\"https://twitter.com/datagvat\" target=\"_blank\" title=\"data.gv.at auf Twitter\">\n",
       " <img alt=\"Twitter Logo\" src=\"https://www.data.gv.at/wp-content/themes/datagvat-child/img/twitter-square-brands.svg\"/>\n",
       " </a>,\n",
       " <a href=\"https://www.facebook.com/groups/opendataaustria\" target=\"_blank\" title=\"data.gv.at auf Facebook\">\n",
       " <img alt=\"Facebook Logo\" src=\"https://www.data.gv.at/wp-content/themes/datagvat-child/img/facebook-square-brands.svg\"/>\n",
       " </a>,\n",
       " <a href=\"https://www.instagram.com/data.gv.at/\" target=\"_blank\" title=\"data.gv.at auf Instagram\">\n",
       " <img alt=\"Instagram Logo\" src=\"https://www.data.gv.at/wp-content/themes/datagvat-child/img/instagram-square-brands.svg\"/>\n",
       " </a>,\n",
       " <a href=\"/infos/rss-feeds/\" title=\"data.gv.at RSS-Feed\">\n",
       " <img alt=\"RSS Logo\" src=\"https://www.data.gv.at/wp-content/themes/datagvat-child/img/rss-square-solid.svg\"/>\n",
       " </a>,\n",
       " <a href=\"/2022/09/29/10-jahre-data-gv-at-van-der-bellen/\">Grußbotschaft des Bundespräsidenten zum 10-jährigen data.gv.at Jubiläum</a>,\n",
       " <a class=\"skip\" id=\"jump_menu\" name=\"jump_menu\"><span class=\"hidden\">Hauptmenü</span></a>,\n",
       " <a href=\"#\"><label for=\"hamburger\"><i class=\"fa fa-bars\"></i></label></a>,\n",
       " <a href=\"https://www.data.gv.at/daten/\"><label for=\"data\">Daten</label></a>,\n",
       " <a href=\"https://www.data.gv.at/daten/\">Datensatz finden</a>,\n",
       " <a href=\"/katalog/dataset/metadaten-von-ogd-osterreich\">Gesamtbestand aller Datensätze</a>,\n",
       " <a href=\"#\"><hr/></a>]"
      ]
     },
     "execution_count": 20,
     "metadata": {},
     "output_type": "execute_result"
    }
   ],
   "source": [
    "soup.find_all('a')[0:20]"
   ]
  },
  {
   "cell_type": "markdown",
   "metadata": {},
   "source": [
    "#### 2.1.3.3 - Extracting only the *href* of anchors and links"
   ]
  },
  {
   "cell_type": "code",
   "execution_count": 21,
   "metadata": {},
   "outputs": [
    {
     "name": "stdout",
     "output_type": "stream",
     "text": [
      "#jump_inhalt\n",
      "#jump_menu\n",
      "#jump_suche\n",
      "/\n",
      "https://www.data.gv.at/suche/?typeFilter%5B0%5D=dataset\n",
      "https://www.data.gv.at/en/search/?typeFilter%5B0%5D=dataset\n",
      "#\n",
      "#\n",
      "https://mastodon.social/@datagvat\n",
      "https://twitter.com/datagvat\n",
      "https://www.facebook.com/groups/opendataaustria\n",
      "https://www.instagram.com/data.gv.at/\n",
      "/infos/rss-feeds/\n",
      "/2022/09/29/10-jahre-data-gv-at-van-der-bellen/\n",
      "None\n",
      "#\n",
      "https://www.data.gv.at/daten/\n",
      "https://www.data.gv.at/daten/\n",
      "/katalog/dataset/metadaten-von-ogd-osterreich\n",
      "#\n",
      "https://www.data.gv.at/daten/covid-19/\n",
      "https://www.data.gv.at/daten/ausschreibungen-laut-bvergg2018/\n",
      "https://www.data.gv.at/daten/inspire/\n",
      "#\n",
      "https://www.data.gv.at/daten/ckan-apps/\n",
      "https://www.data.gv.at/daten/veroeffentlichende-stellen/\n",
      "https://www.data.gv.at/2021/06/09/neue-interaktive-visualisierung-verfuegbar-die-daten-von-data-gv-at/\n",
      "#\n",
      "https://www.data.gv.at/daten/anleitung-zur-datenveroeffentlichung/\n",
      "https://www.data.gv.at/daten/daten-hinzufuegen/\n"
     ]
    }
   ],
   "source": [
    "for link in soup.find_all('a')[0:30]:\n",
    "    print(link.get('href'))\n",
    "    #print(link.text)"
   ]
  },
  {
   "cell_type": "markdown",
   "metadata": {},
   "source": [
    "#### Now, rather than working with the entire soup, we can specify a new Beautiful Soup object. An example might be:"
   ]
  },
  {
   "cell_type": "code",
   "execution_count": 22,
   "metadata": {},
   "outputs": [],
   "source": [
    "nav = soup.nav"
   ]
  },
  {
   "cell_type": "markdown",
   "metadata": {},
   "source": [
    "#### Next, we can grab the links from just the nav bar:"
   ]
  },
  {
   "cell_type": "code",
   "execution_count": 23,
   "metadata": {},
   "outputs": [
    {
     "name": "stdout",
     "output_type": "stream",
     "text": [
      "#\n",
      "https://www.data.gv.at/daten/\n",
      "https://www.data.gv.at/daten/\n",
      "/katalog/dataset/metadaten-von-ogd-osterreich\n",
      "#\n",
      "https://www.data.gv.at/daten/covid-19/\n",
      "https://www.data.gv.at/daten/ausschreibungen-laut-bvergg2018/\n",
      "https://www.data.gv.at/daten/inspire/\n",
      "#\n",
      "https://www.data.gv.at/daten/ckan-apps/\n",
      "https://www.data.gv.at/daten/veroeffentlichende-stellen/\n",
      "https://www.data.gv.at/2021/06/09/neue-interaktive-visualisierung-verfuegbar-die-daten-von-data-gv-at/\n",
      "#\n",
      "https://www.data.gv.at/daten/anleitung-zur-datenveroeffentlichung/\n",
      "https://www.data.gv.at/daten/daten-hinzufuegen/\n",
      "https://www.data.gv.at/applikationen/\n",
      "https://www.data.gv.at/applikationen/\n",
      "https://www.data.gv.at/applikationen/anwendung-einreichen/\n",
      "https://www.data.gv.at/infos/\n",
      "https://www.data.gv.at/infos/zielsetzung-data-gv-at/\n",
      "https://www.data.gv.at/infos/open-data-prinzipien/\n",
      "https://www.data.gv.at/infos/entwicklung-von-open-data/\n",
      "https://www.data.gv.at/infos/e-learning-module-zu-open-data/\n",
      "https://www.data.gv.at/infos/videos/\n",
      "#\n",
      "https://www.data.gv.at/infos/cooperation-ogd-oesterreich/\n",
      "https://www.data.gv.at/infos/ogd-d-a-ch-li/\n",
      "#\n",
      "https://www.data.gv.at/infos/bvergg2018/\n",
      "https://www.data.gv.at/infos/analyse/\n"
     ]
    }
   ],
   "source": [
    "for url in nav.find_all('a')[0:30]:\n",
    "    print(url.get('href'))"
   ]
  },
  {
   "cell_type": "markdown",
   "metadata": {},
   "source": [
    "In this case, we're grabbing the first nav tags that we can find (the navigation bar). You could also go for soup.body to get the body section, then grab the .text from there:"
   ]
  },
  {
   "cell_type": "code",
   "execution_count": 24,
   "metadata": {},
   "outputs": [
    {
     "name": "stdout",
     "output_type": "stream",
     "text": [
      "Seitenbereiche\n",
      "\n"
     ]
    }
   ],
   "source": [
    "body = soup.body\n",
    "for paragraph in body.find_all('p'):\n",
    "    print(paragraph.text)"
   ]
  },
  {
   "cell_type": "markdown",
   "metadata": {},
   "source": [
    "Finally, sometimes there might be multiple tags with the same names, but different classes, and you might want to grab information from a specific tag with a specific class. For example, our page that we're working with has a div tag with the class of \"body\". We can work with this data like so:"
   ]
  },
  {
   "cell_type": "code",
   "execution_count": 26,
   "metadata": {},
   "outputs": [
    {
     "name": "stdout",
     "output_type": "stream",
     "text": [
      "<div class=\"header--social\">\n",
      "<a href=\"https://mastodon.social/@datagvat\" rel=\"me\" target=\"_blank\" title=\"data.gv.at auf Mastodon\">\n",
      "<img alt=\"Mastodon Logo\" src=\"https://www.data.gv.at/wp-content/themes/datagvat-child/img/mastodon-logo.png\"/>\n",
      "</a>\n",
      "<a href=\"https://twitter.com/datagvat\" target=\"_blank\" title=\"data.gv.at auf Twitter\">\n",
      "<img alt=\"Twitter Logo\" src=\"https://www.data.gv.at/wp-content/themes/datagvat-child/img/twitter-square-brands.svg\"/>\n",
      "</a>\n",
      "<a href=\"https://www.facebook.com/groups/opendataaustria\" target=\"_blank\" title=\"data.gv.at auf Facebook\">\n",
      "<img alt=\"Facebook Logo\" src=\"https://www.data.gv.at/wp-content/themes/datagvat-child/img/facebook-square-brands.svg\"/>\n",
      "</a>\n",
      "<a href=\"https://www.instagram.com/data.gv.at/\" target=\"_blank\" title=\"data.gv.at auf Instagram\">\n",
      "<img alt=\"Instagram Logo\" src=\"https://www.data.gv.at/wp-content/themes/datagvat-child/img/instagram-square-brands.svg\"/>\n",
      "</a>\n",
      "<a href=\"/infos/rss-feeds/\" title=\"data.gv.at RSS-Feed\">\n",
      "<img alt=\"RSS Logo\" src=\"https://www.data.gv.at/wp-content/themes/datagvat-child/img/rss-square-solid.svg\"/>\n",
      "</a>\n",
      "</div>\n"
     ]
    }
   ],
   "source": [
    "for div in soup.find_all('div', class_='header--social'):\n",
    "    print(div)"
   ]
  },
  {
   "cell_type": "code",
   "execution_count": 27,
   "metadata": {},
   "outputs": [
    {
     "name": "stdout",
     "output_type": "stream",
     "text": [
      "<div class=\"header--menu\">\n",
      "<div class=\"header--news\">\n",
      "<a href=\"/2022/09/29/10-jahre-data-gv-at-van-der-bellen/\">Grußbotschaft des Bundespräsidenten zum 10-jährigen data.gv.at Jubiläum</a>\n",
      "</div>\n",
      "<a class=\"skip\" id=\"jump_menu\" name=\"jump_menu\"><span class=\"hidden\">Hauptmenü</span></a>\n",
      "<input class=\"navbar-toggle\" id=\"navbar-toggle\" type=\"checkbox\"/>\n",
      "<label class=\"navbar-toggle-label\" for=\"navbar-toggle\"><span></span></label>\n",
      "<nav class=\"container\">\n",
      "<input id=\"hamburger\" type=\"checkbox\"/>\n",
      "<ul class=\"\" id=\"menu-hauptmenu\"><li class=\"menu-item menu-item-type-custom menu-item-object-custom menu-item-8663\" id=\"menu-item-8663\"><a href=\"#\"><label for=\"hamburger\"><i class=\"fa fa-bars\"></i></label></a></li>\n",
      "<li class=\"menu-item menu-item-type-post_type menu-item-object-page menu-item-has-children menu-item-8666\" id=\"menu-item-8666\"><a href=\"https://www.data.gv.at/daten/\"><label for=\"data\">Daten</label></a>\n",
      "<ul class=\"sub-menu\">\n",
      "<li class=\"menu-item menu-item-type-post_type menu-item-object-page menu-item-8671\" id=\"menu-item-8671\"><a href=\"https://www.data.gv.at/daten/\">Datensatz finden</a></li>\n",
      "<li class=\"menu-item menu-item-type-custom menu-item-object-custom menu-item-8672\" id=\"menu-item-8672\"><a href=\"/katalog/dataset/metadaten-von-ogd-osterreich\">Gesamtbestand aller Datensätze</a></li>\n",
      "<li class=\"menu-item menu-item-type-custom menu-item-object-custom menu-item-8670\" id=\"menu-item-8670\"><a href=\"#\"><hr/></a></li>\n",
      "<li class=\"menu-item menu-item-type-post_type menu-item-object-page menu-item-8668\" id=\"menu-item-8668\"><a href=\"https://www.data.gv.at/daten/covid-19/\">COVID-19 Informationsportal</a></li>\n",
      "<li class=\"menu-item menu-item-type-post_type menu-item-object-page menu-item-8673\" id=\"menu-item-8673\"><a href=\"https://www.data.gv.at/daten/ausschreibungen-laut-bvergg2018/\">Ausschreibungen laut BVergG2018</a></li>\n",
      "<li class=\"menu-item menu-item-type-post_type menu-item-object-page menu-item-8675\" id=\"menu-item-8675\"><a href=\"https://www.data.gv.at/daten/inspire/\">Geodaten – INSPIRE</a></li>\n",
      "<li class=\"menu-item menu-item-type-custom menu-item-object-custom menu-item-8677\" id=\"menu-item-8677\"><a href=\"#\"><hr/></a></li>\n",
      "<li class=\"menu-item menu-item-type-post_type menu-item-object-page menu-item-8681\" id=\"menu-item-8681\"><a href=\"https://www.data.gv.at/daten/ckan-apps/\">Datensätze mit Anwendungen</a></li>\n",
      "<li class=\"menu-item menu-item-type-post_type menu-item-object-page menu-item-8682\" id=\"menu-item-8682\"><a href=\"https://www.data.gv.at/daten/veroeffentlichende-stellen/\">Veröffentlichende Stellen</a></li>\n",
      "<li class=\"menu-item menu-item-type-post_type menu-item-object-post menu-item-8683\" id=\"menu-item-8683\"><a href=\"https://www.data.gv.at/2021/06/09/neue-interaktive-visualisierung-verfuegbar-die-daten-von-data-gv-at/\">Visualisierung der Daten</a></li>\n",
      "<li class=\"menu-item menu-item-type-custom menu-item-object-custom menu-item-8684\" id=\"menu-item-8684\"><a href=\"#\"><hr/></a></li>\n",
      "<li class=\"menu-item menu-item-type-post_type menu-item-object-page menu-item-8685\" id=\"menu-item-8685\"><a href=\"https://www.data.gv.at/daten/anleitung-zur-datenveroeffentlichung/\">Anleitung zur Datenveröffentlichung</a></li>\n",
      "<li class=\"menu-item menu-item-type-post_type menu-item-object-page menu-item-8687\" id=\"menu-item-8687\"><a href=\"https://www.data.gv.at/daten/daten-hinzufuegen/\">Daten/Dokumente hinzufügen</a></li>\n",
      "</ul>\n",
      "</li>\n",
      "<li class=\"menu-item menu-item-type-post_type menu-item-object-page menu-item-has-children menu-item-8694\" id=\"menu-item-8694\"><a href=\"https://www.data.gv.at/applikationen/\"><label for=\"apps\">Anwendungen</label></a>\n",
      "<ul class=\"sub-menu\">\n",
      "<li class=\"menu-item menu-item-type-post_type menu-item-object-page menu-item-8696\" id=\"menu-item-8696\"><a href=\"https://www.data.gv.at/applikationen/\">Anwendung finden</a></li>\n",
      "<li class=\"menu-item menu-item-type-post_type menu-item-object-page menu-item-8697\" id=\"menu-item-8697\"><a href=\"https://www.data.gv.at/applikationen/anwendung-einreichen/\">Anwendung einreichen</a></li>\n",
      "</ul>\n",
      "</li>\n",
      "<li class=\"menu-item menu-item-type-post_type menu-item-object-page menu-item-has-children menu-item-8705\" id=\"menu-item-8705\"><a href=\"https://www.data.gv.at/infos/\"><label for=\"infos\">Infos</label></a>\n",
      "<ul class=\"sub-menu\">\n",
      "<li class=\"menu-item menu-item-type-post_type menu-item-object-page menu-item-8707\" id=\"menu-item-8707\"><a href=\"https://www.data.gv.at/infos/zielsetzung-data-gv-at/\">Zielsetzung data.gv.at</a></li>\n",
      "<li class=\"menu-item menu-item-type-post_type menu-item-object-page menu-item-8686\" id=\"menu-item-8686\"><a href=\"https://www.data.gv.at/infos/open-data-prinzipien/\">Open Data Prinzipien</a></li>\n",
      "<li class=\"menu-item menu-item-type-post_type menu-item-object-page menu-item-8710\" id=\"menu-item-8710\"><a href=\"https://www.data.gv.at/infos/entwicklung-von-open-data/\">Entwicklung von Open Data</a></li>\n",
      "<li class=\"menu-item menu-item-type-post_type menu-item-object-page menu-item-8701\" id=\"menu-item-8701\"><a href=\"https://www.data.gv.at/infos/e-learning-module-zu-open-data/\">E-Learning-Module zu Open Data</a></li>\n",
      "<li class=\"menu-item menu-item-type-post_type menu-item-object-page menu-item-8706\" id=\"menu-item-8706\"><a href=\"https://www.data.gv.at/infos/videos/\">Open Data Videos</a></li>\n",
      "<li class=\"menu-item menu-item-type-custom menu-item-object-custom menu-item-8714\" id=\"menu-item-8714\"><a href=\"#\"><hr/></a></li>\n",
      "<li class=\"menu-item menu-item-type-post_type menu-item-object-page menu-item-8708\" id=\"menu-item-8708\"><a href=\"https://www.data.gv.at/infos/cooperation-ogd-oesterreich/\">Cooperation OGD Österreich</a></li>\n",
      "<li class=\"menu-item menu-item-type-post_type menu-item-object-page menu-item-8709\" id=\"menu-item-8709\"><a href=\"https://www.data.gv.at/infos/ogd-d-a-ch-li/\">Kooperation OGD D-A-CH-LI</a></li>\n",
      "<li class=\"menu-item menu-item-type-custom menu-item-object-custom menu-item-8715\" id=\"menu-item-8715\"><a href=\"#\"><hr/></a></li>\n",
      "<li class=\"menu-item menu-item-type-post_type menu-item-object-page menu-item-8711\" id=\"menu-item-8711\"><a href=\"https://www.data.gv.at/infos/bvergg2018/\">Informationen zum BVergG 2018</a></li>\n",
      "<li class=\"menu-item menu-item-type-post_type menu-item-object-page menu-item-8703\" id=\"menu-item-8703\"><a href=\"https://www.data.gv.at/infos/analyse/\">Leitfaden Open Data Analyse</a></li>\n",
      "<li class=\"menu-item menu-item-type-post_type menu-item-object-page menu-item-8704\" id=\"menu-item-8704\"><a href=\"https://www.data.gv.at/infos/governance/\">Leitfaden Open Data Governance</a></li>\n",
      "<li class=\"menu-item menu-item-type-post_type menu-item-object-page menu-item-8713\" id=\"menu-item-8713\"><a href=\"https://www.data.gv.at/infos/netiquette/\">Netiquette</a></li>\n",
      "<li class=\"menu-item menu-item-type-post_type menu-item-object-page menu-item-8702\" id=\"menu-item-8702\"><a href=\"https://www.data.gv.at/infos/erklaerung-zur-barrierefreiheit/\">Erklärung zur Barrierefreiheit</a></li>\n",
      "<li class=\"menu-item menu-item-type-post_type menu-item-object-page menu-item-8700\" id=\"menu-item-8700\"><a href=\"https://www.data.gv.at/infos/datenschutzerklaerung/\">Datenschutzerklärung</a></li>\n",
      "<li class=\"menu-item menu-item-type-post_type menu-item-object-page menu-item-8712\" id=\"menu-item-8712\"><a href=\"https://www.data.gv.at/infos/impressum/\">Impressum</a></li>\n",
      "</ul>\n",
      "</li>\n",
      "<li class=\"menu-item menu-item-type-post_type menu-item-object-page menu-item-has-children menu-item-8664\" id=\"menu-item-8664\"><a href=\"https://www.data.gv.at/news/\"><label for=\"news\">News</label></a>\n",
      "<ul class=\"sub-menu\">\n",
      "<li class=\"menu-item menu-item-type-post_type menu-item-object-page menu-item-8818\" id=\"menu-item-8818\"><a href=\"https://www.data.gv.at/news/\">News</a></li>\n",
      "<li class=\"menu-item menu-item-type-post_type menu-item-object-page menu-item-8819\" id=\"menu-item-8819\"><a href=\"https://www.data.gv.at/news/newsletter/\">Newsletter abonnieren</a></li>\n",
      "</ul>\n",
      "</li>\n",
      "</ul> </nav>\n",
      "</div>\n"
     ]
    }
   ],
   "source": [
    "for div in soup.find_all('div', class_='header--menu'):\n",
    "    print(div)"
   ]
  },
  {
   "cell_type": "markdown",
   "metadata": {},
   "source": [
    "#### 2.1.3.4 - Extracting only *http* and *https* from *href* links"
   ]
  },
  {
   "cell_type": "code",
   "execution_count": 28,
   "metadata": {},
   "outputs": [
    {
     "name": "stdout",
     "output_type": "stream",
     "text": [
      "https://www.data.gv.at/suche/?typeFilter%5B0%5D=dataset\n",
      "https://www.data.gv.at/en/search/?typeFilter%5B0%5D=dataset\n",
      "https://mastodon.social/@datagvat\n",
      "https://twitter.com/datagvat\n",
      "https://www.facebook.com/groups/opendataaustria\n",
      "https://www.instagram.com/data.gv.at/\n",
      "https://www.data.gv.at/daten/\n",
      "https://www.data.gv.at/daten/\n",
      "https://www.data.gv.at/daten/covid-19/\n",
      "https://www.data.gv.at/daten/ausschreibungen-laut-bvergg2018/\n",
      "https://www.data.gv.at/daten/inspire/\n",
      "https://www.data.gv.at/daten/ckan-apps/\n",
      "https://www.data.gv.at/daten/veroeffentlichende-stellen/\n",
      "https://www.data.gv.at/2021/06/09/neue-interaktive-visualisierung-verfuegbar-die-daten-von-data-gv-at/\n",
      "https://www.data.gv.at/daten/anleitung-zur-datenveroeffentlichung/\n",
      "https://www.data.gv.at/daten/daten-hinzufuegen/\n",
      "https://www.data.gv.at/applikationen/\n",
      "https://www.data.gv.at/applikationen/\n",
      "https://www.data.gv.at/applikationen/anwendung-einreichen/\n",
      "https://www.data.gv.at/infos/\n",
      "https://www.data.gv.at/infos/zielsetzung-data-gv-at/\n",
      "https://www.data.gv.at/infos/open-data-prinzipien/\n",
      "https://www.data.gv.at/infos/entwicklung-von-open-data/\n",
      "https://www.data.gv.at/infos/e-learning-module-zu-open-data/\n",
      "https://www.data.gv.at/infos/videos/\n",
      "https://www.data.gv.at/infos/cooperation-ogd-oesterreich/\n",
      "https://www.data.gv.at/infos/ogd-d-a-ch-li/\n",
      "https://www.data.gv.at/infos/bvergg2018/\n",
      "https://www.data.gv.at/infos/analyse/\n",
      "https://www.data.gv.at/infos/governance/\n"
     ]
    }
   ],
   "source": [
    "for link in soup.findAll('a', attrs={'href': re.compile(\"^http[s]?://\")})[0:30]:\n",
    "    print(link.get('href'))"
   ]
  },
  {
   "cell_type": "markdown",
   "metadata": {
    "tags": []
   },
   "source": [
    "### 2.1.4 - Creating a small generic function to extract links:"
   ]
  },
  {
   "cell_type": "code",
   "execution_count": 29,
   "metadata": {},
   "outputs": [],
   "source": [
    "def getLinks(url):\n",
    "    raw_page = requests.get(url)\n",
    "    html_page = raw_page.text\n",
    "    #html_page = urllib.request.urlopen(url)\n",
    "    soup = bs(html_page)\n",
    "    links = []\n",
    "    for link in soup.findAll('a', attrs={'href': re.compile(\"^http[s]?://\")}):\n",
    "        links.append(link.get('href'))\n",
    "    return links"
   ]
  },
  {
   "cell_type": "code",
   "execution_count": 30,
   "metadata": {},
   "outputs": [
    {
     "name": "stdout",
     "output_type": "stream",
     "text": [
      "['https://www.krone.at/', 'https://apps.apple.com/us/app/krone/id633492143?itsct=apps_box_badge&itscg=30200', 'https://play.google.com/store/apps/details?id=at.krone&pcampaignid=pcampaignidMKT-Other-global-all-co-prtnr-py-PartBadge-Mar2515-1', 'https://vorteilswelt.krone.at/', 'https://service.krone.at/?23028&utm_source=krone.at&utm_medium=www&utm_campaign=StartseitenVerlinkung&utm_content=service', 'https://www.krone.at/epaper_weiche', 'https://www.krone.at/community', 'https://www.krone.at/gewinnspiele', 'https://www.krone.at', 'https://www.krone.at/kroneplus', 'https://www.krone.at/oesterreich', 'https://www.krone.at/bundeslaender', 'https://www.krone.at/politik', 'https://www.krone.at/ausland', 'https://www.krone.at/sport', 'https://www.krone.at/wm', 'https://www.krone.at/adabei', 'https://www.krone.at/digital', 'https://www.krone.at/weihnachts-extra', 'https://www.krone.at/motor', 'https://www.krone.at/wirtschaft', 'https://www.krone.at/wissenschaft', 'https://www.krone.at/gericht', 'https://www.krone.at/kolumnen', 'https://www.krone.at/freizeit', 'https://www.krone.at/tierecke', 'https://www.krone.at/gesund', 'https://www.krone.at/kultur', 'https://www.krone.at/kulinarik', 'https://www.krone.at/videos', 'https://www.krone.at/wm', 'https://www.krone.at/ticker/soccer/0/spielplan', 'https://www.krone.at/ticker/soccer/0/tabelle', 'https://www.krone.at/2854385', 'https://www.krone.at/2877502', 'https://www.krone.at/2877580', 'https://fan.at/wm-tippspiel?utm_source=krone&utm_campaign=wm-2022&utm_medium=bettinggame-teaser&utm_content=startpage', 'https://www.krone.at/2877626', 'https://www.krone.at/2877516', 'https://www.krone.at/2877263', 'https://www.krone.at/2877657', 'https://www.krone.at/2877626', 'https://www.krone.at/2877646', 'https://www.krone.at/2877654', 'https://www.krone.at/2877643', 'https://www.krone.at/2877627', 'https://www.krone.at/2877605', 'https://www.krone.at/2877636', 'https://www.krone.at/2877306', 'https://www.krone.at/2877383', 'https://www.krone.at/2877304', 'https://www.krone.at/2877525', 'https://www.krone.at/2877628', 'https://www.krone.at/2877624', 'https://www.krone.at/2877611', 'https://www.krone.at/2877610', 'https://www.krone.at/2877618', 'https://www.krone.at/2877601', 'https://www.krone.at/2877584', 'https://www.krone.at/2877588', 'https://www.krone.at/2877654', 'https://www.krone.at/2877539', 'https://www.krone.at/2877605', 'https://www.krone.at/weihnachts-extra', 'https://www.krone.at/2877318', 'https://www.krone.at/2877601', 'https://www.krone.at/2877531', 'https://www.krone.at/2877212', 'https://www.krone.at/2877566', 'https://www.krone.at/2877584', 'https://www.krone.at/oesterreich', 'https://www.krone.at/politik', 'https://www.krone.at/wirtschaft', 'https://www.krone.at/gericht', 'https://www.krone.at/wetter/oesterreich', 'https://www.krone.at/2877306', 'https://www.krone.at/2877611', 'https://www.krone.at/2877360', 'https://www.krone.at/2852734', 'https://www.krone.at/bundeslaender', 'https://www.krone.at/2877306', 'https://www.krone.at/2877383', 'https://www.krone.at/2877362', 'https://www.krone.at/2877525', 'https://www.krone.at/2877251', 'https://www.krone.at/2877556', 'https://www.krone.at/2877554', 'https://www.krone.at/2877205', 'https://www.krone.at/2877212', 'https://www.krone.at/2877389', 'https://www.krone.at/2877314', 'https://www.krone.at/2877321', 'https://www.krone.at/2877362', 'https://www.krone.at/2876519', 'https://www.krone.at/2877578', 'https://www.krone.at/2877516', 'https://www.krone.at/2877405', 'https://www.krone.at/2877463', 'https://www.krone.at/2877343', 'https://www.krone.at/2876602', 'https://www.krone.at/2877383', 'https://www.krone.at/2877461', 'https://www.krone.at/2877532', 'https://www.krone.at/2877551', 'https://www.krone.at/2877310', 'https://www.krone.at/2877360', 'https://www.krone.at/2877539', 'https://www.krone.at/2877455', 'https://www.krone.at/2877417', 'https://www.krone.at/2877576', 'https://www.krone.at/2877281', 'https://www.krone.at/2877537', 'https://www.krone.at/2877306', 'https://www.krone.at/2877611', 'https://www.krone.at/2877574', 'https://www.krone.at/2877174', 'https://www.krone.at/2877525', 'https://www.krone.at/2877485', 'https://www.krone.at/2877454', 'https://www.krone.at/2877089', 'https://www.krone.at/wien', 'https://www.krone.at/niederoesterreich', 'https://www.krone.at/oberoesterreich', 'https://www.krone.at/burgenland', 'https://www.krone.at/salzburg', 'https://www.krone.at/steiermark', 'https://www.krone.at/kaernten', 'https://www.krone.at/tirol', 'https://www.krone.at/vorarlberg', 'https://www.krone.at/politik', 'https://www.krone.at/2877383', 'https://www.krone.at/2877389', 'https://www.krone.at/ausland', 'https://www.krone.at/video-nachrichten', 'https://www.krone.at/wetter/welt', 'https://www.krone.at/2877582', 'https://www.krone.at/2877573', 'https://www.krone.at/2877359', 'https://www.krone.at/2877413', 'https://www.krone.at/sport', 'https://www.krone.at/fussball', 'https://www.krone.at/motorsport', 'https://www.krone.at/wintersport', 'https://www.krone.at/eishockey', 'https://www.krone.at/sport-mix', 'https://www.krone.at/2877657', 'https://www.krone.at/2877304', 'https://www.krone.at/2877525', 'https://www.krone.at/2877624', 'https://www.krone.at/adabei', 'https://www.krone.at/star-style', 'https://www.krone.at/hollywood', 'https://www.krone.at/royals', 'https://www.krone.at/video-adabei-tv', 'https://www.krone.at/2877645', 'https://www.krone.at/2877627', 'https://www.krone.at/2877610', 'https://www.krone.at/2875806', 'https://www.krone.at/digital', 'https://www.krone.at/web', 'https://www.krone.at/elektronik', 'https://www.krone.at/spiele', 'https://www.krone.at/2877646', 'https://www.krone.at/2877643', 'https://www.krone.at/2877636', 'https://www.krone.at/2876173', 'https://www.krone.at/shopping-tipps', 'https://www.krone.at/haushalt-garten', 'https://www.krone.at/sport-freizeit', 'https://www.krone.at/essen-trinken', 'https://www.krone.at/2874663', 'https://www.krone.at/2853911', 'https://www.krone.at/motor', 'https://www.krone.at/video-motor', 'http://anzeigen.krone.at/anzeigen/Auto_Motor/Autos/~__~/district/~~~/---~S7QytqrOtDI0NLJOtDIEMQ2ADCOr6mKghFJuZp6SdTGQq2RoAWKAhBIrkIRqa0F6DfHoNbBSQtUJFgDps7REaCsGMpQMQOIA/?', 'https://www.krone.at/2876947', 'https://www.krone.at/2876928', 'https://www.krone.at/wissenschaft', 'https://www.krone.at/2877177', 'https://www.krone.at/2876879', 'https://www.krone.at/gesund-fit', 'https://www.krone.at/2875563', 'https://www.krone.at/2876888', 'https://www.krone.at/musik', 'https://ticket.krone.at/de/home', 'https://www.krone.at/kolumnen', 'https://www.krone.at/2877556', 'https://www.krone.at/2876579', 'https://www.krone.at/medien', 'https://tv.krone.at', 'https://www.krone.at/leben', 'https://www.krone.at/2876845', 'https://www.krone.at/2870268', 'https://www.krone.at/reisen-urlaub', 'https://www.krone.at/zukunft', 'https://www.krone.at/2874406', 'https://www.krone.at/2876348', 'https://www.krone.at/community', 'https://www.krone.at/gewinnspiele', 'https://www.krone.at/2869270', 'https://www.krone.at/2876065', 'https://www.krone.at/star-style', 'https://www.krone.at/kulinarik', 'https://www.krone.at/2876528', 'https://www.krone.at/2877251', 'https://www.krone.at/ombudsfrau', 'https://www.krone.at/tierecke', 'https://www.krone.at/video-tierecke', 'https://www.krone.at/2875233', 'https://www.krone.at/2868104', 'https://www.krone.at/bauen-wohnen', 'https://www.dibeo.at/?utm_source=krone.at&utm_medium=referral&utm_campaign=krone-header', 'https://www.krone.at/viral', 'https://www.krone.at/video-viral', 'https://www.krone.at/2874839', 'https://www.krone.at/2876885', 'http://bit.ly/3AFfWzS', 'https://www.krone.at/2876409', 'https://www.krone.at/2876409', 'https://www.krone.at/2875959', 'https://www.krone.at/2874733', 'https://www.krone.at/2876025', 'https://www.krone.at/2877318', 'https://www.krone.at/2876581', 'https://www.krone.at/2876158', 'https://ticket.krone.at/de/advent?utm_source=XmasSpecial&utm_medium=randspalte&utm_campaign=Adventaktion2020', 'https://www.krone.at/videos', 'https://www.krone.at/2877101', 'https://www.krone.at/2877628', 'https://pubads.g.doubleclick.net/gampad/clk?id=5849865560&iu=/6771346/clicktracking.krone.at/clicktracking.krone.at_navi-header', 'https://jackpot.onelink.me/1833068633/d1d6df19', 'https://www.krone.at/games-bubble-shooter', 'https://www.krone.at/games-kartenspiele', 'https://www.krone.at/kreuzwortraetsel', 'https://www.krone.at/sudoku', 'https://www.krone.at/das-freie-wort', 'https://www.krone.at/vergleich/', 'https://www.krone.at/vergleich/dampfgarer-test/', 'https://www.krone.at/vergleich/einbaukuehlschrank-test/', 'https://www.krone.at/vergleich/staubsauger-test/', 'https://www.krone.at/vergleich/friteuse-test/', 'https://www.krone.at/vergleich/gefrierschrank-test/', 'https://www.krone.at/vergleich/geschirrspueler-test/', 'https://www.krone.at/vergleich/induktionsherd-test/', 'https://www.krone.at/vergleich/kaffeemaschine-test/', 'https://www.krone.at/vergleich/akku-staubsauger-test/', 'https://www.krone.at/vergleich/kuechenmaschine-test/', 'https://www.krone.at/vergleich/', 'https://www.krone.at/gutschein/', 'https://www.krone.at/gutschein/otto?utm_source=krone&utm_medium=textlink&utm_campaign=widget', 'https://www.krone.at/gutschein/eis?utm_source=krone&utm_medium=textlink&utm_campaign=widget', 'https://www.krone.at/gutschein/deichmann?utm_source=krone&utm_medium=textlink&utm_campaign=widget', 'https://www.krone.at/gutschein/moemax?utm_source=krone&utm_medium=textlink&utm_campaign=widget', 'https://www.krone.at/gutschein/gutscheinkalender?utm_source=krone&utm_medium=textlink&utm_campaign=widget', 'https://www.krone.at/newsletter', 'https://www.krone.at/newsletter', 'https://www.krone.at/video-tv-programm', 'https://www.krone.at/videos', 'https://vorteilswelt.krone.at/', 'https://service.krone.at/?23028&utm_source=krone.at&utm_medium=www&utm_campaign=StartseitenVerlinkung&utm_content=service', 'https://vorteilswelt.krone.at/?23028&utm_source=krone.at&utm_medium=www&utm_campaign=StartseitenVerlinkung&utm_content=kundenbindung', 'https://www.krone.at/epaper_weiche', 'https://www.krone.at/gewinnspiele', 'https://www.krone.at/community', 'https://www.krone.at/580415', 'https://www.krone.at/392364', 'https://www.krone.at/sales', 'https://www.krone.at/434475', 'https://www.krone.at/1704878', 'https://www.krone.at/37371', 'https://www.krone.at/37371', 'https://www.facebook.com/krone.at', 'https://www.twitter.com/krone_at', 'https://www.youtube.com/user/kronetv', 'https://www.instagram.com/kronen.zeitung']\n"
     ]
    }
   ],
   "source": [
    "print(getLinks(\"https://www.krone.at/\"))"
   ]
  },
  {
   "cell_type": "markdown",
   "metadata": {},
   "source": [
    "#### 2.1.5 - Extracting information from tables"
   ]
  },
  {
   "cell_type": "code",
   "execution_count": 31,
   "metadata": {},
   "outputs": [],
   "source": [
    "url3 = urllib.request.urlopen('https://pythonprogramming.net/parsememcparseface/').read()\n",
    "soup = bs(url3,'lxml')"
   ]
  },
  {
   "cell_type": "code",
   "execution_count": 32,
   "metadata": {},
   "outputs": [],
   "source": [
    "table = soup.table\n",
    "#table = soup.find('table')"
   ]
  },
  {
   "cell_type": "code",
   "execution_count": 33,
   "metadata": {},
   "outputs": [],
   "source": [
    "table_rows = table.find_all('tr')"
   ]
  },
  {
   "cell_type": "code",
   "execution_count": 34,
   "metadata": {},
   "outputs": [
    {
     "name": "stdout",
     "output_type": "stream",
     "text": [
      "[]\n",
      "['Python', '932914021', 'Definitely']\n",
      "['Pascal', '532', 'Unlikely']\n",
      "['Lisp', '1522', 'Uncertain']\n",
      "['D#', '12', 'Possibly']\n",
      "['Cobol', '3', 'No.']\n",
      "['Fortran', '52124', 'Yes.']\n",
      "['Haskell', '24', 'lol.']\n"
     ]
    }
   ],
   "source": [
    "for tr in table_rows:\n",
    "    td = tr.find_all('td')\n",
    "    row = [i.text for i in td]\n",
    "    print(row)"
   ]
  },
  {
   "cell_type": "markdown",
   "metadata": {},
   "source": [
    "***\n",
    "\n",
    "### 3 - Parsing dynamically updated data via javascript"
   ]
  },
  {
   "cell_type": "markdown",
   "metadata": {},
   "source": [
    "[General Info](https://stackoverflow.com/questions/8049520/web-scraping-javascript-page-with-python)  \n",
    "[Selenium](https://www.selenium.dev/)   \n",
    "[Dry Scape](https://dryscrape.readthedocs.io/en/latest/)  "
   ]
  },
  {
   "cell_type": "code",
   "execution_count": 35,
   "metadata": {},
   "outputs": [
    {
     "name": "stdout",
     "output_type": "stream",
     "text": [
      "200\n"
     ]
    }
   ],
   "source": [
    "url4 = \"https://kurier.at/\"\n",
    "content = requests.get(url4)\n",
    "print(content.status_code)"
   ]
  },
  {
   "cell_type": "markdown",
   "metadata": {},
   "source": [
    "***\n",
    "\n",
    "### 4 - Using Requests with Parameters\n",
    "\n",
    "[Example](https://towardsdatascience.com/web-scraping-101-in-python-35f8653b1c97) of using [parameters with *requests*](https://docs.python-requests.org/en/master/user/quickstart/) on [IMDB](https://www.imdb.com/search/title/?count=100&groups=top_1000&sort=user_rating):"
   ]
  },
  {
   "cell_type": "markdown",
   "metadata": {},
   "source": [
    "After taking a look at the IMDB webpage, we’ll set out to extract (all highlighted in the above screenshot of the page):\n",
    "\n",
    "+ Movie title\n",
    "+ Release year\n",
    "+ Runtime\n",
    "+ Audience rating\n",
    "+ Genre\n",
    "+ IMDB rating\n",
    "+ Number of votes\n",
    "+ Box office earnings\n",
    "+ Director\n",
    "+ Primary actors"
   ]
  },
  {
   "cell_type": "code",
   "execution_count": 113,
   "metadata": {},
   "outputs": [],
   "source": [
    "url3 = 'https://www.imdb.com/search/title/?count=100&groups=top_1000&sort=user_rating'\n",
    "\n",
    "def get_page_contents(url):\n",
    "    page = requests.get(url, headers={\"Accept-Language\": \"en-US\"})\n",
    "    return bs(page.text, \"html.parser\")\n",
    "\n",
    "soup = get_page_contents(url3)"
   ]
  },
  {
   "cell_type": "markdown",
   "metadata": {},
   "source": [
    "Extracting text: Movie titles and release year\n",
    "\n",
    "Since we’ve already located the HTML tag containing each movie card, we can get a list of all distinct movies and their corresponding HTML by:"
   ]
  },
  {
   "cell_type": "code",
   "execution_count": 114,
   "metadata": {},
   "outputs": [
    {
     "data": {
      "text/plain": [
       "[<h3 class=\"lister-item-header\">\n",
       " <span class=\"lister-item-index unbold text-primary\">1.</span>\n",
       " <a href=\"/title/tt0111161/\">The Shawshank Redemption</a>\n",
       " <span class=\"lister-item-year text-muted unbold\">(1994)</span>\n",
       " </h3>,\n",
       " <h3 class=\"lister-item-header\">\n",
       " <span class=\"lister-item-index unbold text-primary\">2.</span>\n",
       " <a href=\"/title/tt0068646/\">The Godfather</a>\n",
       " <span class=\"lister-item-year text-muted unbold\">(1972)</span>\n",
       " </h3>,\n",
       " <h3 class=\"lister-item-header\">\n",
       " <span class=\"lister-item-index unbold text-primary\">3.</span>\n",
       " <a href=\"/title/tt0468569/\">The Dark Knight</a>\n",
       " <span class=\"lister-item-year text-muted unbold\">(2008)</span>\n",
       " </h3>,\n",
       " <h3 class=\"lister-item-header\">\n",
       " <span class=\"lister-item-index unbold text-primary\">4.</span>\n",
       " <a href=\"/title/tt0167260/\">The Lord of the Rings: The Return of the King</a>\n",
       " <span class=\"lister-item-year text-muted unbold\">(2003)</span>\n",
       " </h3>,\n",
       " <h3 class=\"lister-item-header\">\n",
       " <span class=\"lister-item-index unbold text-primary\">5.</span>\n",
       " <a href=\"/title/tt0108052/\">Schindler's List</a>\n",
       " <span class=\"lister-item-year text-muted unbold\">(1993)</span>\n",
       " </h3>]"
      ]
     },
     "execution_count": 114,
     "metadata": {},
     "output_type": "execute_result"
    }
   ],
   "source": [
    "movies = soup.findAll('h3', class_='lister-item-header') \n",
    "movies[0:5]"
   ]
  },
  {
   "cell_type": "markdown",
   "metadata": {},
   "source": [
    "The findAll method creates a list where each entry contains the HTML that’s captured within the h3 tag and list-item-header class.  \n",
    "By taking a deeper look at the first movies HTML and see that the movie title can be found under the first a tag.\n",
    "\n",
    "To capture this attribute we can loop through all movies and either call findAll and grab the first element of the list, or we can use the find method which automatically grabs the first tag it finds. Thus, we can construct a list of all movie titles (with a little help from list comprehensions for efficiency) through:"
   ]
  },
  {
   "cell_type": "code",
   "execution_count": 18,
   "metadata": {},
   "outputs": [
    {
     "data": {
      "text/plain": [
       "['Jai Bhim',\n",
       " 'The Shawshank Redemption',\n",
       " 'The Godfather',\n",
       " 'Soorarai Pottru',\n",
       " 'The Dark Knight',\n",
       " 'The Godfather: Part II',\n",
       " '12 Angry Men',\n",
       " 'The Lord of the Rings: The Return of the King',\n",
       " 'Pulp Fiction',\n",
       " \"Schindler's List\"]"
      ]
     },
     "execution_count": 18,
     "metadata": {},
     "output_type": "execute_result"
    }
   ],
   "source": [
    "titles = [movie.find('a').text for movie in movies]\n",
    "titles[0:10]"
   ]
  },
  {
   "cell_type": "markdown",
   "metadata": {},
   "source": [
    "Release years can be found under the tag span and class lister-item-year text-muted unbold. To grab these, we can follow a similar approach as before:"
   ]
  },
  {
   "cell_type": "code",
   "execution_count": 19,
   "metadata": {},
   "outputs": [
    {
     "data": {
      "text/plain": [
       "['(2021)',\n",
       " '(1994)',\n",
       " '(1972)',\n",
       " '(2020)',\n",
       " '(2008)',\n",
       " '(1974)',\n",
       " '(1957)',\n",
       " '(2003)',\n",
       " '(1994)',\n",
       " '(1993)']"
      ]
     },
     "execution_count": 19,
     "metadata": {},
     "output_type": "execute_result"
    }
   ],
   "source": [
    "release = [movie.find('span', class_='lister-item-year text-muted unbold').text for movie in movies]\n",
    "release[0:10]"
   ]
  },
  {
   "cell_type": "markdown",
   "metadata": {},
   "source": [
    "Extracting Numerical Values:\n",
    "\n",
    "In the case of IMDB ratings, number of votes and box office earnings we can see that while these may be available as string values, can also grab the actual numerical values from the data-value attribute within each respective tag.\n",
    "\n",
    "Here’s the IMDB rating of The Godfather:  \n",
    "\\<div class=\"inline-block ratings-imdb-rating\" name=\"ir\" data-value=\"9.2\">"
   ]
  },
  {
   "cell_type": "code",
   "execution_count": 20,
   "metadata": {},
   "outputs": [
    {
     "data": {
      "text/plain": [
       "'9.3'"
      ]
     },
     "execution_count": 20,
     "metadata": {},
     "output_type": "execute_result"
    }
   ],
   "source": [
    "soup.find('div', class_='inline-block ratings-imdb-rating')['data-value']"
   ]
  },
  {
   "cell_type": "markdown",
   "metadata": {},
   "source": [
    "In the case of number of votes and earnings we don’t have a class attribute to filter for. Here are the number of votes and estimated box office earnings:"
   ]
  },
  {
   "cell_type": "code",
   "execution_count": 21,
   "metadata": {},
   "outputs": [
    {
     "name": "stdout",
     "output_type": "stream",
     "text": [
      "['166955', '2524608', '28,341,469', '1738105', '134,966,411', '105969', '2474861', '534,858,444', '1206022', '57,300,000', '745533', '4,360,000', '1742556', '377,845,905', '1945178', '107,928,762', '1290110', '96,898,818', '2219102', '292,576,195', '381254', '34422', '1985641', '37,030,102', '1763818', '315,544,750', '1948453', '330,252,182', '729757', '6,100,000', '80169', '111744', '1574783', '342,551,365', '1819851', '171,479,930', '1092313', '46,836,394', '1226372', '290,475,067', '968073', '112,000,000', '704737', '53,367,844', '33253', '1670884', '188,020,017', '731227', '7,563,397', '711808', '10,055,859', '1318236', '216,540,909', '1228259', '136,801,374', '664080', '57,598,247', '1549651', '100,125,643', '1357805', '130,742,922', '1297940', '322,740,140', '51376', '333835', '269,061', '437425', '27144', '784073', '13,092,000', '813495', '13,182,281', '1268744', '53,089,891', '1262628', '132,384,315', '787132', '32,572,577', '1426161', '187,705,427', '1081233', '6,719,864', '1044282', '23,341,568', '1103636', '19,501,238', '1002551', '422,783,777', '1050193', '204,843,350', '249906', '11,990,401', '259173', '1136081', '210,609,762', '318833', '5,321,508', '642033', '32,000,000', '473008', '36,764,313', '550923', '1,024,560', '232696', '163,245', '178698', '19,181', '80529', '80141', '1,661,096', '1126129', '335,451,311', '37320', '37822', '236671', '5,017,246', '176504', '12,391,761', '460477', '190,241,310', '993360', '858,373,000', '966948', '678,815,482', '453653', '209,726,015', '1459854', '162,805,434', '1607516', '448,139,099', '375858', '6,532,908', '184301', '1,223,869', '1061740', '223,808,164', '377926', '11,286,112', '551409', '707,481', '1187303', '25,544,867', '372970', '2,375,308', '930103', '248,159,971', '964675', '44,017,374', '640271', '83,471,511', '838483', '78,900,000', '41116', '473614', '275,902', '119338', '8,175,000', '190087', '30035', '536,364', '214280', '216460', '288,475', '46927', '898,575', '522938', '159,227,644', '54677', '4,186,168', '39268', '52258', '35364', '39058', '311464', '687,185', '235572', '7,098,492', '167495', '6,857,096']\n"
     ]
    }
   ],
   "source": [
    "votes_earnings = soup.findAll('span', {'name':'nv'})\n",
    "print([ve['data-value'] for ve in votes_earnings])"
   ]
  },
  {
   "cell_type": "code",
   "execution_count": 22,
   "metadata": {},
   "outputs": [
    {
     "name": "stdout",
     "output_type": "stream",
     "text": [
      "['166955', '28,341,469', '134,966,411', '2474861', '1206022']\n",
      "['2524608', '1738105', '105969', '534,858,444', '57,300,000']\n"
     ]
    }
   ],
   "source": [
    "votes = []\n",
    "earnings = []\n",
    "idx = 0\n",
    "while idx < len(votes_earnings)-1:\n",
    "    votes.append(votes_earnings[idx]['data-value'])\n",
    "    earnings.append(votes_earnings[idx+1]['data-value'])\n",
    "    idx+=2\n",
    "print(votes[0:5])\n",
    "print(earnings[0:5])"
   ]
  },
  {
   "cell_type": "markdown",
   "metadata": {},
   "source": [
    "Nested Values\n",
    "\n",
    "In the case where the data we need is located within multiple levels of generic tags, we’ll need to dig into this nested structure to extract what we need.\n",
    "\n",
    "In the case of the movie directors and actors we’ll need to do just that. From inspecting the HTML we see that the director information is located within an initial p tag and thereafter an a tag — both without class attributes making it necessary to unnest the data. We’ll do this by calling find and findAll repeatedly.\n",
    "\n",
    "Since the director is the 1st a tag, we can extract this information through:"
   ]
  },
  {
   "cell_type": "code",
   "execution_count": 23,
   "metadata": {},
   "outputs": [
    {
     "name": "stdout",
     "output_type": "stream",
     "text": [
      "---\n",
      "<a href=\"/chart/top/?ref_=ats_top1000serp_to_top250chart\">IMDb Top 250 Movies chart</a>\n",
      "IMDb Top 250 Movies chart\n",
      "---\n",
      "<a href=\"/name/nm4377096/\">T.J. Gnanavel</a>\n",
      "T.J. Gnanavel\n",
      "<a href=\"/name/nm1421814/\">Suriya</a>\n",
      "Suriya\n",
      "<a href=\"/name/nm7934649/\">Lijo Mol Jose</a>\n",
      "Lijo Mol Jose\n",
      "<a href=\"/name/nm8904193/\">Manikandan</a>\n",
      "Manikandan\n",
      "<a href=\"/name/nm8135195/\">Rajisha Vijayan</a>\n",
      "Rajisha Vijayan\n",
      "---\n",
      "<a href=\"/name/nm0001104/\">Frank Darabont</a>\n",
      "Frank Darabont\n",
      "<a href=\"/name/nm0000209/\">Tim Robbins</a>\n",
      "Tim Robbins\n",
      "<a href=\"/name/nm0000151/\">Morgan Freeman</a>\n",
      "Morgan Freeman\n",
      "<a href=\"/name/nm0348409/\">Bob Gunton</a>\n",
      "Bob Gunton\n",
      "<a href=\"/name/nm0006669/\">William Sadler</a>\n",
      "William Sadler\n"
     ]
    }
   ],
   "source": [
    "for l1 in soup.findAll('p')[0:10]:\n",
    "    if l1.find('a'):\n",
    "        print('---')\n",
    "        for l2 in l1.findAll('a'):\n",
    "            print(l2)\n",
    "            print(l2.text)"
   ]
  },
  {
   "cell_type": "code",
   "execution_count": 24,
   "metadata": {},
   "outputs": [
    {
     "data": {
      "text/plain": [
       "[]"
      ]
     },
     "execution_count": 24,
     "metadata": {},
     "output_type": "execute_result"
    }
   ],
   "source": [
    "actors = [actor.text for actor in soup.findAll('p')[2].findAll('a')]\n",
    "actors"
   ]
  },
  {
   "cell_type": "markdown",
   "metadata": {},
   "source": [
    "#### Creating functions to automate information scraping on IMDB:"
   ]
  },
  {
   "cell_type": "code",
   "execution_count": 25,
   "metadata": {},
   "outputs": [],
   "source": [
    "def numeric_value(movie, tag, class_=None, order=None):\n",
    "    if order:\n",
    "        if len(movie.findAll(tag, class_)) > 1:\n",
    "            to_extract = movie.findAll(tag, class_)[order]['data-value']\n",
    "        else:\n",
    "            to_extract = None\n",
    "    else:\n",
    "        to_extract = movie.find(tag, class_)['data-value']\n",
    "\n",
    "    return to_extract\n",
    "\n",
    "\n",
    "def text_value(movie, tag, class_=None):\n",
    "    if movie.find(tag, class_):\n",
    "        return movie.find(tag, class_).text\n",
    "    else:\n",
    "        return\n",
    "\n",
    "\n",
    "def nested_text_value(movie, tag_1, class_1, tag_2, class_2, order=None):\n",
    "    if not order:\n",
    "        return movie.find(tag_1, class_1).find(tag_2, class_2).text\n",
    "    else:\n",
    "        return [val.text for val in movie.find(tag_1, class_1).findAll(tag_2, class_2)[order]]\n",
    "\n",
    "\n",
    "def extract_attribute(soup, tag_1, class_1='', tag_2='', class_2='',\n",
    "                      text_attribute=True, order=None, nested=False):\n",
    "    movies = soup.findAll('div', class_='lister-item-content')\n",
    "    data_list = []\n",
    "    for movie in movies:\n",
    "        if text_attribute:\n",
    "            if nested:\n",
    "                data_list.append(nested_text_value(movie, tag_1, class_1, tag_2, class_2, order))\n",
    "            else:\n",
    "                data_list.append(text_value(movie, tag_1, class_1))\n",
    "        else:\n",
    "            data_list.append(numeric_value(movie, tag_1, class_1, order))\n",
    "\n",
    "    return data_list"
   ]
  },
  {
   "cell_type": "markdown",
   "metadata": {},
   "source": [
    "#### Creating a Dataframe with the information"
   ]
  },
  {
   "cell_type": "code",
   "execution_count": 26,
   "metadata": {},
   "outputs": [
    {
     "data": {
      "text/html": [
       "<div>\n",
       "<style scoped>\n",
       "    .dataframe tbody tr th:only-of-type {\n",
       "        vertical-align: middle;\n",
       "    }\n",
       "\n",
       "    .dataframe tbody tr th {\n",
       "        vertical-align: top;\n",
       "    }\n",
       "\n",
       "    .dataframe thead th {\n",
       "        text-align: right;\n",
       "    }\n",
       "</style>\n",
       "<table border=\"1\" class=\"dataframe\">\n",
       "  <thead>\n",
       "    <tr style=\"text-align: right;\">\n",
       "      <th></th>\n",
       "      <th>Title</th>\n",
       "      <th>Release</th>\n",
       "      <th>Audience Rating</th>\n",
       "      <th>Runtime</th>\n",
       "      <th>Genre</th>\n",
       "      <th>IMDB Rating</th>\n",
       "      <th>Votes</th>\n",
       "      <th>Box Office Earnings</th>\n",
       "      <th>Director</th>\n",
       "      <th>Actors</th>\n",
       "    </tr>\n",
       "  </thead>\n",
       "  <tbody>\n",
       "    <tr>\n",
       "      <th>0</th>\n",
       "      <td>Jai Bhim</td>\n",
       "      <td>(2021)</td>\n",
       "      <td>TV-MA</td>\n",
       "      <td>164 min</td>\n",
       "      <td>\\nCrime, Drama</td>\n",
       "      <td>\\n\\n9.3\\n</td>\n",
       "      <td>166,955</td>\n",
       "      <td>166,955</td>\n",
       "      <td>T.J. Gnanavel</td>\n",
       "      <td>[Suriya, Lijo Mol Jose, Manikandan, Rajisha Vi...</td>\n",
       "    </tr>\n",
       "    <tr>\n",
       "      <th>1</th>\n",
       "      <td>The Shawshank Redemption</td>\n",
       "      <td>(1994)</td>\n",
       "      <td>R</td>\n",
       "      <td>142 min</td>\n",
       "      <td>\\nDrama</td>\n",
       "      <td>\\n\\n9.3\\n</td>\n",
       "      <td>2,524,608</td>\n",
       "      <td>2,524,608</td>\n",
       "      <td>Frank Darabont</td>\n",
       "      <td>[Tim Robbins, Morgan Freeman, Bob Gunton, Will...</td>\n",
       "    </tr>\n",
       "    <tr>\n",
       "      <th>2</th>\n",
       "      <td>The Godfather</td>\n",
       "      <td>(1972)</td>\n",
       "      <td>R</td>\n",
       "      <td>175 min</td>\n",
       "      <td>\\nCrime, Drama</td>\n",
       "      <td>\\n\\n9.2\\n</td>\n",
       "      <td>1,738,105</td>\n",
       "      <td>1,738,105</td>\n",
       "      <td>Francis Ford Coppola</td>\n",
       "      <td>[Marlon Brando, Al Pacino, James Caan, Diane K...</td>\n",
       "    </tr>\n",
       "    <tr>\n",
       "      <th>3</th>\n",
       "      <td>Soorarai Pottru</td>\n",
       "      <td>(2020)</td>\n",
       "      <td>TV-MA</td>\n",
       "      <td>153 min</td>\n",
       "      <td>\\nDrama</td>\n",
       "      <td>\\n\\n9.1\\n</td>\n",
       "      <td>105,969</td>\n",
       "      <td>105,969</td>\n",
       "      <td>Sudha Kongara</td>\n",
       "      <td>[Suriya, Paresh Rawal, Urvashi, Aparna Balamur...</td>\n",
       "    </tr>\n",
       "    <tr>\n",
       "      <th>4</th>\n",
       "      <td>The Dark Knight</td>\n",
       "      <td>(2008)</td>\n",
       "      <td>PG-13</td>\n",
       "      <td>152 min</td>\n",
       "      <td>\\nAction, Crime, Drama</td>\n",
       "      <td>\\n\\n9.0\\n</td>\n",
       "      <td>2,474,861</td>\n",
       "      <td>2,474,861</td>\n",
       "      <td>Christopher Nolan</td>\n",
       "      <td>[Christian Bale, Heath Ledger, Aaron Eckhart, ...</td>\n",
       "    </tr>\n",
       "  </tbody>\n",
       "</table>\n",
       "</div>"
      ],
      "text/plain": [
       "                      Title Release Audience Rating  Runtime  \\\n",
       "0                  Jai Bhim  (2021)           TV-MA  164 min   \n",
       "1  The Shawshank Redemption  (1994)               R  142 min   \n",
       "2             The Godfather  (1972)               R  175 min   \n",
       "3           Soorarai Pottru  (2020)           TV-MA  153 min   \n",
       "4           The Dark Knight  (2008)           PG-13  152 min   \n",
       "\n",
       "                                Genre IMDB Rating      Votes  \\\n",
       "0          \\nCrime, Drama               \\n\\n9.3\\n    166,955   \n",
       "1                 \\nDrama               \\n\\n9.3\\n  2,524,608   \n",
       "2          \\nCrime, Drama               \\n\\n9.2\\n  1,738,105   \n",
       "3                 \\nDrama               \\n\\n9.1\\n    105,969   \n",
       "4  \\nAction, Crime, Drama               \\n\\n9.0\\n  2,474,861   \n",
       "\n",
       "  Box Office Earnings              Director  \\\n",
       "0             166,955         T.J. Gnanavel   \n",
       "1           2,524,608        Frank Darabont   \n",
       "2           1,738,105  Francis Ford Coppola   \n",
       "3             105,969         Sudha Kongara   \n",
       "4           2,474,861     Christopher Nolan   \n",
       "\n",
       "                                              Actors  \n",
       "0  [Suriya, Lijo Mol Jose, Manikandan, Rajisha Vi...  \n",
       "1  [Tim Robbins, Morgan Freeman, Bob Gunton, Will...  \n",
       "2  [Marlon Brando, Al Pacino, James Caan, Diane K...  \n",
       "3  [Suriya, Paresh Rawal, Urvashi, Aparna Balamur...  \n",
       "4  [Christian Bale, Heath Ledger, Aaron Eckhart, ...  "
      ]
     },
     "execution_count": 26,
     "metadata": {},
     "output_type": "execute_result"
    }
   ],
   "source": [
    "titles = extract_attribute(soup, 'a')\n",
    "release = extract_attribute(soup, 'span', 'lister-item-year text-muted unbold')\n",
    "audience_rating = extract_attribute(soup, 'span', 'certificate')\n",
    "runtime = extract_attribute(soup, 'span', 'runtime')\n",
    "genre = extract_attribute(soup, 'span', 'genre')\n",
    "imdb_rating = extract_attribute(soup, 'div', 'inline-block ratings-imdb-rating', False)\n",
    "votes = extract_attribute(soup, 'span' , {'name' : 'nv'}, False, 0)\n",
    "earnings = extract_attribute(soup, 'span' , {'name' : 'nv'}, False, 1)\n",
    "directors = extract_attribute(soup, 'p', '', 'a', '', True, 0, True)\n",
    "actors = extract_attribute(soup, 'p', '', 'a', '', True, slice(1, 5, None), True)\n",
    "\n",
    "\n",
    "df_dict = {'Title': titles, 'Release': release, 'Audience Rating': audience_rating,\n",
    "           'Runtime': runtime, 'Genre': genre, 'IMDB Rating': imdb_rating,\n",
    "           'Votes': votes, 'Box Office Earnings': earnings, 'Director': directors,\n",
    "           'Actors': actors}\n",
    "\n",
    "df = pd.DataFrame(df_dict)\n",
    "df.head()"
   ]
  },
  {
   "cell_type": "markdown",
   "metadata": {},
   "source": [
    "### Manually creating a Dataframe and starting analysis"
   ]
  },
  {
   "cell_type": "code",
   "execution_count": 27,
   "metadata": {},
   "outputs": [],
   "source": [
    "url4 = \"http://www.hubertiming.com/results/2017GPTR10K\"\n",
    "html = urllib.request.urlopen(url4)\n",
    "soup = bs(html, 'lxml')"
   ]
  },
  {
   "cell_type": "code",
   "execution_count": 28,
   "metadata": {},
   "outputs": [
    {
     "name": "stdout",
     "output_type": "stream",
     "text": [
      "<title>Race results for the 2017 Intel Great Place to Run \\ Urban Clash Games!</title>\n"
     ]
    }
   ],
   "source": [
    "# Get the title\n",
    "title = soup.title\n",
    "print(title)"
   ]
  },
  {
   "cell_type": "code",
   "execution_count": 29,
   "metadata": {},
   "outputs": [
    {
     "data": {
      "text/plain": [
       "'\\n\\n\\n\\n\\n\\n\\nRace results for the 2017 Intel Great Place to Run \\\\ Urban Clash Games!\\n\\n\\n\\n\\n\\n\\n\\n\\n\\n\\n\\n\\n\\n\\n\\n\\n\\n\\n\\n\\n\\n 2017 Intel Great Place to Run 10K \\\\ Urban Clash Games\\n Hillsboro Stadium, Hillsboro, OR \\n June 2nd,'"
      ]
     },
     "execution_count": 29,
     "metadata": {},
     "output_type": "execute_result"
    }
   ],
   "source": [
    "# Print out the text\n",
    "text = soup.get_text()\n",
    "text[0:200]"
   ]
  },
  {
   "cell_type": "code",
   "execution_count": 30,
   "metadata": {},
   "outputs": [
    {
     "data": {
      "text/plain": [
       "[<a href=\"mailto:timing@hubertiming.com\">timing@hubertiming.com</a>,\n",
       " <a href=\"https://www.hubertiming.com\">Huber Timing Home</a>,\n",
       " <a class=\"btn btn-primary btn-lg\" href=\"/results/2017GPTR\" role=\"button\" style=\"margin: 0px 0px 5px 5px\"><i aria-hidden=\"true\" class=\"fa fa-user\"></i> 5K Individual</a>,\n",
       " <a class=\"btn btn-primary btn-lg\" href=\"/results/team/2017GPTR\" role=\"button\" style=\"margin: 0px 0px 5px 5px\"><i aria-hidden=\"true\" class=\"fa fa-users\"></i> 5K Team</a>,\n",
       " <a class=\"btn btn-primary btn-lg\" href=\"/results/team/2017GPTR10K\" role=\"button\" style=\"margin: 0px 0px 5px 5px\"><i aria-hidden=\"true\" class=\"fa fa-users\"></i> 10K Team</a>,\n",
       " <a class=\"btn btn-primary btn-lg\" href=\"/results/summary/2017GPTR10K\" role=\"button\" style=\"margin: 0px 0px 5px 5px\"><i class=\"fa fa-stream\"></i> Summary</a>,\n",
       " <a id=\"individual\" name=\"individual\"></a>,\n",
       " <a data-url=\"/results/2017GPTR10K\" href=\"#tabs-1\" id=\"rootTab\" style=\"font-size: 18px\">10K Results</a>,\n",
       " <a href=\"https://www.hubertiming.com/\"><img height=\"65\" src=\"https://www.hubertiming.com//sites/all/themes/hubertiming/images/clockWithFinishSign_small.png\" width=\"50\"/>Huber Timing</a>,\n",
       " <a href=\"https://facebook.com/hubertiming/\"><img src=\"https://www.hubertiming.com/results/FB-f-Logo__blue_50.png\"/></a>,\n",
       " <a class=\"small\" id=\"bestFeatureEver\" style=\"color:#007bff\">Dark Mode</a>]"
      ]
     },
     "execution_count": 30,
     "metadata": {},
     "output_type": "execute_result"
    }
   ],
   "source": [
    "soup.find_all('a')"
   ]
  },
  {
   "cell_type": "code",
   "execution_count": 31,
   "metadata": {},
   "outputs": [
    {
     "name": "stdout",
     "output_type": "stream",
     "text": [
      "mailto:timing@hubertiming.com\n",
      "https://www.hubertiming.com\n",
      "/results/2017GPTR\n",
      "/results/team/2017GPTR\n",
      "/results/team/2017GPTR10K\n",
      "/results/summary/2017GPTR10K\n",
      "None\n",
      "#tabs-1\n",
      "https://www.hubertiming.com/\n",
      "https://facebook.com/hubertiming/\n",
      "None\n"
     ]
    }
   ],
   "source": [
    "all_links = soup.find_all(\"a\")\n",
    "for link in all_links:\n",
    "    print(link.get(\"href\"))"
   ]
  },
  {
   "cell_type": "code",
   "execution_count": 32,
   "metadata": {},
   "outputs": [
    {
     "name": "stdout",
     "output_type": "stream",
     "text": [
      "[<tr colspan=\"2\">\n",
      "<b>10K:</b>\n",
      "</tr>, <tr>\n",
      "<td>Finishers:</td>\n",
      "<td>577</td>\n",
      "</tr>, <tr>\n",
      "<td>Male:</td>\n",
      "<td>414</td>\n",
      "</tr>, <tr>\n",
      "<td>Female:</td>\n",
      "<td>163</td>\n",
      "</tr>, <tr class=\"header\">\n",
      "<th>Place</th>\n",
      "<th>Bib</th>\n",
      "<th>Name</th>\n",
      "<th>Gender</th>\n",
      "<th>City</th>\n",
      "<th>Chip Time</th>\n",
      "<th>Gun Time</th>\n",
      "<th>Team</th>\n",
      "</tr>, <tr data-bib=\"814\">\n",
      "<td>1</td>\n",
      "<td>814</td>\n",
      "<td>\n",
      "\n",
      "                    JARED WILSON\n",
      "\n",
      "                </td>\n",
      "<td>M</td>\n",
      "<td>TIGARD</td>\n",
      "<td>36:21</td>\n",
      "<td>36:24</td>\n",
      "<td></td>\n",
      "</tr>, <tr data-bib=\"573\">\n",
      "<td>2</td>\n",
      "<td>573</td>\n",
      "<td>\n",
      "\n",
      "                    NATHAN A SUSTERSIC\n",
      "\n",
      "                </td>\n",
      "<td>M</td>\n",
      "<td>PORTLAND</td>\n",
      "<td>36:42</td>\n",
      "<td>36:45</td>\n",
      "<td>\n",
      "<img class=\"lazy teamThumbs\" data-src=\"/teamLogoThumbnail/logo?teamName=INTEL%20TEAM%20F&amp;raceId=1251&amp;state=OR\"/>\n",
      "                            INTEL TEAM F\n",
      "                        </td>\n",
      "</tr>, <tr data-bib=\"687\">\n",
      "<td>3</td>\n",
      "<td>687</td>\n",
      "<td>\n",
      "\n",
      "                    FRANCISCO MAYA\n",
      "\n",
      "                </td>\n",
      "<td>M</td>\n",
      "<td>PORTLAND</td>\n",
      "<td>37:44</td>\n",
      "<td>37:48</td>\n",
      "<td></td>\n",
      "</tr>]\n"
     ]
    }
   ],
   "source": [
    "# Print the first 8 rows for sanity check\n",
    "rows = soup.find_all('tr')\n",
    "print(rows[:8])"
   ]
  },
  {
   "cell_type": "code",
   "execution_count": 33,
   "metadata": {},
   "outputs": [
    {
     "name": "stdout",
     "output_type": "stream",
     "text": [
      "[<td>577</td>, <td>443</td>, <td>\n",
      "\n",
      "                    LIBBY B MITCHELL\n",
      "\n",
      "                </td>, <td>F</td>, <td>HILLSBORO</td>, <td>1:41:18</td>, <td>1:42:10</td>, <td></td>]\n"
     ]
    },
    {
     "data": {
      "text/plain": [
       "bs4.element.ResultSet"
      ]
     },
     "execution_count": 33,
     "metadata": {},
     "output_type": "execute_result"
    }
   ],
   "source": [
    "for row in rows:\n",
    "    row_td = row.find_all('td')\n",
    "print(row_td)\n",
    "type(row_td)"
   ]
  },
  {
   "cell_type": "code",
   "execution_count": 34,
   "metadata": {},
   "outputs": [
    {
     "name": "stdout",
     "output_type": "stream",
     "text": [
      "[577, 443, \n",
      "\n",
      "                    LIBBY B MITCHELL\n",
      "\n",
      "                , F, HILLSBORO, 1:41:18, 1:42:10, ]\n"
     ]
    }
   ],
   "source": [
    "str_cells = str(row_td)\n",
    "cleantext = bs(str_cells, \"lxml\").get_text()\n",
    "print(cleantext)"
   ]
  },
  {
   "cell_type": "markdown",
   "metadata": {},
   "source": [
    "#### Now processing the whole page"
   ]
  },
  {
   "cell_type": "code",
   "execution_count": 35,
   "metadata": {},
   "outputs": [
    {
     "name": "stdout",
     "output_type": "stream",
     "text": [
      "[577, 443, \n",
      "\n",
      "                    LIBBY B MITCHELL\n",
      "\n",
      "                , F, HILLSBORO, 1:41:18, 1:42:10, ]\n"
     ]
    },
    {
     "data": {
      "text/plain": [
       "str"
      ]
     },
     "execution_count": 35,
     "metadata": {},
     "output_type": "execute_result"
    }
   ],
   "source": [
    "list_rows = []\n",
    "for row in rows:\n",
    "    cells = row.find_all('td')\n",
    "    str_cells = str(cells)\n",
    "    clean = re.compile('<.*?>')\n",
    "    clean2 = (re.sub(clean, '',str_cells))\n",
    "    list_rows.append(clean2)\n",
    "print(clean2)\n",
    "type(clean2)"
   ]
  },
  {
   "cell_type": "code",
   "execution_count": 36,
   "metadata": {},
   "outputs": [
    {
     "data": {
      "text/html": [
       "<div>\n",
       "<style scoped>\n",
       "    .dataframe tbody tr th:only-of-type {\n",
       "        vertical-align: middle;\n",
       "    }\n",
       "\n",
       "    .dataframe tbody tr th {\n",
       "        vertical-align: top;\n",
       "    }\n",
       "\n",
       "    .dataframe thead th {\n",
       "        text-align: right;\n",
       "    }\n",
       "</style>\n",
       "<table border=\"1\" class=\"dataframe\">\n",
       "  <thead>\n",
       "    <tr style=\"text-align: right;\">\n",
       "      <th></th>\n",
       "      <th>raw</th>\n",
       "    </tr>\n",
       "  </thead>\n",
       "  <tbody>\n",
       "    <tr>\n",
       "      <th>0</th>\n",
       "      <td>[]</td>\n",
       "    </tr>\n",
       "    <tr>\n",
       "      <th>1</th>\n",
       "      <td>[Finishers:, 577]</td>\n",
       "    </tr>\n",
       "    <tr>\n",
       "      <th>2</th>\n",
       "      <td>[Male:, 414]</td>\n",
       "    </tr>\n",
       "    <tr>\n",
       "      <th>3</th>\n",
       "      <td>[Female:, 163]</td>\n",
       "    </tr>\n",
       "    <tr>\n",
       "      <th>4</th>\n",
       "      <td>[]</td>\n",
       "    </tr>\n",
       "    <tr>\n",
       "      <th>5</th>\n",
       "      <td>[1, 814, \\r\\n\\r\\n                    JARED WIL...</td>\n",
       "    </tr>\n",
       "    <tr>\n",
       "      <th>6</th>\n",
       "      <td>[2, 573, \\r\\n\\r\\n                    NATHAN A ...</td>\n",
       "    </tr>\n",
       "    <tr>\n",
       "      <th>7</th>\n",
       "      <td>[3, 687, \\r\\n\\r\\n                    FRANCISCO...</td>\n",
       "    </tr>\n",
       "    <tr>\n",
       "      <th>8</th>\n",
       "      <td>[4, 623, \\r\\n\\r\\n                    PAUL MORR...</td>\n",
       "    </tr>\n",
       "    <tr>\n",
       "      <th>9</th>\n",
       "      <td>[5, 569, \\r\\n\\r\\n                    DEREK G O...</td>\n",
       "    </tr>\n",
       "  </tbody>\n",
       "</table>\n",
       "</div>"
      ],
      "text/plain": [
       "                                                 raw\n",
       "0                                                 []\n",
       "1                                  [Finishers:, 577]\n",
       "2                                       [Male:, 414]\n",
       "3                                     [Female:, 163]\n",
       "4                                                 []\n",
       "5  [1, 814, \\r\\n\\r\\n                    JARED WIL...\n",
       "6  [2, 573, \\r\\n\\r\\n                    NATHAN A ...\n",
       "7  [3, 687, \\r\\n\\r\\n                    FRANCISCO...\n",
       "8  [4, 623, \\r\\n\\r\\n                    PAUL MORR...\n",
       "9  [5, 569, \\r\\n\\r\\n                    DEREK G O..."
      ]
     },
     "execution_count": 36,
     "metadata": {},
     "output_type": "execute_result"
    }
   ],
   "source": [
    "df = pd.DataFrame(list_rows, columns=['raw'])\n",
    "df.head(10)"
   ]
  },
  {
   "cell_type": "markdown",
   "metadata": {},
   "source": [
    "### Cleaning the fields"
   ]
  },
  {
   "cell_type": "code",
   "execution_count": 37,
   "metadata": {},
   "outputs": [
    {
     "data": {
      "text/html": [
       "<div>\n",
       "<style scoped>\n",
       "    .dataframe tbody tr th:only-of-type {\n",
       "        vertical-align: middle;\n",
       "    }\n",
       "\n",
       "    .dataframe tbody tr th {\n",
       "        vertical-align: top;\n",
       "    }\n",
       "\n",
       "    .dataframe thead th {\n",
       "        text-align: right;\n",
       "    }\n",
       "</style>\n",
       "<table border=\"1\" class=\"dataframe\">\n",
       "  <thead>\n",
       "    <tr style=\"text-align: right;\">\n",
       "      <th></th>\n",
       "      <th>0</th>\n",
       "      <th>1</th>\n",
       "      <th>2</th>\n",
       "      <th>3</th>\n",
       "      <th>4</th>\n",
       "      <th>5</th>\n",
       "      <th>6</th>\n",
       "      <th>7</th>\n",
       "    </tr>\n",
       "  </thead>\n",
       "  <tbody>\n",
       "    <tr>\n",
       "      <th>0</th>\n",
       "      <td>[]</td>\n",
       "      <td>None</td>\n",
       "      <td>None</td>\n",
       "      <td>None</td>\n",
       "      <td>None</td>\n",
       "      <td>None</td>\n",
       "      <td>None</td>\n",
       "      <td>None</td>\n",
       "    </tr>\n",
       "    <tr>\n",
       "      <th>1</th>\n",
       "      <td>[Finishers:</td>\n",
       "      <td>577]</td>\n",
       "      <td>None</td>\n",
       "      <td>None</td>\n",
       "      <td>None</td>\n",
       "      <td>None</td>\n",
       "      <td>None</td>\n",
       "      <td>None</td>\n",
       "    </tr>\n",
       "    <tr>\n",
       "      <th>2</th>\n",
       "      <td>[Male:</td>\n",
       "      <td>414]</td>\n",
       "      <td>None</td>\n",
       "      <td>None</td>\n",
       "      <td>None</td>\n",
       "      <td>None</td>\n",
       "      <td>None</td>\n",
       "      <td>None</td>\n",
       "    </tr>\n",
       "    <tr>\n",
       "      <th>3</th>\n",
       "      <td>[Female:</td>\n",
       "      <td>163]</td>\n",
       "      <td>None</td>\n",
       "      <td>None</td>\n",
       "      <td>None</td>\n",
       "      <td>None</td>\n",
       "      <td>None</td>\n",
       "      <td>None</td>\n",
       "    </tr>\n",
       "    <tr>\n",
       "      <th>4</th>\n",
       "      <td>[]</td>\n",
       "      <td>None</td>\n",
       "      <td>None</td>\n",
       "      <td>None</td>\n",
       "      <td>None</td>\n",
       "      <td>None</td>\n",
       "      <td>None</td>\n",
       "      <td>None</td>\n",
       "    </tr>\n",
       "    <tr>\n",
       "      <th>5</th>\n",
       "      <td>[1</td>\n",
       "      <td>814</td>\n",
       "      <td>\\r\\n\\r\\n                    JARED WILSON\\r\\n\\...</td>\n",
       "      <td>M</td>\n",
       "      <td>TIGARD</td>\n",
       "      <td>36:21</td>\n",
       "      <td>36:24</td>\n",
       "      <td>]</td>\n",
       "    </tr>\n",
       "    <tr>\n",
       "      <th>6</th>\n",
       "      <td>[2</td>\n",
       "      <td>573</td>\n",
       "      <td>\\r\\n\\r\\n                    NATHAN A SUSTERSI...</td>\n",
       "      <td>M</td>\n",
       "      <td>PORTLAND</td>\n",
       "      <td>36:42</td>\n",
       "      <td>36:45</td>\n",
       "      <td>\\n\\r\\n                            INTEL TEAM ...</td>\n",
       "    </tr>\n",
       "    <tr>\n",
       "      <th>7</th>\n",
       "      <td>[3</td>\n",
       "      <td>687</td>\n",
       "      <td>\\r\\n\\r\\n                    FRANCISCO MAYA\\r\\...</td>\n",
       "      <td>M</td>\n",
       "      <td>PORTLAND</td>\n",
       "      <td>37:44</td>\n",
       "      <td>37:48</td>\n",
       "      <td>]</td>\n",
       "    </tr>\n",
       "    <tr>\n",
       "      <th>8</th>\n",
       "      <td>[4</td>\n",
       "      <td>623</td>\n",
       "      <td>\\r\\n\\r\\n                    PAUL MORROW\\r\\n\\r...</td>\n",
       "      <td>M</td>\n",
       "      <td>BEAVERTON</td>\n",
       "      <td>38:34</td>\n",
       "      <td>38:37</td>\n",
       "      <td>]</td>\n",
       "    </tr>\n",
       "    <tr>\n",
       "      <th>9</th>\n",
       "      <td>[5</td>\n",
       "      <td>569</td>\n",
       "      <td>\\r\\n\\r\\n                    DEREK G OSBORNE\\r...</td>\n",
       "      <td>M</td>\n",
       "      <td>HILLSBORO</td>\n",
       "      <td>39:21</td>\n",
       "      <td>39:24</td>\n",
       "      <td>\\n\\r\\n                            INTEL TEAM ...</td>\n",
       "    </tr>\n",
       "  </tbody>\n",
       "</table>\n",
       "</div>"
      ],
      "text/plain": [
       "             0      1                                                  2  \\\n",
       "0           []   None                                               None   \n",
       "1  [Finishers:   577]                                               None   \n",
       "2       [Male:   414]                                               None   \n",
       "3     [Female:   163]                                               None   \n",
       "4           []   None                                               None   \n",
       "5           [1    814   \\r\\n\\r\\n                    JARED WILSON\\r\\n\\...   \n",
       "6           [2    573   \\r\\n\\r\\n                    NATHAN A SUSTERSI...   \n",
       "7           [3    687   \\r\\n\\r\\n                    FRANCISCO MAYA\\r\\...   \n",
       "8           [4    623   \\r\\n\\r\\n                    PAUL MORROW\\r\\n\\r...   \n",
       "9           [5    569   \\r\\n\\r\\n                    DEREK G OSBORNE\\r...   \n",
       "\n",
       "      3           4       5       6  \\\n",
       "0  None        None    None    None   \n",
       "1  None        None    None    None   \n",
       "2  None        None    None    None   \n",
       "3  None        None    None    None   \n",
       "4  None        None    None    None   \n",
       "5     M      TIGARD   36:21   36:24   \n",
       "6     M    PORTLAND   36:42   36:45   \n",
       "7     M    PORTLAND   37:44   37:48   \n",
       "8     M   BEAVERTON   38:34   38:37   \n",
       "9     M   HILLSBORO   39:21   39:24   \n",
       "\n",
       "                                                   7  \n",
       "0                                               None  \n",
       "1                                               None  \n",
       "2                                               None  \n",
       "3                                               None  \n",
       "4                                               None  \n",
       "5                                                  ]  \n",
       "6   \\n\\r\\n                            INTEL TEAM ...  \n",
       "7                                                  ]  \n",
       "8                                                  ]  \n",
       "9   \\n\\r\\n                            INTEL TEAM ...  "
      ]
     },
     "execution_count": 37,
     "metadata": {},
     "output_type": "execute_result"
    }
   ],
   "source": [
    "df1 = df['raw'].str.split(',', expand=True)\n",
    "df1.head(10)"
   ]
  },
  {
   "cell_type": "code",
   "execution_count": 38,
   "metadata": {},
   "outputs": [
    {
     "data": {
      "text/html": [
       "<div>\n",
       "<style scoped>\n",
       "    .dataframe tbody tr th:only-of-type {\n",
       "        vertical-align: middle;\n",
       "    }\n",
       "\n",
       "    .dataframe tbody tr th {\n",
       "        vertical-align: top;\n",
       "    }\n",
       "\n",
       "    .dataframe thead th {\n",
       "        text-align: right;\n",
       "    }\n",
       "</style>\n",
       "<table border=\"1\" class=\"dataframe\">\n",
       "  <thead>\n",
       "    <tr style=\"text-align: right;\">\n",
       "      <th></th>\n",
       "      <th>0</th>\n",
       "      <th>1</th>\n",
       "      <th>2</th>\n",
       "      <th>3</th>\n",
       "      <th>4</th>\n",
       "      <th>5</th>\n",
       "      <th>6</th>\n",
       "      <th>7</th>\n",
       "    </tr>\n",
       "  </thead>\n",
       "  <tbody>\n",
       "    <tr>\n",
       "      <th>0</th>\n",
       "      <td>]</td>\n",
       "      <td>None</td>\n",
       "      <td>None</td>\n",
       "      <td>None</td>\n",
       "      <td>None</td>\n",
       "      <td>None</td>\n",
       "      <td>None</td>\n",
       "      <td>None</td>\n",
       "    </tr>\n",
       "    <tr>\n",
       "      <th>1</th>\n",
       "      <td>Finishers:</td>\n",
       "      <td>577]</td>\n",
       "      <td>None</td>\n",
       "      <td>None</td>\n",
       "      <td>None</td>\n",
       "      <td>None</td>\n",
       "      <td>None</td>\n",
       "      <td>None</td>\n",
       "    </tr>\n",
       "    <tr>\n",
       "      <th>2</th>\n",
       "      <td>Male:</td>\n",
       "      <td>414]</td>\n",
       "      <td>None</td>\n",
       "      <td>None</td>\n",
       "      <td>None</td>\n",
       "      <td>None</td>\n",
       "      <td>None</td>\n",
       "      <td>None</td>\n",
       "    </tr>\n",
       "    <tr>\n",
       "      <th>3</th>\n",
       "      <td>Female:</td>\n",
       "      <td>163]</td>\n",
       "      <td>None</td>\n",
       "      <td>None</td>\n",
       "      <td>None</td>\n",
       "      <td>None</td>\n",
       "      <td>None</td>\n",
       "      <td>None</td>\n",
       "    </tr>\n",
       "    <tr>\n",
       "      <th>4</th>\n",
       "      <td>]</td>\n",
       "      <td>None</td>\n",
       "      <td>None</td>\n",
       "      <td>None</td>\n",
       "      <td>None</td>\n",
       "      <td>None</td>\n",
       "      <td>None</td>\n",
       "      <td>None</td>\n",
       "    </tr>\n",
       "    <tr>\n",
       "      <th>5</th>\n",
       "      <td>1</td>\n",
       "      <td>814</td>\n",
       "      <td>\\r\\n\\r\\n                    JARED WILSON\\r\\n\\...</td>\n",
       "      <td>M</td>\n",
       "      <td>TIGARD</td>\n",
       "      <td>36:21</td>\n",
       "      <td>36:24</td>\n",
       "      <td>]</td>\n",
       "    </tr>\n",
       "    <tr>\n",
       "      <th>6</th>\n",
       "      <td>2</td>\n",
       "      <td>573</td>\n",
       "      <td>\\r\\n\\r\\n                    NATHAN A SUSTERSI...</td>\n",
       "      <td>M</td>\n",
       "      <td>PORTLAND</td>\n",
       "      <td>36:42</td>\n",
       "      <td>36:45</td>\n",
       "      <td>\\n\\r\\n                            INTEL TEAM ...</td>\n",
       "    </tr>\n",
       "    <tr>\n",
       "      <th>7</th>\n",
       "      <td>3</td>\n",
       "      <td>687</td>\n",
       "      <td>\\r\\n\\r\\n                    FRANCISCO MAYA\\r\\...</td>\n",
       "      <td>M</td>\n",
       "      <td>PORTLAND</td>\n",
       "      <td>37:44</td>\n",
       "      <td>37:48</td>\n",
       "      <td>]</td>\n",
       "    </tr>\n",
       "    <tr>\n",
       "      <th>8</th>\n",
       "      <td>4</td>\n",
       "      <td>623</td>\n",
       "      <td>\\r\\n\\r\\n                    PAUL MORROW\\r\\n\\r...</td>\n",
       "      <td>M</td>\n",
       "      <td>BEAVERTON</td>\n",
       "      <td>38:34</td>\n",
       "      <td>38:37</td>\n",
       "      <td>]</td>\n",
       "    </tr>\n",
       "    <tr>\n",
       "      <th>9</th>\n",
       "      <td>5</td>\n",
       "      <td>569</td>\n",
       "      <td>\\r\\n\\r\\n                    DEREK G OSBORNE\\r...</td>\n",
       "      <td>M</td>\n",
       "      <td>HILLSBORO</td>\n",
       "      <td>39:21</td>\n",
       "      <td>39:24</td>\n",
       "      <td>\\n\\r\\n                            INTEL TEAM ...</td>\n",
       "    </tr>\n",
       "  </tbody>\n",
       "</table>\n",
       "</div>"
      ],
      "text/plain": [
       "            0      1                                                  2     3  \\\n",
       "0           ]   None                                               None  None   \n",
       "1  Finishers:   577]                                               None  None   \n",
       "2       Male:   414]                                               None  None   \n",
       "3     Female:   163]                                               None  None   \n",
       "4           ]   None                                               None  None   \n",
       "5           1    814   \\r\\n\\r\\n                    JARED WILSON\\r\\n\\...     M   \n",
       "6           2    573   \\r\\n\\r\\n                    NATHAN A SUSTERSI...     M   \n",
       "7           3    687   \\r\\n\\r\\n                    FRANCISCO MAYA\\r\\...     M   \n",
       "8           4    623   \\r\\n\\r\\n                    PAUL MORROW\\r\\n\\r...     M   \n",
       "9           5    569   \\r\\n\\r\\n                    DEREK G OSBORNE\\r...     M   \n",
       "\n",
       "            4       5       6  \\\n",
       "0        None    None    None   \n",
       "1        None    None    None   \n",
       "2        None    None    None   \n",
       "3        None    None    None   \n",
       "4        None    None    None   \n",
       "5      TIGARD   36:21   36:24   \n",
       "6    PORTLAND   36:42   36:45   \n",
       "7    PORTLAND   37:44   37:48   \n",
       "8   BEAVERTON   38:34   38:37   \n",
       "9   HILLSBORO   39:21   39:24   \n",
       "\n",
       "                                                   7  \n",
       "0                                               None  \n",
       "1                                               None  \n",
       "2                                               None  \n",
       "3                                               None  \n",
       "4                                               None  \n",
       "5                                                  ]  \n",
       "6   \\n\\r\\n                            INTEL TEAM ...  \n",
       "7                                                  ]  \n",
       "8                                                  ]  \n",
       "9   \\n\\r\\n                            INTEL TEAM ...  "
      ]
     },
     "execution_count": 38,
     "metadata": {},
     "output_type": "execute_result"
    }
   ],
   "source": [
    "df1[0] = df1[0].str.strip('[')\n",
    "df1.head(10)"
   ]
  },
  {
   "cell_type": "code",
   "execution_count": 39,
   "metadata": {},
   "outputs": [],
   "source": [
    "col_labels = soup.find_all('th')"
   ]
  },
  {
   "cell_type": "code",
   "execution_count": 40,
   "metadata": {},
   "outputs": [
    {
     "name": "stdout",
     "output_type": "stream",
     "text": [
      "['[Place, Bib, Name, Gender, City, Chip Time, Gun Time, Team]']\n"
     ]
    }
   ],
   "source": [
    "all_header = []\n",
    "col_str = str(col_labels)\n",
    "cleantext2 = bs(col_str, \"lxml\").get_text()\n",
    "all_header.append(cleantext2)\n",
    "print(all_header)"
   ]
  },
  {
   "cell_type": "code",
   "execution_count": 41,
   "metadata": {},
   "outputs": [
    {
     "data": {
      "text/html": [
       "<div>\n",
       "<style scoped>\n",
       "    .dataframe tbody tr th:only-of-type {\n",
       "        vertical-align: middle;\n",
       "    }\n",
       "\n",
       "    .dataframe tbody tr th {\n",
       "        vertical-align: top;\n",
       "    }\n",
       "\n",
       "    .dataframe thead th {\n",
       "        text-align: right;\n",
       "    }\n",
       "</style>\n",
       "<table border=\"1\" class=\"dataframe\">\n",
       "  <thead>\n",
       "    <tr style=\"text-align: right;\">\n",
       "      <th></th>\n",
       "      <th>0</th>\n",
       "    </tr>\n",
       "  </thead>\n",
       "  <tbody>\n",
       "    <tr>\n",
       "      <th>0</th>\n",
       "      <td>[Place, Bib, Name, Gender, City, Chip Time, Gu...</td>\n",
       "    </tr>\n",
       "  </tbody>\n",
       "</table>\n",
       "</div>"
      ],
      "text/plain": [
       "                                                   0\n",
       "0  [Place, Bib, Name, Gender, City, Chip Time, Gu..."
      ]
     },
     "execution_count": 41,
     "metadata": {},
     "output_type": "execute_result"
    }
   ],
   "source": [
    "df2 = pd.DataFrame(all_header)\n",
    "df2.head()"
   ]
  },
  {
   "cell_type": "code",
   "execution_count": 42,
   "metadata": {},
   "outputs": [
    {
     "data": {
      "text/html": [
       "<div>\n",
       "<style scoped>\n",
       "    .dataframe tbody tr th:only-of-type {\n",
       "        vertical-align: middle;\n",
       "    }\n",
       "\n",
       "    .dataframe tbody tr th {\n",
       "        vertical-align: top;\n",
       "    }\n",
       "\n",
       "    .dataframe thead th {\n",
       "        text-align: right;\n",
       "    }\n",
       "</style>\n",
       "<table border=\"1\" class=\"dataframe\">\n",
       "  <thead>\n",
       "    <tr style=\"text-align: right;\">\n",
       "      <th></th>\n",
       "      <th>0</th>\n",
       "      <th>1</th>\n",
       "      <th>2</th>\n",
       "      <th>3</th>\n",
       "      <th>4</th>\n",
       "      <th>5</th>\n",
       "      <th>6</th>\n",
       "      <th>7</th>\n",
       "    </tr>\n",
       "  </thead>\n",
       "  <tbody>\n",
       "    <tr>\n",
       "      <th>0</th>\n",
       "      <td>[Place</td>\n",
       "      <td>Bib</td>\n",
       "      <td>Name</td>\n",
       "      <td>Gender</td>\n",
       "      <td>City</td>\n",
       "      <td>Chip Time</td>\n",
       "      <td>Gun Time</td>\n",
       "      <td>Team]</td>\n",
       "    </tr>\n",
       "  </tbody>\n",
       "</table>\n",
       "</div>"
      ],
      "text/plain": [
       "        0     1      2        3      4           5          6       7\n",
       "0  [Place   Bib   Name   Gender   City   Chip Time   Gun Time   Team]"
      ]
     },
     "execution_count": 42,
     "metadata": {},
     "output_type": "execute_result"
    }
   ],
   "source": [
    "df3 = df2[0].str.split(',', expand=True)\n",
    "df3.head()"
   ]
  },
  {
   "cell_type": "code",
   "execution_count": 43,
   "metadata": {},
   "outputs": [
    {
     "data": {
      "text/html": [
       "<div>\n",
       "<style scoped>\n",
       "    .dataframe tbody tr th:only-of-type {\n",
       "        vertical-align: middle;\n",
       "    }\n",
       "\n",
       "    .dataframe tbody tr th {\n",
       "        vertical-align: top;\n",
       "    }\n",
       "\n",
       "    .dataframe thead th {\n",
       "        text-align: right;\n",
       "    }\n",
       "</style>\n",
       "<table border=\"1\" class=\"dataframe\">\n",
       "  <thead>\n",
       "    <tr style=\"text-align: right;\">\n",
       "      <th></th>\n",
       "      <th>0</th>\n",
       "      <th>1</th>\n",
       "      <th>2</th>\n",
       "      <th>3</th>\n",
       "      <th>4</th>\n",
       "      <th>5</th>\n",
       "      <th>6</th>\n",
       "      <th>7</th>\n",
       "    </tr>\n",
       "  </thead>\n",
       "  <tbody>\n",
       "    <tr>\n",
       "      <th>0</th>\n",
       "      <td>[Place</td>\n",
       "      <td>Bib</td>\n",
       "      <td>Name</td>\n",
       "      <td>Gender</td>\n",
       "      <td>City</td>\n",
       "      <td>Chip Time</td>\n",
       "      <td>Gun Time</td>\n",
       "      <td>Team]</td>\n",
       "    </tr>\n",
       "    <tr>\n",
       "      <th>0</th>\n",
       "      <td>]</td>\n",
       "      <td>None</td>\n",
       "      <td>None</td>\n",
       "      <td>None</td>\n",
       "      <td>None</td>\n",
       "      <td>None</td>\n",
       "      <td>None</td>\n",
       "      <td>None</td>\n",
       "    </tr>\n",
       "    <tr>\n",
       "      <th>1</th>\n",
       "      <td>Finishers:</td>\n",
       "      <td>577]</td>\n",
       "      <td>None</td>\n",
       "      <td>None</td>\n",
       "      <td>None</td>\n",
       "      <td>None</td>\n",
       "      <td>None</td>\n",
       "      <td>None</td>\n",
       "    </tr>\n",
       "    <tr>\n",
       "      <th>2</th>\n",
       "      <td>Male:</td>\n",
       "      <td>414]</td>\n",
       "      <td>None</td>\n",
       "      <td>None</td>\n",
       "      <td>None</td>\n",
       "      <td>None</td>\n",
       "      <td>None</td>\n",
       "      <td>None</td>\n",
       "    </tr>\n",
       "    <tr>\n",
       "      <th>3</th>\n",
       "      <td>Female:</td>\n",
       "      <td>163]</td>\n",
       "      <td>None</td>\n",
       "      <td>None</td>\n",
       "      <td>None</td>\n",
       "      <td>None</td>\n",
       "      <td>None</td>\n",
       "      <td>None</td>\n",
       "    </tr>\n",
       "    <tr>\n",
       "      <th>4</th>\n",
       "      <td>]</td>\n",
       "      <td>None</td>\n",
       "      <td>None</td>\n",
       "      <td>None</td>\n",
       "      <td>None</td>\n",
       "      <td>None</td>\n",
       "      <td>None</td>\n",
       "      <td>None</td>\n",
       "    </tr>\n",
       "    <tr>\n",
       "      <th>5</th>\n",
       "      <td>1</td>\n",
       "      <td>814</td>\n",
       "      <td>\\r\\n\\r\\n                    JARED WILSON\\r\\n\\...</td>\n",
       "      <td>M</td>\n",
       "      <td>TIGARD</td>\n",
       "      <td>36:21</td>\n",
       "      <td>36:24</td>\n",
       "      <td>]</td>\n",
       "    </tr>\n",
       "    <tr>\n",
       "      <th>6</th>\n",
       "      <td>2</td>\n",
       "      <td>573</td>\n",
       "      <td>\\r\\n\\r\\n                    NATHAN A SUSTERSI...</td>\n",
       "      <td>M</td>\n",
       "      <td>PORTLAND</td>\n",
       "      <td>36:42</td>\n",
       "      <td>36:45</td>\n",
       "      <td>\\n\\r\\n                            INTEL TEAM ...</td>\n",
       "    </tr>\n",
       "    <tr>\n",
       "      <th>7</th>\n",
       "      <td>3</td>\n",
       "      <td>687</td>\n",
       "      <td>\\r\\n\\r\\n                    FRANCISCO MAYA\\r\\...</td>\n",
       "      <td>M</td>\n",
       "      <td>PORTLAND</td>\n",
       "      <td>37:44</td>\n",
       "      <td>37:48</td>\n",
       "      <td>]</td>\n",
       "    </tr>\n",
       "    <tr>\n",
       "      <th>8</th>\n",
       "      <td>4</td>\n",
       "      <td>623</td>\n",
       "      <td>\\r\\n\\r\\n                    PAUL MORROW\\r\\n\\r...</td>\n",
       "      <td>M</td>\n",
       "      <td>BEAVERTON</td>\n",
       "      <td>38:34</td>\n",
       "      <td>38:37</td>\n",
       "      <td>]</td>\n",
       "    </tr>\n",
       "  </tbody>\n",
       "</table>\n",
       "</div>"
      ],
      "text/plain": [
       "            0      1                                                  2  \\\n",
       "0      [Place    Bib                                               Name   \n",
       "0           ]   None                                               None   \n",
       "1  Finishers:   577]                                               None   \n",
       "2       Male:   414]                                               None   \n",
       "3     Female:   163]                                               None   \n",
       "4           ]   None                                               None   \n",
       "5           1    814   \\r\\n\\r\\n                    JARED WILSON\\r\\n\\...   \n",
       "6           2    573   \\r\\n\\r\\n                    NATHAN A SUSTERSI...   \n",
       "7           3    687   \\r\\n\\r\\n                    FRANCISCO MAYA\\r\\...   \n",
       "8           4    623   \\r\\n\\r\\n                    PAUL MORROW\\r\\n\\r...   \n",
       "\n",
       "         3           4           5          6  \\\n",
       "0   Gender        City   Chip Time   Gun Time   \n",
       "0     None        None        None       None   \n",
       "1     None        None        None       None   \n",
       "2     None        None        None       None   \n",
       "3     None        None        None       None   \n",
       "4     None        None        None       None   \n",
       "5        M      TIGARD       36:21      36:24   \n",
       "6        M    PORTLAND       36:42      36:45   \n",
       "7        M    PORTLAND       37:44      37:48   \n",
       "8        M   BEAVERTON       38:34      38:37   \n",
       "\n",
       "                                                   7  \n",
       "0                                              Team]  \n",
       "0                                               None  \n",
       "1                                               None  \n",
       "2                                               None  \n",
       "3                                               None  \n",
       "4                                               None  \n",
       "5                                                  ]  \n",
       "6   \\n\\r\\n                            INTEL TEAM ...  \n",
       "7                                                  ]  \n",
       "8                                                  ]  "
      ]
     },
     "execution_count": 43,
     "metadata": {},
     "output_type": "execute_result"
    }
   ],
   "source": [
    "frames = [df3, df1]\n",
    "\n",
    "df4 = pd.concat(frames)\n",
    "df4.head(10)"
   ]
  },
  {
   "cell_type": "code",
   "execution_count": 44,
   "metadata": {},
   "outputs": [
    {
     "data": {
      "text/html": [
       "<div>\n",
       "<style scoped>\n",
       "    .dataframe tbody tr th:only-of-type {\n",
       "        vertical-align: middle;\n",
       "    }\n",
       "\n",
       "    .dataframe tbody tr th {\n",
       "        vertical-align: top;\n",
       "    }\n",
       "\n",
       "    .dataframe thead th {\n",
       "        text-align: right;\n",
       "    }\n",
       "</style>\n",
       "<table border=\"1\" class=\"dataframe\">\n",
       "  <thead>\n",
       "    <tr style=\"text-align: right;\">\n",
       "      <th></th>\n",
       "      <th>[Place</th>\n",
       "      <th>Bib</th>\n",
       "      <th>Name</th>\n",
       "      <th>Gender</th>\n",
       "      <th>City</th>\n",
       "      <th>Chip Time</th>\n",
       "      <th>Gun Time</th>\n",
       "      <th>Team]</th>\n",
       "    </tr>\n",
       "  </thead>\n",
       "  <tbody>\n",
       "    <tr>\n",
       "      <th>0</th>\n",
       "      <td>[Place</td>\n",
       "      <td>Bib</td>\n",
       "      <td>Name</td>\n",
       "      <td>Gender</td>\n",
       "      <td>City</td>\n",
       "      <td>Chip Time</td>\n",
       "      <td>Gun Time</td>\n",
       "      <td>Team]</td>\n",
       "    </tr>\n",
       "    <tr>\n",
       "      <th>0</th>\n",
       "      <td>]</td>\n",
       "      <td>None</td>\n",
       "      <td>None</td>\n",
       "      <td>None</td>\n",
       "      <td>None</td>\n",
       "      <td>None</td>\n",
       "      <td>None</td>\n",
       "      <td>None</td>\n",
       "    </tr>\n",
       "    <tr>\n",
       "      <th>1</th>\n",
       "      <td>Finishers:</td>\n",
       "      <td>577]</td>\n",
       "      <td>None</td>\n",
       "      <td>None</td>\n",
       "      <td>None</td>\n",
       "      <td>None</td>\n",
       "      <td>None</td>\n",
       "      <td>None</td>\n",
       "    </tr>\n",
       "    <tr>\n",
       "      <th>2</th>\n",
       "      <td>Male:</td>\n",
       "      <td>414]</td>\n",
       "      <td>None</td>\n",
       "      <td>None</td>\n",
       "      <td>None</td>\n",
       "      <td>None</td>\n",
       "      <td>None</td>\n",
       "      <td>None</td>\n",
       "    </tr>\n",
       "    <tr>\n",
       "      <th>3</th>\n",
       "      <td>Female:</td>\n",
       "      <td>163]</td>\n",
       "      <td>None</td>\n",
       "      <td>None</td>\n",
       "      <td>None</td>\n",
       "      <td>None</td>\n",
       "      <td>None</td>\n",
       "      <td>None</td>\n",
       "    </tr>\n",
       "  </tbody>\n",
       "</table>\n",
       "</div>"
      ],
      "text/plain": [
       "       [Place    Bib   Name   Gender   City   Chip Time   Gun Time   Team]\n",
       "0      [Place    Bib   Name   Gender   City   Chip Time   Gun Time   Team]\n",
       "0           ]   None   None     None   None        None       None    None\n",
       "1  Finishers:   577]   None     None   None        None       None    None\n",
       "2       Male:   414]   None     None   None        None       None    None\n",
       "3     Female:   163]   None     None   None        None       None    None"
      ]
     },
     "execution_count": 44,
     "metadata": {},
     "output_type": "execute_result"
    }
   ],
   "source": [
    "df5 = df4.rename(columns=df4.iloc[0])\n",
    "df5.head()"
   ]
  },
  {
   "cell_type": "code",
   "execution_count": 45,
   "metadata": {},
   "outputs": [
    {
     "name": "stdout",
     "output_type": "stream",
     "text": [
      "<class 'pandas.core.frame.DataFrame'>\n",
      "Int64Index: 583 entries, 0 to 581\n",
      "Data columns (total 8 columns):\n",
      " #   Column      Non-Null Count  Dtype \n",
      "---  ------      --------------  ----- \n",
      " 0   [Place      583 non-null    object\n",
      " 1    Bib        581 non-null    object\n",
      " 2    Name       578 non-null    object\n",
      " 3    Gender     578 non-null    object\n",
      " 4    City       578 non-null    object\n",
      " 5    Chip Time  578 non-null    object\n",
      " 6    Gun Time   578 non-null    object\n",
      " 7    Team]      578 non-null    object\n",
      "dtypes: object(8)\n",
      "memory usage: 41.0+ KB\n"
     ]
    },
    {
     "data": {
      "text/plain": [
       "(583, 8)"
      ]
     },
     "execution_count": 45,
     "metadata": {},
     "output_type": "execute_result"
    }
   ],
   "source": [
    "df5.info()\n",
    "df5.shape"
   ]
  },
  {
   "cell_type": "code",
   "execution_count": 46,
   "metadata": {},
   "outputs": [],
   "source": [
    "df6 = df5.dropna(axis=0, how='any')"
   ]
  },
  {
   "cell_type": "code",
   "execution_count": 47,
   "metadata": {},
   "outputs": [
    {
     "data": {
      "text/html": [
       "<div>\n",
       "<style scoped>\n",
       "    .dataframe tbody tr th:only-of-type {\n",
       "        vertical-align: middle;\n",
       "    }\n",
       "\n",
       "    .dataframe tbody tr th {\n",
       "        vertical-align: top;\n",
       "    }\n",
       "\n",
       "    .dataframe thead th {\n",
       "        text-align: right;\n",
       "    }\n",
       "</style>\n",
       "<table border=\"1\" class=\"dataframe\">\n",
       "  <thead>\n",
       "    <tr style=\"text-align: right;\">\n",
       "      <th></th>\n",
       "      <th>[Place</th>\n",
       "      <th>Bib</th>\n",
       "      <th>Name</th>\n",
       "      <th>Gender</th>\n",
       "      <th>City</th>\n",
       "      <th>Chip Time</th>\n",
       "      <th>Gun Time</th>\n",
       "      <th>Team]</th>\n",
       "    </tr>\n",
       "  </thead>\n",
       "  <tbody>\n",
       "    <tr>\n",
       "      <th>5</th>\n",
       "      <td>1</td>\n",
       "      <td>814</td>\n",
       "      <td>\\r\\n\\r\\n                    JARED WILSON\\r\\n\\...</td>\n",
       "      <td>M</td>\n",
       "      <td>TIGARD</td>\n",
       "      <td>36:21</td>\n",
       "      <td>36:24</td>\n",
       "      <td>]</td>\n",
       "    </tr>\n",
       "    <tr>\n",
       "      <th>6</th>\n",
       "      <td>2</td>\n",
       "      <td>573</td>\n",
       "      <td>\\r\\n\\r\\n                    NATHAN A SUSTERSI...</td>\n",
       "      <td>M</td>\n",
       "      <td>PORTLAND</td>\n",
       "      <td>36:42</td>\n",
       "      <td>36:45</td>\n",
       "      <td>\\n\\r\\n                            INTEL TEAM ...</td>\n",
       "    </tr>\n",
       "    <tr>\n",
       "      <th>7</th>\n",
       "      <td>3</td>\n",
       "      <td>687</td>\n",
       "      <td>\\r\\n\\r\\n                    FRANCISCO MAYA\\r\\...</td>\n",
       "      <td>M</td>\n",
       "      <td>PORTLAND</td>\n",
       "      <td>37:44</td>\n",
       "      <td>37:48</td>\n",
       "      <td>]</td>\n",
       "    </tr>\n",
       "    <tr>\n",
       "      <th>8</th>\n",
       "      <td>4</td>\n",
       "      <td>623</td>\n",
       "      <td>\\r\\n\\r\\n                    PAUL MORROW\\r\\n\\r...</td>\n",
       "      <td>M</td>\n",
       "      <td>BEAVERTON</td>\n",
       "      <td>38:34</td>\n",
       "      <td>38:37</td>\n",
       "      <td>]</td>\n",
       "    </tr>\n",
       "    <tr>\n",
       "      <th>9</th>\n",
       "      <td>5</td>\n",
       "      <td>569</td>\n",
       "      <td>\\r\\n\\r\\n                    DEREK G OSBORNE\\r...</td>\n",
       "      <td>M</td>\n",
       "      <td>HILLSBORO</td>\n",
       "      <td>39:21</td>\n",
       "      <td>39:24</td>\n",
       "      <td>\\n\\r\\n                            INTEL TEAM ...</td>\n",
       "    </tr>\n",
       "  </tbody>\n",
       "</table>\n",
       "</div>"
      ],
      "text/plain": [
       "  [Place   Bib                                               Name  Gender  \\\n",
       "5      1   814   \\r\\n\\r\\n                    JARED WILSON\\r\\n\\...       M   \n",
       "6      2   573   \\r\\n\\r\\n                    NATHAN A SUSTERSI...       M   \n",
       "7      3   687   \\r\\n\\r\\n                    FRANCISCO MAYA\\r\\...       M   \n",
       "8      4   623   \\r\\n\\r\\n                    PAUL MORROW\\r\\n\\r...       M   \n",
       "9      5   569   \\r\\n\\r\\n                    DEREK G OSBORNE\\r...       M   \n",
       "\n",
       "         City  Chip Time  Gun Time  \\\n",
       "5      TIGARD      36:21     36:24   \n",
       "6    PORTLAND      36:42     36:45   \n",
       "7    PORTLAND      37:44     37:48   \n",
       "8   BEAVERTON      38:34     38:37   \n",
       "9   HILLSBORO      39:21     39:24   \n",
       "\n",
       "                                               Team]  \n",
       "5                                                  ]  \n",
       "6   \\n\\r\\n                            INTEL TEAM ...  \n",
       "7                                                  ]  \n",
       "8                                                  ]  \n",
       "9   \\n\\r\\n                            INTEL TEAM ...  "
      ]
     },
     "execution_count": 47,
     "metadata": {},
     "output_type": "execute_result"
    }
   ],
   "source": [
    "df7 = df6.drop(df6.index[0])\n",
    "df7.head()"
   ]
  },
  {
   "cell_type": "code",
   "execution_count": 48,
   "metadata": {},
   "outputs": [
    {
     "data": {
      "text/html": [
       "<div>\n",
       "<style scoped>\n",
       "    .dataframe tbody tr th:only-of-type {\n",
       "        vertical-align: middle;\n",
       "    }\n",
       "\n",
       "    .dataframe tbody tr th {\n",
       "        vertical-align: top;\n",
       "    }\n",
       "\n",
       "    .dataframe thead th {\n",
       "        text-align: right;\n",
       "    }\n",
       "</style>\n",
       "<table border=\"1\" class=\"dataframe\">\n",
       "  <thead>\n",
       "    <tr style=\"text-align: right;\">\n",
       "      <th></th>\n",
       "      <th>Place</th>\n",
       "      <th>Bib</th>\n",
       "      <th>Name</th>\n",
       "      <th>Gender</th>\n",
       "      <th>City</th>\n",
       "      <th>Chip Time</th>\n",
       "      <th>Gun Time</th>\n",
       "      <th>Team</th>\n",
       "    </tr>\n",
       "  </thead>\n",
       "  <tbody>\n",
       "    <tr>\n",
       "      <th>5</th>\n",
       "      <td>1</td>\n",
       "      <td>814</td>\n",
       "      <td>\\r\\n\\r\\n                    JARED WILSON\\r\\n\\...</td>\n",
       "      <td>M</td>\n",
       "      <td>TIGARD</td>\n",
       "      <td>36:21</td>\n",
       "      <td>36:24</td>\n",
       "      <td>]</td>\n",
       "    </tr>\n",
       "    <tr>\n",
       "      <th>6</th>\n",
       "      <td>2</td>\n",
       "      <td>573</td>\n",
       "      <td>\\r\\n\\r\\n                    NATHAN A SUSTERSI...</td>\n",
       "      <td>M</td>\n",
       "      <td>PORTLAND</td>\n",
       "      <td>36:42</td>\n",
       "      <td>36:45</td>\n",
       "      <td>\\n\\r\\n                            INTEL TEAM ...</td>\n",
       "    </tr>\n",
       "    <tr>\n",
       "      <th>7</th>\n",
       "      <td>3</td>\n",
       "      <td>687</td>\n",
       "      <td>\\r\\n\\r\\n                    FRANCISCO MAYA\\r\\...</td>\n",
       "      <td>M</td>\n",
       "      <td>PORTLAND</td>\n",
       "      <td>37:44</td>\n",
       "      <td>37:48</td>\n",
       "      <td>]</td>\n",
       "    </tr>\n",
       "    <tr>\n",
       "      <th>8</th>\n",
       "      <td>4</td>\n",
       "      <td>623</td>\n",
       "      <td>\\r\\n\\r\\n                    PAUL MORROW\\r\\n\\r...</td>\n",
       "      <td>M</td>\n",
       "      <td>BEAVERTON</td>\n",
       "      <td>38:34</td>\n",
       "      <td>38:37</td>\n",
       "      <td>]</td>\n",
       "    </tr>\n",
       "    <tr>\n",
       "      <th>9</th>\n",
       "      <td>5</td>\n",
       "      <td>569</td>\n",
       "      <td>\\r\\n\\r\\n                    DEREK G OSBORNE\\r...</td>\n",
       "      <td>M</td>\n",
       "      <td>HILLSBORO</td>\n",
       "      <td>39:21</td>\n",
       "      <td>39:24</td>\n",
       "      <td>\\n\\r\\n                            INTEL TEAM ...</td>\n",
       "    </tr>\n",
       "  </tbody>\n",
       "</table>\n",
       "</div>"
      ],
      "text/plain": [
       "  Place   Bib                                               Name  Gender  \\\n",
       "5     1   814   \\r\\n\\r\\n                    JARED WILSON\\r\\n\\...       M   \n",
       "6     2   573   \\r\\n\\r\\n                    NATHAN A SUSTERSI...       M   \n",
       "7     3   687   \\r\\n\\r\\n                    FRANCISCO MAYA\\r\\...       M   \n",
       "8     4   623   \\r\\n\\r\\n                    PAUL MORROW\\r\\n\\r...       M   \n",
       "9     5   569   \\r\\n\\r\\n                    DEREK G OSBORNE\\r...       M   \n",
       "\n",
       "         City  Chip Time  Gun Time  \\\n",
       "5      TIGARD      36:21     36:24   \n",
       "6    PORTLAND      36:42     36:45   \n",
       "7    PORTLAND      37:44     37:48   \n",
       "8   BEAVERTON      38:34     38:37   \n",
       "9   HILLSBORO      39:21     39:24   \n",
       "\n",
       "                                                Team  \n",
       "5                                                  ]  \n",
       "6   \\n\\r\\n                            INTEL TEAM ...  \n",
       "7                                                  ]  \n",
       "8                                                  ]  \n",
       "9   \\n\\r\\n                            INTEL TEAM ...  "
      ]
     },
     "execution_count": 48,
     "metadata": {},
     "output_type": "execute_result"
    }
   ],
   "source": [
    "df7.rename(columns={'[Place': 'Place'},inplace=True)\n",
    "df7.rename(columns={' Team]': 'Team'},inplace=True)\n",
    "df7.head()"
   ]
  },
  {
   "cell_type": "code",
   "execution_count": 49,
   "metadata": {},
   "outputs": [
    {
     "data": {
      "text/html": [
       "<div>\n",
       "<style scoped>\n",
       "    .dataframe tbody tr th:only-of-type {\n",
       "        vertical-align: middle;\n",
       "    }\n",
       "\n",
       "    .dataframe tbody tr th {\n",
       "        vertical-align: top;\n",
       "    }\n",
       "\n",
       "    .dataframe thead th {\n",
       "        text-align: right;\n",
       "    }\n",
       "</style>\n",
       "<table border=\"1\" class=\"dataframe\">\n",
       "  <thead>\n",
       "    <tr style=\"text-align: right;\">\n",
       "      <th></th>\n",
       "      <th>Place</th>\n",
       "      <th>Bib</th>\n",
       "      <th>Name</th>\n",
       "      <th>Gender</th>\n",
       "      <th>City</th>\n",
       "      <th>Chip Time</th>\n",
       "      <th>Gun Time</th>\n",
       "      <th>Team</th>\n",
       "    </tr>\n",
       "  </thead>\n",
       "  <tbody>\n",
       "    <tr>\n",
       "      <th>5</th>\n",
       "      <td>1</td>\n",
       "      <td>814</td>\n",
       "      <td>\\r\\n\\r\\n                    JARED WILSON\\r\\n\\...</td>\n",
       "      <td>M</td>\n",
       "      <td>TIGARD</td>\n",
       "      <td>36:21</td>\n",
       "      <td>36:24</td>\n",
       "      <td></td>\n",
       "    </tr>\n",
       "    <tr>\n",
       "      <th>6</th>\n",
       "      <td>2</td>\n",
       "      <td>573</td>\n",
       "      <td>\\r\\n\\r\\n                    NATHAN A SUSTERSI...</td>\n",
       "      <td>M</td>\n",
       "      <td>PORTLAND</td>\n",
       "      <td>36:42</td>\n",
       "      <td>36:45</td>\n",
       "      <td>\\n\\r\\n                            INTEL TEAM ...</td>\n",
       "    </tr>\n",
       "    <tr>\n",
       "      <th>7</th>\n",
       "      <td>3</td>\n",
       "      <td>687</td>\n",
       "      <td>\\r\\n\\r\\n                    FRANCISCO MAYA\\r\\...</td>\n",
       "      <td>M</td>\n",
       "      <td>PORTLAND</td>\n",
       "      <td>37:44</td>\n",
       "      <td>37:48</td>\n",
       "      <td></td>\n",
       "    </tr>\n",
       "    <tr>\n",
       "      <th>8</th>\n",
       "      <td>4</td>\n",
       "      <td>623</td>\n",
       "      <td>\\r\\n\\r\\n                    PAUL MORROW\\r\\n\\r...</td>\n",
       "      <td>M</td>\n",
       "      <td>BEAVERTON</td>\n",
       "      <td>38:34</td>\n",
       "      <td>38:37</td>\n",
       "      <td></td>\n",
       "    </tr>\n",
       "    <tr>\n",
       "      <th>9</th>\n",
       "      <td>5</td>\n",
       "      <td>569</td>\n",
       "      <td>\\r\\n\\r\\n                    DEREK G OSBORNE\\r...</td>\n",
       "      <td>M</td>\n",
       "      <td>HILLSBORO</td>\n",
       "      <td>39:21</td>\n",
       "      <td>39:24</td>\n",
       "      <td>\\n\\r\\n                            INTEL TEAM ...</td>\n",
       "    </tr>\n",
       "  </tbody>\n",
       "</table>\n",
       "</div>"
      ],
      "text/plain": [
       "  Place   Bib                                               Name  Gender  \\\n",
       "5     1   814   \\r\\n\\r\\n                    JARED WILSON\\r\\n\\...       M   \n",
       "6     2   573   \\r\\n\\r\\n                    NATHAN A SUSTERSI...       M   \n",
       "7     3   687   \\r\\n\\r\\n                    FRANCISCO MAYA\\r\\...       M   \n",
       "8     4   623   \\r\\n\\r\\n                    PAUL MORROW\\r\\n\\r...       M   \n",
       "9     5   569   \\r\\n\\r\\n                    DEREK G OSBORNE\\r...       M   \n",
       "\n",
       "         City  Chip Time  Gun Time  \\\n",
       "5      TIGARD      36:21     36:24   \n",
       "6    PORTLAND      36:42     36:45   \n",
       "7    PORTLAND      37:44     37:48   \n",
       "8   BEAVERTON      38:34     38:37   \n",
       "9   HILLSBORO      39:21     39:24   \n",
       "\n",
       "                                                Team  \n",
       "5                                                     \n",
       "6   \\n\\r\\n                            INTEL TEAM ...  \n",
       "7                                                     \n",
       "8                                                     \n",
       "9   \\n\\r\\n                            INTEL TEAM ...  "
      ]
     },
     "execution_count": 49,
     "metadata": {},
     "output_type": "execute_result"
    }
   ],
   "source": [
    "df7['Team'] = df7['Team'].str.strip(']')\n",
    "df7.head()"
   ]
  },
  {
   "cell_type": "code",
   "execution_count": 50,
   "metadata": {},
   "outputs": [],
   "source": [
    "time_list = df7[' Chip Time'].tolist()\n",
    "\n",
    "# You can use a for loop to convert 'Chip Time' to minutes\n",
    "\n",
    "time_mins = []\n",
    "for i in time_list:\n",
    "    try:\n",
    "        h, m, s = i.split(':')\n",
    "        math = (int(h) * 3600 + int(m) * 60 + int(s))/60\n",
    "    except:\n",
    "        h, m = i.split(':')\n",
    "        math = (int(h) * 3600 + int(m) * 60) # + int(s))/60\n",
    "    time_mins.append(math)\n",
    "#print(time_mins)"
   ]
  },
  {
   "cell_type": "code",
   "execution_count": 51,
   "metadata": {},
   "outputs": [
    {
     "data": {
      "text/html": [
       "<div>\n",
       "<style scoped>\n",
       "    .dataframe tbody tr th:only-of-type {\n",
       "        vertical-align: middle;\n",
       "    }\n",
       "\n",
       "    .dataframe tbody tr th {\n",
       "        vertical-align: top;\n",
       "    }\n",
       "\n",
       "    .dataframe thead th {\n",
       "        text-align: right;\n",
       "    }\n",
       "</style>\n",
       "<table border=\"1\" class=\"dataframe\">\n",
       "  <thead>\n",
       "    <tr style=\"text-align: right;\">\n",
       "      <th></th>\n",
       "      <th>Place</th>\n",
       "      <th>Bib</th>\n",
       "      <th>Name</th>\n",
       "      <th>Gender</th>\n",
       "      <th>City</th>\n",
       "      <th>Chip Time</th>\n",
       "      <th>Gun Time</th>\n",
       "      <th>Team</th>\n",
       "      <th>Runner_mins</th>\n",
       "    </tr>\n",
       "  </thead>\n",
       "  <tbody>\n",
       "    <tr>\n",
       "      <th>5</th>\n",
       "      <td>1</td>\n",
       "      <td>814</td>\n",
       "      <td>\\r\\n\\r\\n                    JARED WILSON\\r\\n\\...</td>\n",
       "      <td>M</td>\n",
       "      <td>TIGARD</td>\n",
       "      <td>36:21</td>\n",
       "      <td>36:24</td>\n",
       "      <td></td>\n",
       "      <td>130860.0</td>\n",
       "    </tr>\n",
       "    <tr>\n",
       "      <th>6</th>\n",
       "      <td>2</td>\n",
       "      <td>573</td>\n",
       "      <td>\\r\\n\\r\\n                    NATHAN A SUSTERSI...</td>\n",
       "      <td>M</td>\n",
       "      <td>PORTLAND</td>\n",
       "      <td>36:42</td>\n",
       "      <td>36:45</td>\n",
       "      <td>\\n\\r\\n                            INTEL TEAM ...</td>\n",
       "      <td>132120.0</td>\n",
       "    </tr>\n",
       "    <tr>\n",
       "      <th>7</th>\n",
       "      <td>3</td>\n",
       "      <td>687</td>\n",
       "      <td>\\r\\n\\r\\n                    FRANCISCO MAYA\\r\\...</td>\n",
       "      <td>M</td>\n",
       "      <td>PORTLAND</td>\n",
       "      <td>37:44</td>\n",
       "      <td>37:48</td>\n",
       "      <td></td>\n",
       "      <td>135840.0</td>\n",
       "    </tr>\n",
       "    <tr>\n",
       "      <th>8</th>\n",
       "      <td>4</td>\n",
       "      <td>623</td>\n",
       "      <td>\\r\\n\\r\\n                    PAUL MORROW\\r\\n\\r...</td>\n",
       "      <td>M</td>\n",
       "      <td>BEAVERTON</td>\n",
       "      <td>38:34</td>\n",
       "      <td>38:37</td>\n",
       "      <td></td>\n",
       "      <td>138840.0</td>\n",
       "    </tr>\n",
       "    <tr>\n",
       "      <th>9</th>\n",
       "      <td>5</td>\n",
       "      <td>569</td>\n",
       "      <td>\\r\\n\\r\\n                    DEREK G OSBORNE\\r...</td>\n",
       "      <td>M</td>\n",
       "      <td>HILLSBORO</td>\n",
       "      <td>39:21</td>\n",
       "      <td>39:24</td>\n",
       "      <td>\\n\\r\\n                            INTEL TEAM ...</td>\n",
       "      <td>141660.0</td>\n",
       "    </tr>\n",
       "  </tbody>\n",
       "</table>\n",
       "</div>"
      ],
      "text/plain": [
       "  Place   Bib                                               Name  Gender  \\\n",
       "5     1   814   \\r\\n\\r\\n                    JARED WILSON\\r\\n\\...       M   \n",
       "6     2   573   \\r\\n\\r\\n                    NATHAN A SUSTERSI...       M   \n",
       "7     3   687   \\r\\n\\r\\n                    FRANCISCO MAYA\\r\\...       M   \n",
       "8     4   623   \\r\\n\\r\\n                    PAUL MORROW\\r\\n\\r...       M   \n",
       "9     5   569   \\r\\n\\r\\n                    DEREK G OSBORNE\\r...       M   \n",
       "\n",
       "         City  Chip Time  Gun Time  \\\n",
       "5      TIGARD      36:21     36:24   \n",
       "6    PORTLAND      36:42     36:45   \n",
       "7    PORTLAND      37:44     37:48   \n",
       "8   BEAVERTON      38:34     38:37   \n",
       "9   HILLSBORO      39:21     39:24   \n",
       "\n",
       "                                                Team  Runner_mins  \n",
       "5                                                        130860.0  \n",
       "6   \\n\\r\\n                            INTEL TEAM ...     132120.0  \n",
       "7                                                        135840.0  \n",
       "8                                                        138840.0  \n",
       "9   \\n\\r\\n                            INTEL TEAM ...     141660.0  "
      ]
     },
     "execution_count": 51,
     "metadata": {},
     "output_type": "execute_result"
    }
   ],
   "source": [
    "df7['Runner_mins'] = time_mins\n",
    "df7.head()"
   ]
  },
  {
   "cell_type": "code",
   "execution_count": 52,
   "metadata": {},
   "outputs": [
    {
     "data": {
      "text/html": [
       "<div>\n",
       "<style scoped>\n",
       "    .dataframe tbody tr th:only-of-type {\n",
       "        vertical-align: middle;\n",
       "    }\n",
       "\n",
       "    .dataframe tbody tr th {\n",
       "        vertical-align: top;\n",
       "    }\n",
       "\n",
       "    .dataframe thead th {\n",
       "        text-align: right;\n",
       "    }\n",
       "</style>\n",
       "<table border=\"1\" class=\"dataframe\">\n",
       "  <thead>\n",
       "    <tr style=\"text-align: right;\">\n",
       "      <th></th>\n",
       "      <th>Runner_mins</th>\n",
       "    </tr>\n",
       "  </thead>\n",
       "  <tbody>\n",
       "    <tr>\n",
       "      <th>count</th>\n",
       "      <td>577.000000</td>\n",
       "    </tr>\n",
       "    <tr>\n",
       "      <th>mean</th>\n",
       "      <td>97617.157972</td>\n",
       "    </tr>\n",
       "    <tr>\n",
       "      <th>std</th>\n",
       "      <td>92975.700498</td>\n",
       "    </tr>\n",
       "    <tr>\n",
       "      <th>min</th>\n",
       "      <td>60.016667</td>\n",
       "    </tr>\n",
       "    <tr>\n",
       "      <th>25%</th>\n",
       "      <td>68.300000</td>\n",
       "    </tr>\n",
       "    <tr>\n",
       "      <th>50%</th>\n",
       "      <td>152580.000000</td>\n",
       "    </tr>\n",
       "    <tr>\n",
       "      <th>75%</th>\n",
       "      <td>186540.000000</td>\n",
       "    </tr>\n",
       "    <tr>\n",
       "      <th>max</th>\n",
       "      <td>215700.000000</td>\n",
       "    </tr>\n",
       "  </tbody>\n",
       "</table>\n",
       "</div>"
      ],
      "text/plain": [
       "         Runner_mins\n",
       "count     577.000000\n",
       "mean    97617.157972\n",
       "std     92975.700498\n",
       "min        60.016667\n",
       "25%        68.300000\n",
       "50%    152580.000000\n",
       "75%    186540.000000\n",
       "max    215700.000000"
      ]
     },
     "execution_count": 52,
     "metadata": {},
     "output_type": "execute_result"
    }
   ],
   "source": [
    "df7.describe(include=[np.number])"
   ]
  },
  {
   "cell_type": "code",
   "execution_count": 53,
   "metadata": {},
   "outputs": [],
   "source": [
    "from pylab import rcParams\n",
    "rcParams['figure.figsize'] = 15, 5"
   ]
  },
  {
   "cell_type": "code",
   "execution_count": 54,
   "metadata": {},
   "outputs": [
    {
     "data": {
      "text/plain": [
       "([<matplotlib.axis.XTick at 0x7f5b79fe5a60>], [Text(1, 0, 'Runners')])"
      ]
     },
     "execution_count": 54,
     "metadata": {},
     "output_type": "execute_result"
    },
    {
     "data": {
      "image/png": "[encoded data removed]",
      "text/plain": [
       "<Figure size 1080x360 with 1 Axes>"
      ]
     },
     "metadata": {
      "needs_background": "light"
     },
     "output_type": "display_data"
    }
   ],
   "source": [
    "df7.boxplot(column='Runner_mins')\n",
    "plt.grid(True, axis='y')\n",
    "plt.ylabel('Chip Time')\n",
    "plt.xticks([1], ['Runners'])"
   ]
  },
  {
   "cell_type": "code",
   "execution_count": 55,
   "metadata": {},
   "outputs": [
    {
     "data": {
      "image/png": "[encoded data removed]",
      "text/plain": [
       "<Figure size 1080x360 with 1 Axes>"
      ]
     },
     "metadata": {
      "needs_background": "light"
     },
     "output_type": "display_data"
    }
   ],
   "source": [
    "x = df7['Runner_mins']\n",
    "ax = sns.distplot(x, hist=True, kde=True, rug=False, color='m', bins=25, hist_kws={'edgecolor':'black'})\n",
    "plt.show()"
   ]
  },
  {
   "cell_type": "code",
   "execution_count": 56,
   "metadata": {},
   "outputs": [
    {
     "data": {
      "text/plain": [
       "<matplotlib.legend.Legend at 0x7f5b77e8ca90>"
      ]
     },
     "execution_count": 56,
     "metadata": {},
     "output_type": "execute_result"
    },
    {
     "data": {
      "image/png": "[encoded data removed]",
      "text/plain": [
       "<Figure size 1080x360 with 1 Axes>"
      ]
     },
     "metadata": {
      "needs_background": "light"
     },
     "output_type": "display_data"
    }
   ],
   "source": [
    "f_fuko = df7.loc[df7[' Gender']==' F']['Runner_mins']\n",
    "m_fuko = df7.loc[df7[' Gender']==' M']['Runner_mins']\n",
    "sns.distplot(f_fuko, hist=True, kde=True, rug=False, hist_kws={'edgecolor':'black'}, label='Female')\n",
    "sns.distplot(m_fuko, hist=False, kde=True, rug=False, hist_kws={'edgecolor':'black'}, label='Male')\n",
    "plt.legend()"
   ]
  },
  {
   "cell_type": "code",
   "execution_count": 57,
   "metadata": {},
   "outputs": [
    {
     "name": "stdout",
     "output_type": "stream",
     "text": [
      "        Runner_mins                                                     \\\n",
      "              count           mean           std        min        25%   \n",
      " Gender                                                                  \n",
      " F            163.0   61844.168609  91100.389419  60.200000  66.550000   \n",
      " M            414.0  111701.692432  89982.758495  60.016667  69.320833   \n",
      "\n",
      "                                            \n",
      "                   50%       75%       max  \n",
      " Gender                                     \n",
      " F           75.216667  173280.0  215700.0  \n",
      " M       163320.000000  188745.0  215580.0  \n"
     ]
    }
   ],
   "source": [
    "g_stats = df7.groupby(\" Gender\", as_index=True).describe()\n",
    "print(g_stats)"
   ]
  },
  {
   "cell_type": "code",
   "execution_count": 58,
   "metadata": {},
   "outputs": [
    {
     "data": {
      "text/plain": [
       "Text(0.5, 0.98, '')"
      ]
     },
     "execution_count": 58,
     "metadata": {},
     "output_type": "execute_result"
    },
    {
     "data": {
      "image/png": "[encoded data removed]",
      "text/plain": [
       "<Figure size 1080x360 with 1 Axes>"
      ]
     },
     "metadata": {
      "needs_background": "light"
     },
     "output_type": "display_data"
    }
   ],
   "source": [
    "df7.boxplot(column='Runner_mins', by=' Gender')\n",
    "plt.ylabel('Chip Time')\n",
    "plt.suptitle(\"\")"
   ]
  },
  {
   "cell_type": "markdown",
   "metadata": {},
   "source": [
    "## Now it is your turn:"
   ]
  },
  {
   "cell_type": "code",
   "execution_count": 59,
   "metadata": {},
   "outputs": [],
   "source": [
    "url5 = 'https://www.4icu.org/at/vienna/'\n",
    "url6 = 'https://www.opec.org/opec_web/en/press_room/307.htm'"
   ]
  }
 ],
 "metadata": {
  "kernelspec": {
   "display_name": "Python 3 (ipykernel)",
   "language": "python",
   "name": "python3"
  },
  "language_info": {
   "codemirror_mode": {
    "name": "ipython",
    "version": 3
   },
   "file_extension": ".py",
   "mimetype": "text/x-python",
   "name": "python",
   "nbconvert_exporter": "python",
   "pygments_lexer": "ipython3",
   "version": "3.10.6"
  }
 },
 "nbformat": 4,
 "nbformat_minor": 4
}
